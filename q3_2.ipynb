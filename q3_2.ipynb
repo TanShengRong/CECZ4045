{
 "metadata": {
  "language_info": {
   "codemirror_mode": {
    "name": "ipython",
    "version": 3
   },
   "file_extension": ".py",
   "mimetype": "text/x-python",
   "name": "python",
   "nbconvert_exporter": "python",
   "pygments_lexer": "ipython3",
   "version": "3.8.5-final"
  },
  "orig_nbformat": 2,
  "kernelspec": {
   "name": "Python 3.8.5 64-bit ('venv')",
   "display_name": "Python 3.8.5 64-bit ('venv')",
   "metadata": {
    "interpreter": {
     "hash": "6ff121a5022796079f914ba7c32deb71c0f69957bf306b073978a52897b86ddf"
    }
   }
  }
 },
 "nbformat": 4,
 "nbformat_minor": 2,
 "cells": [
  {
   "cell_type": "code",
   "execution_count": 7,
   "metadata": {},
   "outputs": [],
   "source": [
    "import pandas as pd\n",
    "import spacy\n",
    "import en_core_web_sm\n",
    "from collections import Counter"
   ]
  },
  {
   "cell_type": "code",
   "execution_count": 15,
   "metadata": {},
   "outputs": [
    {
     "output_type": "execute_result",
     "data": {
      "text/plain": [
       "                  stars                                            comment\n",
       "0    5.0 out of 5 stars  Quiet machine with ample capacity both in numb...\n",
       "1    1.0 out of 5 stars  Very disappointed. Received shredder and plugg...\n",
       "2    1.0 out of 5 stars  This shredder has only lasted 5 months, my las...\n",
       "3    2.0 out of 5 stars  There isn’t much that can go wrong with these ...\n",
       "4    3.0 out of 5 stars  I give this shredder three and a half stars.  ...\n",
       "..                  ...                                                ...\n",
       "995  4.0 out of 5 stars  This shredder works for basic bills and things...\n",
       "996  5.0 out of 5 stars  Shredders have been the bane of my existence, ...\n",
       "997  5.0 out of 5 stars  I needed a shredder for the house - when you h...\n",
       "998  5.0 out of 5 stars  My 6-year old Staples shredder died after LOTS...\n",
       "999  5.0 out of 5 stars  I needed to replace the shredder I purchased 8...\n",
       "\n",
       "[1000 rows x 2 columns]"
      ],
      "text/html": "<div>\n<style scoped>\n    .dataframe tbody tr th:only-of-type {\n        vertical-align: middle;\n    }\n\n    .dataframe tbody tr th {\n        vertical-align: top;\n    }\n\n    .dataframe thead th {\n        text-align: right;\n    }\n</style>\n<table border=\"1\" class=\"dataframe\">\n  <thead>\n    <tr style=\"text-align: right;\">\n      <th></th>\n      <th>stars</th>\n      <th>comment</th>\n    </tr>\n  </thead>\n  <tbody>\n    <tr>\n      <th>0</th>\n      <td>5.0 out of 5 stars</td>\n      <td>Quiet machine with ample capacity both in numb...</td>\n    </tr>\n    <tr>\n      <th>1</th>\n      <td>1.0 out of 5 stars</td>\n      <td>Very disappointed. Received shredder and plugg...</td>\n    </tr>\n    <tr>\n      <th>2</th>\n      <td>1.0 out of 5 stars</td>\n      <td>This shredder has only lasted 5 months, my las...</td>\n    </tr>\n    <tr>\n      <th>3</th>\n      <td>2.0 out of 5 stars</td>\n      <td>There isn’t much that can go wrong with these ...</td>\n    </tr>\n    <tr>\n      <th>4</th>\n      <td>3.0 out of 5 stars</td>\n      <td>I give this shredder three and a half stars.  ...</td>\n    </tr>\n    <tr>\n      <th>...</th>\n      <td>...</td>\n      <td>...</td>\n    </tr>\n    <tr>\n      <th>995</th>\n      <td>4.0 out of 5 stars</td>\n      <td>This shredder works for basic bills and things...</td>\n    </tr>\n    <tr>\n      <th>996</th>\n      <td>5.0 out of 5 stars</td>\n      <td>Shredders have been the bane of my existence, ...</td>\n    </tr>\n    <tr>\n      <th>997</th>\n      <td>5.0 out of 5 stars</td>\n      <td>I needed a shredder for the house - when you h...</td>\n    </tr>\n    <tr>\n      <th>998</th>\n      <td>5.0 out of 5 stars</td>\n      <td>My 6-year old Staples shredder died after LOTS...</td>\n    </tr>\n    <tr>\n      <th>999</th>\n      <td>5.0 out of 5 stars</td>\n      <td>I needed to replace the shredder I purchased 8...</td>\n    </tr>\n  </tbody>\n</table>\n<p>1000 rows × 2 columns</p>\n</div>"
     },
     "metadata": {},
     "execution_count": 15
    }
   ],
   "source": [
    "df = pd.read_csv(\"./downloads/reviews100.csv\")\n",
    "df"
   ]
  },
  {
   "cell_type": "code",
   "execution_count": 11,
   "metadata": {},
   "outputs": [
    {
     "output_type": "execute_result",
     "data": {
      "text/plain": [
       "                 stars                                            comment\n",
       "25  5.0 out of 5 stars  I shred junk mail like it's a part time job. S...\n",
       "21  5.0 out of 5 stars  Quiet machine with ample capacity both in numb...\n",
       "88  5.0 out of 5 stars  Whether you’re a college student or a professi...\n",
       "53  5.0 out of 5 stars  I hesitated paying up for this shedder but aft...\n",
       "87  5.0 out of 5 stars  Reviewing the 12-sheet Amazon Basics paper shr...\n",
       "27  5.0 out of 5 stars  Update: After over a year, the shredder is sti...\n",
       "82  5.0 out of 5 stars  The Shredder is listed as a light/medium duty ...\n",
       "32  5.0 out of 5 stars  I\"m so glad I got this paper shredder.  I'd ha...\n",
       "33  5.0 out of 5 stars  AmazonBasics are generally good quality items....\n",
       "78  5.0 out of 5 stars  If I could give this six stars I would. What a...\n",
       "76  5.0 out of 5 stars  This is a great machine at an even better pric...\n",
       "74  5.0 out of 5 stars  Very nice product.  Used it extensively the fi...\n",
       "72  5.0 out of 5 stars  The shredder does exactly what it says it will...\n",
       "39  5.0 out of 5 stars  I had several file cabinets worth of shredding...\n",
       "69  5.0 out of 5 stars  It does the job and does it fast! We own a not...\n",
       "42  5.0 out of 5 stars  This works great! I don't typically test it wi...\n",
       "65  5.0 out of 5 stars  I seem to get PILES of unwanted paper with my ...\n",
       "64  5.0 out of 5 stars  Product was exactly as discribed. I was a litt...\n",
       "48  5.0 out of 5 stars  I have purchased several different items under...\n",
       "23  5.0 out of 5 stars  I just got it earlier this week, but I had gat...\n",
       "62  5.0 out of 5 stars  I purchased this shredder despite some bad rev...\n",
       "20  5.0 out of 5 stars  This shredder was purchased to replace a Fello...\n",
       "15  5.0 out of 5 stars  I am not someone who uses a paper shredder eve...\n",
       "94  5.0 out of 5 stars  I just got the shredder, and have been using i...\n",
       "4   5.0 out of 5 stars  Pretty thrilled with this shredder right now !...\n",
       "91  5.0 out of 5 stars  My husband and I finally hit the point of \"we ...\n",
       "90  5.0 out of 5 stars  I had a hand-me-down paper shredder from my da...\n",
       "7   5.0 out of 5 stars  I bought this shredder last week after looking...\n",
       "16  5.0 out of 5 stars  This shredder works as advertised. In the atta...\n",
       "17  5.0 out of 5 stars  Over the years I've used a full-size shredder,..."
      ],
      "text/html": "<div>\n<style scoped>\n    .dataframe tbody tr th:only-of-type {\n        vertical-align: middle;\n    }\n\n    .dataframe tbody tr th {\n        vertical-align: top;\n    }\n\n    .dataframe thead th {\n        text-align: right;\n    }\n</style>\n<table border=\"1\" class=\"dataframe\">\n  <thead>\n    <tr style=\"text-align: right;\">\n      <th></th>\n      <th>stars</th>\n      <th>comment</th>\n    </tr>\n  </thead>\n  <tbody>\n    <tr>\n      <th>25</th>\n      <td>5.0 out of 5 stars</td>\n      <td>I shred junk mail like it's a part time job. S...</td>\n    </tr>\n    <tr>\n      <th>21</th>\n      <td>5.0 out of 5 stars</td>\n      <td>Quiet machine with ample capacity both in numb...</td>\n    </tr>\n    <tr>\n      <th>88</th>\n      <td>5.0 out of 5 stars</td>\n      <td>Whether you’re a college student or a professi...</td>\n    </tr>\n    <tr>\n      <th>53</th>\n      <td>5.0 out of 5 stars</td>\n      <td>I hesitated paying up for this shedder but aft...</td>\n    </tr>\n    <tr>\n      <th>87</th>\n      <td>5.0 out of 5 stars</td>\n      <td>Reviewing the 12-sheet Amazon Basics paper shr...</td>\n    </tr>\n    <tr>\n      <th>27</th>\n      <td>5.0 out of 5 stars</td>\n      <td>Update: After over a year, the shredder is sti...</td>\n    </tr>\n    <tr>\n      <th>82</th>\n      <td>5.0 out of 5 stars</td>\n      <td>The Shredder is listed as a light/medium duty ...</td>\n    </tr>\n    <tr>\n      <th>32</th>\n      <td>5.0 out of 5 stars</td>\n      <td>I\"m so glad I got this paper shredder.  I'd ha...</td>\n    </tr>\n    <tr>\n      <th>33</th>\n      <td>5.0 out of 5 stars</td>\n      <td>AmazonBasics are generally good quality items....</td>\n    </tr>\n    <tr>\n      <th>78</th>\n      <td>5.0 out of 5 stars</td>\n      <td>If I could give this six stars I would. What a...</td>\n    </tr>\n    <tr>\n      <th>76</th>\n      <td>5.0 out of 5 stars</td>\n      <td>This is a great machine at an even better pric...</td>\n    </tr>\n    <tr>\n      <th>74</th>\n      <td>5.0 out of 5 stars</td>\n      <td>Very nice product.  Used it extensively the fi...</td>\n    </tr>\n    <tr>\n      <th>72</th>\n      <td>5.0 out of 5 stars</td>\n      <td>The shredder does exactly what it says it will...</td>\n    </tr>\n    <tr>\n      <th>39</th>\n      <td>5.0 out of 5 stars</td>\n      <td>I had several file cabinets worth of shredding...</td>\n    </tr>\n    <tr>\n      <th>69</th>\n      <td>5.0 out of 5 stars</td>\n      <td>It does the job and does it fast! We own a not...</td>\n    </tr>\n    <tr>\n      <th>42</th>\n      <td>5.0 out of 5 stars</td>\n      <td>This works great! I don't typically test it wi...</td>\n    </tr>\n    <tr>\n      <th>65</th>\n      <td>5.0 out of 5 stars</td>\n      <td>I seem to get PILES of unwanted paper with my ...</td>\n    </tr>\n    <tr>\n      <th>64</th>\n      <td>5.0 out of 5 stars</td>\n      <td>Product was exactly as discribed. I was a litt...</td>\n    </tr>\n    <tr>\n      <th>48</th>\n      <td>5.0 out of 5 stars</td>\n      <td>I have purchased several different items under...</td>\n    </tr>\n    <tr>\n      <th>23</th>\n      <td>5.0 out of 5 stars</td>\n      <td>I just got it earlier this week, but I had gat...</td>\n    </tr>\n    <tr>\n      <th>62</th>\n      <td>5.0 out of 5 stars</td>\n      <td>I purchased this shredder despite some bad rev...</td>\n    </tr>\n    <tr>\n      <th>20</th>\n      <td>5.0 out of 5 stars</td>\n      <td>This shredder was purchased to replace a Fello...</td>\n    </tr>\n    <tr>\n      <th>15</th>\n      <td>5.0 out of 5 stars</td>\n      <td>I am not someone who uses a paper shredder eve...</td>\n    </tr>\n    <tr>\n      <th>94</th>\n      <td>5.0 out of 5 stars</td>\n      <td>I just got the shredder, and have been using i...</td>\n    </tr>\n    <tr>\n      <th>4</th>\n      <td>5.0 out of 5 stars</td>\n      <td>Pretty thrilled with this shredder right now !...</td>\n    </tr>\n    <tr>\n      <th>91</th>\n      <td>5.0 out of 5 stars</td>\n      <td>My husband and I finally hit the point of \"we ...</td>\n    </tr>\n    <tr>\n      <th>90</th>\n      <td>5.0 out of 5 stars</td>\n      <td>I had a hand-me-down paper shredder from my da...</td>\n    </tr>\n    <tr>\n      <th>7</th>\n      <td>5.0 out of 5 stars</td>\n      <td>I bought this shredder last week after looking...</td>\n    </tr>\n    <tr>\n      <th>16</th>\n      <td>5.0 out of 5 stars</td>\n      <td>This shredder works as advertised. In the atta...</td>\n    </tr>\n    <tr>\n      <th>17</th>\n      <td>5.0 out of 5 stars</td>\n      <td>Over the years I've used a full-size shredder,...</td>\n    </tr>\n  </tbody>\n</table>\n</div>"
     },
     "metadata": {},
     "execution_count": 11
    }
   ],
   "source": [
    "df['comment'] = df['comment'].apply(lambda x: x.strip())\n",
    "df = df.sort_values(['stars'], ascending=False).iloc[0:30] # get 30 top reviews \n",
    "df"
   ]
  },
  {
   "cell_type": "code",
   "execution_count": 12,
   "metadata": {
    "tags": []
   },
   "outputs": [
    {
     "output_type": "execute_result",
     "data": {
      "text/plain": [
       "{('shredder', 'small'): 36,\n",
       " ('shredder', 'little'): 34,\n",
       " ('shredder', 'few'): 33,\n",
       " ('shredder', 'sure'): 21,\n",
       " ('shredder', 'full'): 21}"
      ]
     },
     "metadata": {},
     "execution_count": 12
    }
   ],
   "source": [
    "# nlp = spacy.load(\"en_core_web_sm\") # buggy on ipynb\n",
    "nlp = en_core_web_sm.load() # for ipynb\n",
    "noun_adj_pairs = {}\n",
    "# print(df['comment'])\n",
    "for comment in enumerate(df['comment']):\n",
    "    # print(comment[1])\n",
    "    doc = nlp(str(comment[1])) # change tuple to str for nlp\n",
    "    doc_len = len(doc)\n",
    "    for i, token in enumerate(doc): #token has TEXT, LEMMA, POS, TAG, DEP, SHAPE, ALPHA, STOP\n",
    "        if token.pos_ not in ('NOUN', 'PROPN'):\n",
    "            continue\n",
    "        for j in range(i+1, doc_len): # check for pairs after identified noun/pnoun\n",
    "            if doc[j].pos_ == 'ADJ':\n",
    "                pair = (str(token), str(doc[j])) # change to str. ele in dict keys has to be hashable even inside tuples\n",
    "                # check if already exist in dictionary\n",
    "                if pair in noun_adj_pairs:\n",
    "                    noun_adj_pairs[pair] += 1\n",
    "                else:\n",
    "                    noun_adj_pairs[pair] = 1\n",
    "top_10_noun_adj_pairs = dict(Counter(noun_adj_pairs).most_common(5))\n",
    "top_10_noun_adj_pairs\n",
    "# top_10_noun_adj_pairs = {key: val for key, val in sorted(noun_adj_pairs.items(), key=lambda item: item[1])}\n",
    "# print(noun_adj_pairs.keys())\n",
    "# noun_adj_pairs = dict(sorted(noun_adj_pairs.items()))\n",
    "# print(noun_adj_pairs)"
   ]
  },
  {
   "cell_type": "code",
   "execution_count": null,
   "metadata": {},
   "outputs": [],
   "source": []
  }
 ]
}