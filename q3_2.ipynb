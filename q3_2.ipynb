{
 "metadata": {
  "language_info": {
   "codemirror_mode": {
    "name": "ipython",
    "version": 3
   },
   "file_extension": ".py",
   "mimetype": "text/x-python",
   "name": "python",
   "nbconvert_exporter": "python",
   "pygments_lexer": "ipython3",
   "version": "3.8.6-final"
  },
  "orig_nbformat": 2,
  "kernelspec": {
   "name": "Python 3.8.6 64-bit ('venv': venv)",
   "display_name": "Python 3.8.6 64-bit ('venv': venv)",
   "metadata": {
    "interpreter": {
     "hash": "6ff121a5022796079f914ba7c32deb71c0f69957bf306b073978a52897b86ddf"
    }
   }
  }
 },
 "nbformat": 4,
 "nbformat_minor": 2,
 "cells": [
  {
   "cell_type": "code",
   "execution_count": 1,
   "metadata": {},
   "outputs": [],
   "source": [
    "import pandas as pd\n",
    "import spacy\n",
    "import en_core_web_sm\n",
    "from collections import Counter"
   ]
  },
  {
   "cell_type": "code",
   "execution_count": 2,
   "metadata": {},
   "outputs": [],
   "source": [
    "# df = pd.read_csv(\"./downloads/reviews100.csv\")\n",
    "# df['comment'] = df['comment'].apply(lambda x: x.strip())\n",
    "# #df = df.sort_values(['stars'], ascending=False).iloc[0:30] # get 30 top reviews \n",
    "# df = df.sample(frac=1).iloc[0:30] # get 30 top reviews \n",
    "# df.to_csv(\"30_reviews.csv\", index=False) # save to csv for manual review\n",
    "# df"
   ]
  },
  {
   "cell_type": "code",
   "execution_count": 42,
   "metadata": {},
   "outputs": [
    {
     "output_type": "execute_result",
     "data": {
      "text/plain": [
       "                 stars                                            comment\n",
       "0   1.0 out of 5 stars  So I decided I wanted to get a paper shredder,...\n",
       "1   1.0 out of 5 stars  I order a lot from Amazon for convenience but ...\n",
       "2   5.0 out of 5 stars  Pretty thrilled with this shredder right now !...\n",
       "3   1.0 out of 5 stars  I have now been through 3 of these shredders. ...\n",
       "4   5.0 out of 5 stars  Update: After over a year, the shredder is sti...\n",
       "5   1.0 out of 5 stars  SAYS it's made for home office,  I guess becau...\n",
       "6   5.0 out of 5 stars  Quiet machine with ample capacity both in numb...\n",
       "7   1.0 out of 5 stars  Very disappointed. Received shredder and plugg...\n",
       "8   5.0 out of 5 stars  The Shredder is listed as a light/medium duty ...\n",
       "9   3.0 out of 5 stars  Will only give it 3 stars, since it arrived br...\n",
       "10  5.0 out of 5 stars  I shred junk mail like it's a part time job. S...\n",
       "11  4.0 out of 5 stars  I've been looking for a shredder for a while n...\n",
       "12  1.0 out of 5 stars  I had a shredder for several years that worked...\n",
       "13  5.0 out of 5 stars  Reviewing the 12-sheet Amazon Basics paper shr...\n",
       "14  5.0 out of 5 stars  I have purchased several different items under...\n",
       "15  1.0 out of 5 stars  I originally ordered this product and received...\n",
       "16  4.0 out of 5 stars  I like this product as much as one can like a ...\n",
       "17  5.0 out of 5 stars  I am not someone who uses a paper shredder eve...\n",
       "18  1.0 out of 5 stars  When something says it will shred credit cards...\n",
       "19  5.0 out of 5 stars  I just got it earlier this week, but I had gat...\n",
       "20  4.0 out of 5 stars  Very good value for this Amazon Basic cross cu...\n",
       "21  3.0 out of 5 stars  I purchased this immediately after returning A...\n",
       "22  5.0 out of 5 stars  I\"m so glad I got this paper shredder.  I'd ha...\n",
       "23  4.0 out of 5 stars  I purchased this bad boy for my wife’s home of...\n",
       "24  1.0 out of 5 stars  The only issue here is the sensor for the hopp...\n",
       "25  1.0 out of 5 stars  Horrid. Horrid. Horrid. Do not waste your mone...\n",
       "26  4.0 out of 5 stars  This is a quite nice machine. Very basic yet b...\n",
       "27  4.0 out of 5 stars  I bought this to replace one from a big box of...\n",
       "28  3.0 out of 5 stars  I give this shredder three and a half stars.  ...\n",
       "29  1.0 out of 5 stars  I do not recommend purchasing this shredder. I..."
      ],
      "text/html": "<div>\n<style scoped>\n    .dataframe tbody tr th:only-of-type {\n        vertical-align: middle;\n    }\n\n    .dataframe tbody tr th {\n        vertical-align: top;\n    }\n\n    .dataframe thead th {\n        text-align: right;\n    }\n</style>\n<table border=\"1\" class=\"dataframe\">\n  <thead>\n    <tr style=\"text-align: right;\">\n      <th></th>\n      <th>stars</th>\n      <th>comment</th>\n    </tr>\n  </thead>\n  <tbody>\n    <tr>\n      <th>0</th>\n      <td>1.0 out of 5 stars</td>\n      <td>So I decided I wanted to get a paper shredder,...</td>\n    </tr>\n    <tr>\n      <th>1</th>\n      <td>1.0 out of 5 stars</td>\n      <td>I order a lot from Amazon for convenience but ...</td>\n    </tr>\n    <tr>\n      <th>2</th>\n      <td>5.0 out of 5 stars</td>\n      <td>Pretty thrilled with this shredder right now !...</td>\n    </tr>\n    <tr>\n      <th>3</th>\n      <td>1.0 out of 5 stars</td>\n      <td>I have now been through 3 of these shredders. ...</td>\n    </tr>\n    <tr>\n      <th>4</th>\n      <td>5.0 out of 5 stars</td>\n      <td>Update: After over a year, the shredder is sti...</td>\n    </tr>\n    <tr>\n      <th>5</th>\n      <td>1.0 out of 5 stars</td>\n      <td>SAYS it's made for home office,  I guess becau...</td>\n    </tr>\n    <tr>\n      <th>6</th>\n      <td>5.0 out of 5 stars</td>\n      <td>Quiet machine with ample capacity both in numb...</td>\n    </tr>\n    <tr>\n      <th>7</th>\n      <td>1.0 out of 5 stars</td>\n      <td>Very disappointed. Received shredder and plugg...</td>\n    </tr>\n    <tr>\n      <th>8</th>\n      <td>5.0 out of 5 stars</td>\n      <td>The Shredder is listed as a light/medium duty ...</td>\n    </tr>\n    <tr>\n      <th>9</th>\n      <td>3.0 out of 5 stars</td>\n      <td>Will only give it 3 stars, since it arrived br...</td>\n    </tr>\n    <tr>\n      <th>10</th>\n      <td>5.0 out of 5 stars</td>\n      <td>I shred junk mail like it's a part time job. S...</td>\n    </tr>\n    <tr>\n      <th>11</th>\n      <td>4.0 out of 5 stars</td>\n      <td>I've been looking for a shredder for a while n...</td>\n    </tr>\n    <tr>\n      <th>12</th>\n      <td>1.0 out of 5 stars</td>\n      <td>I had a shredder for several years that worked...</td>\n    </tr>\n    <tr>\n      <th>13</th>\n      <td>5.0 out of 5 stars</td>\n      <td>Reviewing the 12-sheet Amazon Basics paper shr...</td>\n    </tr>\n    <tr>\n      <th>14</th>\n      <td>5.0 out of 5 stars</td>\n      <td>I have purchased several different items under...</td>\n    </tr>\n    <tr>\n      <th>15</th>\n      <td>1.0 out of 5 stars</td>\n      <td>I originally ordered this product and received...</td>\n    </tr>\n    <tr>\n      <th>16</th>\n      <td>4.0 out of 5 stars</td>\n      <td>I like this product as much as one can like a ...</td>\n    </tr>\n    <tr>\n      <th>17</th>\n      <td>5.0 out of 5 stars</td>\n      <td>I am not someone who uses a paper shredder eve...</td>\n    </tr>\n    <tr>\n      <th>18</th>\n      <td>1.0 out of 5 stars</td>\n      <td>When something says it will shred credit cards...</td>\n    </tr>\n    <tr>\n      <th>19</th>\n      <td>5.0 out of 5 stars</td>\n      <td>I just got it earlier this week, but I had gat...</td>\n    </tr>\n    <tr>\n      <th>20</th>\n      <td>4.0 out of 5 stars</td>\n      <td>Very good value for this Amazon Basic cross cu...</td>\n    </tr>\n    <tr>\n      <th>21</th>\n      <td>3.0 out of 5 stars</td>\n      <td>I purchased this immediately after returning A...</td>\n    </tr>\n    <tr>\n      <th>22</th>\n      <td>5.0 out of 5 stars</td>\n      <td>I\"m so glad I got this paper shredder.  I'd ha...</td>\n    </tr>\n    <tr>\n      <th>23</th>\n      <td>4.0 out of 5 stars</td>\n      <td>I purchased this bad boy for my wife’s home of...</td>\n    </tr>\n    <tr>\n      <th>24</th>\n      <td>1.0 out of 5 stars</td>\n      <td>The only issue here is the sensor for the hopp...</td>\n    </tr>\n    <tr>\n      <th>25</th>\n      <td>1.0 out of 5 stars</td>\n      <td>Horrid. Horrid. Horrid. Do not waste your mone...</td>\n    </tr>\n    <tr>\n      <th>26</th>\n      <td>4.0 out of 5 stars</td>\n      <td>This is a quite nice machine. Very basic yet b...</td>\n    </tr>\n    <tr>\n      <th>27</th>\n      <td>4.0 out of 5 stars</td>\n      <td>I bought this to replace one from a big box of...</td>\n    </tr>\n    <tr>\n      <th>28</th>\n      <td>3.0 out of 5 stars</td>\n      <td>I give this shredder three and a half stars.  ...</td>\n    </tr>\n    <tr>\n      <th>29</th>\n      <td>1.0 out of 5 stars</td>\n      <td>I do not recommend purchasing this shredder. I...</td>\n    </tr>\n  </tbody>\n</table>\n</div>"
     },
     "metadata": {},
     "execution_count": 42
    }
   ],
   "source": [
    "df = pd.read_csv(\"./30_reviews.csv\")\n",
    "# df = df.iloc[0:2]\n",
    "df"
   ]
  },
  {
   "cell_type": "code",
   "execution_count": 47,
   "metadata": {
    "tags": []
   },
   "outputs": [
    {
     "output_type": "execute_result",
     "data": {
      "text/plain": [
       "{('one', 'same'): 6,\n",
       " ('Amazon', 'old'): 6,\n",
       " ('shredder', 'less'): 5,\n",
       " ('April', 'original'): 4,\n",
       " ('bags', 'old'): 4}"
      ]
     },
     "metadata": {},
     "execution_count": 47
    }
   ],
   "source": [
    "# nlp = spacy.load(\"en_core_web_sm\") # buggy on ipynb\n",
    "nlp = en_core_web_sm.load() # for ipynb\n",
    "noun_adj_pairs = {}\n",
    "for comment in enumerate(df['comment']):\n",
    "    doc = nlp(str(comment[1])) # change tuple to str for nlp\n",
    "    for sent in doc.sents:\n",
    "        sent_len = len(sent)\n",
    "        #=== noun/pnoun - adj pair\n",
    "        for i, token in enumerate(sent): #token has TEXT, LEMMA, POS, TAG, DEP, SHAPE, ALPHA, STOP\n",
    "            if token.pos_ not in ('NOUN', 'PROPN'):\n",
    "                continue\n",
    "            for j in range(i+1, sent_len): # check for pairs after identified noun/pnoun\n",
    "                if sent[j].pos_ == 'ADJ':\n",
    "                    pair = (str(token), str(sent[j])) # change to str. ele in dict keys has to be hashable even inside tuples\n",
    "                    # check if already exist in dictionary\n",
    "                    if pair in noun_adj_pairs:\n",
    "                        noun_adj_pairs[pair] += 1\n",
    "                    else:\n",
    "                        noun_adj_pairs[pair] = 1\n",
    "        #=== noun/pnoun phrase - adj pair\n",
    "        for _, chunk in enumerate(sent.noun_chunks):\n",
    "            index_after_chunk = chunk.end\n",
    "            if index_after_chunk >= sent_len:\n",
    "                continue\n",
    "            for k in range(index_after_chunk, sent_len):\n",
    "                if sent[k].pos_ == 'ADJ':\n",
    "                    pair = (str(chunk.text), str(sent[k])) # change to str. ele in dict keys has to be hashable even inside tuples\n",
    "                    # check if already exist in dictionary\n",
    "                    if pair in noun_adj_pairs:\n",
    "                        noun_adj_pairs[pair] += 1\n",
    "                    else:\n",
    "                        noun_adj_pairs[pair] = 1\n",
    "top_10_noun_adj_pairs = dict(Counter(noun_adj_pairs).most_common(5))\n",
    "top_10_noun_adj_pairs\n",
    "# top_10_noun_adj_pairs = {key: val for key, val in sorted(noun_adj_pairs.items(), key=lambda item: item[1])}\n",
    "# print(noun_adj_pairs.keys())\n",
    "# noun_adj_pairs = dict(sorted(noun_adj_pairs.items()))\n",
    "# print(noun_adj_pairs)"
   ]
  },
  {
   "cell_type": "code",
   "execution_count": 49,
   "metadata": {},
   "outputs": [],
   "source": []
  },
  {
   "cell_type": "code",
   "execution_count": null,
   "metadata": {},
   "outputs": [],
   "source": []
  }
 ]
}