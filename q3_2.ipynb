{
 "metadata": {
  "language_info": {
   "codemirror_mode": {
    "name": "ipython",
    "version": 3
   },
   "file_extension": ".py",
   "mimetype": "text/x-python",
   "name": "python",
   "nbconvert_exporter": "python",
   "pygments_lexer": "ipython3",
   "version": "3.8.5-final"
  },
  "orig_nbformat": 2,
  "kernelspec": {
   "name": "Python 3.8.5 64-bit ('venv')",
   "display_name": "Python 3.8.5 64-bit ('venv')",
   "metadata": {
    "interpreter": {
     "hash": "6ff121a5022796079f914ba7c32deb71c0f69957bf306b073978a52897b86ddf"
    }
   }
  }
 },
 "nbformat": 4,
 "nbformat_minor": 2,
 "cells": [
  {
   "cell_type": "code",
   "execution_count": 28,
   "metadata": {},
   "outputs": [
    {
     "output_type": "execute_result",
     "data": {
      "text/plain": [
       "0     \\n\\n\\n\\n\\n\\n\\n\\n\\n\\n  \\n  \\n    \\n  I purchase...\n",
       "1     \\n\\n\\n\\n\\n\\n\\n\\n\\n\\n  \\n  \\n    \\n  This is a ...\n",
       "2     \\n\\n\\n\\n\\n\\n\\n\\n\\n\\n  \\n  \\n    \\n   PROS: I w...\n",
       "3     \\n\\n\\n\\n\\n\\n\\n\\n\\n\\n  \\n  \\n    \\n  I purchase...\n",
       "4     \\n\\n\\n\\n\\n\\n\\n\\n\\n\\n  \\n  \\n    \\n  I purchase...\n",
       "                            ...                        \n",
       "95    \\n\\n\\n\\n\\n\\n\\n\\n\\n\\n  \\n  \\n    \\n   This shre...\n",
       "96    \\n\\n\\n\\n\\n\\n\\n\\n\\n\\n  \\n  \\n    \\n  Over the y...\n",
       "97    \\n\\n\\n\\n\\n\\n\\n\\n\\n\\n  \\n  \\n    \\n  ​I purchas...\n",
       "98    \\n\\n\\n\\n\\n\\n\\n\\n\\n\\n  \\n  \\n    \\n  I shred ju...\n",
       "99    \\n\\n\\n\\n\\n\\n\\n\\n\\n\\n  \\n  \\n    \\n  Returned a...\n",
       "Name: comment, Length: 100, dtype: object"
      ]
     },
     "metadata": {},
     "execution_count": 28
    }
   ],
   "source": [
    "import pandas as pd\n",
    "df = pd.read_csv(\"./downloads/reviews100.csv\")\n",
    "df['comment']"
   ]
  },
  {
   "cell_type": "code",
   "execution_count": 41,
   "metadata": {},
   "outputs": [
    {
     "output_type": "execute_result",
     "data": {
      "text/plain": [
       "                 stars                                            comment\n",
       "77  5.0 out of 5 stars  Over the years I've used a full-size shredder,...\n",
       "24  5.0 out of 5 stars  I am not someone who uses a paper shredder eve...\n",
       "26  5.0 out of 5 stars  Over the years I've used a full-size shredder,...\n",
       "56  5.0 out of 5 stars  This shredder works as advertised. In the atta...\n",
       "76  5.0 out of 5 stars  This shredder works as advertised. In the atta...\n",
       "75  5.0 out of 5 stars  I am not someone who uses a paper shredder eve...\n",
       "31  5.0 out of 5 stars  I shred junk mail like it's a part time job. S...\n",
       "36  5.0 out of 5 stars  I shred junk mail like it's a part time job. S...\n",
       "68  5.0 out of 5 stars  I shred junk mail like it's a part time job. S...\n",
       "39  5.0 out of 5 stars  I shred junk mail like it's a part time job. S...\n",
       "64  5.0 out of 5 stars  Over the years I've used a full-size shredder,...\n",
       "41  5.0 out of 5 stars  I am not someone who uses a paper shredder eve...\n",
       "42  5.0 out of 5 stars  This shredder works as advertised. In the atta...\n",
       "43  5.0 out of 5 stars  Over the years I've used a full-size shredder,...\n",
       "63  5.0 out of 5 stars  I shred junk mail like it's a part time job. S...\n",
       "45  5.0 out of 5 stars  I am not someone who uses a paper shredder eve...\n",
       "47  5.0 out of 5 stars  I am not someone who uses a paper shredder eve...\n",
       "48  5.0 out of 5 stars  This shredder works as advertised. In the atta...\n",
       "49  5.0 out of 5 stars  Over the years I've used a full-size shredder,...\n",
       "61  5.0 out of 5 stars  Over the years I've used a full-size shredder,...\n",
       "51  5.0 out of 5 stars  I shred junk mail like it's a part time job. S...\n",
       "60  5.0 out of 5 stars  This shredder works as advertised. In the atta...\n",
       "59  5.0 out of 5 stars  I shred junk mail like it's a part time job. S...\n",
       "25  5.0 out of 5 stars  This shredder works as advertised. In the atta...\n",
       "55  5.0 out of 5 stars  I am not someone who uses a paper shredder eve...\n",
       "79  5.0 out of 5 stars  I shred junk mail like it's a part time job. S...\n",
       "16  5.0 out of 5 stars  This shredder works as advertised. In the atta...\n",
       "98  5.0 out of 5 stars  I shred junk mail like it's a part time job. S...\n",
       "96  5.0 out of 5 stars  Over the years I've used a full-size shredder,...\n",
       "95  5.0 out of 5 stars  This shredder works as advertised. In the atta...\n",
       "94  5.0 out of 5 stars  I am not someone who uses a paper shredder eve...\n",
       "7   5.0 out of 5 stars  I am not someone who uses a paper shredder eve...\n",
       "89  5.0 out of 5 stars  I shred junk mail like it's a part time job. S...\n",
       "11  5.0 out of 5 stars  I am not someone who uses a paper shredder eve...\n",
       "12  5.0 out of 5 stars  This shredder works as advertised. In the atta...\n",
       "86  5.0 out of 5 stars  This shredder works as advertised. In the atta...\n",
       "87  5.0 out of 5 stars  Over the years I've used a full-size shredder,...\n",
       "17  5.0 out of 5 stars  Over the years I've used a full-size shredder,...\n",
       "20  5.0 out of 5 stars  Over the years I've used a full-size shredder,...\n",
       "85  5.0 out of 5 stars  I am not someone who uses a paper shredder eve..."
      ],
      "text/html": "<div>\n<style scoped>\n    .dataframe tbody tr th:only-of-type {\n        vertical-align: middle;\n    }\n\n    .dataframe tbody tr th {\n        vertical-align: top;\n    }\n\n    .dataframe thead th {\n        text-align: right;\n    }\n</style>\n<table border=\"1\" class=\"dataframe\">\n  <thead>\n    <tr style=\"text-align: right;\">\n      <th></th>\n      <th>stars</th>\n      <th>comment</th>\n    </tr>\n  </thead>\n  <tbody>\n    <tr>\n      <th>77</th>\n      <td>5.0 out of 5 stars</td>\n      <td>Over the years I've used a full-size shredder,...</td>\n    </tr>\n    <tr>\n      <th>24</th>\n      <td>5.0 out of 5 stars</td>\n      <td>I am not someone who uses a paper shredder eve...</td>\n    </tr>\n    <tr>\n      <th>26</th>\n      <td>5.0 out of 5 stars</td>\n      <td>Over the years I've used a full-size shredder,...</td>\n    </tr>\n    <tr>\n      <th>56</th>\n      <td>5.0 out of 5 stars</td>\n      <td>This shredder works as advertised. In the atta...</td>\n    </tr>\n    <tr>\n      <th>76</th>\n      <td>5.0 out of 5 stars</td>\n      <td>This shredder works as advertised. In the atta...</td>\n    </tr>\n    <tr>\n      <th>75</th>\n      <td>5.0 out of 5 stars</td>\n      <td>I am not someone who uses a paper shredder eve...</td>\n    </tr>\n    <tr>\n      <th>31</th>\n      <td>5.0 out of 5 stars</td>\n      <td>I shred junk mail like it's a part time job. S...</td>\n    </tr>\n    <tr>\n      <th>36</th>\n      <td>5.0 out of 5 stars</td>\n      <td>I shred junk mail like it's a part time job. S...</td>\n    </tr>\n    <tr>\n      <th>68</th>\n      <td>5.0 out of 5 stars</td>\n      <td>I shred junk mail like it's a part time job. S...</td>\n    </tr>\n    <tr>\n      <th>39</th>\n      <td>5.0 out of 5 stars</td>\n      <td>I shred junk mail like it's a part time job. S...</td>\n    </tr>\n    <tr>\n      <th>64</th>\n      <td>5.0 out of 5 stars</td>\n      <td>Over the years I've used a full-size shredder,...</td>\n    </tr>\n    <tr>\n      <th>41</th>\n      <td>5.0 out of 5 stars</td>\n      <td>I am not someone who uses a paper shredder eve...</td>\n    </tr>\n    <tr>\n      <th>42</th>\n      <td>5.0 out of 5 stars</td>\n      <td>This shredder works as advertised. In the atta...</td>\n    </tr>\n    <tr>\n      <th>43</th>\n      <td>5.0 out of 5 stars</td>\n      <td>Over the years I've used a full-size shredder,...</td>\n    </tr>\n    <tr>\n      <th>63</th>\n      <td>5.0 out of 5 stars</td>\n      <td>I shred junk mail like it's a part time job. S...</td>\n    </tr>\n    <tr>\n      <th>45</th>\n      <td>5.0 out of 5 stars</td>\n      <td>I am not someone who uses a paper shredder eve...</td>\n    </tr>\n    <tr>\n      <th>47</th>\n      <td>5.0 out of 5 stars</td>\n      <td>I am not someone who uses a paper shredder eve...</td>\n    </tr>\n    <tr>\n      <th>48</th>\n      <td>5.0 out of 5 stars</td>\n      <td>This shredder works as advertised. In the atta...</td>\n    </tr>\n    <tr>\n      <th>49</th>\n      <td>5.0 out of 5 stars</td>\n      <td>Over the years I've used a full-size shredder,...</td>\n    </tr>\n    <tr>\n      <th>61</th>\n      <td>5.0 out of 5 stars</td>\n      <td>Over the years I've used a full-size shredder,...</td>\n    </tr>\n    <tr>\n      <th>51</th>\n      <td>5.0 out of 5 stars</td>\n      <td>I shred junk mail like it's a part time job. S...</td>\n    </tr>\n    <tr>\n      <th>60</th>\n      <td>5.0 out of 5 stars</td>\n      <td>This shredder works as advertised. In the atta...</td>\n    </tr>\n    <tr>\n      <th>59</th>\n      <td>5.0 out of 5 stars</td>\n      <td>I shred junk mail like it's a part time job. S...</td>\n    </tr>\n    <tr>\n      <th>25</th>\n      <td>5.0 out of 5 stars</td>\n      <td>This shredder works as advertised. In the atta...</td>\n    </tr>\n    <tr>\n      <th>55</th>\n      <td>5.0 out of 5 stars</td>\n      <td>I am not someone who uses a paper shredder eve...</td>\n    </tr>\n    <tr>\n      <th>79</th>\n      <td>5.0 out of 5 stars</td>\n      <td>I shred junk mail like it's a part time job. S...</td>\n    </tr>\n    <tr>\n      <th>16</th>\n      <td>5.0 out of 5 stars</td>\n      <td>This shredder works as advertised. In the atta...</td>\n    </tr>\n    <tr>\n      <th>98</th>\n      <td>5.0 out of 5 stars</td>\n      <td>I shred junk mail like it's a part time job. S...</td>\n    </tr>\n    <tr>\n      <th>96</th>\n      <td>5.0 out of 5 stars</td>\n      <td>Over the years I've used a full-size shredder,...</td>\n    </tr>\n    <tr>\n      <th>95</th>\n      <td>5.0 out of 5 stars</td>\n      <td>This shredder works as advertised. In the atta...</td>\n    </tr>\n    <tr>\n      <th>94</th>\n      <td>5.0 out of 5 stars</td>\n      <td>I am not someone who uses a paper shredder eve...</td>\n    </tr>\n    <tr>\n      <th>7</th>\n      <td>5.0 out of 5 stars</td>\n      <td>I am not someone who uses a paper shredder eve...</td>\n    </tr>\n    <tr>\n      <th>89</th>\n      <td>5.0 out of 5 stars</td>\n      <td>I shred junk mail like it's a part time job. S...</td>\n    </tr>\n    <tr>\n      <th>11</th>\n      <td>5.0 out of 5 stars</td>\n      <td>I am not someone who uses a paper shredder eve...</td>\n    </tr>\n    <tr>\n      <th>12</th>\n      <td>5.0 out of 5 stars</td>\n      <td>This shredder works as advertised. In the atta...</td>\n    </tr>\n    <tr>\n      <th>86</th>\n      <td>5.0 out of 5 stars</td>\n      <td>This shredder works as advertised. In the atta...</td>\n    </tr>\n    <tr>\n      <th>87</th>\n      <td>5.0 out of 5 stars</td>\n      <td>Over the years I've used a full-size shredder,...</td>\n    </tr>\n    <tr>\n      <th>17</th>\n      <td>5.0 out of 5 stars</td>\n      <td>Over the years I've used a full-size shredder,...</td>\n    </tr>\n    <tr>\n      <th>20</th>\n      <td>5.0 out of 5 stars</td>\n      <td>Over the years I've used a full-size shredder,...</td>\n    </tr>\n    <tr>\n      <th>85</th>\n      <td>5.0 out of 5 stars</td>\n      <td>I am not someone who uses a paper shredder eve...</td>\n    </tr>\n  </tbody>\n</table>\n</div>"
     },
     "metadata": {},
     "execution_count": 41
    }
   ],
   "source": [
    "df['comment'] = df['comment'].apply(lambda x: x.strip())\n",
    "df.sort_values(['stars'], ascending=False).iloc[0:40]"
   ]
  },
  {
   "cell_type": "code",
   "execution_count": 35,
   "metadata": {},
   "outputs": [
    {
     "output_type": "execute_result",
     "data": {
      "text/plain": [
       "                 stars                                            comment\n",
       "0   4.0 out of 5 stars  I purchased this bad boy for my wife’s home of...\n",
       "1   4.0 out of 5 stars  This is a quite nice machine. Very basic yet b...\n",
       "2   4.0 out of 5 stars  PROS: I want to cover first the high-quality a...\n",
       "3   4.0 out of 5 stars  I purchased this bad boy for my wife’s home of...\n",
       "4   4.0 out of 5 stars  I purchased this bad boy for my wife’s home of...\n",
       "..                 ...                                                ...\n",
       "95  5.0 out of 5 stars  This shredder works as advertised. In the atta...\n",
       "96  5.0 out of 5 stars  Over the years I've used a full-size shredder,...\n",
       "97  4.0 out of 5 stars  ​I purchased this shredder 3 months ago. Love ...\n",
       "98  5.0 out of 5 stars  I shred junk mail like it's a part time job. S...\n",
       "99  1.0 out of 5 stars  Returned after three days. It had the worst ti...\n",
       "\n",
       "[100 rows x 2 columns]"
      ],
      "text/html": "<div>\n<style scoped>\n    .dataframe tbody tr th:only-of-type {\n        vertical-align: middle;\n    }\n\n    .dataframe tbody tr th {\n        vertical-align: top;\n    }\n\n    .dataframe thead th {\n        text-align: right;\n    }\n</style>\n<table border=\"1\" class=\"dataframe\">\n  <thead>\n    <tr style=\"text-align: right;\">\n      <th></th>\n      <th>stars</th>\n      <th>comment</th>\n    </tr>\n  </thead>\n  <tbody>\n    <tr>\n      <th>0</th>\n      <td>4.0 out of 5 stars</td>\n      <td>I purchased this bad boy for my wife’s home of...</td>\n    </tr>\n    <tr>\n      <th>1</th>\n      <td>4.0 out of 5 stars</td>\n      <td>This is a quite nice machine. Very basic yet b...</td>\n    </tr>\n    <tr>\n      <th>2</th>\n      <td>4.0 out of 5 stars</td>\n      <td>PROS: I want to cover first the high-quality a...</td>\n    </tr>\n    <tr>\n      <th>3</th>\n      <td>4.0 out of 5 stars</td>\n      <td>I purchased this bad boy for my wife’s home of...</td>\n    </tr>\n    <tr>\n      <th>4</th>\n      <td>4.0 out of 5 stars</td>\n      <td>I purchased this bad boy for my wife’s home of...</td>\n    </tr>\n    <tr>\n      <th>...</th>\n      <td>...</td>\n      <td>...</td>\n    </tr>\n    <tr>\n      <th>95</th>\n      <td>5.0 out of 5 stars</td>\n      <td>This shredder works as advertised. In the atta...</td>\n    </tr>\n    <tr>\n      <th>96</th>\n      <td>5.0 out of 5 stars</td>\n      <td>Over the years I've used a full-size shredder,...</td>\n    </tr>\n    <tr>\n      <th>97</th>\n      <td>4.0 out of 5 stars</td>\n      <td>​I purchased this shredder 3 months ago. Love ...</td>\n    </tr>\n    <tr>\n      <th>98</th>\n      <td>5.0 out of 5 stars</td>\n      <td>I shred junk mail like it's a part time job. S...</td>\n    </tr>\n    <tr>\n      <th>99</th>\n      <td>1.0 out of 5 stars</td>\n      <td>Returned after three days. It had the worst ti...</td>\n    </tr>\n  </tbody>\n</table>\n<p>100 rows × 2 columns</p>\n</div>"
     },
     "metadata": {},
     "execution_count": 35
    }
   ],
   "source": []
  }
 ]
}