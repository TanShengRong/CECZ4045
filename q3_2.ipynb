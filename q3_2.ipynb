{
 "metadata": {
  "language_info": {
   "codemirror_mode": {
    "name": "ipython",
    "version": 3
   },
   "file_extension": ".py",
   "mimetype": "text/x-python",
   "name": "python",
   "nbconvert_exporter": "python",
   "pygments_lexer": "ipython3",
   "version": "3.8.5-final"
  },
  "orig_nbformat": 2,
  "kernelspec": {
   "name": "Python 3.8.5 64-bit ('venv')",
   "display_name": "Python 3.8.5 64-bit ('venv')",
   "metadata": {
    "interpreter": {
     "hash": "6ff121a5022796079f914ba7c32deb71c0f69957bf306b073978a52897b86ddf"
    }
   }
  }
 },
 "nbformat": 4,
 "nbformat_minor": 2,
 "cells": [
  {
   "cell_type": "code",
   "execution_count": 16,
   "metadata": {},
   "outputs": [],
   "source": [
    "import pandas as pd\n",
    "import spacy\n",
    "import en_core_web_sm\n",
    "from collections import Counter"
   ]
  },
  {
   "cell_type": "code",
   "execution_count": 17,
   "metadata": {},
   "outputs": [
    {
     "output_type": "execute_result",
     "data": {
      "text/plain": [
       "                 stars                                            comment\n",
       "0   4.0 out of 5 stars  I purchased this bad boy for my wife’s home of...\n",
       "1   4.0 out of 5 stars  This is a quite nice machine. Very basic yet b...\n",
       "2   4.0 out of 5 stars  PROS: I want to cover first the high-quality a...\n",
       "3   4.0 out of 5 stars  Last it lasted 6 years! And this one cost $4 l...\n",
       "4   5.0 out of 5 stars  Update: After over a year, the shredder is sti...\n",
       "..                 ...                                                ...\n",
       "95  4.0 out of 5 stars  Very good value for this Amazon Basic cross cu...\n",
       "96  5.0 out of 5 stars  This is a great machine at an even better pric...\n",
       "97  1.0 out of 5 stars  So I decided I wanted to get a paper shredder,...\n",
       "98  1.0 out of 5 stars  I have now been through 3 of these shredders. ...\n",
       "99  5.0 out of 5 stars  If I could give this six stars I would. What a...\n",
       "\n",
       "[100 rows x 2 columns]"
      ],
      "text/html": "<div>\n<style scoped>\n    .dataframe tbody tr th:only-of-type {\n        vertical-align: middle;\n    }\n\n    .dataframe tbody tr th {\n        vertical-align: top;\n    }\n\n    .dataframe thead th {\n        text-align: right;\n    }\n</style>\n<table border=\"1\" class=\"dataframe\">\n  <thead>\n    <tr style=\"text-align: right;\">\n      <th></th>\n      <th>stars</th>\n      <th>comment</th>\n    </tr>\n  </thead>\n  <tbody>\n    <tr>\n      <th>0</th>\n      <td>4.0 out of 5 stars</td>\n      <td>I purchased this bad boy for my wife’s home of...</td>\n    </tr>\n    <tr>\n      <th>1</th>\n      <td>4.0 out of 5 stars</td>\n      <td>This is a quite nice machine. Very basic yet b...</td>\n    </tr>\n    <tr>\n      <th>2</th>\n      <td>4.0 out of 5 stars</td>\n      <td>PROS: I want to cover first the high-quality a...</td>\n    </tr>\n    <tr>\n      <th>3</th>\n      <td>4.0 out of 5 stars</td>\n      <td>Last it lasted 6 years! And this one cost $4 l...</td>\n    </tr>\n    <tr>\n      <th>4</th>\n      <td>5.0 out of 5 stars</td>\n      <td>Update: After over a year, the shredder is sti...</td>\n    </tr>\n    <tr>\n      <th>...</th>\n      <td>...</td>\n      <td>...</td>\n    </tr>\n    <tr>\n      <th>95</th>\n      <td>4.0 out of 5 stars</td>\n      <td>Very good value for this Amazon Basic cross cu...</td>\n    </tr>\n    <tr>\n      <th>96</th>\n      <td>5.0 out of 5 stars</td>\n      <td>This is a great machine at an even better pric...</td>\n    </tr>\n    <tr>\n      <th>97</th>\n      <td>1.0 out of 5 stars</td>\n      <td>So I decided I wanted to get a paper shredder,...</td>\n    </tr>\n    <tr>\n      <th>98</th>\n      <td>1.0 out of 5 stars</td>\n      <td>I have now been through 3 of these shredders. ...</td>\n    </tr>\n    <tr>\n      <th>99</th>\n      <td>5.0 out of 5 stars</td>\n      <td>If I could give this six stars I would. What a...</td>\n    </tr>\n  </tbody>\n</table>\n<p>100 rows × 2 columns</p>\n</div>"
     },
     "metadata": {},
     "execution_count": 17
    }
   ],
   "source": [
    "df = pd.read_csv(\"./downloads/reviews100.csv\")\n",
    "df"
   ]
  },
  {
   "cell_type": "code",
   "execution_count": 18,
   "metadata": {},
   "outputs": [
    {
     "output_type": "execute_result",
     "data": {
      "text/plain": [
       "                 stars                                            comment\n",
       "99  5.0 out of 5 stars  If I could give this six stars I would. What a...\n",
       "32  5.0 out of 5 stars  This shredder was purchased to replace a Fello...\n",
       "77  5.0 out of 5 stars  I purchased this shredder despite some bad rev...\n",
       "22  5.0 out of 5 stars  The shredder does exactly what it says it will...\n",
       "67  5.0 out of 5 stars  I bought this shredder last week after looking...\n",
       "27  5.0 out of 5 stars  It does the job and does it fast! We own a not...\n",
       "64  5.0 out of 5 stars  Pretty thrilled with this shredder right now !...\n",
       "57  5.0 out of 5 stars  Cross-cut is key and Amazon has made this prod...\n",
       "55  5.0 out of 5 stars  I just got the shredder, and have been using i...\n",
       "18  5.0 out of 5 stars  This works great! I don't typically test it wi...\n",
       "54  5.0 out of 5 stars  My husband and I finally hit the point of \"we ...\n",
       "53  5.0 out of 5 stars  I had a hand-me-down paper shredder from my da...\n",
       "37  5.0 out of 5 stars  I\"m so glad I got this paper shredder.  I'd ha...\n",
       "38  5.0 out of 5 stars  AmazonBasics are generally good quality items....\n",
       "39  5.0 out of 5 stars  I hesitated paying up for this shedder but aft...\n",
       "40  5.0 out of 5 stars  Quiet machine with ample capacity both in numb...\n",
       "79  5.0 out of 5 stars  Product was exactly as discribed. I was a litt...\n",
       "74  5.0 out of 5 stars  I have purchased several different items under...\n",
       "80  5.0 out of 5 stars  I just got it earlier this week, but I had gat...\n",
       "86  5.0 out of 5 stars  Very nice product.  Used it extensively the fi...\n",
       "96  5.0 out of 5 stars  This is a great machine at an even better pric...\n",
       "4   5.0 out of 5 stars  Update: After over a year, the shredder is sti...\n",
       "93  5.0 out of 5 stars  Reviewing the 12-sheet Amazon Basics paper shr...\n",
       "6   5.0 out of 5 stars  I am not someone who uses a paper shredder eve...\n",
       "7   5.0 out of 5 stars  This shredder works as advertised. In the atta...\n",
       "8   5.0 out of 5 stars  Over the years I've used a full-size shredder,...\n",
       "88  5.0 out of 5 stars  The Shredder is listed as a light/medium duty ...\n",
       "51  5.0 out of 5 stars  Whether you’re a college student or a professi...\n",
       "12  5.0 out of 5 stars  I seem to get PILES of unwanted paper with my ...\n",
       "14  5.0 out of 5 stars  I shred junk mail like it's a part time job. S..."
      ],
      "text/html": "<div>\n<style scoped>\n    .dataframe tbody tr th:only-of-type {\n        vertical-align: middle;\n    }\n\n    .dataframe tbody tr th {\n        vertical-align: top;\n    }\n\n    .dataframe thead th {\n        text-align: right;\n    }\n</style>\n<table border=\"1\" class=\"dataframe\">\n  <thead>\n    <tr style=\"text-align: right;\">\n      <th></th>\n      <th>stars</th>\n      <th>comment</th>\n    </tr>\n  </thead>\n  <tbody>\n    <tr>\n      <th>99</th>\n      <td>5.0 out of 5 stars</td>\n      <td>If I could give this six stars I would. What a...</td>\n    </tr>\n    <tr>\n      <th>32</th>\n      <td>5.0 out of 5 stars</td>\n      <td>This shredder was purchased to replace a Fello...</td>\n    </tr>\n    <tr>\n      <th>77</th>\n      <td>5.0 out of 5 stars</td>\n      <td>I purchased this shredder despite some bad rev...</td>\n    </tr>\n    <tr>\n      <th>22</th>\n      <td>5.0 out of 5 stars</td>\n      <td>The shredder does exactly what it says it will...</td>\n    </tr>\n    <tr>\n      <th>67</th>\n      <td>5.0 out of 5 stars</td>\n      <td>I bought this shredder last week after looking...</td>\n    </tr>\n    <tr>\n      <th>27</th>\n      <td>5.0 out of 5 stars</td>\n      <td>It does the job and does it fast! We own a not...</td>\n    </tr>\n    <tr>\n      <th>64</th>\n      <td>5.0 out of 5 stars</td>\n      <td>Pretty thrilled with this shredder right now !...</td>\n    </tr>\n    <tr>\n      <th>57</th>\n      <td>5.0 out of 5 stars</td>\n      <td>Cross-cut is key and Amazon has made this prod...</td>\n    </tr>\n    <tr>\n      <th>55</th>\n      <td>5.0 out of 5 stars</td>\n      <td>I just got the shredder, and have been using i...</td>\n    </tr>\n    <tr>\n      <th>18</th>\n      <td>5.0 out of 5 stars</td>\n      <td>This works great! I don't typically test it wi...</td>\n    </tr>\n    <tr>\n      <th>54</th>\n      <td>5.0 out of 5 stars</td>\n      <td>My husband and I finally hit the point of \"we ...</td>\n    </tr>\n    <tr>\n      <th>53</th>\n      <td>5.0 out of 5 stars</td>\n      <td>I had a hand-me-down paper shredder from my da...</td>\n    </tr>\n    <tr>\n      <th>37</th>\n      <td>5.0 out of 5 stars</td>\n      <td>I\"m so glad I got this paper shredder.  I'd ha...</td>\n    </tr>\n    <tr>\n      <th>38</th>\n      <td>5.0 out of 5 stars</td>\n      <td>AmazonBasics are generally good quality items....</td>\n    </tr>\n    <tr>\n      <th>39</th>\n      <td>5.0 out of 5 stars</td>\n      <td>I hesitated paying up for this shedder but aft...</td>\n    </tr>\n    <tr>\n      <th>40</th>\n      <td>5.0 out of 5 stars</td>\n      <td>Quiet machine with ample capacity both in numb...</td>\n    </tr>\n    <tr>\n      <th>79</th>\n      <td>5.0 out of 5 stars</td>\n      <td>Product was exactly as discribed. I was a litt...</td>\n    </tr>\n    <tr>\n      <th>74</th>\n      <td>5.0 out of 5 stars</td>\n      <td>I have purchased several different items under...</td>\n    </tr>\n    <tr>\n      <th>80</th>\n      <td>5.0 out of 5 stars</td>\n      <td>I just got it earlier this week, but I had gat...</td>\n    </tr>\n    <tr>\n      <th>86</th>\n      <td>5.0 out of 5 stars</td>\n      <td>Very nice product.  Used it extensively the fi...</td>\n    </tr>\n    <tr>\n      <th>96</th>\n      <td>5.0 out of 5 stars</td>\n      <td>This is a great machine at an even better pric...</td>\n    </tr>\n    <tr>\n      <th>4</th>\n      <td>5.0 out of 5 stars</td>\n      <td>Update: After over a year, the shredder is sti...</td>\n    </tr>\n    <tr>\n      <th>93</th>\n      <td>5.0 out of 5 stars</td>\n      <td>Reviewing the 12-sheet Amazon Basics paper shr...</td>\n    </tr>\n    <tr>\n      <th>6</th>\n      <td>5.0 out of 5 stars</td>\n      <td>I am not someone who uses a paper shredder eve...</td>\n    </tr>\n    <tr>\n      <th>7</th>\n      <td>5.0 out of 5 stars</td>\n      <td>This shredder works as advertised. In the atta...</td>\n    </tr>\n    <tr>\n      <th>8</th>\n      <td>5.0 out of 5 stars</td>\n      <td>Over the years I've used a full-size shredder,...</td>\n    </tr>\n    <tr>\n      <th>88</th>\n      <td>5.0 out of 5 stars</td>\n      <td>The Shredder is listed as a light/medium duty ...</td>\n    </tr>\n    <tr>\n      <th>51</th>\n      <td>5.0 out of 5 stars</td>\n      <td>Whether you’re a college student or a professi...</td>\n    </tr>\n    <tr>\n      <th>12</th>\n      <td>5.0 out of 5 stars</td>\n      <td>I seem to get PILES of unwanted paper with my ...</td>\n    </tr>\n    <tr>\n      <th>14</th>\n      <td>5.0 out of 5 stars</td>\n      <td>I shred junk mail like it's a part time job. S...</td>\n    </tr>\n  </tbody>\n</table>\n</div>"
     },
     "metadata": {},
     "execution_count": 18
    }
   ],
   "source": [
    "df['comment'] = df['comment'].apply(lambda x: x.strip())\n",
    "df = df.sort_values(['stars'], ascending=False).iloc[0:30] # get 30 top reviews \n",
    "df"
   ]
  },
  {
   "cell_type": "code",
   "execution_count": 19,
   "metadata": {
    "tags": []
   },
   "outputs": [
    {
     "output_type": "execute_result",
     "data": {
      "text/plain": [
       "{('shredder', 'small'): 36,\n",
       " ('shredder', 'little'): 34,\n",
       " ('shredder', 'few'): 32,\n",
       " ('shredder', 'full'): 21,\n",
       " ('shredder', 'sure'): 21}"
      ]
     },
     "metadata": {},
     "execution_count": 19
    }
   ],
   "source": [
    "# nlp = spacy.load(\"en_core_web_sm\") # buggy on ipynb\n",
    "nlp = en_core_web_sm.load() # for ipynb\n",
    "noun_adj_pairs = {}\n",
    "# print(df['comment'])\n",
    "for comment in enumerate(df['comment']):\n",
    "    # print(comment[1])\n",
    "    doc = nlp(str(comment[1])) # change tuple to str for nlp\n",
    "    doc_len = len(doc)\n",
    "    for i, token in enumerate(doc): #token has TEXT, LEMMA, POS, TAG, DEP, SHAPE, ALPHA, STOP\n",
    "        if token.pos_ not in ('NOUN', 'PROPN'):\n",
    "            continue\n",
    "        for j in range(i+1, doc_len): # check for pairs after identified noun/pnoun\n",
    "            if doc[j].pos_ == 'ADJ':\n",
    "                pair = (str(token), str(doc[j])) # change to str. ele in dict keys has to be hashable even inside tuples\n",
    "                # check if already exist in dictionary\n",
    "                if pair in noun_adj_pairs:\n",
    "                    noun_adj_pairs[pair] += 1\n",
    "                else:\n",
    "                    noun_adj_pairs[pair] = 1\n",
    "top_10_noun_adj_pairs = dict(Counter(noun_adj_pairs).most_common(5))\n",
    "top_10_noun_adj_pairs\n",
    "# top_10_noun_adj_pairs = {key: val for key, val in sorted(noun_adj_pairs.items(), key=lambda item: item[1])}\n",
    "# print(noun_adj_pairs.keys())\n",
    "# noun_adj_pairs = dict(sorted(noun_adj_pairs.items()))\n",
    "# print(noun_adj_pairs)"
   ]
  },
  {
   "cell_type": "code",
   "execution_count": null,
   "metadata": {},
   "outputs": [],
   "source": []
  }
 ]
}