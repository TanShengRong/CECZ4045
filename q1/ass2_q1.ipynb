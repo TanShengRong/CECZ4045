{
  "nbformat": 4,
  "nbformat_minor": 0,
  "metadata": {
    "colab": {
      "name": "ass2_q1.ipynb",
      "provenance": [],
      "collapsed_sections": [],
      "toc_visible": true
    },
    "kernelspec": {
      "display_name": "Python 3",
      "name": "python3"
    },
    "accelerator": "GPU"
  },
  "cells": [
    {
      "cell_type": "code",
      "metadata": {
        "colab": {
          "base_uri": "https://localhost:8080/"
        },
        "id": "p6_Z6Mrst7xY",
        "outputId": "9d19edb7-e40f-41a1-eabd-f1f1dffb5034"
      },
      "source": [
        "from google.colab import drive\n",
        "drive.mount('/content/gdrive')"
      ],
      "execution_count": 146,
      "outputs": [
        {
          "output_type": "stream",
          "text": [
            "Drive already mounted at /content/gdrive; to attempt to forcibly remount, call drive.mount(\"/content/gdrive\", force_remount=True).\n"
          ],
          "name": "stdout"
        }
      ]
    },
    {
      "cell_type": "code",
      "metadata": {
        "colab": {
          "base_uri": "https://localhost:8080/"
        },
        "id": "srWCp3saWnHs",
        "outputId": "eeddaf33-528d-4635-f044-7768f7510b4e"
      },
      "source": [
        "!ls \"gdrive/MyDrive/wikitext-2\" # check that it has successfully connected\n",
        "# files should be at ur GDrive inside folder wikitext-2\n",
        "!cp \"gdrive/MyDrive/wikitext-2/wiki.test.tokens.txt\" \"test.txt\" # copy the files to colab runtime\n",
        "!cp \"gdrive/MyDrive/wikitext-2/wiki.train.tokens.txt\" \"train.txt\"\n",
        "!cp \"gdrive/MyDrive/wikitext-2/wiki.valid.tokens.txt\" \"valid.txt\""
      ],
      "execution_count": 147,
      "outputs": [
        {
          "output_type": "stream",
          "text": [
            "wiki.test.tokens      wiki.train.tokens      wiki.valid.tokens\n",
            "wiki.test.tokens.txt  wiki.train.tokens.txt  wiki.valid.tokens.txt\n"
          ],
          "name": "stdout"
        }
      ]
    },
    {
      "cell_type": "markdown",
      "metadata": {
        "id": "yDH_IyLyasQC"
      },
      "source": [
        "# Preprocessing"
      ]
    },
    {
      "cell_type": "code",
      "metadata": {
        "id": "6JSW06aZavxI"
      },
      "source": [
        "import os\n",
        "from io import open\n",
        "import torch\n",
        "\n",
        "class Dictionary(object):\n",
        "    def __init__(self):\n",
        "        self.word2idx = {}\n",
        "        self.idx2word = []\n",
        "\n",
        "    def add_word(self, word):\n",
        "        if word not in self.word2idx:\n",
        "            self.idx2word.append(word)\n",
        "            self.word2idx[word] = len(self.idx2word) - 1\n",
        "        return self.word2idx[word]\n",
        "\n",
        "    def __len__(self):\n",
        "        return len(self.idx2word)\n",
        "\n",
        "\n",
        "class Corpus(object):\n",
        "    def __init__(self, path):\n",
        "        self.dictionary = Dictionary()\n",
        "        self.train = self.tokenize(os.path.join(path, 'train.txt'))\n",
        "        self.valid = self.tokenize(os.path.join(path, 'valid.txt'))\n",
        "        self.test = self.tokenize(os.path.join(path, 'test.txt'))\n",
        "\n",
        "    def tokenize(self, path):\n",
        "        \"\"\"Tokenizes a text file.\"\"\"\n",
        "        assert os.path.exists(path)\n",
        "        # Add words to the dictionary\n",
        "        with open(path, 'r', encoding=\"utf8\") as f:\n",
        "            for line in f:\n",
        "                # remove the headers e.g.  = = Description = = \n",
        "                if line.startswith('='): \n",
        "                    continue\n",
        "                words = line.split() + ['<eos>']\n",
        "                for word in words:\n",
        "                    self.dictionary.add_word(word.lower()) # make to lower\n",
        "\n",
        "        # Tokenize file content\n",
        "        with open(path, 'r', encoding=\"utf8\") as f:\n",
        "            idss = []\n",
        "            for line in f:\n",
        "                words = line.split() + ['<eos>']\n",
        "                ids = []\n",
        "                for word in words:\n",
        "                    ids.append(self.dictionary.word2idx[word.lower()]) # make to lower\n",
        "                idss.append(torch.tensor(ids).type(torch.int64))\n",
        "            ids = torch.cat(idss)\n",
        "\n",
        "        return ids\n",
        "    \n",
        "    @property\n",
        "    def vocab_size(self):\n",
        "        return len(self.dictionary.idx2word)"
      ],
      "execution_count": 148,
      "outputs": []
    },
    {
      "cell_type": "markdown",
      "metadata": {
        "id": "5BY-5KRizwDS"
      },
      "source": [
        "# Params"
      ]
    },
    {
      "cell_type": "code",
      "metadata": {
        "id": "BujxiynKzz7V"
      },
      "source": [
        "#=== params\n",
        "corpus = Corpus('/content')\n",
        "n_class = corpus.vocab_size\n",
        "n_step = 7 # n-1 in paper\n",
        "n_hidden = 200 # h in paper\n",
        "embed_size = 200       # m in paper\n",
        "batch_size = 1000\n",
        "order = n_step # order (int): the order of the language model, i.e. length of the history\n",
        "epochs = 100\n",
        "learning_rate = 0.0001\n",
        "cuda = torch.cuda.is_available()\n",
        "seed = 42\n",
        "clip = 2.0\n",
        "#==="
      ],
      "execution_count": 149,
      "outputs": []
    },
    {
      "cell_type": "markdown",
      "metadata": {
        "id": "xCn0n7sLb7uU"
      },
      "source": [
        "# Model"
      ]
    },
    {
      "cell_type": "code",
      "metadata": {
        "id": "jf6-SXVscAqs"
      },
      "source": [
        "#== MODEL ==#\n",
        "import math\n",
        "import torch\n",
        "import torch.nn as nn\n",
        "import torch.nn.functional as F\n",
        "\n",
        "'''\n",
        "    the neural model learns the distributed representation of each word \n",
        "    (embedding matrix C) and \n",
        "    the probability function of a word sequence as a function of their distributed representations. \n",
        "    It has a hidden layer with \n",
        "    tanh activation and the output layer is a \n",
        "    Softmax layer. \n",
        "    The output of the model for each \n",
        "    input of (n - 1) previous words are the \n",
        "    probabilities over the |V | words in the vocabulary for the next word.\n",
        "'''\n",
        "class FNNModel(nn.Module):\n",
        "    def __init__(self, vocab_size, embed_size, context_size, no_hidden, dropout=0.5):\n",
        "        super(FNNModel,self).__init__()\n",
        "        \"\"\"\n",
        "        Args:\n",
        "            n_class (int): no. of vocabulary\n",
        "            m (int): size of each embedding vector\n",
        "#n-gram models construct tables of conditional probabilities for the next word, \n",
        "#for each one of a large number of contexts, i.e. combinations of the last n − 1 words\n",
        "            n_step (int): n-1 in paper. #n_step + 1 = n-gram. if n_step = 1, bigram\n",
        "            n_hidden (int): no. of hidden units associated with each word\n",
        "        \"\"\"\n",
        "        \"\"\"\n",
        "        Vars:\n",
        "            C: encoder (|V| x m)\n",
        "            H: hiden layer weight (n x (n-1)m)\n",
        "            W: word feature to output weights (|V| x (n-1)m)\n",
        "            d: hidden layer bias (has h no. of elements)\n",
        "            U: hidden-to-output weights (|V| × h matrix)\n",
        "            b: output bias (has |V| no. of elements)\n",
        "        \"\"\"\n",
        "        self.embeddings = nn.Embedding(vocab_size, embed_size)\n",
        "        self.linear1 = nn.Linear(context_size * embed_size, no_hidden)\n",
        "        self.linear2 = nn.Linear(no_hidden, vocab_size)\n",
        "        self.context_size = context_size\n",
        "        self.embed_size = embed_size\n",
        "        self.dropout = nn.Dropout(p=dropout)\n",
        "\n",
        "    def forward(self,inputs):\n",
        "        embeds = self.embeddings(inputs).view((-1, self.context_size * self.embed_size))\n",
        "        hidden_output = self.linear1(embeds)\n",
        "        # hidden_output = self.dropout(hidden_output)\n",
        "        out = hidden_output.tanh()\n",
        "        # out = self.dropout(out)\n",
        "        out = self.linear2(out)\n",
        "        out = self.dropout(out)\n",
        "        log_probs = F.log_softmax(out, dim=1) # [1000, 28912]: softmax on 28912's dim\n",
        "        return log_probs"
      ],
      "execution_count": 150,
      "outputs": []
    },
    {
      "cell_type": "markdown",
      "metadata": {
        "id": "qZez81nOa5Iv"
      },
      "source": [
        "# Data Loading"
      ]
    },
    {
      "cell_type": "code",
      "metadata": {
        "id": "xXNNicaihZe5"
      },
      "source": [
        "def batchify(data, batch_size):\n",
        "    # Work out how cleanly we can divide the dataset into args.batch_size parts.\n",
        "    nbatch = data.size(0) // batch_size\n",
        "    # Trim off any extra elements that wouldn't cleanly fit (remainders).\n",
        "    data = data.narrow(0, 0, nbatch * batch_size)\n",
        "    # Evenly divide the data across the batch_size batches.\n",
        "    data = data.view(batch_size, -1).t().contiguous()\n",
        "    return data\n",
        "def get_batch(data, i, order):\n",
        "    x = torch.autograd.Variable(torch.t(data[i:i+order]))\n",
        "    y = torch.autograd.Variable(data[i+order].view(-1))\n",
        "    return x, y\n",
        "def evaluate(data, model, criterion):\n",
        "\tmodel.eval()\n",
        "\ttotal_loss = 0\n",
        "\tn_steps = data.size(0) - order - 1\n",
        "\tfor i in tqdm(range(n_steps)):\n",
        "\t\tx, y = get_batch(data, i, order)\n",
        "\t\tout = model(x)\n",
        "\t\tloss = criterion(out, y)\n",
        "\t\ttotal_loss += loss.data.data\n",
        "\treturn total_loss / n_steps"
      ],
      "execution_count": 151,
      "outputs": []
    },
    {
      "cell_type": "code",
      "metadata": {
        "id": "zavgNg0tklRG"
      },
      "source": [
        "def clock_time(s):\n",
        "    h, s = divmod(s, 3600)\n",
        "    m, s = divmod(s, 60)\n",
        "    return int(h), int(m), int(s)"
      ],
      "execution_count": 152,
      "outputs": []
    },
    {
      "cell_type": "code",
      "metadata": {
        "colab": {
          "base_uri": "https://localhost:8080/"
        },
        "id": "ztusWxUma4mg",
        "outputId": "61e074e9-423d-4827-facf-137c6474210f"
      },
      "source": [
        "import numpy as np\n",
        "import torch.optim as optim\n",
        "from tqdm import tqdm\n",
        "import time\n",
        "\n",
        "\n",
        "train_data = batchify(corpus.train, batch_size)\n",
        "val_data = batchify(corpus.valid, batch_size)\n",
        "test_data = batchify(corpus.test, batch_size)\n",
        "if cuda:\n",
        "\ttrain_data, val_data, test_data = train_data.cuda(), val_data.cuda(), test_data.cuda()\n",
        "print('Using cuda: {}'.format(cuda))\n",
        "print('Size of training set: {:,} tokens'.format(np.prod(train_data.size())))\n",
        "print('Size of validation set: {:,} tokens'.format(np.prod(val_data.size())))\n",
        "print('Size of test set: {:,} tokens'.format(np.prod(test_data.size())))\n",
        "print('Vocabulary size: {:,}'.format(corpus.vocab_size))\n",
        "print('Example data:')\n",
        "for k in range(100, 107):\n",
        "    x = [corpus.dictionary.idx2word[i] for i in train_data[k:order+k, 0]]\n",
        "    y = [corpus.dictionary.idx2word[train_data[k+order, 0]]]\n",
        "    print(x, y)\n",
        "#=== initialise model\n",
        "model = FNNModel(\n",
        "    n_class, \n",
        "    embed_size, \n",
        "    n_step, \n",
        "    n_hidden)\n",
        "if cuda:\n",
        "  model.cuda()\n",
        "# Display the model's architecture\n",
        "print('Model: \\n', model)\n",
        "criterion = nn.NLLLoss()\n",
        "optimizer = optim.RMSprop(model.parameters(),lr=learning_rate)"
      ],
      "execution_count": 153,
      "outputs": [
        {
          "output_type": "stream",
          "text": [
            "Using cuda: True\n",
            "Size of training set: 2,088,000 tokens\n",
            "Size of validation set: 217,000 tokens\n",
            "Size of test set: 245,000 tokens\n",
            "Vocabulary size: 28,912\n",
            "Example data:\n",
            "['\"', 'nameless', '\"', ',', 'a', 'penal', 'military'] ['unit']\n",
            "['nameless', '\"', ',', 'a', 'penal', 'military', 'unit'] ['serving']\n",
            "['\"', ',', 'a', 'penal', 'military', 'unit', 'serving'] ['the']\n",
            "[',', 'a', 'penal', 'military', 'unit', 'serving', 'the'] ['nation']\n",
            "['a', 'penal', 'military', 'unit', 'serving', 'the', 'nation'] ['of']\n",
            "['penal', 'military', 'unit', 'serving', 'the', 'nation', 'of'] ['gallia']\n",
            "['military', 'unit', 'serving', 'the', 'nation', 'of', 'gallia'] ['during']\n",
            "Model: \n",
            " FNNModel(\n",
            "  (embeddings): Embedding(28912, 200)\n",
            "  (linear1): Linear(in_features=1400, out_features=200, bias=True)\n",
            "  (linear2): Linear(in_features=200, out_features=28912, bias=True)\n",
            "  (dropout): Dropout(p=0.5, inplace=False)\n",
            ")\n"
          ],
          "name": "stdout"
        }
      ]
    },
    {
      "cell_type": "code",
      "metadata": {
        "colab": {
          "base_uri": "https://localhost:8080/"
        },
        "id": "y4bxaGvDZwK5",
        "outputId": "670dc101-93af-4e97-b352-fa4be523fdfe"
      },
      "source": [
        "!nvidia-smi"
      ],
      "execution_count": 154,
      "outputs": [
        {
          "output_type": "stream",
          "text": [
            "Wed Nov 25 18:06:45 2020       \n",
            "+-----------------------------------------------------------------------------+\n",
            "| NVIDIA-SMI 455.38       Driver Version: 418.67       CUDA Version: 10.1     |\n",
            "|-------------------------------+----------------------+----------------------+\n",
            "| GPU  Name        Persistence-M| Bus-Id        Disp.A | Volatile Uncorr. ECC |\n",
            "| Fan  Temp  Perf  Pwr:Usage/Cap|         Memory-Usage | GPU-Util  Compute M. |\n",
            "|                               |                      |               MIG M. |\n",
            "|===============================+======================+======================|\n",
            "|   0  Tesla P100-PCIE...  Off  | 00000000:00:04.0 Off |                    0 |\n",
            "| N/A   50C    P0    35W / 250W |   2381MiB / 16280MiB |      3%      Default |\n",
            "|                               |                      |                 ERR! |\n",
            "+-------------------------------+----------------------+----------------------+\n",
            "                                                                               \n",
            "+-----------------------------------------------------------------------------+\n",
            "| Processes:                                                                  |\n",
            "|  GPU   GI   CI        PID   Type   Process name                  GPU Memory |\n",
            "|        ID   ID                                                   Usage      |\n",
            "|=============================================================================|\n",
            "|  No running processes found                                                 |\n",
            "+-----------------------------------------------------------------------------+\n"
          ],
          "name": "stdout"
        }
      ]
    },
    {
      "cell_type": "code",
      "metadata": {
        "id": "ArPR9kzyblhd",
        "outputId": "29a4445b-7be1-430a-e899-48aff1a4c5e5",
        "colab": {
          "base_uri": "https://localhost:8080/"
        }
      },
      "source": [
        "# Set seed for reproducibility.\n",
        "torch.manual_seed(seed)\n",
        "np.random.seed(seed)\n",
        "parameters = [param for param in model.parameters() if param.requires_grad]\n",
        "# Training\n",
        "print('Training...')\n",
        "losses = dict(train=[], val=[])\n",
        "\n",
        "# initialize the early_stopping counter\n",
        "stop_counter = 0\n",
        "\n",
        "lr = learning_rate # so that can alter later if SGD not descending \n",
        "best_val_loss = None\n",
        "\n",
        "num_steps = train_data.size(0) - order - 1\n",
        "batch_order = np.arange(num_steps)\n",
        "\n",
        "t0 = time.time()\n",
        "try:\n",
        "    for epoch in range(1, epochs+1):\n",
        "        model.train()\n",
        "        epoch_start_time = time.time()\n",
        "        np.random.shuffle(batch_order)\n",
        "\n",
        "        for step in range(1, num_steps+1):\n",
        "            idx = batch_order[step-1]\n",
        "            x, y = get_batch(train_data, idx, order)\n",
        "\n",
        "            model.zero_grad()\n",
        "            # Forward pass\n",
        "            logits = model(x)\n",
        "            loss = criterion(logits, y)\n",
        "            debug = False\n",
        "            #   if debug:\n",
        "            #     # Debugging softmax approximation.\n",
        "            #     xe = nn.CrossEntropyLoss()\n",
        "            #     true_loss = xe(logits, y)\n",
        "            #     print('approx {:>3.2f}, true {:>3.2f}, diff {:>3.4f}'.format(\n",
        "            #       loss.data, true_loss.data, true_loss.data - loss.data))\n",
        "\n",
        "            # Update parameters\n",
        "            loss.backward()\n",
        "\n",
        "            torch.nn.utils.clip_grad_norm_(model.parameters(), clip) # reduce exploding grad\n",
        "            optimizer.step()\n",
        "\n",
        "            # Save loss.\n",
        "            losses['train'].append(loss.cpu().data)\n",
        "            print_every = 500\n",
        "            if step % print_every == 0:\n",
        "                avg_loss = sum(losses['train'][-print_every:]) / print_every\n",
        "                t1 = time.time()\n",
        "                steps_per_second = print_every / (t1 - t0)\n",
        "                print('| epoch {} | step {}/{} | loss {:.4f} | lr {:.5f} | '\n",
        "                    'ngrams/sec {:.1f} | eta {}h{}m{}s'.format(\n",
        "                    epoch, step, num_steps, avg_loss, lr,\n",
        "                    steps_per_second * batch_size,\n",
        "                    *clock_time((num_steps - step) / steps_per_second)))\n",
        "                t0 = time.time()\n",
        "            \n",
        "        print('Evaluating on validation set...')\n",
        "        val_loss = evaluate(val_data, model, criterion)\n",
        "        losses['val'].append(val_loss)\n",
        "        print('-' * 89)\n",
        "        print('| end of epoch {:3d} | time {:5.2f}s | valid loss {:5.2f} | valid ppl {:8.2f}'.format(\n",
        "            epoch, (time.time() - epoch_start_time), val_loss, torch.exp(val_loss)))\n",
        "        print('-' * 89)\n",
        "\n",
        "        if not best_val_loss or val_loss < best_val_loss:\n",
        "            stop_counter = 0 # reset counter\n",
        "            best_val_loss = val_loss\n",
        "            torch.save(model.state_dict(), 'checkpoint.pth')\n",
        "            #=== download checkpoint file\n",
        "            # files.download('checkpoint.pth')\n",
        "        else:\n",
        "            stop_counter += 1\n",
        "            if stop_counter >= 10:\n",
        "                print(\"Early stopping\")\n",
        "                break\n",
        "except KeyboardInterrupt:\n",
        "    print('-' * 89)\n",
        "    print('Exiting from training early')\n",
        "    \n",
        "# write_losses(losses['train'], args.log_dir, name='train-losses')\n",
        "# write_losses(losses['val'], args.log_dir, name='val-losses')\n",
        "\n",
        "print('Evaluating on test set...')\n",
        "test_loss = evaluate(test_data, model, criterion)\n",
        "print('=' * 89)\n",
        "print('| End of training | test loss {:5.2f} | test ppl {:8.2f}'.format(\n",
        "    test_loss, torch.exp(test_loss)))\n",
        "print('=' * 89)"
      ],
      "execution_count": 155,
      "outputs": [
        {
          "output_type": "stream",
          "text": [
            "Training...\n",
            "| epoch 1 | step 500/2080 | loss 8.8873 | lr 0.000 | ngrams/sec 74135.5 | eta 0h0m21s\n",
            "| epoch 1 | step 1000/2080 | loss 8.5211 | lr 0.000 | ngrams/sec 74244.9 | eta 0h0m14s\n",
            "| epoch 1 | step 1500/2080 | loss 8.4219 | lr 0.000 | ngrams/sec 74301.0 | eta 0h0m7s\n",
            "| epoch 1 | step 2000/2080 | loss 8.3659 | lr 0.000 | ngrams/sec 74526.5 | eta 0h0m1s\n"
          ],
          "name": "stdout"
        },
        {
          "output_type": "stream",
          "text": [
            " 63%|██████▎   | 131/209 [00:00<00:00, 1273.05it/s]"
          ],
          "name": "stderr"
        },
        {
          "output_type": "stream",
          "text": [
            "Evaluating on validation set...\n"
          ],
          "name": "stdout"
        },
        {
          "output_type": "stream",
          "text": [
            "100%|██████████| 209/209 [00:00<00:00, 553.46it/s]\n"
          ],
          "name": "stderr"
        },
        {
          "output_type": "stream",
          "text": [
            "-----------------------------------------------------------------------------------------\n",
            "| end of epoch   1 | time 28.37s | valid loss  7.31 | valid ppl  1501.66\n",
            "-----------------------------------------------------------------------------------------\n",
            "| epoch 2 | step 500/2080 | loss 8.2977 | lr 0.000 | ngrams/sec 57526.7 | eta 0h0m27s\n",
            "| epoch 2 | step 1000/2080 | loss 8.2881 | lr 0.000 | ngrams/sec 74533.9 | eta 0h0m14s\n",
            "| epoch 2 | step 1500/2080 | loss 8.2685 | lr 0.000 | ngrams/sec 74301.8 | eta 0h0m7s\n",
            "| epoch 2 | step 2000/2080 | loss 8.2535 | lr 0.000 | ngrams/sec 73994.2 | eta 0h0m1s\n"
          ],
          "name": "stdout"
        },
        {
          "output_type": "stream",
          "text": [
            " 63%|██████▎   | 131/209 [00:00<00:00, 1267.31it/s]"
          ],
          "name": "stderr"
        },
        {
          "output_type": "stream",
          "text": [
            "Evaluating on validation set...\n"
          ],
          "name": "stdout"
        },
        {
          "output_type": "stream",
          "text": [
            "100%|██████████| 209/209 [00:00<00:00, 552.66it/s]\n"
          ],
          "name": "stderr"
        },
        {
          "output_type": "stream",
          "text": [
            "-----------------------------------------------------------------------------------------\n",
            "| end of epoch   2 | time 28.40s | valid loss  7.16 | valid ppl  1287.29\n",
            "-----------------------------------------------------------------------------------------\n",
            "| epoch 3 | step 500/2080 | loss 8.2090 | lr 0.000 | ngrams/sec 57683.8 | eta 0h0m27s\n",
            "| epoch 3 | step 1000/2080 | loss 8.1972 | lr 0.000 | ngrams/sec 74376.4 | eta 0h0m14s\n",
            "| epoch 3 | step 1500/2080 | loss 8.1904 | lr 0.000 | ngrams/sec 74547.0 | eta 0h0m7s\n",
            "| epoch 3 | step 2000/2080 | loss 8.1879 | lr 0.000 | ngrams/sec 74568.8 | eta 0h0m1s\n"
          ],
          "name": "stdout"
        },
        {
          "output_type": "stream",
          "text": [
            " 63%|██████▎   | 131/209 [00:00<00:00, 1276.59it/s]"
          ],
          "name": "stderr"
        },
        {
          "output_type": "stream",
          "text": [
            "Evaluating on validation set...\n"
          ],
          "name": "stdout"
        },
        {
          "output_type": "stream",
          "text": [
            "100%|██████████| 209/209 [00:00<00:00, 554.12it/s]\n"
          ],
          "name": "stderr"
        },
        {
          "output_type": "stream",
          "text": [
            "-----------------------------------------------------------------------------------------\n",
            "| end of epoch   3 | time 28.31s | valid loss  7.08 | valid ppl  1192.35\n",
            "-----------------------------------------------------------------------------------------\n",
            "| epoch 4 | step 500/2080 | loss 8.1505 | lr 0.000 | ngrams/sec 57741.1 | eta 0h0m27s\n",
            "| epoch 4 | step 1000/2080 | loss 8.1440 | lr 0.000 | ngrams/sec 74369.3 | eta 0h0m14s\n",
            "| epoch 4 | step 1500/2080 | loss 8.1423 | lr 0.000 | ngrams/sec 74532.1 | eta 0h0m7s\n",
            "| epoch 4 | step 2000/2080 | loss 8.1378 | lr 0.000 | ngrams/sec 74475.4 | eta 0h0m1s\n"
          ],
          "name": "stdout"
        },
        {
          "output_type": "stream",
          "text": [
            " 63%|██████▎   | 131/209 [00:00<00:00, 1274.34it/s]"
          ],
          "name": "stderr"
        },
        {
          "output_type": "stream",
          "text": [
            "Evaluating on validation set...\n"
          ],
          "name": "stdout"
        },
        {
          "output_type": "stream",
          "text": [
            "100%|██████████| 209/209 [00:00<00:00, 552.84it/s]\n"
          ],
          "name": "stderr"
        },
        {
          "output_type": "stream",
          "text": [
            "-----------------------------------------------------------------------------------------\n",
            "| end of epoch   4 | time 28.33s | valid loss  7.04 | valid ppl  1138.17\n",
            "-----------------------------------------------------------------------------------------\n",
            "| epoch 5 | step 500/2080 | loss 8.1082 | lr 0.000 | ngrams/sec 57628.2 | eta 0h0m27s\n",
            "| epoch 5 | step 1000/2080 | loss 8.0978 | lr 0.000 | ngrams/sec 74384.0 | eta 0h0m14s\n",
            "| epoch 5 | step 1500/2080 | loss 8.0982 | lr 0.000 | ngrams/sec 74551.1 | eta 0h0m7s\n",
            "| epoch 5 | step 2000/2080 | loss 8.0907 | lr 0.000 | ngrams/sec 74476.7 | eta 0h0m1s\n"
          ],
          "name": "stdout"
        },
        {
          "output_type": "stream",
          "text": [
            " 62%|██████▏   | 130/209 [00:00<00:00, 1283.81it/s]"
          ],
          "name": "stderr"
        },
        {
          "output_type": "stream",
          "text": [
            "Evaluating on validation set...\n"
          ],
          "name": "stdout"
        },
        {
          "output_type": "stream",
          "text": [
            "100%|██████████| 209/209 [00:00<00:00, 550.70it/s]\n"
          ],
          "name": "stderr"
        },
        {
          "output_type": "stream",
          "text": [
            "-----------------------------------------------------------------------------------------\n",
            "| end of epoch   5 | time 28.34s | valid loss  6.98 | valid ppl  1078.82\n",
            "-----------------------------------------------------------------------------------------\n",
            "| epoch 6 | step 500/2080 | loss 8.0533 | lr 0.000 | ngrams/sec 57637.4 | eta 0h0m27s\n",
            "| epoch 6 | step 1000/2080 | loss 8.0649 | lr 0.000 | ngrams/sec 74431.5 | eta 0h0m14s\n",
            "| epoch 6 | step 1500/2080 | loss 8.0653 | lr 0.000 | ngrams/sec 74462.9 | eta 0h0m7s\n",
            "| epoch 6 | step 2000/2080 | loss 8.0742 | lr 0.000 | ngrams/sec 74444.2 | eta 0h0m1s\n"
          ],
          "name": "stdout"
        },
        {
          "output_type": "stream",
          "text": [
            " 62%|██████▏   | 130/209 [00:00<00:00, 1274.35it/s]"
          ],
          "name": "stderr"
        },
        {
          "output_type": "stream",
          "text": [
            "Evaluating on validation set...\n"
          ],
          "name": "stdout"
        },
        {
          "output_type": "stream",
          "text": [
            "100%|██████████| 209/209 [00:00<00:00, 549.52it/s]\n"
          ],
          "name": "stderr"
        },
        {
          "output_type": "stream",
          "text": [
            "-----------------------------------------------------------------------------------------\n",
            "| end of epoch   6 | time 28.34s | valid loss  6.96 | valid ppl  1054.40\n",
            "-----------------------------------------------------------------------------------------\n",
            "| epoch 7 | step 500/2080 | loss 8.0260 | lr 0.000 | ngrams/sec 57656.0 | eta 0h0m27s\n",
            "| epoch 7 | step 1000/2080 | loss 8.0264 | lr 0.000 | ngrams/sec 74539.9 | eta 0h0m14s\n",
            "| epoch 7 | step 1500/2080 | loss 8.0283 | lr 0.000 | ngrams/sec 74508.7 | eta 0h0m7s\n",
            "| epoch 7 | step 2000/2080 | loss 8.0261 | lr 0.000 | ngrams/sec 74425.1 | eta 0h0m1s\n"
          ],
          "name": "stdout"
        },
        {
          "output_type": "stream",
          "text": [
            " 63%|██████▎   | 131/209 [00:00<00:00, 1276.27it/s]"
          ],
          "name": "stderr"
        },
        {
          "output_type": "stream",
          "text": [
            "Evaluating on validation set...\n"
          ],
          "name": "stdout"
        },
        {
          "output_type": "stream",
          "text": [
            "100%|██████████| 209/209 [00:00<00:00, 553.75it/s]\n"
          ],
          "name": "stderr"
        },
        {
          "output_type": "stream",
          "text": [
            "-----------------------------------------------------------------------------------------\n",
            "| end of epoch   7 | time 28.32s | valid loss  6.93 | valid ppl  1024.77\n",
            "-----------------------------------------------------------------------------------------\n",
            "| epoch 8 | step 500/2080 | loss 8.0036 | lr 0.000 | ngrams/sec 57696.9 | eta 0h0m27s\n",
            "| epoch 8 | step 1000/2080 | loss 8.0019 | lr 0.000 | ngrams/sec 74550.1 | eta 0h0m14s\n",
            "| epoch 8 | step 1500/2080 | loss 8.0026 | lr 0.000 | ngrams/sec 74567.4 | eta 0h0m7s\n",
            "| epoch 8 | step 2000/2080 | loss 7.9993 | lr 0.000 | ngrams/sec 74453.1 | eta 0h0m1s\n"
          ],
          "name": "stdout"
        },
        {
          "output_type": "stream",
          "text": [
            " 62%|██████▏   | 130/209 [00:00<00:00, 1284.26it/s]"
          ],
          "name": "stderr"
        },
        {
          "output_type": "stream",
          "text": [
            "Evaluating on validation set...\n"
          ],
          "name": "stdout"
        },
        {
          "output_type": "stream",
          "text": [
            "100%|██████████| 209/209 [00:00<00:00, 550.93it/s]\n"
          ],
          "name": "stderr"
        },
        {
          "output_type": "stream",
          "text": [
            "-----------------------------------------------------------------------------------------\n",
            "| end of epoch   8 | time 28.31s | valid loss  6.95 | valid ppl  1041.03\n",
            "-----------------------------------------------------------------------------------------\n",
            "| epoch 9 | step 500/2080 | loss 7.9669 | lr 0.000 | ngrams/sec 58541.1 | eta 0h0m26s\n",
            "| epoch 9 | step 1000/2080 | loss 7.9727 | lr 0.000 | ngrams/sec 74354.7 | eta 0h0m14s\n",
            "| epoch 9 | step 1500/2080 | loss 7.9718 | lr 0.000 | ngrams/sec 74613.8 | eta 0h0m7s\n",
            "| epoch 9 | step 2000/2080 | loss 7.9775 | lr 0.000 | ngrams/sec 74409.5 | eta 0h0m1s\n"
          ],
          "name": "stdout"
        },
        {
          "output_type": "stream",
          "text": [
            " 63%|██████▎   | 131/209 [00:00<00:00, 1279.31it/s]"
          ],
          "name": "stderr"
        },
        {
          "output_type": "stream",
          "text": [
            "Evaluating on validation set...\n"
          ],
          "name": "stdout"
        },
        {
          "output_type": "stream",
          "text": [
            "100%|██████████| 209/209 [00:00<00:00, 553.65it/s]\n"
          ],
          "name": "stderr"
        },
        {
          "output_type": "stream",
          "text": [
            "-----------------------------------------------------------------------------------------\n",
            "| end of epoch   9 | time 28.32s | valid loss  6.87 | valid ppl   962.81\n",
            "-----------------------------------------------------------------------------------------\n",
            "| epoch 10 | step 500/2080 | loss 7.9508 | lr 0.000 | ngrams/sec 57698.7 | eta 0h0m27s\n",
            "| epoch 10 | step 1000/2080 | loss 7.9525 | lr 0.000 | ngrams/sec 74481.2 | eta 0h0m14s\n",
            "| epoch 10 | step 1500/2080 | loss 7.9545 | lr 0.000 | ngrams/sec 74452.5 | eta 0h0m7s\n",
            "| epoch 10 | step 2000/2080 | loss 7.9613 | lr 0.000 | ngrams/sec 74359.9 | eta 0h0m1s\n"
          ],
          "name": "stdout"
        },
        {
          "output_type": "stream",
          "text": [
            " 62%|██████▏   | 130/209 [00:00<00:00, 1279.46it/s]"
          ],
          "name": "stderr"
        },
        {
          "output_type": "stream",
          "text": [
            "Evaluating on validation set...\n"
          ],
          "name": "stdout"
        },
        {
          "output_type": "stream",
          "text": [
            "100%|██████████| 209/209 [00:00<00:00, 550.29it/s]\n"
          ],
          "name": "stderr"
        },
        {
          "output_type": "stream",
          "text": [
            "-----------------------------------------------------------------------------------------\n",
            "| end of epoch  10 | time 28.34s | valid loss  6.88 | valid ppl   974.75\n",
            "-----------------------------------------------------------------------------------------\n",
            "| epoch 11 | step 500/2080 | loss 7.9298 | lr 0.000 | ngrams/sec 58515.8 | eta 0h0m27s\n",
            "| epoch 11 | step 1000/2080 | loss 7.9255 | lr 0.000 | ngrams/sec 74535.5 | eta 0h0m14s\n",
            "| epoch 11 | step 1500/2080 | loss 7.9402 | lr 0.000 | ngrams/sec 74362.5 | eta 0h0m7s\n",
            "| epoch 11 | step 2000/2080 | loss 7.9327 | lr 0.000 | ngrams/sec 74537.1 | eta 0h0m1s\n"
          ],
          "name": "stdout"
        },
        {
          "output_type": "stream",
          "text": [
            " 63%|██████▎   | 131/209 [00:00<00:00, 1277.26it/s]"
          ],
          "name": "stderr"
        },
        {
          "output_type": "stream",
          "text": [
            "Evaluating on validation set...\n"
          ],
          "name": "stdout"
        },
        {
          "output_type": "stream",
          "text": [
            "100%|██████████| 209/209 [00:00<00:00, 553.81it/s]\n"
          ],
          "name": "stderr"
        },
        {
          "output_type": "stream",
          "text": [
            "-----------------------------------------------------------------------------------------\n",
            "| end of epoch  11 | time 28.33s | valid loss  6.90 | valid ppl   994.12\n",
            "-----------------------------------------------------------------------------------------\n",
            "| epoch 12 | step 500/2080 | loss 7.9048 | lr 0.000 | ngrams/sec 58305.2 | eta 0h0m27s\n",
            "| epoch 12 | step 1000/2080 | loss 7.9017 | lr 0.000 | ngrams/sec 74224.9 | eta 0h0m14s\n",
            "| epoch 12 | step 1500/2080 | loss 7.9077 | lr 0.000 | ngrams/sec 74344.6 | eta 0h0m7s\n",
            "| epoch 12 | step 2000/2080 | loss 7.9093 | lr 0.000 | ngrams/sec 74551.2 | eta 0h0m1s\n"
          ],
          "name": "stdout"
        },
        {
          "output_type": "stream",
          "text": [
            " 62%|██████▏   | 130/209 [00:00<00:00, 1287.44it/s]"
          ],
          "name": "stderr"
        },
        {
          "output_type": "stream",
          "text": [
            "Evaluating on validation set...\n"
          ],
          "name": "stdout"
        },
        {
          "output_type": "stream",
          "text": [
            "100%|██████████| 209/209 [00:00<00:00, 550.78it/s]\n"
          ],
          "name": "stderr"
        },
        {
          "output_type": "stream",
          "text": [
            "-----------------------------------------------------------------------------------------\n",
            "| end of epoch  12 | time 28.39s | valid loss  6.91 | valid ppl  1006.46\n",
            "-----------------------------------------------------------------------------------------\n",
            "| epoch 13 | step 500/2080 | loss 7.8883 | lr 0.000 | ngrams/sec 58516.0 | eta 0h0m27s\n",
            "| epoch 13 | step 1000/2080 | loss 7.8945 | lr 0.000 | ngrams/sec 74533.7 | eta 0h0m14s\n",
            "| epoch 13 | step 1500/2080 | loss 7.8867 | lr 0.000 | ngrams/sec 74500.7 | eta 0h0m7s\n",
            "| epoch 13 | step 2000/2080 | loss 7.8949 | lr 0.000 | ngrams/sec 74416.1 | eta 0h0m1s\n"
          ],
          "name": "stdout"
        },
        {
          "output_type": "stream",
          "text": [
            " 62%|██████▏   | 130/209 [00:00<00:00, 1290.92it/s]"
          ],
          "name": "stderr"
        },
        {
          "output_type": "stream",
          "text": [
            "Evaluating on validation set...\n"
          ],
          "name": "stdout"
        },
        {
          "output_type": "stream",
          "text": [
            "100%|██████████| 209/209 [00:00<00:00, 551.22it/s]\n"
          ],
          "name": "stderr"
        },
        {
          "output_type": "stream",
          "text": [
            "-----------------------------------------------------------------------------------------\n",
            "| end of epoch  13 | time 28.33s | valid loss  6.89 | valid ppl   983.22\n",
            "-----------------------------------------------------------------------------------------\n",
            "| epoch 14 | step 500/2080 | loss 7.8615 | lr 0.000 | ngrams/sec 58439.5 | eta 0h0m27s\n",
            "| epoch 14 | step 1000/2080 | loss 7.8802 | lr 0.000 | ngrams/sec 74427.8 | eta 0h0m14s\n",
            "| epoch 14 | step 1500/2080 | loss 7.8815 | lr 0.000 | ngrams/sec 74475.2 | eta 0h0m7s\n",
            "| epoch 14 | step 2000/2080 | loss 7.8850 | lr 0.000 | ngrams/sec 74386.0 | eta 0h0m1s\n"
          ],
          "name": "stdout"
        },
        {
          "output_type": "stream",
          "text": [
            " 62%|██████▏   | 130/209 [00:00<00:00, 1284.82it/s]"
          ],
          "name": "stderr"
        },
        {
          "output_type": "stream",
          "text": [
            "Evaluating on validation set...\n"
          ],
          "name": "stdout"
        },
        {
          "output_type": "stream",
          "text": [
            "100%|██████████| 209/209 [00:00<00:00, 550.57it/s]\n"
          ],
          "name": "stderr"
        },
        {
          "output_type": "stream",
          "text": [
            "-----------------------------------------------------------------------------------------\n",
            "| end of epoch  14 | time 28.35s | valid loss  6.85 | valid ppl   947.88\n",
            "-----------------------------------------------------------------------------------------\n",
            "| epoch 15 | step 500/2080 | loss 7.8629 | lr 0.000 | ngrams/sec 57720.1 | eta 0h0m27s\n",
            "| epoch 15 | step 1000/2080 | loss 7.8552 | lr 0.000 | ngrams/sec 74398.2 | eta 0h0m14s\n",
            "| epoch 15 | step 1500/2080 | loss 7.8593 | lr 0.000 | ngrams/sec 74335.7 | eta 0h0m7s\n",
            "| epoch 15 | step 2000/2080 | loss 7.8522 | lr 0.000 | ngrams/sec 74430.0 | eta 0h0m1s\n"
          ],
          "name": "stdout"
        },
        {
          "output_type": "stream",
          "text": [
            " 62%|██████▏   | 130/209 [00:00<00:00, 1297.46it/s]"
          ],
          "name": "stderr"
        },
        {
          "output_type": "stream",
          "text": [
            "Evaluating on validation set...\n"
          ],
          "name": "stdout"
        },
        {
          "output_type": "stream",
          "text": [
            "100%|██████████| 209/209 [00:00<00:00, 552.25it/s]\n"
          ],
          "name": "stderr"
        },
        {
          "output_type": "stream",
          "text": [
            "-----------------------------------------------------------------------------------------\n",
            "| end of epoch  15 | time 28.35s | valid loss  6.92 | valid ppl  1010.61\n",
            "-----------------------------------------------------------------------------------------\n",
            "| epoch 16 | step 500/2080 | loss 7.8258 | lr 0.000 | ngrams/sec 58634.3 | eta 0h0m26s\n",
            "| epoch 16 | step 1000/2080 | loss 7.8339 | lr 0.000 | ngrams/sec 74490.8 | eta 0h0m14s\n",
            "| epoch 16 | step 1500/2080 | loss 7.8432 | lr 0.000 | ngrams/sec 74422.5 | eta 0h0m7s\n",
            "| epoch 16 | step 2000/2080 | loss 7.8420 | lr 0.000 | ngrams/sec 74589.1 | eta 0h0m1s\n"
          ],
          "name": "stdout"
        },
        {
          "output_type": "stream",
          "text": [
            " 63%|██████▎   | 131/209 [00:00<00:00, 1278.51it/s]"
          ],
          "name": "stderr"
        },
        {
          "output_type": "stream",
          "text": [
            "Evaluating on validation set...\n"
          ],
          "name": "stdout"
        },
        {
          "output_type": "stream",
          "text": [
            "100%|██████████| 209/209 [00:00<00:00, 553.58it/s]\n"
          ],
          "name": "stderr"
        },
        {
          "output_type": "stream",
          "text": [
            "-----------------------------------------------------------------------------------------\n",
            "| end of epoch  16 | time 28.30s | valid loss  6.89 | valid ppl   986.96\n",
            "-----------------------------------------------------------------------------------------\n",
            "| epoch 17 | step 500/2080 | loss 7.8254 | lr 0.000 | ngrams/sec 58641.3 | eta 0h0m26s\n",
            "| epoch 17 | step 1000/2080 | loss 7.8262 | lr 0.000 | ngrams/sec 74394.6 | eta 0h0m14s\n",
            "| epoch 17 | step 1500/2080 | loss 7.8261 | lr 0.000 | ngrams/sec 74572.9 | eta 0h0m7s\n",
            "| epoch 17 | step 2000/2080 | loss 7.8302 | lr 0.000 | ngrams/sec 74329.3 | eta 0h0m1s\n"
          ],
          "name": "stdout"
        },
        {
          "output_type": "stream",
          "text": [
            " 62%|██████▏   | 130/209 [00:00<00:00, 1290.98it/s]"
          ],
          "name": "stderr"
        },
        {
          "output_type": "stream",
          "text": [
            "Evaluating on validation set...\n"
          ],
          "name": "stdout"
        },
        {
          "output_type": "stream",
          "text": [
            "100%|██████████| 209/209 [00:00<00:00, 551.39it/s]\n"
          ],
          "name": "stderr"
        },
        {
          "output_type": "stream",
          "text": [
            "-----------------------------------------------------------------------------------------\n",
            "| end of epoch  17 | time 28.32s | valid loss  6.89 | valid ppl   981.76\n",
            "-----------------------------------------------------------------------------------------\n",
            "| epoch 18 | step 500/2080 | loss 7.8030 | lr 0.000 | ngrams/sec 58601.9 | eta 0h0m26s\n",
            "| epoch 18 | step 1000/2080 | loss 7.8108 | lr 0.000 | ngrams/sec 74474.6 | eta 0h0m14s\n",
            "| epoch 18 | step 1500/2080 | loss 7.8220 | lr 0.000 | ngrams/sec 74453.1 | eta 0h0m7s\n",
            "| epoch 18 | step 2000/2080 | loss 7.8168 | lr 0.000 | ngrams/sec 74425.9 | eta 0h0m1s\n"
          ],
          "name": "stdout"
        },
        {
          "output_type": "stream",
          "text": [
            " 62%|██████▏   | 130/209 [00:00<00:00, 1299.89it/s]"
          ],
          "name": "stderr"
        },
        {
          "output_type": "stream",
          "text": [
            "Evaluating on validation set...\n"
          ],
          "name": "stdout"
        },
        {
          "output_type": "stream",
          "text": [
            "100%|██████████| 209/209 [00:00<00:00, 551.94it/s]\n"
          ],
          "name": "stderr"
        },
        {
          "output_type": "stream",
          "text": [
            "-----------------------------------------------------------------------------------------\n",
            "| end of epoch  18 | time 28.32s | valid loss  6.88 | valid ppl   970.86\n",
            "-----------------------------------------------------------------------------------------\n",
            "| epoch 19 | step 500/2080 | loss 7.7932 | lr 0.000 | ngrams/sec 58597.6 | eta 0h0m26s\n",
            "| epoch 19 | step 1000/2080 | loss 7.7998 | lr 0.000 | ngrams/sec 74372.8 | eta 0h0m14s\n",
            "| epoch 19 | step 1500/2080 | loss 7.8108 | lr 0.000 | ngrams/sec 74439.3 | eta 0h0m7s\n",
            "| epoch 19 | step 2000/2080 | loss 7.8144 | lr 0.000 | ngrams/sec 74390.8 | eta 0h0m1s\n"
          ],
          "name": "stdout"
        },
        {
          "output_type": "stream",
          "text": [
            " 63%|██████▎   | 131/209 [00:00<00:00, 1279.07it/s]"
          ],
          "name": "stderr"
        },
        {
          "output_type": "stream",
          "text": [
            "Evaluating on validation set...\n"
          ],
          "name": "stdout"
        },
        {
          "output_type": "stream",
          "text": [
            "100%|██████████| 209/209 [00:00<00:00, 554.07it/s]\n"
          ],
          "name": "stderr"
        },
        {
          "output_type": "stream",
          "text": [
            "-----------------------------------------------------------------------------------------\n",
            "| end of epoch  19 | time 28.33s | valid loss  6.81 | valid ppl   907.75\n",
            "-----------------------------------------------------------------------------------------\n",
            "| epoch 20 | step 500/2080 | loss 7.7825 | lr 0.000 | ngrams/sec 57713.2 | eta 0h0m27s\n",
            "| epoch 20 | step 1000/2080 | loss 7.7851 | lr 0.000 | ngrams/sec 74506.4 | eta 0h0m14s\n",
            "| epoch 20 | step 1500/2080 | loss 7.8139 | lr 0.000 | ngrams/sec 74435.5 | eta 0h0m7s\n",
            "| epoch 20 | step 2000/2080 | loss 7.8182 | lr 0.000 | ngrams/sec 74480.4 | eta 0h0m1s\n"
          ],
          "name": "stdout"
        },
        {
          "output_type": "stream",
          "text": [
            " 62%|██████▏   | 130/209 [00:00<00:00, 1289.72it/s]"
          ],
          "name": "stderr"
        },
        {
          "output_type": "stream",
          "text": [
            "Evaluating on validation set...\n"
          ],
          "name": "stdout"
        },
        {
          "output_type": "stream",
          "text": [
            "100%|██████████| 209/209 [00:00<00:00, 551.33it/s]\n"
          ],
          "name": "stderr"
        },
        {
          "output_type": "stream",
          "text": [
            "-----------------------------------------------------------------------------------------\n",
            "| end of epoch  20 | time 28.32s | valid loss  6.75 | valid ppl   855.27\n",
            "-----------------------------------------------------------------------------------------\n",
            "| epoch 21 | step 500/2080 | loss 7.7828 | lr 0.000 | ngrams/sec 57617.5 | eta 0h0m27s\n",
            "| epoch 21 | step 1000/2080 | loss 7.7923 | lr 0.000 | ngrams/sec 74572.6 | eta 0h0m14s\n",
            "| epoch 21 | step 1500/2080 | loss 7.8007 | lr 0.000 | ngrams/sec 74325.4 | eta 0h0m7s\n",
            "| epoch 21 | step 2000/2080 | loss 7.8016 | lr 0.000 | ngrams/sec 74627.0 | eta 0h0m1s\n"
          ],
          "name": "stdout"
        },
        {
          "output_type": "stream",
          "text": [
            " 63%|██████▎   | 131/209 [00:00<00:00, 1271.82it/s]"
          ],
          "name": "stderr"
        },
        {
          "output_type": "stream",
          "text": [
            "Evaluating on validation set...\n"
          ],
          "name": "stdout"
        },
        {
          "output_type": "stream",
          "text": [
            "100%|██████████| 209/209 [00:00<00:00, 552.96it/s]\n"
          ],
          "name": "stderr"
        },
        {
          "output_type": "stream",
          "text": [
            "-----------------------------------------------------------------------------------------\n",
            "| end of epoch  21 | time 28.33s | valid loss  6.71 | valid ppl   821.80\n",
            "-----------------------------------------------------------------------------------------\n",
            "| epoch 22 | step 500/2080 | loss 7.7769 | lr 0.000 | ngrams/sec 57683.7 | eta 0h0m27s\n",
            "| epoch 22 | step 1000/2080 | loss 7.7876 | lr 0.000 | ngrams/sec 74285.7 | eta 0h0m14s\n",
            "| epoch 22 | step 1500/2080 | loss 7.7850 | lr 0.000 | ngrams/sec 74256.5 | eta 0h0m7s\n",
            "| epoch 22 | step 2000/2080 | loss 7.7798 | lr 0.000 | ngrams/sec 74407.8 | eta 0h0m1s\n"
          ],
          "name": "stdout"
        },
        {
          "output_type": "stream",
          "text": [
            " 62%|██████▏   | 130/209 [00:00<00:00, 1272.10it/s]"
          ],
          "name": "stderr"
        },
        {
          "output_type": "stream",
          "text": [
            "Evaluating on validation set...\n"
          ],
          "name": "stdout"
        },
        {
          "output_type": "stream",
          "text": [
            "100%|██████████| 209/209 [00:00<00:00, 549.07it/s]\n"
          ],
          "name": "stderr"
        },
        {
          "output_type": "stream",
          "text": [
            "-----------------------------------------------------------------------------------------\n",
            "| end of epoch  22 | time 28.37s | valid loss  6.84 | valid ppl   933.23\n",
            "-----------------------------------------------------------------------------------------\n",
            "| epoch 23 | step 500/2080 | loss 7.7520 | lr 0.000 | ngrams/sec 58376.9 | eta 0h0m27s\n",
            "| epoch 23 | step 1000/2080 | loss 7.7509 | lr 0.000 | ngrams/sec 74447.4 | eta 0h0m14s\n",
            "| epoch 23 | step 1500/2080 | loss 7.7491 | lr 0.000 | ngrams/sec 74490.4 | eta 0h0m7s\n",
            "| epoch 23 | step 2000/2080 | loss 7.7653 | lr 0.000 | ngrams/sec 74471.3 | eta 0h0m1s\n"
          ],
          "name": "stdout"
        },
        {
          "output_type": "stream",
          "text": [
            " 63%|██████▎   | 131/209 [00:00<00:00, 1277.03it/s]"
          ],
          "name": "stderr"
        },
        {
          "output_type": "stream",
          "text": [
            "Evaluating on validation set...\n"
          ],
          "name": "stdout"
        },
        {
          "output_type": "stream",
          "text": [
            "100%|██████████| 209/209 [00:00<00:00, 553.75it/s]\n"
          ],
          "name": "stderr"
        },
        {
          "output_type": "stream",
          "text": [
            "-----------------------------------------------------------------------------------------\n",
            "| end of epoch  23 | time 28.33s | valid loss  6.84 | valid ppl   929.92\n",
            "-----------------------------------------------------------------------------------------\n",
            "| epoch 24 | step 500/2080 | loss 7.7286 | lr 0.000 | ngrams/sec 58624.6 | eta 0h0m26s\n",
            "| epoch 24 | step 1000/2080 | loss 7.7396 | lr 0.000 | ngrams/sec 74614.4 | eta 0h0m14s\n",
            "| epoch 24 | step 1500/2080 | loss 7.7500 | lr 0.000 | ngrams/sec 74481.5 | eta 0h0m7s\n",
            "| epoch 24 | step 2000/2080 | loss 7.7510 | lr 0.000 | ngrams/sec 74474.4 | eta 0h0m1s\n"
          ],
          "name": "stdout"
        },
        {
          "output_type": "stream",
          "text": [
            " 63%|██████▎   | 131/209 [00:00<00:00, 1270.50it/s]"
          ],
          "name": "stderr"
        },
        {
          "output_type": "stream",
          "text": [
            "Evaluating on validation set...\n"
          ],
          "name": "stdout"
        },
        {
          "output_type": "stream",
          "text": [
            "100%|██████████| 209/209 [00:00<00:00, 553.26it/s]\n"
          ],
          "name": "stderr"
        },
        {
          "output_type": "stream",
          "text": [
            "-----------------------------------------------------------------------------------------\n",
            "| end of epoch  24 | time 28.30s | valid loss  6.84 | valid ppl   933.97\n",
            "-----------------------------------------------------------------------------------------\n",
            "| epoch 25 | step 500/2080 | loss 7.7191 | lr 0.000 | ngrams/sec 58530.0 | eta 0h0m26s\n",
            "| epoch 25 | step 1000/2080 | loss 7.7186 | lr 0.000 | ngrams/sec 74519.4 | eta 0h0m14s\n",
            "| epoch 25 | step 1500/2080 | loss 7.7289 | lr 0.000 | ngrams/sec 74539.0 | eta 0h0m7s\n",
            "| epoch 25 | step 2000/2080 | loss 7.7491 | lr 0.000 | ngrams/sec 74398.6 | eta 0h0m1s\n"
          ],
          "name": "stdout"
        },
        {
          "output_type": "stream",
          "text": [
            " 63%|██████▎   | 131/209 [00:00<00:00, 1276.89it/s]"
          ],
          "name": "stderr"
        },
        {
          "output_type": "stream",
          "text": [
            "Evaluating on validation set...\n"
          ],
          "name": "stdout"
        },
        {
          "output_type": "stream",
          "text": [
            "100%|██████████| 209/209 [00:00<00:00, 553.96it/s]\n"
          ],
          "name": "stderr"
        },
        {
          "output_type": "stream",
          "text": [
            "-----------------------------------------------------------------------------------------\n",
            "| end of epoch  25 | time 28.33s | valid loss  6.89 | valid ppl   980.10\n",
            "-----------------------------------------------------------------------------------------\n",
            "| epoch 26 | step 500/2080 | loss 7.7156 | lr 0.000 | ngrams/sec 58587.3 | eta 0h0m26s\n",
            "| epoch 26 | step 1000/2080 | loss 7.7251 | lr 0.000 | ngrams/sec 74322.4 | eta 0h0m14s\n",
            "| epoch 26 | step 1500/2080 | loss 7.7170 | lr 0.000 | ngrams/sec 74318.4 | eta 0h0m7s\n",
            "| epoch 26 | step 2000/2080 | loss 7.7317 | lr 0.000 | ngrams/sec 74438.6 | eta 0h0m1s\n"
          ],
          "name": "stdout"
        },
        {
          "output_type": "stream",
          "text": [
            " 63%|██████▎   | 131/209 [00:00<00:00, 1275.90it/s]"
          ],
          "name": "stderr"
        },
        {
          "output_type": "stream",
          "text": [
            "Evaluating on validation set...\n"
          ],
          "name": "stdout"
        },
        {
          "output_type": "stream",
          "text": [
            "100%|██████████| 209/209 [00:00<00:00, 553.35it/s]\n"
          ],
          "name": "stderr"
        },
        {
          "output_type": "stream",
          "text": [
            "-----------------------------------------------------------------------------------------\n",
            "| end of epoch  26 | time 28.35s | valid loss  6.87 | valid ppl   960.28\n",
            "-----------------------------------------------------------------------------------------\n",
            "| epoch 27 | step 500/2080 | loss 7.7111 | lr 0.000 | ngrams/sec 58631.4 | eta 0h0m26s\n",
            "| epoch 27 | step 1000/2080 | loss 7.7055 | lr 0.000 | ngrams/sec 74541.5 | eta 0h0m14s\n",
            "| epoch 27 | step 1500/2080 | loss 7.7180 | lr 0.000 | ngrams/sec 74445.6 | eta 0h0m7s\n",
            "| epoch 27 | step 2000/2080 | loss 7.7168 | lr 0.000 | ngrams/sec 74352.0 | eta 0h0m1s\n"
          ],
          "name": "stdout"
        },
        {
          "output_type": "stream",
          "text": [
            " 62%|██████▏   | 130/209 [00:00<00:00, 1282.25it/s]"
          ],
          "name": "stderr"
        },
        {
          "output_type": "stream",
          "text": [
            "Evaluating on validation set...\n"
          ],
          "name": "stdout"
        },
        {
          "output_type": "stream",
          "text": [
            "100%|██████████| 209/209 [00:00<00:00, 550.47it/s]\n"
          ],
          "name": "stderr"
        },
        {
          "output_type": "stream",
          "text": [
            "-----------------------------------------------------------------------------------------\n",
            "| end of epoch  27 | time 28.32s | valid loss  6.83 | valid ppl   928.08\n",
            "-----------------------------------------------------------------------------------------\n",
            "| epoch 28 | step 500/2080 | loss 7.6919 | lr 0.000 | ngrams/sec 58586.9 | eta 0h0m26s\n",
            "| epoch 28 | step 1000/2080 | loss 7.7026 | lr 0.000 | ngrams/sec 74438.2 | eta 0h0m14s\n",
            "| epoch 28 | step 1500/2080 | loss 7.7073 | lr 0.000 | ngrams/sec 74306.4 | eta 0h0m7s\n",
            "| epoch 28 | step 2000/2080 | loss 7.7240 | lr 0.000 | ngrams/sec 74374.3 | eta 0h0m1s\n"
          ],
          "name": "stdout"
        },
        {
          "output_type": "stream",
          "text": [
            " 63%|██████▎   | 131/209 [00:00<00:00, 1277.80it/s]"
          ],
          "name": "stderr"
        },
        {
          "output_type": "stream",
          "text": [
            "Evaluating on validation set...\n"
          ],
          "name": "stdout"
        },
        {
          "output_type": "stream",
          "text": [
            "100%|██████████| 209/209 [00:00<00:00, 553.79it/s]\n"
          ],
          "name": "stderr"
        },
        {
          "output_type": "stream",
          "text": [
            "-----------------------------------------------------------------------------------------\n",
            "| end of epoch  28 | time 28.34s | valid loss  6.80 | valid ppl   898.78\n",
            "-----------------------------------------------------------------------------------------\n",
            "| epoch 29 | step 500/2080 | loss 7.7021 | lr 0.000 | ngrams/sec 58635.6 | eta 0h0m26s\n",
            "| epoch 29 | step 1000/2080 | loss 7.6901 | lr 0.000 | ngrams/sec 74571.4 | eta 0h0m14s\n",
            "| epoch 29 | step 1500/2080 | loss 7.7067 | lr 0.000 | ngrams/sec 74374.2 | eta 0h0m7s\n",
            "| epoch 29 | step 2000/2080 | loss 7.7137 | lr 0.000 | ngrams/sec 74513.7 | eta 0h0m1s\n"
          ],
          "name": "stdout"
        },
        {
          "output_type": "stream",
          "text": [
            " 62%|██████▏   | 130/209 [00:00<00:00, 1269.74it/s]"
          ],
          "name": "stderr"
        },
        {
          "output_type": "stream",
          "text": [
            "Evaluating on validation set...\n"
          ],
          "name": "stdout"
        },
        {
          "output_type": "stream",
          "text": [
            "100%|██████████| 209/209 [00:00<00:00, 548.39it/s]\n"
          ],
          "name": "stderr"
        },
        {
          "output_type": "stream",
          "text": [
            "-----------------------------------------------------------------------------------------\n",
            "| end of epoch  29 | time 28.31s | valid loss  6.74 | valid ppl   848.41\n",
            "-----------------------------------------------------------------------------------------\n",
            "| epoch 30 | step 500/2080 | loss 7.6920 | lr 0.000 | ngrams/sec 58581.8 | eta 0h0m26s\n",
            "| epoch 30 | step 1000/2080 | loss 7.6942 | lr 0.000 | ngrams/sec 74451.5 | eta 0h0m14s\n",
            "| epoch 30 | step 1500/2080 | loss 7.6909 | lr 0.000 | ngrams/sec 74495.8 | eta 0h0m7s\n",
            "| epoch 30 | step 2000/2080 | loss 7.7143 | lr 0.000 | ngrams/sec 74486.9 | eta 0h0m1s\n"
          ],
          "name": "stdout"
        },
        {
          "output_type": "stream",
          "text": [
            " 63%|██████▎   | 131/209 [00:00<00:00, 1271.62it/s]"
          ],
          "name": "stderr"
        },
        {
          "output_type": "stream",
          "text": [
            "Evaluating on validation set...\n"
          ],
          "name": "stdout"
        },
        {
          "output_type": "stream",
          "text": [
            "100%|██████████| 209/209 [00:00<00:00, 552.87it/s]\n"
          ],
          "name": "stderr"
        },
        {
          "output_type": "stream",
          "text": [
            "-----------------------------------------------------------------------------------------\n",
            "| end of epoch  30 | time 28.32s | valid loss  6.72 | valid ppl   831.57\n",
            "-----------------------------------------------------------------------------------------\n",
            "| epoch 31 | step 500/2080 | loss 7.6841 | lr 0.000 | ngrams/sec 58624.5 | eta 0h0m26s\n",
            "| epoch 31 | step 1000/2080 | loss 7.7016 | lr 0.000 | ngrams/sec 74429.3 | eta 0h0m14s\n",
            "| epoch 31 | step 1500/2080 | loss 7.6931 | lr 0.000 | ngrams/sec 74475.3 | eta 0h0m7s\n",
            "| epoch 31 | step 2000/2080 | loss 7.6897 | lr 0.000 | ngrams/sec 74500.7 | eta 0h0m1s\n"
          ],
          "name": "stdout"
        },
        {
          "output_type": "stream",
          "text": [
            " 62%|██████▏   | 130/209 [00:00<00:00, 1280.43it/s]"
          ],
          "name": "stderr"
        },
        {
          "output_type": "stream",
          "text": [
            "Evaluating on validation set...\n"
          ],
          "name": "stdout"
        },
        {
          "output_type": "stream",
          "text": [
            "100%|██████████| 209/209 [00:00<00:00, 550.45it/s]\n"
          ],
          "name": "stderr"
        },
        {
          "output_type": "stream",
          "text": [
            "-----------------------------------------------------------------------------------------\n"
          ],
          "name": "stdout"
        },
        {
          "output_type": "stream",
          "text": [
            " 55%|█████▌    | 131/237 [00:00<00:00, 1268.19it/s]"
          ],
          "name": "stderr"
        },
        {
          "output_type": "stream",
          "text": [
            "| end of epoch  31 | time 28.32s | valid loss  6.78 | valid ppl   881.33\n",
            "-----------------------------------------------------------------------------------------\n",
            "Early stopping\n",
            "Evaluating on test set...\n"
          ],
          "name": "stdout"
        },
        {
          "output_type": "stream",
          "text": [
            "100%|██████████| 237/237 [00:00<00:00, 496.71it/s]\n"
          ],
          "name": "stderr"
        },
        {
          "output_type": "stream",
          "text": [
            "=========================================================================================\n",
            "| End of training | test loss  6.74 | test ppl   844.14\n",
            "=========================================================================================\n"
          ],
          "name": "stdout"
        }
      ]
    },
    {
      "cell_type": "code",
      "metadata": {
        "colab": {
          "base_uri": "https://localhost:8080/",
          "height": 34
        },
        "id": "jUqz8keSi6Mi",
        "outputId": "c282470c-c19f-46e7-9ef0-e6a10fb04964"
      },
      "source": [
        "from google.colab import files\n",
        "\n",
        "\n",
        "files.download('checkpoint.pth')"
      ],
      "execution_count": 156,
      "outputs": [
        {
          "output_type": "display_data",
          "data": {
            "application/javascript": [
              "\n",
              "    async function download(id, filename, size) {\n",
              "      if (!google.colab.kernel.accessAllowed) {\n",
              "        return;\n",
              "      }\n",
              "      const div = document.createElement('div');\n",
              "      const label = document.createElement('label');\n",
              "      label.textContent = `Downloading \"${filename}\": `;\n",
              "      div.appendChild(label);\n",
              "      const progress = document.createElement('progress');\n",
              "      progress.max = size;\n",
              "      div.appendChild(progress);\n",
              "      document.body.appendChild(div);\n",
              "\n",
              "      const buffers = [];\n",
              "      let downloaded = 0;\n",
              "\n",
              "      const channel = await google.colab.kernel.comms.open(id);\n",
              "      // Send a message to notify the kernel that we're ready.\n",
              "      channel.send({})\n",
              "\n",
              "      for await (const message of channel.messages) {\n",
              "        // Send a message to notify the kernel that we're ready.\n",
              "        channel.send({})\n",
              "        if (message.buffers) {\n",
              "          for (const buffer of message.buffers) {\n",
              "            buffers.push(buffer);\n",
              "            downloaded += buffer.byteLength;\n",
              "            progress.value = downloaded;\n",
              "          }\n",
              "        }\n",
              "      }\n",
              "      const blob = new Blob(buffers, {type: 'application/binary'});\n",
              "      const a = document.createElement('a');\n",
              "      a.href = window.URL.createObjectURL(blob);\n",
              "      a.download = filename;\n",
              "      div.appendChild(a);\n",
              "      a.click();\n",
              "      div.remove();\n",
              "    }\n",
              "  "
            ],
            "text/plain": [
              "<IPython.core.display.Javascript object>"
            ]
          },
          "metadata": {
            "tags": []
          }
        },
        {
          "output_type": "display_data",
          "data": {
            "application/javascript": [
              "download(\"download_0c1bde98-4901-46b2-a15c-f0924693b9e6\", \"checkpoint.pth\", 47497735)"
            ],
            "text/plain": [
              "<IPython.core.display.Javascript object>"
            ]
          },
          "metadata": {
            "tags": []
          }
        }
      ]
    },
    {
      "cell_type": "code",
      "metadata": {
        "id": "cHyHbV9om6cc",
        "outputId": "12c44a31-bb6a-4256-d76a-1d9304b58a92",
        "colab": {
          "base_uri": "https://localhost:8080/"
        }
      },
      "source": [
        "!cp \"checkpoint.pth\" \"gdrive/MyDrive/checkpoint.pth\"\n"
      ],
      "execution_count": 160,
      "outputs": [
        {
          "output_type": "stream",
          "text": [
            "cp: cannot create regular file 'gdrive/MyDrive/nlpModels/checkpoint.pth': No such file or directory\n"
          ],
          "name": "stdout"
        }
      ]
    },
    {
      "cell_type": "code",
      "metadata": {
        "id": "jbeYK7MGwQbE"
      },
      "source": [
        ""
      ],
      "execution_count": 156,
      "outputs": []
    }
  ]
}