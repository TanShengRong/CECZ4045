{
  "nbformat": 4,
  "nbformat_minor": 0,
  "metadata": {
    "colab": {
      "name": "ass2_q1_iv_batch128.ipynb",
      "provenance": [],
      "collapsed_sections": []
    },
    "kernelspec": {
      "display_name": "Python 3",
      "name": "python3"
    },
    "accelerator": "GPU"
  },
  "cells": [
    {
      "cell_type": "code",
      "metadata": {
        "colab": {
          "base_uri": "https://localhost:8080/"
        },
        "id": "p6_Z6Mrst7xY",
        "outputId": "7926c1d6-4751-455d-8f30-39ca1963da69"
      },
      "source": [
        "from google.colab import drive\n",
        "drive.mount('/content/gdrive')"
      ],
      "execution_count": 1,
      "outputs": [
        {
          "output_type": "stream",
          "text": [
            "Mounted at /content/gdrive\n"
          ],
          "name": "stdout"
        }
      ]
    },
    {
      "cell_type": "code",
      "metadata": {
        "colab": {
          "base_uri": "https://localhost:8080/"
        },
        "id": "srWCp3saWnHs",
        "outputId": "230d16bb-5af0-4b3f-b969-ea169188f735"
      },
      "source": [
        "!ls \"gdrive/MyDrive/wikitext-2\" # check that it has successfully connected\n",
        "# files should be at ur GDrive inside folder wikitext-2\n",
        "!cp \"gdrive/MyDrive/wikitext-2/wiki.test.tokens.txt\" \"test.txt\" # copy the files to colab runtime\n",
        "!cp \"gdrive/MyDrive/wikitext-2/wiki.train.tokens.txt\" \"train.txt\"\n",
        "!cp \"gdrive/MyDrive/wikitext-2/wiki.valid.tokens.txt\" \"valid.txt\""
      ],
      "execution_count": 2,
      "outputs": [
        {
          "output_type": "stream",
          "text": [
            "wiki.test.tokens.txt  wiki.train.tokens.txt  wiki.valid.tokens.txt\n"
          ],
          "name": "stdout"
        }
      ]
    },
    {
      "cell_type": "markdown",
      "metadata": {
        "id": "yDH_IyLyasQC"
      },
      "source": [
        "# Preprocessing"
      ]
    },
    {
      "cell_type": "code",
      "metadata": {
        "id": "6JSW06aZavxI"
      },
      "source": [
        "import os\n",
        "from io import open\n",
        "import torch\n",
        "\n",
        "class Dictionary(object):\n",
        "    def __init__(self):\n",
        "        self.word2idx = {}\n",
        "        self.idx2word = []\n",
        "\n",
        "    def add_word(self, word):\n",
        "        if word not in self.word2idx:\n",
        "            self.idx2word.append(word)\n",
        "            self.word2idx[word] = len(self.idx2word) - 1\n",
        "        return self.word2idx[word]\n",
        "\n",
        "    def __len__(self):\n",
        "        return len(self.idx2word)\n",
        "\n",
        "\n",
        "class Corpus(object):\n",
        "    def __init__(self, path):\n",
        "        self.dictionary = Dictionary()\n",
        "        self.train = self.tokenize(os.path.join(path, 'train.txt'))\n",
        "        self.valid = self.tokenize(os.path.join(path, 'valid.txt'))\n",
        "        self.test = self.tokenize(os.path.join(path, 'test.txt'))\n",
        "\n",
        "    def tokenize(self, path):\n",
        "        \"\"\"Tokenizes a text file.\"\"\"\n",
        "        assert os.path.exists(path)\n",
        "        # Add words to the dictionary\n",
        "        with open(path, 'r', encoding=\"utf8\") as f:\n",
        "            for line in f:\n",
        "                # remove the headers e.g.  = = Description = = \n",
        "                if line.startswith('='): \n",
        "                    continue\n",
        "                words = line.split() + ['<eos>']\n",
        "                for word in words:\n",
        "                    self.dictionary.add_word(word.lower()) # make to lower\n",
        "\n",
        "        # Tokenize file content\n",
        "        with open(path, 'r', encoding=\"utf8\") as f:\n",
        "            idss = []\n",
        "            for line in f:\n",
        "                words = line.split() + ['<eos>']\n",
        "                ids = []\n",
        "                for word in words:\n",
        "                    ids.append(self.dictionary.word2idx[word.lower()]) # make to lower\n",
        "                idss.append(torch.tensor(ids).type(torch.int64))\n",
        "            ids = torch.cat(idss)\n",
        "\n",
        "        return ids\n",
        "    \n",
        "    @property\n",
        "    def vocab_size(self):\n",
        "        return len(self.dictionary.idx2word)"
      ],
      "execution_count": 3,
      "outputs": []
    },
    {
      "cell_type": "markdown",
      "metadata": {
        "id": "5BY-5KRizwDS"
      },
      "source": [
        "# Params"
      ]
    },
    {
      "cell_type": "code",
      "metadata": {
        "id": "BujxiynKzz7V"
      },
      "source": [
        "#=== params\n",
        "corpus = Corpus('/content')\n",
        "n_class = corpus.vocab_size\n",
        "n_step = 7 # n-1 in paper\n",
        "n_hidden = 200 # h in paper\n",
        "embed_size = 200       # m in paper\n",
        "batch_size = 128\n",
        "order = n_step # order (int): the order of the language model, i.e. length of the history\n",
        "epochs = 100\n",
        "learning_rate = 0.001\n",
        "cuda = torch.cuda.is_available()\n",
        "seed = 42\n",
        "clip = 2.0\n",
        "#==="
      ],
      "execution_count": 4,
      "outputs": []
    },
    {
      "cell_type": "markdown",
      "metadata": {
        "id": "xCn0n7sLb7uU"
      },
      "source": [
        "# Model"
      ]
    },
    {
      "cell_type": "code",
      "metadata": {
        "id": "jf6-SXVscAqs"
      },
      "source": [
        "#== MODEL ==#\n",
        "import math\n",
        "import torch\n",
        "import torch.nn as nn\n",
        "import torch.nn.functional as F\n",
        "\n",
        "'''\n",
        "    the neural model learns the distributed representation of each word \n",
        "    (embedding matrix C) and \n",
        "    the probability function of a word sequence as a function of their distributed representations. \n",
        "    It has a hidden layer with \n",
        "    tanh activation and the output layer is a \n",
        "    Softmax layer. \n",
        "    The output of the model for each \n",
        "    input of (n - 1) previous words are the \n",
        "    probabilities over the |V | words in the vocabulary for the next word.\n",
        "'''\n",
        "class FNNModel(nn.Module):\n",
        "    def __init__(self, vocab_size, embed_size, context_size, no_hidden, dropout=0.5, tie_weight=True):\n",
        "        super(FNNModel,self).__init__()\n",
        "        \"\"\"\n",
        "        Args:\n",
        "            n_class (int): no. of vocabulary\n",
        "            m (int): size of each embedding vector\n",
        "#n-gram models construct tables of conditional probabilities for the next word, \n",
        "#for each one of a large number of contexts, i.e. combinations of the last n − 1 words\n",
        "            n_step (int): n-1 in paper. #n_step + 1 = n-gram. if n_step = 1, bigram\n",
        "            n_hidden (int): no. of hidden units associated with each word\n",
        "        \"\"\"\n",
        "        \"\"\"\n",
        "        Vars:\n",
        "            C: encoder (|V| x m)\n",
        "            H: hiden layer weight (n x (n-1)m)\n",
        "            W: word feature to output weights (|V| x (n-1)m)\n",
        "            d: hidden layer bias (has h no. of elements)\n",
        "            U: hidden-to-output weights (|V| × h matrix)\n",
        "            b: output bias (has |V| no. of elements)\n",
        "        \"\"\"\n",
        "        self.embeddings = nn.Embedding(vocab_size, embed_size)\n",
        "        self.linear1 = nn.Linear(context_size * embed_size, no_hidden)\n",
        "        self.linear2 = nn.Linear(no_hidden, vocab_size)\n",
        "        self.context_size = context_size\n",
        "        self.embed_size = embed_size\n",
        "        self.dropout = nn.Dropout(p=dropout)\n",
        "        if tie_weight:\n",
        "            self.linear2.weight = self.embeddings.weight\n",
        "\n",
        "    def forward(self,inputs):\n",
        "        embeds = self.embeddings(inputs).view((-1, self.context_size * self.embed_size))\n",
        "        hidden_output = self.linear1(embeds)\n",
        "        # hidden_output = self.dropout(hidden_output)\n",
        "        out = hidden_output.tanh()\n",
        "        # out = self.dropout(out)\n",
        "        out = self.linear2(out)\n",
        "        out = self.dropout(out)\n",
        "        log_probs = F.log_softmax(out, dim=1) # [1000, 28912]: softmax on 28912's dim\n",
        "        return log_probs"
      ],
      "execution_count": 5,
      "outputs": []
    },
    {
      "cell_type": "markdown",
      "metadata": {
        "id": "qZez81nOa5Iv"
      },
      "source": [
        "# Data Loading"
      ]
    },
    {
      "cell_type": "code",
      "metadata": {
        "id": "xXNNicaihZe5"
      },
      "source": [
        "def batchify(data, batch_size):\n",
        "    # Work out how cleanly we can divide the dataset into args.batch_size parts.\n",
        "    nbatch = data.size(0) // batch_size\n",
        "    # Trim off any extra elements that wouldn't cleanly fit (remainders).\n",
        "    data = data.narrow(0, 0, nbatch * batch_size)\n",
        "    # Evenly divide the data across the batch_size batches.\n",
        "    data = data.view(batch_size, -1).t().contiguous()\n",
        "    return data\n",
        "def get_batch(data, i, order):\n",
        "    x = torch.autograd.Variable(torch.t(data[i:i+order]))\n",
        "    y = torch.autograd.Variable(data[i+order].view(-1))\n",
        "    return x, y\n",
        "def evaluate(data, model, criterion):\n",
        "\tmodel.eval()\n",
        "\ttotal_loss = 0\n",
        "\tn_steps = data.size(0) - order - 1\n",
        "\tfor i in tqdm(range(n_steps)):\n",
        "\t\tx, y = get_batch(data, i, order)\n",
        "\t\tout = model(x)\n",
        "\t\tloss = criterion(out, y)\n",
        "\t\ttotal_loss += loss.data.data\n",
        "\treturn total_loss / n_steps"
      ],
      "execution_count": 6,
      "outputs": []
    },
    {
      "cell_type": "code",
      "metadata": {
        "id": "zavgNg0tklRG"
      },
      "source": [
        "def clock_time(s):\n",
        "    h, s = divmod(s, 3600)\n",
        "    m, s = divmod(s, 60)\n",
        "    return int(h), int(m), int(s)"
      ],
      "execution_count": 7,
      "outputs": []
    },
    {
      "cell_type": "code",
      "metadata": {
        "colab": {
          "base_uri": "https://localhost:8080/"
        },
        "id": "ztusWxUma4mg",
        "outputId": "93ed373c-c5dc-4175-abaf-eee0729b41da"
      },
      "source": [
        "import numpy as np\n",
        "import torch.optim as optim\n",
        "from tqdm import tqdm\n",
        "import time\n",
        "\n",
        "\n",
        "train_data = batchify(corpus.train, batch_size)\n",
        "val_data = batchify(corpus.valid, batch_size)\n",
        "test_data = batchify(corpus.test, batch_size)\n",
        "if cuda:\n",
        "\ttrain_data, val_data, test_data = train_data.cuda(), val_data.cuda(), test_data.cuda()\n",
        "print('Using cuda: {}'.format(cuda))\n",
        "print('Size of training set: {:,} tokens'.format(np.prod(train_data.size())))\n",
        "print('Size of validation set: {:,} tokens'.format(np.prod(val_data.size())))\n",
        "print('Size of test set: {:,} tokens'.format(np.prod(test_data.size())))\n",
        "print('Vocabulary size: {:,}'.format(corpus.vocab_size))\n",
        "print('Example data:')\n",
        "for k in range(100, 107):\n",
        "    x = [corpus.dictionary.idx2word[i] for i in train_data[k:order+k, 0]]\n",
        "    y = [corpus.dictionary.idx2word[train_data[k+order, 0]]]\n",
        "    print(x, y)\n",
        "#=== initialise model\n",
        "model = FNNModel(\n",
        "    n_class, \n",
        "    embed_size, \n",
        "    n_step, \n",
        "    n_hidden,\n",
        "    tie_weight=False\n",
        "    )\n",
        "if cuda:\n",
        "  model.cuda()\n",
        "# Display the model's architecture\n",
        "print('Model: \\n', model)\n",
        "criterion = nn.NLLLoss()\n",
        "optimizer = optim.RMSprop(model.parameters(),lr=learning_rate)"
      ],
      "execution_count": 8,
      "outputs": [
        {
          "output_type": "stream",
          "text": [
            "Using cuda: True\n",
            "Size of training set: 2,088,576 tokens\n",
            "Size of validation set: 217,600 tokens\n",
            "Size of test set: 245,504 tokens\n",
            "Vocabulary size: 28,912\n",
            "Example data:\n",
            "['\"', 'nameless', '\"', ',', 'a', 'penal', 'military'] ['unit']\n",
            "['nameless', '\"', ',', 'a', 'penal', 'military', 'unit'] ['serving']\n",
            "['\"', ',', 'a', 'penal', 'military', 'unit', 'serving'] ['the']\n",
            "[',', 'a', 'penal', 'military', 'unit', 'serving', 'the'] ['nation']\n",
            "['a', 'penal', 'military', 'unit', 'serving', 'the', 'nation'] ['of']\n",
            "['penal', 'military', 'unit', 'serving', 'the', 'nation', 'of'] ['gallia']\n",
            "['military', 'unit', 'serving', 'the', 'nation', 'of', 'gallia'] ['during']\n",
            "Model: \n",
            " FNNModel(\n",
            "  (embeddings): Embedding(28912, 200)\n",
            "  (linear1): Linear(in_features=1400, out_features=200, bias=True)\n",
            "  (linear2): Linear(in_features=200, out_features=28912, bias=True)\n",
            "  (dropout): Dropout(p=0.5, inplace=False)\n",
            ")\n"
          ],
          "name": "stdout"
        }
      ]
    },
    {
      "cell_type": "code",
      "metadata": {
        "colab": {
          "base_uri": "https://localhost:8080/"
        },
        "id": "y4bxaGvDZwK5",
        "outputId": "34c1c20b-b1a5-42e9-a441-15276d3368be"
      },
      "source": [
        "!nvidia-smi"
      ],
      "execution_count": null,
      "outputs": [
        {
          "output_type": "stream",
          "text": [
            "Sat Nov 28 04:23:47 2020       \n",
            "+-----------------------------------------------------------------------------+\n",
            "| NVIDIA-SMI 455.38       Driver Version: 418.67       CUDA Version: 10.1     |\n",
            "|-------------------------------+----------------------+----------------------+\n",
            "| GPU  Name        Persistence-M| Bus-Id        Disp.A | Volatile Uncorr. ECC |\n",
            "| Fan  Temp  Perf  Pwr:Usage/Cap|         Memory-Usage | GPU-Util  Compute M. |\n",
            "|                               |                      |               MIG M. |\n",
            "|===============================+======================+======================|\n",
            "|   0  Tesla T4            Off  | 00000000:00:04.0 Off |                    0 |\n",
            "| N/A   64C    P0    30W /  70W |   1035MiB / 15079MiB |      3%      Default |\n",
            "|                               |                      |                 ERR! |\n",
            "+-------------------------------+----------------------+----------------------+\n",
            "                                                                               \n",
            "+-----------------------------------------------------------------------------+\n",
            "| Processes:                                                                  |\n",
            "|  GPU   GI   CI        PID   Type   Process name                  GPU Memory |\n",
            "|        ID   ID                                                   Usage      |\n",
            "|=============================================================================|\n",
            "|  No running processes found                                                 |\n",
            "+-----------------------------------------------------------------------------+\n"
          ],
          "name": "stdout"
        }
      ]
    },
    {
      "cell_type": "code",
      "metadata": {
        "id": "ArPR9kzyblhd",
        "colab": {
          "base_uri": "https://localhost:8080/"
        },
        "outputId": "1008366c-75b1-478d-98d5-715b6c7e0421"
      },
      "source": [
        "# Set seed for reproducibility.\n",
        "torch.manual_seed(seed)\n",
        "np.random.seed(seed)\n",
        "parameters = [param for param in model.parameters() if param.requires_grad]\n",
        "# Training\n",
        "print('Training...')\n",
        "losses = dict(train=[], val=[])\n",
        "\n",
        "# initialize the early_stopping counter\n",
        "stop_counter = 0\n",
        "\n",
        "lr = learning_rate # so that can alter later if SGD not descending \n",
        "best_val_loss = None\n",
        "\n",
        "num_steps = train_data.size(0) - order - 1\n",
        "batch_order = np.arange(num_steps)\n",
        "\n",
        "t0 = time.time()\n",
        "try:\n",
        "    for epoch in range(1, epochs+1):\n",
        "        model.train()\n",
        "        epoch_start_time = time.time()\n",
        "        np.random.shuffle(batch_order)\n",
        "\n",
        "        for step in range(1, num_steps+1):\n",
        "            idx = batch_order[step-1]\n",
        "            x, y = get_batch(train_data, idx, order)\n",
        "\n",
        "            model.zero_grad()\n",
        "            # Forward pass\n",
        "            logits = model(x)\n",
        "            loss = criterion(logits, y)\n",
        "            debug = False\n",
        "            #   if debug:\n",
        "            #     # Debugging softmax approximation.\n",
        "            #     xe = nn.CrossEntropyLoss()\n",
        "            #     true_loss = xe(logits, y)\n",
        "            #     print('approx {:>3.2f}, true {:>3.2f}, diff {:>3.4f}'.format(\n",
        "            #       loss.data, true_loss.data, true_loss.data - loss.data))\n",
        "\n",
        "            # Update parameters\n",
        "            loss.backward()\n",
        "\n",
        "            torch.nn.utils.clip_grad_norm_(model.parameters(), clip) # reduce exploding grad\n",
        "            optimizer.step()\n",
        "\n",
        "            # Save loss.\n",
        "            losses['train'].append(loss.cpu().data)\n",
        "            print_every = 10000\n",
        "            if step % print_every == 0:\n",
        "                avg_loss = sum(losses['train'][-print_every:]) / print_every\n",
        "                t1 = time.time()\n",
        "                steps_per_second = print_every / (t1 - t0)\n",
        "                print('| epoch {} | step {}/{} | loss {:.4f} | lr {:.5f} | '\n",
        "                    'ngrams/sec {:.1f} | eta {}h{}m{}s'.format(\n",
        "                    epoch, step, num_steps, avg_loss, lr,\n",
        "                    steps_per_second * batch_size,\n",
        "                    *clock_time((num_steps - step) / steps_per_second)))\n",
        "                t0 = time.time()\n",
        "            \n",
        "        print('Evaluating on validation set...')\n",
        "        val_loss = evaluate(val_data, model, criterion)\n",
        "        losses['val'].append(val_loss)\n",
        "        print('-' * 89)\n",
        "        print('| end of epoch {:3d} | time {:5.2f}s | valid loss {:5.2f} | valid ppl {:8.2f}'.format(\n",
        "            epoch, (time.time() - epoch_start_time), val_loss, torch.exp(val_loss)))\n",
        "        print('-' * 89)\n",
        "\n",
        "        if not best_val_loss or val_loss < best_val_loss:\n",
        "            stop_counter = 0 # reset counter\n",
        "            best_val_loss = val_loss\n",
        "            print('| saving current state of model ...')\n",
        "            torch.save(model.state_dict(), 'checkpoint.pth')\n",
        "            #=== download checkpoint file\n",
        "            # files.download('checkpoint.pth')\n",
        "        elif val_loss < best_val_loss and val_loss < losses['val'][-2] and val_loss < torch.mean(torch.stack(losses['val'])): # curr loss less than best loss and previous loss\n",
        "            stop_counter += 1\n",
        "            if stop_counter >= 10:\n",
        "                print(\"Early stopping\")\n",
        "                break\n",
        "except KeyboardInterrupt:\n",
        "    print('-' * 89)\n",
        "    print('Exiting from training early')\n",
        "    \n",
        "# write_losses(losses['train'], args.log_dir, name='train-losses')\n",
        "# write_losses(losses['val'], args.log_dir, name='val-losses')\n",
        "\n",
        "print('Evaluating on test set...')\n",
        "test_loss = evaluate(test_data, model, criterion)\n",
        "print('=' * 89)\n",
        "print('| End of training | test loss {:5.2f} | test ppl {:8.2f}'.format(\n",
        "    test_loss, torch.exp(test_loss)))\n",
        "print('=' * 89)"
      ],
      "execution_count": null,
      "outputs": [
        {
          "output_type": "stream",
          "text": [
            "Training...\n",
            "| epoch 1 | step 10000/16309 | loss 8.6321 | lr 0.00100 | ngrams/sec 18718.2 | eta 0h0m43s\n"
          ],
          "name": "stdout"
        },
        {
          "output_type": "stream",
          "text": [
            " 11%|█▏        | 192/1692 [00:00<00:00, 1908.35it/s]"
          ],
          "name": "stderr"
        },
        {
          "output_type": "stream",
          "text": [
            "Evaluating on validation set...\n"
          ],
          "name": "stdout"
        },
        {
          "output_type": "stream",
          "text": [
            "100%|██████████| 1692/1692 [00:01<00:00, 977.74it/s]\n"
          ],
          "name": "stderr"
        },
        {
          "output_type": "stream",
          "text": [
            "-----------------------------------------------------------------------------------------\n",
            "| end of epoch   1 | time 111.96s | valid loss  6.47 | valid ppl   646.51\n",
            "-----------------------------------------------------------------------------------------\n",
            "| saving current state of model ...\n",
            "| epoch 2 | step 10000/16309 | loss 8.6090 | lr 0.00100 | ngrams/sec 11589.7 | eta 0h1m9s\n"
          ],
          "name": "stdout"
        },
        {
          "output_type": "stream",
          "text": [
            " 11%|█         | 190/1692 [00:00<00:00, 1887.24it/s]"
          ],
          "name": "stderr"
        },
        {
          "output_type": "stream",
          "text": [
            "Evaluating on validation set...\n"
          ],
          "name": "stdout"
        },
        {
          "output_type": "stream",
          "text": [
            "100%|██████████| 1692/1692 [00:01<00:00, 971.70it/s]\n"
          ],
          "name": "stderr"
        },
        {
          "output_type": "stream",
          "text": [
            "-----------------------------------------------------------------------------------------\n",
            "| end of epoch   2 | time 110.36s | valid loss  6.33 | valid ppl   558.52\n",
            "-----------------------------------------------------------------------------------------\n",
            "| saving current state of model ...\n",
            "| epoch 3 | step 10000/16309 | loss 8.5692 | lr 0.00100 | ngrams/sec 11591.6 | eta 0h1m9s\n"
          ],
          "name": "stdout"
        },
        {
          "output_type": "stream",
          "text": [
            " 11%|█▏        | 191/1692 [00:00<00:00, 1902.24it/s]"
          ],
          "name": "stderr"
        },
        {
          "output_type": "stream",
          "text": [
            "Evaluating on validation set...\n"
          ],
          "name": "stdout"
        },
        {
          "output_type": "stream",
          "text": [
            "100%|██████████| 1692/1692 [00:01<00:00, 977.79it/s]\n"
          ],
          "name": "stderr"
        },
        {
          "output_type": "stream",
          "text": [
            "-----------------------------------------------------------------------------------------\n",
            "| end of epoch   3 | time 110.11s | valid loss  6.24 | valid ppl   513.32\n",
            "-----------------------------------------------------------------------------------------\n",
            "| saving current state of model ...\n",
            "| epoch 4 | step 10000/16309 | loss 8.5279 | lr 0.00100 | ngrams/sec 11628.7 | eta 0h1m9s\n"
          ],
          "name": "stdout"
        },
        {
          "output_type": "stream",
          "text": [
            " 11%|█▏        | 192/1692 [00:00<00:00, 1908.35it/s]"
          ],
          "name": "stderr"
        },
        {
          "output_type": "stream",
          "text": [
            "Evaluating on validation set...\n"
          ],
          "name": "stdout"
        },
        {
          "output_type": "stream",
          "text": [
            "100%|██████████| 1692/1692 [00:01<00:00, 979.75it/s]\n"
          ],
          "name": "stderr"
        },
        {
          "output_type": "stream",
          "text": [
            "-----------------------------------------------------------------------------------------\n",
            "| end of epoch   4 | time 109.79s | valid loss  6.18 | valid ppl   484.62\n",
            "-----------------------------------------------------------------------------------------\n",
            "| saving current state of model ...\n",
            "| epoch 5 | step 10000/16309 | loss 8.4802 | lr 0.00100 | ngrams/sec 11620.9 | eta 0h1m9s\n"
          ],
          "name": "stdout"
        },
        {
          "output_type": "stream",
          "text": [
            " 11%|█▏        | 193/1692 [00:00<00:00, 1915.90it/s]"
          ],
          "name": "stderr"
        },
        {
          "output_type": "stream",
          "text": [
            "Evaluating on validation set...\n"
          ],
          "name": "stdout"
        },
        {
          "output_type": "stream",
          "text": [
            "100%|██████████| 1692/1692 [00:01<00:00, 982.92it/s]\n"
          ],
          "name": "stderr"
        },
        {
          "output_type": "stream",
          "text": [
            "-----------------------------------------------------------------------------------------\n",
            "| end of epoch   5 | time 109.95s | valid loss  6.15 | valid ppl   466.84\n",
            "-----------------------------------------------------------------------------------------\n",
            "| saving current state of model ...\n",
            "| epoch 6 | step 10000/16309 | loss 8.4424 | lr 0.00100 | ngrams/sec 11630.9 | eta 0h1m9s\n"
          ],
          "name": "stdout"
        },
        {
          "output_type": "stream",
          "text": [
            " 11%|█▏        | 191/1692 [00:00<00:00, 1909.94it/s]"
          ],
          "name": "stderr"
        },
        {
          "output_type": "stream",
          "text": [
            "Evaluating on validation set...\n"
          ],
          "name": "stdout"
        },
        {
          "output_type": "stream",
          "text": [
            "100%|██████████| 1692/1692 [00:01<00:00, 984.04it/s]\n"
          ],
          "name": "stderr"
        },
        {
          "output_type": "stream",
          "text": [
            "-----------------------------------------------------------------------------------------\n",
            "| end of epoch   6 | time 109.88s | valid loss  6.12 | valid ppl   453.18\n",
            "-----------------------------------------------------------------------------------------\n",
            "| saving current state of model ...\n",
            "| epoch 7 | step 10000/16309 | loss 8.4059 | lr 0.00100 | ngrams/sec 11627.1 | eta 0h1m9s\n"
          ],
          "name": "stdout"
        },
        {
          "output_type": "stream",
          "text": [
            " 11%|█▏        | 193/1692 [00:00<00:00, 1929.02it/s]"
          ],
          "name": "stderr"
        },
        {
          "output_type": "stream",
          "text": [
            "Evaluating on validation set...\n"
          ],
          "name": "stdout"
        },
        {
          "output_type": "stream",
          "text": [
            "100%|██████████| 1692/1692 [00:01<00:00, 985.67it/s]\n"
          ],
          "name": "stderr"
        },
        {
          "output_type": "stream",
          "text": [
            "-----------------------------------------------------------------------------------------\n",
            "| end of epoch   7 | time 109.73s | valid loss  6.09 | valid ppl   441.62\n",
            "-----------------------------------------------------------------------------------------\n",
            "| saving current state of model ...\n",
            "| epoch 8 | step 10000/16309 | loss 8.3658 | lr 0.00100 | ngrams/sec 11627.0 | eta 0h1m9s\n"
          ],
          "name": "stdout"
        },
        {
          "output_type": "stream",
          "text": [
            " 11%|█▏        | 193/1692 [00:00<00:00, 1922.52it/s]"
          ],
          "name": "stderr"
        },
        {
          "output_type": "stream",
          "text": [
            "Evaluating on validation set...\n"
          ],
          "name": "stdout"
        },
        {
          "output_type": "stream",
          "text": [
            "100%|██████████| 1692/1692 [00:01<00:00, 986.82it/s]\n"
          ],
          "name": "stderr"
        },
        {
          "output_type": "stream",
          "text": [
            "-----------------------------------------------------------------------------------------\n",
            "| end of epoch   8 | time 109.98s | valid loss  6.07 | valid ppl   431.09\n",
            "-----------------------------------------------------------------------------------------\n",
            "| saving current state of model ...\n",
            "| epoch 9 | step 10000/16309 | loss 8.3273 | lr 0.00100 | ngrams/sec 11604.1 | eta 0h1m9s\n"
          ],
          "name": "stdout"
        },
        {
          "output_type": "stream",
          "text": [
            " 11%|█▏        | 191/1692 [00:00<00:00, 1907.07it/s]"
          ],
          "name": "stderr"
        },
        {
          "output_type": "stream",
          "text": [
            "Evaluating on validation set...\n"
          ],
          "name": "stdout"
        },
        {
          "output_type": "stream",
          "text": [
            "100%|██████████| 1692/1692 [00:01<00:00, 985.01it/s]\n"
          ],
          "name": "stderr"
        },
        {
          "output_type": "stream",
          "text": [
            "-----------------------------------------------------------------------------------------\n",
            "| end of epoch   9 | time 110.08s | valid loss  6.06 | valid ppl   428.54\n",
            "-----------------------------------------------------------------------------------------\n",
            "| saving current state of model ...\n",
            "| epoch 10 | step 10000/16309 | loss 8.3022 | lr 0.00100 | ngrams/sec 11630.3 | eta 0h1m9s\n"
          ],
          "name": "stdout"
        },
        {
          "output_type": "stream",
          "text": [
            " 11%|█▏        | 192/1692 [00:00<00:00, 1911.14it/s]"
          ],
          "name": "stderr"
        },
        {
          "output_type": "stream",
          "text": [
            "Evaluating on validation set...\n"
          ],
          "name": "stdout"
        },
        {
          "output_type": "stream",
          "text": [
            "100%|██████████| 1692/1692 [00:01<00:00, 996.48it/s]\n"
          ],
          "name": "stderr"
        },
        {
          "output_type": "stream",
          "text": [
            "-----------------------------------------------------------------------------------------\n",
            "| end of epoch  10 | time 109.73s | valid loss  6.04 | valid ppl   421.44\n",
            "-----------------------------------------------------------------------------------------\n",
            "| saving current state of model ...\n",
            "| epoch 11 | step 10000/16309 | loss 8.2692 | lr 0.00100 | ngrams/sec 11658.3 | eta 0h1m9s\n"
          ],
          "name": "stdout"
        },
        {
          "output_type": "stream",
          "text": [
            " 11%|█▏        | 193/1692 [00:00<00:00, 1926.94it/s]"
          ],
          "name": "stderr"
        },
        {
          "output_type": "stream",
          "text": [
            "Evaluating on validation set...\n"
          ],
          "name": "stdout"
        },
        {
          "output_type": "stream",
          "text": [
            "100%|██████████| 1692/1692 [00:01<00:00, 986.23it/s]\n"
          ],
          "name": "stderr"
        },
        {
          "output_type": "stream",
          "text": [
            "-----------------------------------------------------------------------------------------\n",
            "| end of epoch  11 | time 109.71s | valid loss  6.04 | valid ppl   420.95\n",
            "-----------------------------------------------------------------------------------------\n",
            "| saving current state of model ...\n",
            "| epoch 12 | step 10000/16309 | loss 8.2353 | lr 0.00100 | ngrams/sec 11614.1 | eta 0h1m9s\n"
          ],
          "name": "stdout"
        },
        {
          "output_type": "stream",
          "text": [
            " 11%|█▏        | 193/1692 [00:00<00:00, 1925.33it/s]"
          ],
          "name": "stderr"
        },
        {
          "output_type": "stream",
          "text": [
            "Evaluating on validation set...\n"
          ],
          "name": "stdout"
        },
        {
          "output_type": "stream",
          "text": [
            "100%|██████████| 1692/1692 [00:01<00:00, 984.81it/s]\n"
          ],
          "name": "stderr"
        },
        {
          "output_type": "stream",
          "text": [
            "-----------------------------------------------------------------------------------------\n",
            "| end of epoch  12 | time 109.97s | valid loss  6.04 | valid ppl   420.20\n",
            "-----------------------------------------------------------------------------------------\n",
            "| saving current state of model ...\n",
            "| epoch 13 | step 10000/16309 | loss 8.2114 | lr 0.00100 | ngrams/sec 11644.3 | eta 0h1m9s\n"
          ],
          "name": "stdout"
        },
        {
          "output_type": "stream",
          "text": [
            " 11%|█▏        | 192/1692 [00:00<00:00, 1902.08it/s]"
          ],
          "name": "stderr"
        },
        {
          "output_type": "stream",
          "text": [
            "Evaluating on validation set...\n"
          ],
          "name": "stdout"
        },
        {
          "output_type": "stream",
          "text": [
            "100%|██████████| 1692/1692 [00:01<00:00, 986.33it/s]\n"
          ],
          "name": "stderr"
        },
        {
          "output_type": "stream",
          "text": [
            "-----------------------------------------------------------------------------------------\n",
            "| end of epoch  13 | time 109.67s | valid loss  6.03 | valid ppl   416.57\n",
            "-----------------------------------------------------------------------------------------\n",
            "| saving current state of model ...\n",
            "| epoch 14 | step 10000/16309 | loss 8.1797 | lr 0.00100 | ngrams/sec 11651.6 | eta 0h1m9s\n"
          ],
          "name": "stdout"
        },
        {
          "output_type": "stream",
          "text": [
            " 11%|█▏        | 193/1692 [00:00<00:00, 1911.05it/s]"
          ],
          "name": "stderr"
        },
        {
          "output_type": "stream",
          "text": [
            "Evaluating on validation set...\n"
          ],
          "name": "stdout"
        },
        {
          "output_type": "stream",
          "text": [
            "100%|██████████| 1692/1692 [00:01<00:00, 986.85it/s]\n"
          ],
          "name": "stderr"
        },
        {
          "output_type": "stream",
          "text": [
            "-----------------------------------------------------------------------------------------\n",
            "| end of epoch  14 | time 109.70s | valid loss  6.02 | valid ppl   410.23\n",
            "-----------------------------------------------------------------------------------------\n",
            "| saving current state of model ...\n",
            "| epoch 15 | step 10000/16309 | loss 8.1603 | lr 0.00100 | ngrams/sec 11636.8 | eta 0h1m9s\n"
          ],
          "name": "stdout"
        },
        {
          "output_type": "stream",
          "text": [
            " 12%|█▏        | 195/1692 [00:00<00:00, 1929.71it/s]"
          ],
          "name": "stderr"
        },
        {
          "output_type": "stream",
          "text": [
            "Evaluating on validation set...\n"
          ],
          "name": "stdout"
        },
        {
          "output_type": "stream",
          "text": [
            "100%|██████████| 1692/1692 [00:01<00:00, 992.12it/s]\n"
          ],
          "name": "stderr"
        },
        {
          "output_type": "stream",
          "text": [
            "-----------------------------------------------------------------------------------------\n",
            "| end of epoch  15 | time 109.84s | valid loss  6.01 | valid ppl   408.26\n",
            "-----------------------------------------------------------------------------------------\n",
            "| saving current state of model ...\n",
            "| epoch 16 | step 10000/16309 | loss 8.1347 | lr 0.00100 | ngrams/sec 11619.9 | eta 0h1m9s\n"
          ],
          "name": "stdout"
        },
        {
          "output_type": "stream",
          "text": [
            " 11%|█▏        | 193/1692 [00:00<00:00, 1921.62it/s]"
          ],
          "name": "stderr"
        },
        {
          "output_type": "stream",
          "text": [
            "Evaluating on validation set...\n"
          ],
          "name": "stdout"
        },
        {
          "output_type": "stream",
          "text": [
            "100%|██████████| 1692/1692 [00:01<00:00, 992.43it/s]\n"
          ],
          "name": "stderr"
        },
        {
          "output_type": "stream",
          "text": [
            "-----------------------------------------------------------------------------------------\n",
            "| end of epoch  16 | time 109.91s | valid loss  6.00 | valid ppl   403.17\n",
            "-----------------------------------------------------------------------------------------\n",
            "| saving current state of model ...\n",
            "| epoch 17 | step 10000/16309 | loss 8.1128 | lr 0.00100 | ngrams/sec 11638.7 | eta 0h1m9s\n"
          ],
          "name": "stdout"
        },
        {
          "output_type": "stream",
          "text": [
            " 11%|█▏        | 194/1692 [00:00<00:00, 1920.25it/s]"
          ],
          "name": "stderr"
        },
        {
          "output_type": "stream",
          "text": [
            "Evaluating on validation set...\n"
          ],
          "name": "stdout"
        },
        {
          "output_type": "stream",
          "text": [
            "100%|██████████| 1692/1692 [00:01<00:00, 994.93it/s]\n"
          ],
          "name": "stderr"
        },
        {
          "output_type": "stream",
          "text": [
            "-----------------------------------------------------------------------------------------\n",
            "| end of epoch  17 | time 109.70s | valid loss  6.01 | valid ppl   406.28\n",
            "-----------------------------------------------------------------------------------------\n",
            "| epoch 18 | step 10000/16309 | loss 8.0909 | lr 0.00100 | ngrams/sec 11654.4 | eta 0h1m9s\n"
          ],
          "name": "stdout"
        },
        {
          "output_type": "stream",
          "text": [
            " 11%|█▏        | 194/1692 [00:00<00:00, 1923.78it/s]"
          ],
          "name": "stderr"
        },
        {
          "output_type": "stream",
          "text": [
            "Evaluating on validation set...\n"
          ],
          "name": "stdout"
        },
        {
          "output_type": "stream",
          "text": [
            "100%|██████████| 1692/1692 [00:01<00:00, 995.83it/s]\n"
          ],
          "name": "stderr"
        },
        {
          "output_type": "stream",
          "text": [
            "-----------------------------------------------------------------------------------------\n",
            "| end of epoch  18 | time 109.77s | valid loss  6.00 | valid ppl   404.99\n",
            "-----------------------------------------------------------------------------------------\n",
            "| epoch 19 | step 10000/16309 | loss 8.0664 | lr 0.00100 | ngrams/sec 11643.4 | eta 0h1m9s\n"
          ],
          "name": "stdout"
        },
        {
          "output_type": "stream",
          "text": [
            " 12%|█▏        | 196/1692 [00:00<00:00, 1947.38it/s]"
          ],
          "name": "stderr"
        },
        {
          "output_type": "stream",
          "text": [
            "Evaluating on validation set...\n"
          ],
          "name": "stdout"
        },
        {
          "output_type": "stream",
          "text": [
            "100%|██████████| 1692/1692 [00:01<00:00, 991.91it/s]\n"
          ],
          "name": "stderr"
        },
        {
          "output_type": "stream",
          "text": [
            "-----------------------------------------------------------------------------------------\n",
            "| end of epoch  19 | time 109.94s | valid loss  5.99 | valid ppl   400.34\n",
            "-----------------------------------------------------------------------------------------\n",
            "| saving current state of model ...\n",
            "| epoch 20 | step 10000/16309 | loss 8.0513 | lr 0.00100 | ngrams/sec 11624.8 | eta 0h1m9s\n"
          ],
          "name": "stdout"
        },
        {
          "output_type": "stream",
          "text": [
            " 12%|█▏        | 195/1692 [00:00<00:00, 1945.37it/s]"
          ],
          "name": "stderr"
        },
        {
          "output_type": "stream",
          "text": [
            "Evaluating on validation set...\n"
          ],
          "name": "stdout"
        },
        {
          "output_type": "stream",
          "text": [
            "100%|██████████| 1692/1692 [00:01<00:00, 993.63it/s]\n"
          ],
          "name": "stderr"
        },
        {
          "output_type": "stream",
          "text": [
            "-----------------------------------------------------------------------------------------\n",
            "| end of epoch  20 | time 109.82s | valid loss  5.99 | valid ppl   400.65\n",
            "-----------------------------------------------------------------------------------------\n",
            "| epoch 21 | step 10000/16309 | loss 8.0294 | lr 0.00100 | ngrams/sec 11643.0 | eta 0h1m9s\n"
          ],
          "name": "stdout"
        },
        {
          "output_type": "stream",
          "text": [
            " 11%|█▏        | 193/1692 [00:00<00:00, 1908.67it/s]"
          ],
          "name": "stderr"
        },
        {
          "output_type": "stream",
          "text": [
            "Evaluating on validation set...\n"
          ],
          "name": "stdout"
        },
        {
          "output_type": "stream",
          "text": [
            "100%|██████████| 1692/1692 [00:01<00:00, 988.27it/s]\n"
          ],
          "name": "stderr"
        },
        {
          "output_type": "stream",
          "text": [
            "-----------------------------------------------------------------------------------------\n",
            "| end of epoch  21 | time 109.72s | valid loss  6.00 | valid ppl   402.95\n",
            "-----------------------------------------------------------------------------------------\n",
            "| epoch 22 | step 10000/16309 | loss 8.0127 | lr 0.00100 | ngrams/sec 11677.3 | eta 0h1m9s\n"
          ],
          "name": "stdout"
        },
        {
          "output_type": "stream",
          "text": [
            " 11%|█▏        | 192/1692 [00:00<00:00, 1916.99it/s]"
          ],
          "name": "stderr"
        },
        {
          "output_type": "stream",
          "text": [
            "Evaluating on validation set...\n"
          ],
          "name": "stdout"
        },
        {
          "output_type": "stream",
          "text": [
            "100%|██████████| 1692/1692 [00:01<00:00, 996.13it/s]\n"
          ],
          "name": "stderr"
        },
        {
          "output_type": "stream",
          "text": [
            "-----------------------------------------------------------------------------------------\n",
            "| end of epoch  22 | time 109.45s | valid loss  5.99 | valid ppl   399.14\n",
            "-----------------------------------------------------------------------------------------\n",
            "| saving current state of model ...\n",
            "| epoch 23 | step 10000/16309 | loss 7.9962 | lr 0.00100 | ngrams/sec 11648.5 | eta 0h1m9s\n"
          ],
          "name": "stdout"
        },
        {
          "output_type": "stream",
          "text": [
            " 12%|█▏        | 195/1692 [00:00<00:00, 1940.82it/s]"
          ],
          "name": "stderr"
        },
        {
          "output_type": "stream",
          "text": [
            "Evaluating on validation set...\n"
          ],
          "name": "stdout"
        },
        {
          "output_type": "stream",
          "text": [
            "100%|██████████| 1692/1692 [00:01<00:00, 997.63it/s]\n"
          ],
          "name": "stderr"
        },
        {
          "output_type": "stream",
          "text": [
            "-----------------------------------------------------------------------------------------\n",
            "| end of epoch  23 | time 109.81s | valid loss  5.99 | valid ppl   401.00\n",
            "-----------------------------------------------------------------------------------------\n",
            "| epoch 24 | step 10000/16309 | loss 7.9805 | lr 0.00100 | ngrams/sec 11648.4 | eta 0h1m9s\n"
          ],
          "name": "stdout"
        },
        {
          "output_type": "stream",
          "text": [
            " 11%|█▏        | 193/1692 [00:00<00:00, 1929.01it/s]"
          ],
          "name": "stderr"
        },
        {
          "output_type": "stream",
          "text": [
            "Evaluating on validation set...\n"
          ],
          "name": "stdout"
        },
        {
          "output_type": "stream",
          "text": [
            "100%|██████████| 1692/1692 [00:01<00:00, 992.28it/s]\n"
          ],
          "name": "stderr"
        },
        {
          "output_type": "stream",
          "text": [
            "-----------------------------------------------------------------------------------------\n",
            "| end of epoch  24 | time 109.89s | valid loss  6.00 | valid ppl   401.72\n",
            "-----------------------------------------------------------------------------------------\n",
            "| epoch 25 | step 10000/16309 | loss 7.9648 | lr 0.00100 | ngrams/sec 11654.9 | eta 0h1m9s\n"
          ],
          "name": "stdout"
        },
        {
          "output_type": "stream",
          "text": [
            " 11%|█▏        | 193/1692 [00:00<00:00, 1928.96it/s]"
          ],
          "name": "stderr"
        },
        {
          "output_type": "stream",
          "text": [
            "Evaluating on validation set...\n"
          ],
          "name": "stdout"
        },
        {
          "output_type": "stream",
          "text": [
            "100%|██████████| 1692/1692 [00:01<00:00, 994.84it/s]\n"
          ],
          "name": "stderr"
        },
        {
          "output_type": "stream",
          "text": [
            "-----------------------------------------------------------------------------------------\n",
            "| end of epoch  25 | time 109.55s | valid loss  6.00 | valid ppl   402.79\n",
            "-----------------------------------------------------------------------------------------\n",
            "| epoch 26 | step 10000/16309 | loss 7.9454 | lr 0.00100 | ngrams/sec 11665.6 | eta 0h1m9s\n"
          ],
          "name": "stdout"
        },
        {
          "output_type": "stream",
          "text": [
            " 11%|█▏        | 194/1692 [00:00<00:00, 1926.53it/s]"
          ],
          "name": "stderr"
        },
        {
          "output_type": "stream",
          "text": [
            "Evaluating on validation set...\n"
          ],
          "name": "stdout"
        },
        {
          "output_type": "stream",
          "text": [
            "100%|██████████| 1692/1692 [00:01<00:00, 995.90it/s]\n"
          ],
          "name": "stderr"
        },
        {
          "output_type": "stream",
          "text": [
            "-----------------------------------------------------------------------------------------\n",
            "| end of epoch  26 | time 109.58s | valid loss  5.99 | valid ppl   401.29\n",
            "-----------------------------------------------------------------------------------------\n",
            "| epoch 27 | step 10000/16309 | loss 7.9343 | lr 0.00100 | ngrams/sec 11688.0 | eta 0h1m9s\n"
          ],
          "name": "stdout"
        },
        {
          "output_type": "stream",
          "text": [
            " 11%|█▏        | 193/1692 [00:00<00:00, 1923.80it/s]"
          ],
          "name": "stderr"
        },
        {
          "output_type": "stream",
          "text": [
            "Evaluating on validation set...\n"
          ],
          "name": "stdout"
        },
        {
          "output_type": "stream",
          "text": [
            "100%|██████████| 1692/1692 [00:01<00:00, 991.88it/s]\n"
          ],
          "name": "stderr"
        },
        {
          "output_type": "stream",
          "text": [
            "-----------------------------------------------------------------------------------------\n",
            "| end of epoch  27 | time 109.50s | valid loss  6.00 | valid ppl   404.57\n",
            "-----------------------------------------------------------------------------------------\n",
            "| epoch 28 | step 10000/16309 | loss 7.9166 | lr 0.00100 | ngrams/sec 11644.7 | eta 0h1m9s\n"
          ],
          "name": "stdout"
        },
        {
          "output_type": "stream",
          "text": [
            " 12%|█▏        | 195/1692 [00:00<00:00, 1941.72it/s]"
          ],
          "name": "stderr"
        },
        {
          "output_type": "stream",
          "text": [
            "Evaluating on validation set...\n"
          ],
          "name": "stdout"
        },
        {
          "output_type": "stream",
          "text": [
            "100%|██████████| 1692/1692 [00:01<00:00, 993.23it/s]\n"
          ],
          "name": "stderr"
        },
        {
          "output_type": "stream",
          "text": [
            "-----------------------------------------------------------------------------------------\n",
            "| end of epoch  28 | time 109.89s | valid loss  6.01 | valid ppl   405.59\n",
            "-----------------------------------------------------------------------------------------\n",
            "| epoch 29 | step 10000/16309 | loss 7.9061 | lr 0.00100 | ngrams/sec 11642.6 | eta 0h1m9s\n"
          ],
          "name": "stdout"
        },
        {
          "output_type": "stream",
          "text": [
            " 11%|█▏        | 194/1692 [00:00<00:00, 1918.86it/s]"
          ],
          "name": "stderr"
        },
        {
          "output_type": "stream",
          "text": [
            "Evaluating on validation set...\n"
          ],
          "name": "stdout"
        },
        {
          "output_type": "stream",
          "text": [
            "100%|██████████| 1692/1692 [00:01<00:00, 996.38it/s]\n"
          ],
          "name": "stderr"
        },
        {
          "output_type": "stream",
          "text": [
            "-----------------------------------------------------------------------------------------\n",
            "| end of epoch  29 | time 109.71s | valid loss  6.00 | valid ppl   402.16\n",
            "-----------------------------------------------------------------------------------------\n",
            "| epoch 30 | step 10000/16309 | loss 7.8885 | lr 0.00100 | ngrams/sec 11673.3 | eta 0h1m9s\n"
          ],
          "name": "stdout"
        },
        {
          "output_type": "stream",
          "text": [
            " 11%|█▏        | 194/1692 [00:00<00:00, 1922.03it/s]"
          ],
          "name": "stderr"
        },
        {
          "output_type": "stream",
          "text": [
            "Evaluating on validation set...\n"
          ],
          "name": "stdout"
        },
        {
          "output_type": "stream",
          "text": [
            "100%|██████████| 1692/1692 [00:01<00:00, 994.83it/s]\n"
          ],
          "name": "stderr"
        },
        {
          "output_type": "stream",
          "text": [
            "-----------------------------------------------------------------------------------------\n",
            "| end of epoch  30 | time 109.68s | valid loss  6.00 | valid ppl   401.47\n",
            "-----------------------------------------------------------------------------------------\n",
            "| epoch 31 | step 10000/16309 | loss 7.8717 | lr 0.00100 | ngrams/sec 11636.4 | eta 0h1m9s\n"
          ],
          "name": "stdout"
        },
        {
          "output_type": "stream",
          "text": [
            " 11%|█▏        | 191/1692 [00:00<00:00, 1903.68it/s]"
          ],
          "name": "stderr"
        },
        {
          "output_type": "stream",
          "text": [
            "Evaluating on validation set...\n"
          ],
          "name": "stdout"
        },
        {
          "output_type": "stream",
          "text": [
            "100%|██████████| 1692/1692 [00:01<00:00, 994.42it/s]\n"
          ],
          "name": "stderr"
        },
        {
          "output_type": "stream",
          "text": [
            "-----------------------------------------------------------------------------------------\n",
            "| end of epoch  31 | time 109.99s | valid loss  5.99 | valid ppl   399.81\n",
            "-----------------------------------------------------------------------------------------\n",
            "| epoch 32 | step 10000/16309 | loss 7.8612 | lr 0.00100 | ngrams/sec 11620.2 | eta 0h1m9s\n"
          ],
          "name": "stdout"
        },
        {
          "output_type": "stream",
          "text": [
            " 17%|█▋        | 281/1692 [00:00<00:00, 1417.82it/s]"
          ],
          "name": "stderr"
        },
        {
          "output_type": "stream",
          "text": [
            "Evaluating on validation set...\n"
          ],
          "name": "stdout"
        },
        {
          "output_type": "stream",
          "text": [
            "100%|██████████| 1692/1692 [00:01<00:00, 997.70it/s]\n"
          ],
          "name": "stderr"
        },
        {
          "output_type": "stream",
          "text": [
            "-----------------------------------------------------------------------------------------\n",
            "| end of epoch  32 | time 110.10s | valid loss  6.01 | valid ppl   406.83\n",
            "-----------------------------------------------------------------------------------------\n",
            "| epoch 33 | step 10000/16309 | loss 7.8451 | lr 0.00100 | ngrams/sec 11624.0 | eta 0h1m9s\n"
          ],
          "name": "stdout"
        },
        {
          "output_type": "stream",
          "text": [
            " 12%|█▏        | 195/1692 [00:00<00:00, 1930.19it/s]"
          ],
          "name": "stderr"
        },
        {
          "output_type": "stream",
          "text": [
            "Evaluating on validation set...\n"
          ],
          "name": "stdout"
        },
        {
          "output_type": "stream",
          "text": [
            "100%|██████████| 1692/1692 [00:01<00:00, 1000.24it/s]\n"
          ],
          "name": "stderr"
        },
        {
          "output_type": "stream",
          "text": [
            "-----------------------------------------------------------------------------------------\n",
            "| end of epoch  33 | time 109.88s | valid loss  6.00 | valid ppl   405.32\n",
            "-----------------------------------------------------------------------------------------\n",
            "| epoch 34 | step 10000/16309 | loss 7.8348 | lr 0.00100 | ngrams/sec 11654.6 | eta 0h1m9s\n"
          ],
          "name": "stdout"
        },
        {
          "output_type": "stream",
          "text": [
            " 12%|█▏        | 195/1692 [00:00<00:00, 1933.18it/s]"
          ],
          "name": "stderr"
        },
        {
          "output_type": "stream",
          "text": [
            "Evaluating on validation set...\n"
          ],
          "name": "stdout"
        },
        {
          "output_type": "stream",
          "text": [
            "100%|██████████| 1692/1692 [00:01<00:00, 1003.20it/s]\n"
          ],
          "name": "stderr"
        },
        {
          "output_type": "stream",
          "text": [
            "-----------------------------------------------------------------------------------------\n",
            "| end of epoch  34 | time 109.71s | valid loss  6.01 | valid ppl   407.02\n",
            "-----------------------------------------------------------------------------------------\n",
            "| epoch 35 | step 10000/16309 | loss 7.8164 | lr 0.00100 | ngrams/sec 11646.3 | eta 0h1m9s\n"
          ],
          "name": "stdout"
        },
        {
          "output_type": "stream",
          "text": [
            " 11%|█▏        | 193/1692 [00:00<00:00, 1913.36it/s]"
          ],
          "name": "stderr"
        },
        {
          "output_type": "stream",
          "text": [
            "Evaluating on validation set...\n"
          ],
          "name": "stdout"
        },
        {
          "output_type": "stream",
          "text": [
            "100%|██████████| 1692/1692 [00:01<00:00, 999.92it/s]\n"
          ],
          "name": "stderr"
        },
        {
          "output_type": "stream",
          "text": [
            "-----------------------------------------------------------------------------------------\n",
            "| end of epoch  35 | time 109.80s | valid loss  6.02 | valid ppl   409.96\n",
            "-----------------------------------------------------------------------------------------\n",
            "| epoch 36 | step 10000/16309 | loss 7.8051 | lr 0.00100 | ngrams/sec 11641.6 | eta 0h1m9s\n"
          ],
          "name": "stdout"
        },
        {
          "output_type": "stream",
          "text": [
            " 11%|█▏        | 192/1692 [00:00<00:00, 1918.76it/s]"
          ],
          "name": "stderr"
        },
        {
          "output_type": "stream",
          "text": [
            "Evaluating on validation set...\n"
          ],
          "name": "stdout"
        },
        {
          "output_type": "stream",
          "text": [
            "100%|██████████| 1692/1692 [00:01<00:00, 988.34it/s]\n"
          ],
          "name": "stderr"
        },
        {
          "output_type": "stream",
          "text": [
            "-----------------------------------------------------------------------------------------\n",
            "| end of epoch  36 | time 110.02s | valid loss  6.01 | valid ppl   406.49\n",
            "-----------------------------------------------------------------------------------------\n",
            "| epoch 37 | step 10000/16309 | loss 7.7926 | lr 0.00100 | ngrams/sec 11624.2 | eta 0h1m9s\n"
          ],
          "name": "stdout"
        },
        {
          "output_type": "stream",
          "text": [
            " 11%|█▏        | 194/1692 [00:00<00:00, 1923.04it/s]"
          ],
          "name": "stderr"
        },
        {
          "output_type": "stream",
          "text": [
            "Evaluating on validation set...\n"
          ],
          "name": "stdout"
        },
        {
          "output_type": "stream",
          "text": [
            "100%|██████████| 1692/1692 [00:01<00:00, 997.31it/s]\n"
          ],
          "name": "stderr"
        },
        {
          "output_type": "stream",
          "text": [
            "-----------------------------------------------------------------------------------------\n",
            "| end of epoch  37 | time 109.87s | valid loss  6.03 | valid ppl   414.04\n",
            "-----------------------------------------------------------------------------------------\n",
            "| epoch 38 | step 10000/16309 | loss 7.7866 | lr 0.00100 | ngrams/sec 11635.3 | eta 0h1m9s\n"
          ],
          "name": "stdout"
        },
        {
          "output_type": "stream",
          "text": [
            " 12%|█▏        | 195/1692 [00:00<00:00, 1928.17it/s]"
          ],
          "name": "stderr"
        },
        {
          "output_type": "stream",
          "text": [
            "Evaluating on validation set...\n"
          ],
          "name": "stdout"
        },
        {
          "output_type": "stream",
          "text": [
            "100%|██████████| 1692/1692 [00:01<00:00, 997.61it/s]\n"
          ],
          "name": "stderr"
        },
        {
          "output_type": "stream",
          "text": [
            "-----------------------------------------------------------------------------------------\n",
            "| end of epoch  38 | time 110.04s | valid loss  6.02 | valid ppl   410.24\n",
            "-----------------------------------------------------------------------------------------\n",
            "| epoch 39 | step 10000/16309 | loss 7.7706 | lr 0.00100 | ngrams/sec 11614.1 | eta 0h1m9s\n"
          ],
          "name": "stdout"
        },
        {
          "output_type": "stream",
          "text": [
            " 12%|█▏        | 195/1692 [00:00<00:00, 1933.93it/s]"
          ],
          "name": "stderr"
        },
        {
          "output_type": "stream",
          "text": [
            "Evaluating on validation set...\n"
          ],
          "name": "stdout"
        },
        {
          "output_type": "stream",
          "text": [
            "100%|██████████| 1692/1692 [00:01<00:00, 998.43it/s]\n"
          ],
          "name": "stderr"
        },
        {
          "output_type": "stream",
          "text": [
            "-----------------------------------------------------------------------------------------\n",
            "| end of epoch  39 | time 110.07s | valid loss  6.02 | valid ppl   411.03\n",
            "-----------------------------------------------------------------------------------------\n",
            "| epoch 40 | step 10000/16309 | loss 7.7611 | lr 0.00100 | ngrams/sec 11632.2 | eta 0h1m9s\n"
          ],
          "name": "stdout"
        },
        {
          "output_type": "stream",
          "text": [
            " 11%|█▏        | 194/1692 [00:00<00:00, 1936.75it/s]"
          ],
          "name": "stderr"
        },
        {
          "output_type": "stream",
          "text": [
            "Evaluating on validation set...\n"
          ],
          "name": "stdout"
        },
        {
          "output_type": "stream",
          "text": [
            "100%|██████████| 1692/1692 [00:01<00:00, 1000.00it/s]\n"
          ],
          "name": "stderr"
        },
        {
          "output_type": "stream",
          "text": [
            "-----------------------------------------------------------------------------------------\n",
            "| end of epoch  40 | time 109.95s | valid loss  6.02 | valid ppl   411.35\n",
            "-----------------------------------------------------------------------------------------\n",
            "| epoch 41 | step 10000/16309 | loss 7.7605 | lr 0.00100 | ngrams/sec 11622.0 | eta 0h1m9s\n"
          ],
          "name": "stdout"
        },
        {
          "output_type": "stream",
          "text": [
            " 11%|█▏        | 193/1692 [00:00<00:00, 1925.94it/s]"
          ],
          "name": "stderr"
        },
        {
          "output_type": "stream",
          "text": [
            "Evaluating on validation set...\n"
          ],
          "name": "stdout"
        },
        {
          "output_type": "stream",
          "text": [
            "100%|██████████| 1692/1692 [00:01<00:00, 999.44it/s]\n"
          ],
          "name": "stderr"
        },
        {
          "output_type": "stream",
          "text": [
            "-----------------------------------------------------------------------------------------\n",
            "| end of epoch  41 | time 110.02s | valid loss  6.01 | valid ppl   409.43\n",
            "-----------------------------------------------------------------------------------------\n",
            "| epoch 42 | step 10000/16309 | loss 7.7461 | lr 0.00100 | ngrams/sec 11624.4 | eta 0h1m9s\n"
          ],
          "name": "stdout"
        },
        {
          "output_type": "stream",
          "text": [
            " 11%|█▏        | 194/1692 [00:00<00:00, 1928.60it/s]"
          ],
          "name": "stderr"
        },
        {
          "output_type": "stream",
          "text": [
            "Evaluating on validation set...\n"
          ],
          "name": "stdout"
        },
        {
          "output_type": "stream",
          "text": [
            "100%|██████████| 1692/1692 [00:01<00:00, 997.55it/s]\n"
          ],
          "name": "stderr"
        },
        {
          "output_type": "stream",
          "text": [
            "-----------------------------------------------------------------------------------------\n",
            "| end of epoch  42 | time 110.39s | valid loss  6.02 | valid ppl   411.06\n",
            "-----------------------------------------------------------------------------------------\n",
            "| epoch 43 | step 10000/16309 | loss 7.7317 | lr 0.00100 | ngrams/sec 11565.7 | eta 0h1m9s\n"
          ],
          "name": "stdout"
        },
        {
          "output_type": "stream",
          "text": [
            " 11%|█▏        | 194/1692 [00:00<00:00, 1936.25it/s]"
          ],
          "name": "stderr"
        },
        {
          "output_type": "stream",
          "text": [
            "Evaluating on validation set...\n"
          ],
          "name": "stdout"
        },
        {
          "output_type": "stream",
          "text": [
            "100%|██████████| 1692/1692 [00:01<00:00, 1000.56it/s]\n"
          ],
          "name": "stderr"
        },
        {
          "output_type": "stream",
          "text": [
            "-----------------------------------------------------------------------------------------\n",
            "| end of epoch  43 | time 110.26s | valid loss  6.02 | valid ppl   411.58\n",
            "-----------------------------------------------------------------------------------------\n",
            "| epoch 44 | step 10000/16309 | loss 7.7188 | lr 0.00100 | ngrams/sec 11599.2 | eta 0h1m9s\n"
          ],
          "name": "stdout"
        },
        {
          "output_type": "stream",
          "text": [
            " 12%|█▏        | 195/1692 [00:00<00:00, 1933.27it/s]"
          ],
          "name": "stderr"
        },
        {
          "output_type": "stream",
          "text": [
            "Evaluating on validation set...\n"
          ],
          "name": "stdout"
        },
        {
          "output_type": "stream",
          "text": [
            "100%|██████████| 1692/1692 [00:01<00:00, 1001.35it/s]\n"
          ],
          "name": "stderr"
        },
        {
          "output_type": "stream",
          "text": [
            "-----------------------------------------------------------------------------------------\n",
            "| end of epoch  44 | time 110.41s | valid loss  6.02 | valid ppl   412.50\n",
            "-----------------------------------------------------------------------------------------\n",
            "| epoch 45 | step 10000/16309 | loss 7.7161 | lr 0.00100 | ngrams/sec 11593.0 | eta 0h1m9s\n"
          ],
          "name": "stdout"
        },
        {
          "output_type": "stream",
          "text": [
            " 11%|█▏        | 193/1692 [00:00<00:00, 1917.58it/s]"
          ],
          "name": "stderr"
        },
        {
          "output_type": "stream",
          "text": [
            "Evaluating on validation set...\n"
          ],
          "name": "stdout"
        },
        {
          "output_type": "stream",
          "text": [
            "100%|██████████| 1692/1692 [00:01<00:00, 997.61it/s]\n"
          ],
          "name": "stderr"
        },
        {
          "output_type": "stream",
          "text": [
            "-----------------------------------------------------------------------------------------\n",
            "| end of epoch  45 | time 110.26s | valid loss  6.02 | valid ppl   413.05\n",
            "-----------------------------------------------------------------------------------------\n",
            "| epoch 46 | step 10000/16309 | loss 7.7053 | lr 0.00100 | ngrams/sec 11585.3 | eta 0h1m9s\n"
          ],
          "name": "stdout"
        },
        {
          "output_type": "stream",
          "text": [
            " 11%|█▏        | 194/1692 [00:00<00:00, 1930.95it/s]"
          ],
          "name": "stderr"
        },
        {
          "output_type": "stream",
          "text": [
            "Evaluating on validation set...\n"
          ],
          "name": "stdout"
        },
        {
          "output_type": "stream",
          "text": [
            "100%|██████████| 1692/1692 [00:01<00:00, 1002.36it/s]\n"
          ],
          "name": "stderr"
        },
        {
          "output_type": "stream",
          "text": [
            "-----------------------------------------------------------------------------------------\n",
            "| end of epoch  46 | time 110.39s | valid loss  6.03 | valid ppl   415.39\n",
            "-----------------------------------------------------------------------------------------\n",
            "| epoch 47 | step 10000/16309 | loss 7.6977 | lr 0.00100 | ngrams/sec 11569.8 | eta 0h1m9s\n"
          ],
          "name": "stdout"
        },
        {
          "output_type": "stream",
          "text": [
            " 12%|█▏        | 195/1692 [00:00<00:00, 1934.56it/s]"
          ],
          "name": "stderr"
        },
        {
          "output_type": "stream",
          "text": [
            "Evaluating on validation set...\n"
          ],
          "name": "stdout"
        },
        {
          "output_type": "stream",
          "text": [
            "100%|██████████| 1692/1692 [00:01<00:00, 1003.93it/s]\n"
          ],
          "name": "stderr"
        },
        {
          "output_type": "stream",
          "text": [
            "-----------------------------------------------------------------------------------------\n",
            "| end of epoch  47 | time 110.58s | valid loss  6.03 | valid ppl   416.22\n",
            "-----------------------------------------------------------------------------------------\n",
            "| epoch 48 | step 10000/16309 | loss 7.6864 | lr 0.00100 | ngrams/sec 11590.7 | eta 0h1m9s\n"
          ],
          "name": "stdout"
        },
        {
          "output_type": "stream",
          "text": [
            " 11%|█▏        | 194/1692 [00:00<00:00, 1922.10it/s]"
          ],
          "name": "stderr"
        },
        {
          "output_type": "stream",
          "text": [
            "Evaluating on validation set...\n"
          ],
          "name": "stdout"
        },
        {
          "output_type": "stream",
          "text": [
            "100%|██████████| 1692/1692 [00:01<00:00, 1003.97it/s]\n"
          ],
          "name": "stderr"
        },
        {
          "output_type": "stream",
          "text": [
            "-----------------------------------------------------------------------------------------\n",
            "| end of epoch  48 | time 110.37s | valid loss  6.03 | valid ppl   416.23\n",
            "-----------------------------------------------------------------------------------------\n",
            "| epoch 49 | step 10000/16309 | loss 7.6722 | lr 0.00100 | ngrams/sec 11600.6 | eta 0h1m9s\n"
          ],
          "name": "stdout"
        },
        {
          "output_type": "stream",
          "text": [
            " 11%|█▏        | 193/1692 [00:00<00:00, 1927.79it/s]"
          ],
          "name": "stderr"
        },
        {
          "output_type": "stream",
          "text": [
            "Evaluating on validation set...\n"
          ],
          "name": "stdout"
        },
        {
          "output_type": "stream",
          "text": [
            "100%|██████████| 1692/1692 [00:01<00:00, 1003.52it/s]\n"
          ],
          "name": "stderr"
        },
        {
          "output_type": "stream",
          "text": [
            "-----------------------------------------------------------------------------------------\n",
            "| end of epoch  49 | time 110.08s | valid loss  6.04 | valid ppl   417.87\n",
            "-----------------------------------------------------------------------------------------\n",
            "| epoch 50 | step 10000/16309 | loss 7.6687 | lr 0.00100 | ngrams/sec 11636.2 | eta 0h1m9s\n"
          ],
          "name": "stdout"
        },
        {
          "output_type": "stream",
          "text": [
            " 11%|█▏        | 194/1692 [00:00<00:00, 1925.01it/s]"
          ],
          "name": "stderr"
        },
        {
          "output_type": "stream",
          "text": [
            "Evaluating on validation set...\n"
          ],
          "name": "stdout"
        },
        {
          "output_type": "stream",
          "text": [
            "100%|██████████| 1692/1692 [00:01<00:00, 1007.46it/s]\n"
          ],
          "name": "stderr"
        },
        {
          "output_type": "stream",
          "text": [
            "-----------------------------------------------------------------------------------------\n",
            "| end of epoch  50 | time 109.64s | valid loss  6.05 | valid ppl   423.81\n",
            "-----------------------------------------------------------------------------------------\n",
            "| epoch 51 | step 10000/16309 | loss 7.6573 | lr 0.00100 | ngrams/sec 11673.2 | eta 0h1m9s\n"
          ],
          "name": "stdout"
        },
        {
          "output_type": "stream",
          "text": [
            " 11%|█▏        | 193/1692 [00:00<00:00, 1929.54it/s]"
          ],
          "name": "stderr"
        },
        {
          "output_type": "stream",
          "text": [
            "Evaluating on validation set...\n"
          ],
          "name": "stdout"
        },
        {
          "output_type": "stream",
          "text": [
            "100%|██████████| 1692/1692 [00:01<00:00, 1002.45it/s]\n"
          ],
          "name": "stderr"
        },
        {
          "output_type": "stream",
          "text": [
            "-----------------------------------------------------------------------------------------\n",
            "| end of epoch  51 | time 109.82s | valid loss  6.03 | valid ppl   416.06\n",
            "-----------------------------------------------------------------------------------------\n",
            "| epoch 52 | step 10000/16309 | loss 7.6542 | lr 0.00100 | ngrams/sec 11624.0 | eta 0h1m9s\n"
          ],
          "name": "stdout"
        },
        {
          "output_type": "stream",
          "text": [
            " 12%|█▏        | 196/1692 [00:00<00:00, 1940.50it/s]"
          ],
          "name": "stderr"
        },
        {
          "output_type": "stream",
          "text": [
            "Evaluating on validation set...\n"
          ],
          "name": "stdout"
        },
        {
          "output_type": "stream",
          "text": [
            "100%|██████████| 1692/1692 [00:01<00:00, 1002.85it/s]\n"
          ],
          "name": "stderr"
        },
        {
          "output_type": "stream",
          "text": [
            "-----------------------------------------------------------------------------------------\n",
            "| end of epoch  52 | time 109.97s | valid loss  6.04 | valid ppl   421.02\n",
            "-----------------------------------------------------------------------------------------\n",
            "| epoch 53 | step 10000/16309 | loss 7.6465 | lr 0.00100 | ngrams/sec 11645.0 | eta 0h1m9s\n"
          ],
          "name": "stdout"
        },
        {
          "output_type": "stream",
          "text": [
            " 11%|█▏        | 194/1692 [00:00<00:00, 1935.36it/s]"
          ],
          "name": "stderr"
        },
        {
          "output_type": "stream",
          "text": [
            "Evaluating on validation set...\n"
          ],
          "name": "stdout"
        },
        {
          "output_type": "stream",
          "text": [
            "100%|██████████| 1692/1692 [00:01<00:00, 1002.64it/s]\n"
          ],
          "name": "stderr"
        },
        {
          "output_type": "stream",
          "text": [
            "-----------------------------------------------------------------------------------------\n",
            "| end of epoch  53 | time 109.84s | valid loss  6.05 | valid ppl   422.13\n",
            "-----------------------------------------------------------------------------------------\n",
            "| epoch 54 | step 10000/16309 | loss 7.6403 | lr 0.00100 | ngrams/sec 11609.6 | eta 0h1m9s\n"
          ],
          "name": "stdout"
        },
        {
          "output_type": "stream",
          "text": [
            " 11%|█▏        | 194/1692 [00:00<00:00, 1927.60it/s]"
          ],
          "name": "stderr"
        },
        {
          "output_type": "stream",
          "text": [
            "Evaluating on validation set...\n"
          ],
          "name": "stdout"
        },
        {
          "output_type": "stream",
          "text": [
            "100%|██████████| 1692/1692 [00:01<00:00, 999.45it/s]\n"
          ],
          "name": "stderr"
        },
        {
          "output_type": "stream",
          "text": [
            "-----------------------------------------------------------------------------------------\n",
            "| end of epoch  54 | time 110.27s | valid loss  6.06 | valid ppl   427.34\n",
            "-----------------------------------------------------------------------------------------\n",
            "| epoch 55 | step 10000/16309 | loss 7.6243 | lr 0.00100 | ngrams/sec 11580.6 | eta 0h1m9s\n"
          ],
          "name": "stdout"
        },
        {
          "output_type": "stream",
          "text": [
            " 12%|█▏        | 195/1692 [00:00<00:00, 1932.07it/s]"
          ],
          "name": "stderr"
        },
        {
          "output_type": "stream",
          "text": [
            "Evaluating on validation set...\n"
          ],
          "name": "stdout"
        },
        {
          "output_type": "stream",
          "text": [
            "100%|██████████| 1692/1692 [00:01<00:00, 1004.57it/s]\n"
          ],
          "name": "stderr"
        },
        {
          "output_type": "stream",
          "text": [
            "-----------------------------------------------------------------------------------------\n",
            "| end of epoch  55 | time 110.24s | valid loss  6.05 | valid ppl   425.30\n",
            "-----------------------------------------------------------------------------------------\n",
            "| epoch 56 | step 10000/16309 | loss 7.6261 | lr 0.00100 | ngrams/sec 11657.0 | eta 0h1m9s\n"
          ],
          "name": "stdout"
        },
        {
          "output_type": "stream",
          "text": [
            " 12%|█▏        | 195/1692 [00:00<00:00, 1937.74it/s]"
          ],
          "name": "stderr"
        },
        {
          "output_type": "stream",
          "text": [
            "Evaluating on validation set...\n"
          ],
          "name": "stdout"
        },
        {
          "output_type": "stream",
          "text": [
            "100%|██████████| 1692/1692 [00:01<00:00, 1001.48it/s]\n"
          ],
          "name": "stderr"
        },
        {
          "output_type": "stream",
          "text": [
            "-----------------------------------------------------------------------------------------\n",
            "| end of epoch  56 | time 109.68s | valid loss  6.05 | valid ppl   423.92\n",
            "-----------------------------------------------------------------------------------------\n",
            "| epoch 57 | step 10000/16309 | loss 7.6086 | lr 0.00100 | ngrams/sec 11635.5 | eta 0h1m9s\n"
          ],
          "name": "stdout"
        },
        {
          "output_type": "stream",
          "text": [
            " 11%|█▏        | 193/1692 [00:00<00:00, 1916.82it/s]"
          ],
          "name": "stderr"
        },
        {
          "output_type": "stream",
          "text": [
            "Evaluating on validation set...\n"
          ],
          "name": "stdout"
        },
        {
          "output_type": "stream",
          "text": [
            "100%|██████████| 1692/1692 [00:01<00:00, 1003.40it/s]\n"
          ],
          "name": "stderr"
        },
        {
          "output_type": "stream",
          "text": [
            "-----------------------------------------------------------------------------------------\n",
            "| end of epoch  57 | time 109.92s | valid loss  6.06 | valid ppl   427.42\n",
            "-----------------------------------------------------------------------------------------\n",
            "| epoch 58 | step 10000/16309 | loss 7.6027 | lr 0.00100 | ngrams/sec 11654.2 | eta 0h1m9s\n"
          ],
          "name": "stdout"
        },
        {
          "output_type": "stream",
          "text": [
            " 11%|█▏        | 194/1692 [00:00<00:00, 1928.14it/s]"
          ],
          "name": "stderr"
        },
        {
          "output_type": "stream",
          "text": [
            "Evaluating on validation set...\n"
          ],
          "name": "stdout"
        },
        {
          "output_type": "stream",
          "text": [
            "100%|██████████| 1692/1692 [00:01<00:00, 1003.10it/s]\n"
          ],
          "name": "stderr"
        },
        {
          "output_type": "stream",
          "text": [
            "-----------------------------------------------------------------------------------------\n",
            "| end of epoch  58 | time 109.80s | valid loss  6.05 | valid ppl   424.94\n",
            "-----------------------------------------------------------------------------------------\n",
            "| epoch 59 | step 10000/16309 | loss 7.5955 | lr 0.00100 | ngrams/sec 11631.1 | eta 0h1m9s\n"
          ],
          "name": "stdout"
        },
        {
          "output_type": "stream",
          "text": [
            " 11%|█▏        | 193/1692 [00:00<00:00, 1913.39it/s]"
          ],
          "name": "stderr"
        },
        {
          "output_type": "stream",
          "text": [
            "Evaluating on validation set...\n"
          ],
          "name": "stdout"
        },
        {
          "output_type": "stream",
          "text": [
            "100%|██████████| 1692/1692 [00:01<00:00, 996.72it/s]\n"
          ],
          "name": "stderr"
        },
        {
          "output_type": "stream",
          "text": [
            "-----------------------------------------------------------------------------------------\n",
            "| end of epoch  59 | time 109.99s | valid loss  6.06 | valid ppl   429.96\n",
            "-----------------------------------------------------------------------------------------\n",
            "| epoch 60 | step 10000/16309 | loss 7.5842 | lr 0.00100 | ngrams/sec 11600.9 | eta 0h1m9s\n"
          ],
          "name": "stdout"
        },
        {
          "output_type": "stream",
          "text": [
            " 11%|█▏        | 194/1692 [00:00<00:00, 1927.20it/s]"
          ],
          "name": "stderr"
        },
        {
          "output_type": "stream",
          "text": [
            "Evaluating on validation set...\n"
          ],
          "name": "stdout"
        },
        {
          "output_type": "stream",
          "text": [
            "100%|██████████| 1692/1692 [00:01<00:00, 997.63it/s]\n"
          ],
          "name": "stderr"
        },
        {
          "output_type": "stream",
          "text": [
            "-----------------------------------------------------------------------------------------\n",
            "| end of epoch  60 | time 110.35s | valid loss  6.06 | valid ppl   426.55\n",
            "-----------------------------------------------------------------------------------------\n",
            "| epoch 61 | step 10000/16309 | loss 7.5802 | lr 0.00100 | ngrams/sec 11591.9 | eta 0h1m9s\n"
          ],
          "name": "stdout"
        },
        {
          "output_type": "stream",
          "text": [
            " 12%|█▏        | 195/1692 [00:00<00:00, 1936.58it/s]"
          ],
          "name": "stderr"
        },
        {
          "output_type": "stream",
          "text": [
            "Evaluating on validation set...\n"
          ],
          "name": "stdout"
        },
        {
          "output_type": "stream",
          "text": [
            "100%|██████████| 1692/1692 [00:01<00:00, 1002.84it/s]\n"
          ],
          "name": "stderr"
        },
        {
          "output_type": "stream",
          "text": [
            "-----------------------------------------------------------------------------------------\n",
            "| end of epoch  61 | time 110.49s | valid loss  6.07 | valid ppl   431.08\n",
            "-----------------------------------------------------------------------------------------\n",
            "| epoch 62 | step 10000/16309 | loss 7.5758 | lr 0.00100 | ngrams/sec 11561.3 | eta 0h1m9s\n"
          ],
          "name": "stdout"
        },
        {
          "output_type": "stream",
          "text": [
            " 11%|█▏        | 194/1692 [00:00<00:00, 1925.45it/s]"
          ],
          "name": "stderr"
        },
        {
          "output_type": "stream",
          "text": [
            "Evaluating on validation set...\n"
          ],
          "name": "stdout"
        },
        {
          "output_type": "stream",
          "text": [
            "100%|██████████| 1692/1692 [00:01<00:00, 998.16it/s]\n"
          ],
          "name": "stderr"
        },
        {
          "output_type": "stream",
          "text": [
            "-----------------------------------------------------------------------------------------\n",
            "| end of epoch  62 | time 110.65s | valid loss  6.07 | valid ppl   432.51\n",
            "-----------------------------------------------------------------------------------------\n",
            "| epoch 63 | step 10000/16309 | loss 7.5723 | lr 0.00100 | ngrams/sec 11567.6 | eta 0h1m9s\n"
          ],
          "name": "stdout"
        },
        {
          "output_type": "stream",
          "text": [
            " 11%|█▏        | 194/1692 [00:00<00:00, 1922.64it/s]"
          ],
          "name": "stderr"
        },
        {
          "output_type": "stream",
          "text": [
            "Evaluating on validation set...\n"
          ],
          "name": "stdout"
        },
        {
          "output_type": "stream",
          "text": [
            "100%|██████████| 1692/1692 [00:01<00:00, 999.31it/s]\n"
          ],
          "name": "stderr"
        },
        {
          "output_type": "stream",
          "text": [
            "-----------------------------------------------------------------------------------------\n",
            "| end of epoch  63 | time 110.56s | valid loss  6.07 | valid ppl   430.82\n",
            "-----------------------------------------------------------------------------------------\n",
            "| epoch 64 | step 10000/16309 | loss 7.5609 | lr 0.00100 | ngrams/sec 11545.6 | eta 0h1m9s\n"
          ],
          "name": "stdout"
        },
        {
          "output_type": "stream",
          "text": [
            " 11%|█▏        | 194/1692 [00:00<00:00, 1918.29it/s]"
          ],
          "name": "stderr"
        },
        {
          "output_type": "stream",
          "text": [
            "Evaluating on validation set...\n"
          ],
          "name": "stdout"
        },
        {
          "output_type": "stream",
          "text": [
            "100%|██████████| 1692/1692 [00:01<00:00, 994.60it/s]\n"
          ],
          "name": "stderr"
        },
        {
          "output_type": "stream",
          "text": [
            "-----------------------------------------------------------------------------------------\n",
            "| end of epoch  64 | time 110.75s | valid loss  6.06 | valid ppl   430.06\n",
            "-----------------------------------------------------------------------------------------\n",
            "| epoch 65 | step 10000/16309 | loss 7.5588 | lr 0.00100 | ngrams/sec 11562.3 | eta 0h1m9s\n"
          ],
          "name": "stdout"
        },
        {
          "output_type": "stream",
          "text": [
            " 11%|█▏        | 193/1692 [00:00<00:00, 1928.61it/s]"
          ],
          "name": "stderr"
        },
        {
          "output_type": "stream",
          "text": [
            "Evaluating on validation set...\n"
          ],
          "name": "stdout"
        },
        {
          "output_type": "stream",
          "text": [
            "100%|██████████| 1692/1692 [00:01<00:00, 1001.40it/s]\n"
          ],
          "name": "stderr"
        },
        {
          "output_type": "stream",
          "text": [
            "-----------------------------------------------------------------------------------------\n",
            "| end of epoch  65 | time 110.60s | valid loss  6.06 | valid ppl   429.49\n",
            "-----------------------------------------------------------------------------------------\n",
            "| epoch 66 | step 10000/16309 | loss 7.5440 | lr 0.00100 | ngrams/sec 11582.3 | eta 0h1m9s\n"
          ],
          "name": "stdout"
        },
        {
          "output_type": "stream",
          "text": [
            " 11%|█▏        | 194/1692 [00:00<00:00, 1924.74it/s]"
          ],
          "name": "stderr"
        },
        {
          "output_type": "stream",
          "text": [
            "Evaluating on validation set...\n"
          ],
          "name": "stdout"
        },
        {
          "output_type": "stream",
          "text": [
            "100%|██████████| 1692/1692 [00:01<00:00, 1006.14it/s]\n"
          ],
          "name": "stderr"
        },
        {
          "output_type": "stream",
          "text": [
            "-----------------------------------------------------------------------------------------\n",
            "| end of epoch  66 | time 110.17s | valid loss  6.08 | valid ppl   436.33\n",
            "-----------------------------------------------------------------------------------------\n",
            "| epoch 67 | step 10000/16309 | loss 7.5413 | lr 0.00100 | ngrams/sec 11622.1 | eta 0h1m9s\n"
          ],
          "name": "stdout"
        },
        {
          "output_type": "stream",
          "text": [
            " 12%|█▏        | 195/1692 [00:00<00:00, 1936.96it/s]"
          ],
          "name": "stderr"
        },
        {
          "output_type": "stream",
          "text": [
            "Evaluating on validation set...\n"
          ],
          "name": "stdout"
        },
        {
          "output_type": "stream",
          "text": [
            "100%|██████████| 1692/1692 [00:01<00:00, 998.25it/s]\n"
          ],
          "name": "stderr"
        },
        {
          "output_type": "stream",
          "text": [
            "-----------------------------------------------------------------------------------------\n",
            "| end of epoch  67 | time 110.10s | valid loss  6.07 | valid ppl   434.02\n",
            "-----------------------------------------------------------------------------------------\n",
            "| epoch 68 | step 10000/16309 | loss 7.5366 | lr 0.00100 | ngrams/sec 11625.5 | eta 0h1m9s\n"
          ],
          "name": "stdout"
        },
        {
          "output_type": "stream",
          "text": [
            " 11%|█▏        | 194/1692 [00:00<00:00, 1938.20it/s]"
          ],
          "name": "stderr"
        },
        {
          "output_type": "stream",
          "text": [
            "Evaluating on validation set...\n"
          ],
          "name": "stdout"
        },
        {
          "output_type": "stream",
          "text": [
            "100%|██████████| 1692/1692 [00:01<00:00, 997.42it/s]\n"
          ],
          "name": "stderr"
        },
        {
          "output_type": "stream",
          "text": [
            "-----------------------------------------------------------------------------------------\n",
            "| end of epoch  68 | time 109.99s | valid loss  6.08 | valid ppl   435.37\n",
            "-----------------------------------------------------------------------------------------\n",
            "| epoch 69 | step 10000/16309 | loss 7.5263 | lr 0.00100 | ngrams/sec 11622.1 | eta 0h1m9s\n"
          ],
          "name": "stdout"
        },
        {
          "output_type": "stream",
          "text": [
            " 11%|█▏        | 194/1692 [00:00<00:00, 1923.94it/s]"
          ],
          "name": "stderr"
        },
        {
          "output_type": "stream",
          "text": [
            "Evaluating on validation set...\n"
          ],
          "name": "stdout"
        },
        {
          "output_type": "stream",
          "text": [
            "100%|██████████| 1692/1692 [00:01<00:00, 999.45it/s]\n"
          ],
          "name": "stderr"
        },
        {
          "output_type": "stream",
          "text": [
            "-----------------------------------------------------------------------------------------\n",
            "| end of epoch  69 | time 109.96s | valid loss  6.09 | valid ppl   440.38\n",
            "-----------------------------------------------------------------------------------------\n",
            "| epoch 70 | step 10000/16309 | loss 7.5248 | lr 0.00100 | ngrams/sec 11623.9 | eta 0h1m9s\n"
          ],
          "name": "stdout"
        },
        {
          "output_type": "stream",
          "text": [
            " 11%|█▏        | 194/1692 [00:00<00:00, 1928.83it/s]"
          ],
          "name": "stderr"
        },
        {
          "output_type": "stream",
          "text": [
            "Evaluating on validation set...\n"
          ],
          "name": "stdout"
        },
        {
          "output_type": "stream",
          "text": [
            "100%|██████████| 1692/1692 [00:01<00:00, 999.91it/s]\n"
          ],
          "name": "stderr"
        },
        {
          "output_type": "stream",
          "text": [
            "-----------------------------------------------------------------------------------------\n",
            "| end of epoch  70 | time 109.96s | valid loss  6.08 | valid ppl   435.84\n",
            "-----------------------------------------------------------------------------------------\n",
            "| epoch 71 | step 10000/16309 | loss 7.5114 | lr 0.00100 | ngrams/sec 11612.3 | eta 0h1m9s\n"
          ],
          "name": "stdout"
        },
        {
          "output_type": "stream",
          "text": [
            " 11%|█▏        | 194/1692 [00:00<00:00, 1939.64it/s]"
          ],
          "name": "stderr"
        },
        {
          "output_type": "stream",
          "text": [
            "Evaluating on validation set...\n"
          ],
          "name": "stdout"
        },
        {
          "output_type": "stream",
          "text": [
            "100%|██████████| 1692/1692 [00:01<00:00, 999.41it/s]\n"
          ],
          "name": "stderr"
        },
        {
          "output_type": "stream",
          "text": [
            "-----------------------------------------------------------------------------------------\n",
            "| end of epoch  71 | time 110.11s | valid loss  6.08 | valid ppl   436.75\n",
            "-----------------------------------------------------------------------------------------\n",
            "| epoch 72 | step 10000/16309 | loss 7.5191 | lr 0.00100 | ngrams/sec 11656.9 | eta 0h1m9s\n"
          ],
          "name": "stdout"
        },
        {
          "output_type": "stream",
          "text": [
            " 11%|█▏        | 194/1692 [00:00<00:00, 1918.18it/s]"
          ],
          "name": "stderr"
        },
        {
          "output_type": "stream",
          "text": [
            "Evaluating on validation set...\n"
          ],
          "name": "stdout"
        },
        {
          "output_type": "stream",
          "text": [
            "100%|██████████| 1692/1692 [00:01<00:00, 1002.16it/s]\n"
          ],
          "name": "stderr"
        },
        {
          "output_type": "stream",
          "text": [
            "-----------------------------------------------------------------------------------------\n",
            "| end of epoch  72 | time 109.75s | valid loss  6.10 | valid ppl   444.21\n",
            "-----------------------------------------------------------------------------------------\n",
            "| epoch 73 | step 10000/16309 | loss 7.5077 | lr 0.00100 | ngrams/sec 11635.7 | eta 0h1m9s\n"
          ],
          "name": "stdout"
        },
        {
          "output_type": "stream",
          "text": [
            " 11%|█▏        | 194/1692 [00:00<00:00, 1922.26it/s]"
          ],
          "name": "stderr"
        },
        {
          "output_type": "stream",
          "text": [
            "Evaluating on validation set...\n"
          ],
          "name": "stdout"
        },
        {
          "output_type": "stream",
          "text": [
            "100%|██████████| 1692/1692 [00:01<00:00, 998.48it/s]\n"
          ],
          "name": "stderr"
        },
        {
          "output_type": "stream",
          "text": [
            "-----------------------------------------------------------------------------------------\n",
            "| end of epoch  73 | time 109.91s | valid loss  6.09 | valid ppl   442.84\n",
            "-----------------------------------------------------------------------------------------\n",
            "| epoch 74 | step 10000/16309 | loss 7.5046 | lr 0.00100 | ngrams/sec 11640.6 | eta 0h1m9s\n"
          ],
          "name": "stdout"
        },
        {
          "output_type": "stream",
          "text": [
            " 11%|█▏        | 194/1692 [00:00<00:00, 1929.61it/s]"
          ],
          "name": "stderr"
        },
        {
          "output_type": "stream",
          "text": [
            "Evaluating on validation set...\n"
          ],
          "name": "stdout"
        },
        {
          "output_type": "stream",
          "text": [
            "100%|██████████| 1692/1692 [00:01<00:00, 998.64it/s]\n"
          ],
          "name": "stderr"
        },
        {
          "output_type": "stream",
          "text": [
            "-----------------------------------------------------------------------------------------\n",
            "| end of epoch  74 | time 109.89s | valid loss  6.10 | valid ppl   444.57\n",
            "-----------------------------------------------------------------------------------------\n",
            "| epoch 75 | step 10000/16309 | loss 7.4920 | lr 0.00100 | ngrams/sec 11629.0 | eta 0h1m9s\n"
          ],
          "name": "stdout"
        },
        {
          "output_type": "stream",
          "text": [
            " 11%|█▏        | 194/1692 [00:00<00:00, 1934.78it/s]"
          ],
          "name": "stderr"
        },
        {
          "output_type": "stream",
          "text": [
            "Evaluating on validation set...\n"
          ],
          "name": "stdout"
        },
        {
          "output_type": "stream",
          "text": [
            "100%|██████████| 1692/1692 [00:01<00:00, 1000.81it/s]\n"
          ],
          "name": "stderr"
        },
        {
          "output_type": "stream",
          "text": [
            "-----------------------------------------------------------------------------------------\n",
            "| end of epoch  75 | time 109.90s | valid loss  6.10 | valid ppl   445.10\n",
            "-----------------------------------------------------------------------------------------\n",
            "| epoch 76 | step 10000/16309 | loss 7.4940 | lr 0.00100 | ngrams/sec 11636.5 | eta 0h1m9s\n"
          ],
          "name": "stdout"
        },
        {
          "output_type": "stream",
          "text": [
            " 12%|█▏        | 196/1692 [00:00<00:00, 1942.55it/s]"
          ],
          "name": "stderr"
        },
        {
          "output_type": "stream",
          "text": [
            "Evaluating on validation set...\n"
          ],
          "name": "stdout"
        },
        {
          "output_type": "stream",
          "text": [
            "100%|██████████| 1692/1692 [00:01<00:00, 1002.11it/s]\n"
          ],
          "name": "stderr"
        },
        {
          "output_type": "stream",
          "text": [
            "-----------------------------------------------------------------------------------------\n",
            "| end of epoch  76 | time 110.01s | valid loss  6.09 | valid ppl   443.04\n",
            "-----------------------------------------------------------------------------------------\n",
            "| epoch 77 | step 10000/16309 | loss 7.4838 | lr 0.00100 | ngrams/sec 11639.9 | eta 0h1m9s\n"
          ],
          "name": "stdout"
        },
        {
          "output_type": "stream",
          "text": [
            " 11%|█▏        | 193/1692 [00:00<00:00, 1928.14it/s]"
          ],
          "name": "stderr"
        },
        {
          "output_type": "stream",
          "text": [
            "Evaluating on validation set...\n"
          ],
          "name": "stdout"
        },
        {
          "output_type": "stream",
          "text": [
            "100%|██████████| 1692/1692 [00:01<00:00, 1000.90it/s]\n"
          ],
          "name": "stderr"
        },
        {
          "output_type": "stream",
          "text": [
            "-----------------------------------------------------------------------------------------\n",
            "| end of epoch  77 | time 109.86s | valid loss  6.09 | valid ppl   441.02\n",
            "-----------------------------------------------------------------------------------------\n",
            "| epoch 78 | step 10000/16309 | loss 7.4765 | lr 0.00100 | ngrams/sec 11632.3 | eta 0h1m9s\n"
          ],
          "name": "stdout"
        },
        {
          "output_type": "stream",
          "text": [
            " 11%|█▏        | 194/1692 [00:00<00:00, 1922.53it/s]"
          ],
          "name": "stderr"
        },
        {
          "output_type": "stream",
          "text": [
            "Evaluating on validation set...\n"
          ],
          "name": "stdout"
        },
        {
          "output_type": "stream",
          "text": [
            "100%|██████████| 1692/1692 [00:01<00:00, 999.81it/s]\n"
          ],
          "name": "stderr"
        },
        {
          "output_type": "stream",
          "text": [
            "-----------------------------------------------------------------------------------------\n",
            "| end of epoch  78 | time 109.87s | valid loss  6.10 | valid ppl   447.93\n",
            "-----------------------------------------------------------------------------------------\n",
            "| epoch 79 | step 10000/16309 | loss 7.4765 | lr 0.00100 | ngrams/sec 11654.5 | eta 0h1m9s\n"
          ],
          "name": "stdout"
        },
        {
          "output_type": "stream",
          "text": [
            " 11%|█▏        | 193/1692 [00:00<00:00, 1910.90it/s]"
          ],
          "name": "stderr"
        },
        {
          "output_type": "stream",
          "text": [
            "Evaluating on validation set...\n"
          ],
          "name": "stdout"
        },
        {
          "output_type": "stream",
          "text": [
            "100%|██████████| 1692/1692 [00:01<00:00, 997.12it/s]\n"
          ],
          "name": "stderr"
        },
        {
          "output_type": "stream",
          "text": [
            "-----------------------------------------------------------------------------------------\n",
            "| end of epoch  79 | time 109.76s | valid loss  6.10 | valid ppl   446.60\n",
            "-----------------------------------------------------------------------------------------\n",
            "| epoch 80 | step 10000/16309 | loss 7.4750 | lr 0.00100 | ngrams/sec 11648.8 | eta 0h1m9s\n"
          ],
          "name": "stdout"
        },
        {
          "output_type": "stream",
          "text": [
            " 12%|█▏        | 195/1692 [00:00<00:00, 1932.39it/s]"
          ],
          "name": "stderr"
        },
        {
          "output_type": "stream",
          "text": [
            "Evaluating on validation set...\n"
          ],
          "name": "stdout"
        },
        {
          "output_type": "stream",
          "text": [
            "100%|██████████| 1692/1692 [00:01<00:00, 1001.14it/s]\n"
          ],
          "name": "stderr"
        },
        {
          "output_type": "stream",
          "text": [
            "-----------------------------------------------------------------------------------------\n",
            "| end of epoch  80 | time 109.94s | valid loss  6.11 | valid ppl   449.28\n",
            "-----------------------------------------------------------------------------------------\n",
            "| epoch 81 | step 10000/16309 | loss 7.4625 | lr 0.00100 | ngrams/sec 11615.1 | eta 0h1m9s\n"
          ],
          "name": "stdout"
        },
        {
          "output_type": "stream",
          "text": [
            " 12%|█▏        | 195/1692 [00:00<00:00, 1937.32it/s]"
          ],
          "name": "stderr"
        },
        {
          "output_type": "stream",
          "text": [
            "Evaluating on validation set...\n"
          ],
          "name": "stdout"
        },
        {
          "output_type": "stream",
          "text": [
            "100%|██████████| 1692/1692 [00:01<00:00, 1002.76it/s]\n"
          ],
          "name": "stderr"
        },
        {
          "output_type": "stream",
          "text": [
            "-----------------------------------------------------------------------------------------\n",
            "| end of epoch  81 | time 109.82s | valid loss  6.12 | valid ppl   454.24\n",
            "-----------------------------------------------------------------------------------------\n",
            "| epoch 82 | step 10000/16309 | loss 7.4619 | lr 0.00100 | ngrams/sec 11644.7 | eta 0h1m9s\n"
          ],
          "name": "stdout"
        },
        {
          "output_type": "stream",
          "text": [
            " 12%|█▏        | 196/1692 [00:00<00:00, 1939.00it/s]"
          ],
          "name": "stderr"
        },
        {
          "output_type": "stream",
          "text": [
            "Evaluating on validation set...\n"
          ],
          "name": "stdout"
        },
        {
          "output_type": "stream",
          "text": [
            "100%|██████████| 1692/1692 [00:01<00:00, 1005.91it/s]\n"
          ],
          "name": "stderr"
        },
        {
          "output_type": "stream",
          "text": [
            "-----------------------------------------------------------------------------------------\n",
            "| end of epoch  82 | time 109.84s | valid loss  6.11 | valid ppl   450.51\n",
            "-----------------------------------------------------------------------------------------\n",
            "| epoch 83 | step 10000/16309 | loss 7.4504 | lr 0.00100 | ngrams/sec 11623.6 | eta 0h1m9s\n"
          ],
          "name": "stdout"
        },
        {
          "output_type": "stream",
          "text": [
            " 11%|█▏        | 193/1692 [00:00<00:00, 1911.71it/s]"
          ],
          "name": "stderr"
        },
        {
          "output_type": "stream",
          "text": [
            "Evaluating on validation set...\n"
          ],
          "name": "stdout"
        },
        {
          "output_type": "stream",
          "text": [
            "100%|██████████| 1692/1692 [00:01<00:00, 1000.34it/s]\n"
          ],
          "name": "stderr"
        },
        {
          "output_type": "stream",
          "text": [
            "-----------------------------------------------------------------------------------------\n",
            "| end of epoch  83 | time 110.21s | valid loss  6.11 | valid ppl   451.91\n",
            "-----------------------------------------------------------------------------------------\n",
            "| epoch 84 | step 10000/16309 | loss 7.4449 | lr 0.00100 | ngrams/sec 11611.1 | eta 0h1m9s\n"
          ],
          "name": "stdout"
        },
        {
          "output_type": "stream",
          "text": [
            " 11%|█▏        | 193/1692 [00:00<00:00, 1921.04it/s]"
          ],
          "name": "stderr"
        },
        {
          "output_type": "stream",
          "text": [
            "Evaluating on validation set...\n"
          ],
          "name": "stdout"
        },
        {
          "output_type": "stream",
          "text": [
            "100%|██████████| 1692/1692 [00:01<00:00, 999.23it/s]\n"
          ],
          "name": "stderr"
        },
        {
          "output_type": "stream",
          "text": [
            "-----------------------------------------------------------------------------------------\n",
            "| end of epoch  84 | time 110.01s | valid loss  6.12 | valid ppl   454.12\n",
            "-----------------------------------------------------------------------------------------\n",
            "| epoch 85 | step 10000/16309 | loss 7.4457 | lr 0.00100 | ngrams/sec 11642.6 | eta 0h1m9s\n"
          ],
          "name": "stdout"
        },
        {
          "output_type": "stream",
          "text": [
            " 11%|█▏        | 193/1692 [00:00<00:00, 1928.14it/s]"
          ],
          "name": "stderr"
        },
        {
          "output_type": "stream",
          "text": [
            "Evaluating on validation set...\n"
          ],
          "name": "stdout"
        },
        {
          "output_type": "stream",
          "text": [
            "100%|██████████| 1692/1692 [00:01<00:00, 998.82it/s]\n"
          ],
          "name": "stderr"
        },
        {
          "output_type": "stream",
          "text": [
            "-----------------------------------------------------------------------------------------\n",
            "| end of epoch  85 | time 109.85s | valid loss  6.12 | valid ppl   454.66\n",
            "-----------------------------------------------------------------------------------------\n",
            "| epoch 86 | step 10000/16309 | loss 7.4374 | lr 0.00100 | ngrams/sec 11625.7 | eta 0h1m9s\n"
          ],
          "name": "stdout"
        },
        {
          "output_type": "stream",
          "text": [
            " 11%|█▏        | 194/1692 [00:00<00:00, 1924.45it/s]"
          ],
          "name": "stderr"
        },
        {
          "output_type": "stream",
          "text": [
            "Evaluating on validation set...\n"
          ],
          "name": "stdout"
        },
        {
          "output_type": "stream",
          "text": [
            "100%|██████████| 1692/1692 [00:01<00:00, 997.70it/s]\n"
          ],
          "name": "stderr"
        },
        {
          "output_type": "stream",
          "text": [
            "-----------------------------------------------------------------------------------------\n",
            "| end of epoch  86 | time 110.00s | valid loss  6.12 | valid ppl   454.20\n",
            "-----------------------------------------------------------------------------------------\n",
            "| epoch 87 | step 10000/16309 | loss 7.4353 | lr 0.00100 | ngrams/sec 11646.7 | eta 0h1m9s\n"
          ],
          "name": "stdout"
        },
        {
          "output_type": "stream",
          "text": [
            " 11%|█▏        | 192/1692 [00:00<00:00, 1917.57it/s]"
          ],
          "name": "stderr"
        },
        {
          "output_type": "stream",
          "text": [
            "Evaluating on validation set...\n"
          ],
          "name": "stdout"
        },
        {
          "output_type": "stream",
          "text": [
            "100%|██████████| 1692/1692 [00:01<00:00, 994.92it/s]\n"
          ],
          "name": "stderr"
        },
        {
          "output_type": "stream",
          "text": [
            "-----------------------------------------------------------------------------------------\n",
            "| end of epoch  87 | time 109.78s | valid loss  6.12 | valid ppl   453.84\n",
            "-----------------------------------------------------------------------------------------\n",
            "| epoch 88 | step 10000/16309 | loss 7.4344 | lr 0.00100 | ngrams/sec 11632.8 | eta 0h1m9s\n"
          ],
          "name": "stdout"
        },
        {
          "output_type": "stream",
          "text": [
            " 11%|█▏        | 194/1692 [00:00<00:00, 1926.96it/s]"
          ],
          "name": "stderr"
        },
        {
          "output_type": "stream",
          "text": [
            "Evaluating on validation set...\n"
          ],
          "name": "stdout"
        },
        {
          "output_type": "stream",
          "text": [
            "100%|██████████| 1692/1692 [00:01<00:00, 1001.28it/s]\n"
          ],
          "name": "stderr"
        },
        {
          "output_type": "stream",
          "text": [
            "-----------------------------------------------------------------------------------------\n",
            "| end of epoch  88 | time 109.99s | valid loss  6.13 | valid ppl   458.41\n",
            "-----------------------------------------------------------------------------------------\n",
            "| epoch 89 | step 10000/16309 | loss 7.4240 | lr 0.00100 | ngrams/sec 11641.0 | eta 0h1m9s\n"
          ],
          "name": "stdout"
        },
        {
          "output_type": "stream",
          "text": [
            " 11%|█▏        | 193/1692 [00:00<00:00, 1918.39it/s]"
          ],
          "name": "stderr"
        },
        {
          "output_type": "stream",
          "text": [
            "Evaluating on validation set...\n"
          ],
          "name": "stdout"
        },
        {
          "output_type": "stream",
          "text": [
            "100%|██████████| 1692/1692 [00:01<00:00, 1004.43it/s]\n"
          ],
          "name": "stderr"
        },
        {
          "output_type": "stream",
          "text": [
            "-----------------------------------------------------------------------------------------\n",
            "| end of epoch  89 | time 109.86s | valid loss  6.13 | valid ppl   458.89\n",
            "-----------------------------------------------------------------------------------------\n",
            "| epoch 90 | step 10000/16309 | loss 7.4167 | lr 0.00100 | ngrams/sec 11644.6 | eta 0h1m9s\n"
          ],
          "name": "stdout"
        },
        {
          "output_type": "stream",
          "text": [
            " 11%|█▏        | 193/1692 [00:00<00:00, 1917.31it/s]"
          ],
          "name": "stderr"
        },
        {
          "output_type": "stream",
          "text": [
            "Evaluating on validation set...\n"
          ],
          "name": "stdout"
        },
        {
          "output_type": "stream",
          "text": [
            "100%|██████████| 1692/1692 [00:01<00:00, 1007.07it/s]\n"
          ],
          "name": "stderr"
        },
        {
          "output_type": "stream",
          "text": [
            "-----------------------------------------------------------------------------------------\n",
            "| end of epoch  90 | time 109.80s | valid loss  6.13 | valid ppl   457.61\n",
            "-----------------------------------------------------------------------------------------\n",
            "| epoch 91 | step 10000/16309 | loss 7.4186 | lr 0.00100 | ngrams/sec 11638.2 | eta 0h1m9s\n"
          ],
          "name": "stdout"
        },
        {
          "output_type": "stream",
          "text": [
            " 11%|█▏        | 193/1692 [00:00<00:00, 1914.42it/s]"
          ],
          "name": "stderr"
        },
        {
          "output_type": "stream",
          "text": [
            "Evaluating on validation set...\n"
          ],
          "name": "stdout"
        },
        {
          "output_type": "stream",
          "text": [
            "100%|██████████| 1692/1692 [00:01<00:00, 996.08it/s]\n"
          ],
          "name": "stderr"
        },
        {
          "output_type": "stream",
          "text": [
            "-----------------------------------------------------------------------------------------\n",
            "| end of epoch  91 | time 110.28s | valid loss  6.13 | valid ppl   461.24\n",
            "-----------------------------------------------------------------------------------------\n",
            "| epoch 92 | step 10000/16309 | loss 7.4020 | lr 0.00100 | ngrams/sec 11583.2 | eta 0h1m9s\n"
          ],
          "name": "stdout"
        },
        {
          "output_type": "stream",
          "text": [
            " 11%|█▏        | 192/1692 [00:00<00:00, 1910.43it/s]"
          ],
          "name": "stderr"
        },
        {
          "output_type": "stream",
          "text": [
            "Evaluating on validation set...\n"
          ],
          "name": "stdout"
        },
        {
          "output_type": "stream",
          "text": [
            "100%|██████████| 1692/1692 [00:01<00:00, 996.18it/s]\n"
          ],
          "name": "stderr"
        },
        {
          "output_type": "stream",
          "text": [
            "-----------------------------------------------------------------------------------------\n",
            "| end of epoch  92 | time 110.07s | valid loss  6.14 | valid ppl   462.39\n",
            "-----------------------------------------------------------------------------------------\n",
            "| epoch 93 | step 10000/16309 | loss 7.4074 | lr 0.00100 | ngrams/sec 11617.3 | eta 0h1m9s\n"
          ],
          "name": "stdout"
        },
        {
          "output_type": "stream",
          "text": [
            " 12%|█▏        | 195/1692 [00:00<00:00, 1949.73it/s]"
          ],
          "name": "stderr"
        },
        {
          "output_type": "stream",
          "text": [
            "Evaluating on validation set...\n"
          ],
          "name": "stdout"
        },
        {
          "output_type": "stream",
          "text": [
            "100%|██████████| 1692/1692 [00:01<00:00, 1004.33it/s]\n"
          ],
          "name": "stderr"
        },
        {
          "output_type": "stream",
          "text": [
            "-----------------------------------------------------------------------------------------\n",
            "| end of epoch  93 | time 110.09s | valid loss  6.14 | valid ppl   465.76\n",
            "-----------------------------------------------------------------------------------------\n",
            "| epoch 94 | step 10000/16309 | loss 7.4005 | lr 0.00100 | ngrams/sec 11629.7 | eta 0h1m9s\n"
          ],
          "name": "stdout"
        },
        {
          "output_type": "stream",
          "text": [
            " 11%|█▏        | 193/1692 [00:00<00:00, 1924.53it/s]"
          ],
          "name": "stderr"
        },
        {
          "output_type": "stream",
          "text": [
            "Evaluating on validation set...\n"
          ],
          "name": "stdout"
        },
        {
          "output_type": "stream",
          "text": [
            "100%|██████████| 1692/1692 [00:01<00:00, 1003.14it/s]\n"
          ],
          "name": "stderr"
        },
        {
          "output_type": "stream",
          "text": [
            "-----------------------------------------------------------------------------------------\n",
            "| end of epoch  94 | time 109.93s | valid loss  6.15 | valid ppl   468.39\n",
            "-----------------------------------------------------------------------------------------\n",
            "| epoch 95 | step 10000/16309 | loss 7.3955 | lr 0.00100 | ngrams/sec 11614.0 | eta 0h1m9s\n"
          ],
          "name": "stdout"
        },
        {
          "output_type": "stream",
          "text": [
            " 11%|█▏        | 193/1692 [00:00<00:00, 1923.32it/s]"
          ],
          "name": "stderr"
        },
        {
          "output_type": "stream",
          "text": [
            "Evaluating on validation set...\n"
          ],
          "name": "stdout"
        },
        {
          "output_type": "stream",
          "text": [
            "100%|██████████| 1692/1692 [00:01<00:00, 997.77it/s]\n"
          ],
          "name": "stderr"
        },
        {
          "output_type": "stream",
          "text": [
            "-----------------------------------------------------------------------------------------\n",
            "| end of epoch  95 | time 110.32s | valid loss  6.14 | valid ppl   462.54\n",
            "-----------------------------------------------------------------------------------------\n",
            "| epoch 96 | step 10000/16309 | loss 7.3877 | lr 0.00100 | ngrams/sec 11609.4 | eta 0h1m9s\n"
          ],
          "name": "stdout"
        },
        {
          "output_type": "stream",
          "text": [
            " 12%|█▏        | 195/1692 [00:00<00:00, 1932.25it/s]"
          ],
          "name": "stderr"
        },
        {
          "output_type": "stream",
          "text": [
            "Evaluating on validation set...\n"
          ],
          "name": "stdout"
        },
        {
          "output_type": "stream",
          "text": [
            "100%|██████████| 1692/1692 [00:01<00:00, 1000.29it/s]\n"
          ],
          "name": "stderr"
        },
        {
          "output_type": "stream",
          "text": [
            "-----------------------------------------------------------------------------------------\n",
            "| end of epoch  96 | time 110.13s | valid loss  6.15 | valid ppl   467.42\n",
            "-----------------------------------------------------------------------------------------\n",
            "| epoch 97 | step 10000/16309 | loss 7.3907 | lr 0.00100 | ngrams/sec 11600.4 | eta 0h1m9s\n"
          ],
          "name": "stdout"
        },
        {
          "output_type": "stream",
          "text": [
            " 11%|█▏        | 192/1692 [00:00<00:00, 1908.53it/s]"
          ],
          "name": "stderr"
        },
        {
          "output_type": "stream",
          "text": [
            "Evaluating on validation set...\n"
          ],
          "name": "stdout"
        },
        {
          "output_type": "stream",
          "text": [
            "100%|██████████| 1692/1692 [00:01<00:00, 1002.50it/s]\n"
          ],
          "name": "stderr"
        },
        {
          "output_type": "stream",
          "text": [
            "-----------------------------------------------------------------------------------------\n",
            "| end of epoch  97 | time 110.10s | valid loss  6.15 | valid ppl   467.71\n",
            "-----------------------------------------------------------------------------------------\n",
            "| epoch 98 | step 10000/16309 | loss 7.3901 | lr 0.00100 | ngrams/sec 11623.8 | eta 0h1m9s\n"
          ],
          "name": "stdout"
        },
        {
          "output_type": "stream",
          "text": [
            " 11%|█▏        | 194/1692 [00:00<00:00, 1939.44it/s]"
          ],
          "name": "stderr"
        },
        {
          "output_type": "stream",
          "text": [
            "Evaluating on validation set...\n"
          ],
          "name": "stdout"
        },
        {
          "output_type": "stream",
          "text": [
            "100%|██████████| 1692/1692 [00:01<00:00, 995.92it/s]\n"
          ],
          "name": "stderr"
        },
        {
          "output_type": "stream",
          "text": [
            "-----------------------------------------------------------------------------------------\n",
            "| end of epoch  98 | time 110.08s | valid loss  6.15 | valid ppl   468.05\n",
            "-----------------------------------------------------------------------------------------\n",
            "| epoch 99 | step 10000/16309 | loss 7.3785 | lr 0.00100 | ngrams/sec 11600.7 | eta 0h1m9s\n"
          ],
          "name": "stdout"
        },
        {
          "output_type": "stream",
          "text": [
            " 11%|█▏        | 194/1692 [00:00<00:00, 1928.01it/s]"
          ],
          "name": "stderr"
        },
        {
          "output_type": "stream",
          "text": [
            "Evaluating on validation set...\n"
          ],
          "name": "stdout"
        },
        {
          "output_type": "stream",
          "text": [
            "100%|██████████| 1692/1692 [00:01<00:00, 1006.96it/s]\n"
          ],
          "name": "stderr"
        },
        {
          "output_type": "stream",
          "text": [
            "-----------------------------------------------------------------------------------------\n",
            "| end of epoch  99 | time 110.13s | valid loss  6.15 | valid ppl   468.95\n",
            "-----------------------------------------------------------------------------------------\n",
            "| epoch 100 | step 10000/16309 | loss 7.3773 | lr 0.00100 | ngrams/sec 11626.7 | eta 0h1m9s\n"
          ],
          "name": "stdout"
        },
        {
          "output_type": "stream",
          "text": [
            " 11%|█▏        | 193/1692 [00:00<00:00, 1920.89it/s]"
          ],
          "name": "stderr"
        },
        {
          "output_type": "stream",
          "text": [
            "Evaluating on validation set...\n"
          ],
          "name": "stdout"
        },
        {
          "output_type": "stream",
          "text": [
            "100%|██████████| 1692/1692 [00:01<00:00, 1003.12it/s]\n",
            " 10%|▉         | 190/1910 [00:00<00:00, 1890.19it/s]"
          ],
          "name": "stderr"
        },
        {
          "output_type": "stream",
          "text": [
            "-----------------------------------------------------------------------------------------\n",
            "| end of epoch 100 | time 110.00s | valid loss  6.16 | valid ppl   471.76\n",
            "-----------------------------------------------------------------------------------------\n",
            "Evaluating on test set...\n"
          ],
          "name": "stdout"
        },
        {
          "output_type": "stream",
          "text": [
            "100%|██████████| 1910/1910 [00:01<00:00, 999.38it/s]"
          ],
          "name": "stderr"
        },
        {
          "output_type": "stream",
          "text": [
            "=========================================================================================\n",
            "| End of training | test loss  6.11 | test ppl   450.79\n",
            "=========================================================================================\n"
          ],
          "name": "stdout"
        },
        {
          "output_type": "stream",
          "text": [
            "\n"
          ],
          "name": "stderr"
        }
      ]
    },
    {
      "cell_type": "code",
      "metadata": {
        "colab": {
          "base_uri": "https://localhost:8080/",
          "height": 34
        },
        "id": "jUqz8keSi6Mi",
        "outputId": "3d31cf96-ab8b-432e-b6e9-3a01517592ec"
      },
      "source": [
        "from google.colab import files\n",
        "files.download('checkpoint.pth')\n",
        "!cp \"checkpoint.pth\" \"gdrive/MyDrive/checkpoint-128.pth\""
      ],
      "execution_count": null,
      "outputs": [
        {
          "output_type": "display_data",
          "data": {
            "application/javascript": [
              "\n",
              "    async function download(id, filename, size) {\n",
              "      if (!google.colab.kernel.accessAllowed) {\n",
              "        return;\n",
              "      }\n",
              "      const div = document.createElement('div');\n",
              "      const label = document.createElement('label');\n",
              "      label.textContent = `Downloading \"${filename}\": `;\n",
              "      div.appendChild(label);\n",
              "      const progress = document.createElement('progress');\n",
              "      progress.max = size;\n",
              "      div.appendChild(progress);\n",
              "      document.body.appendChild(div);\n",
              "\n",
              "      const buffers = [];\n",
              "      let downloaded = 0;\n",
              "\n",
              "      const channel = await google.colab.kernel.comms.open(id);\n",
              "      // Send a message to notify the kernel that we're ready.\n",
              "      channel.send({})\n",
              "\n",
              "      for await (const message of channel.messages) {\n",
              "        // Send a message to notify the kernel that we're ready.\n",
              "        channel.send({})\n",
              "        if (message.buffers) {\n",
              "          for (const buffer of message.buffers) {\n",
              "            buffers.push(buffer);\n",
              "            downloaded += buffer.byteLength;\n",
              "            progress.value = downloaded;\n",
              "          }\n",
              "        }\n",
              "      }\n",
              "      const blob = new Blob(buffers, {type: 'application/binary'});\n",
              "      const a = document.createElement('a');\n",
              "      a.href = window.URL.createObjectURL(blob);\n",
              "      a.download = filename;\n",
              "      div.appendChild(a);\n",
              "      a.click();\n",
              "      div.remove();\n",
              "    }\n",
              "  "
            ],
            "text/plain": [
              "<IPython.core.display.Javascript object>"
            ]
          },
          "metadata": {
            "tags": []
          }
        },
        {
          "output_type": "display_data",
          "data": {
            "application/javascript": [
              "download(\"download_126fb24a-c9d4-4d6c-95a4-e065d84b41db\", \"checkpoint.pth\", 47497730)"
            ],
            "text/plain": [
              "<IPython.core.display.Javascript object>"
            ]
          },
          "metadata": {
            "tags": []
          }
        }
      ]
    },
    {
      "cell_type": "markdown",
      "metadata": {
        "id": "v3ttFGoKoBR4"
      },
      "source": [
        "# Generate"
      ]
    },
    {
      "cell_type": "code",
      "metadata": {
        "id": "bVk-BCi3oCqJ"
      },
      "source": [
        "!cp \"gdrive/MyDrive/checkpoint-128.pth\" \"checkpoint.pth\" "
      ],
      "execution_count": 9,
      "outputs": []
    },
    {
      "cell_type": "code",
      "metadata": {
        "colab": {
          "base_uri": "https://localhost:8080/"
        },
        "id": "5dbTkANgv5AN",
        "outputId": "8b8589cc-5c6e-485c-9aae-78ea7144c526"
      },
      "source": [
        "import torch \n",
        "# Model parameters.\n",
        "class Args:\n",
        "    data = 'gdrive/MyDrive/wikitext-2'\n",
        "    checkpoint = 'checkpoint.pth'\n",
        "    outf = 'generated.txt'\n",
        "    #words = 1000\n",
        "    seed = 42\n",
        "    cuda = True\n",
        "    temperature = 1.0 # temperature - higher will increase diversity\n",
        "    log_interval = 10 # reporting interval\n",
        "    words = 100\n",
        "args = Args()\n",
        "\n",
        "# Set the random seed manually for reproducibility.\n",
        "torch.manual_seed(args.seed)\n",
        "if torch.cuda.is_available():\n",
        "    if not args.cuda:\n",
        "        print(\"WARNING: You have a CUDA device, so you should probably run with --cuda\")\n",
        "\n",
        "device = torch.device(\"cuda\" if args.cuda else \"cpu\")\n",
        "\n",
        "if args.temperature < 1e-3:\n",
        "    parser.error(\"--temperature has to be greater or equal 1e-3\")\n",
        "\n",
        "model.load_state_dict(torch.load(args.checkpoint))\n",
        "print(model)\n",
        "model.eval()\n",
        "\n",
        "ntokens = n_class\n",
        "input_idx = 104#torch.randint(ntokens, (1, 1), dtype=torch.long).to(device)\n",
        "# input_idx = torch.autograd.Variable(torch.t(torch.randint(ntokens, (1, 7), dtype=torch.long))).to(device)\n",
        "input_words = [corpus.dictionary.idx2word[i] for i in train_data[input_idx:order+input_idx, 0]]\n",
        "input = torch.tensor([i for i in train_data[input_idx:order+input_idx, 0]]).to(device)\n",
        "print(input)\n",
        "print(input_words)"
      ],
      "execution_count": 10,
      "outputs": [
        {
          "output_type": "stream",
          "text": [
            "FNNModel(\n",
            "  (embeddings): Embedding(28912, 200)\n",
            "  (linear1): Linear(in_features=1400, out_features=200, bias=True)\n",
            "  (linear2): Linear(in_features=200, out_features=28912, bias=True)\n",
            "  (dropout): Dropout(p=0.5, inplace=False)\n",
            ")\n",
            "tensor([27, 63, 64, 65, 66, 17, 67], device='cuda:0')\n",
            "['a', 'penal', 'military', 'unit', 'serving', 'the', 'nation']\n"
          ],
          "name": "stdout"
        }
      ]
    },
    {
      "cell_type": "code",
      "metadata": {
        "colab": {
          "base_uri": "https://localhost:8080/"
        },
        "id": "Dbo0u8vePGHv",
        "outputId": "add92560-18c1-4405-939c-e58c4dec8dda"
      },
      "source": [
        "glue = ' '\n",
        "start = None\n",
        "with open(args.outf, 'w') as outf:\n",
        "    for i in range(args.words):\n",
        "        output = model(input)\n",
        "        word_weights = output.squeeze().div(args.temperature).exp().cpu()\n",
        "        # if args.no_unk:\n",
        "        #     word_weights[corpus.dictionary.w2i[unk]] = 0\n",
        "        word_idx = torch.multinomial(word_weights, 1)[0]\n",
        "        # word_idx = word_idx.data[0]\n",
        "        word = corpus.dictionary.idx2word[word_idx]\n",
        "        print(word)\n",
        "\n",
        "        # ids.append(word_idx)\n",
        "        # input = Variable(torch.LongTensor(ids[-model.order:]).unsqueeze(0))\n",
        "        input.fill_(word_idx)\n",
        "        input = input.cuda() if cuda else input\n",
        "        # print(input)\n",
        "        if word is \"<sos>\": # ignore start of sentence predictns\n",
        "            continue\n",
        "        elif word is \"<eos>\":\n",
        "            outf.write('\\n')\n",
        "        else:\n",
        "            outf.write(word + glue)\n",
        "\n",
        "        if i % args.log_interval == 0:\n",
        "            print('| Generated {}/{} words'.format(i, args.words))"
      ],
      "execution_count": 11,
      "outputs": [
        {
          "output_type": "stream",
          "text": [
            "at\n",
            "| Generated 0/100 words\n",
            "the\n",
            "assembly\n",
            "most\n",
            "1995\n",
            "credits\n",
            "produced\n",
            "special\n",
            "black\n",
            "british\n",
            "out\n",
            "| Generated 10/100 words\n",
            "it\n",
            "almost\n",
            "develop\n",
            "above\n",
            "between\n",
            "russian\n",
            ",\n",
            "and\n",
            "due\n",
            "historical\n",
            "| Generated 20/100 words\n",
            "made\n",
            "large\n",
            "pacific\n",
            "became\n",
            ".\n",
            "from\n",
            "latter\n",
            "better\n",
            "church\n",
            ",\n",
            "| Generated 30/100 words\n",
            "cheese\n",
            "believed\n",
            "be\n",
            "same\n",
            "<unk>\n",
            "<unk>\n",
            "japanese\n",
            "fashion\n",
            "relationship\n",
            "shiva\n",
            "| Generated 40/100 words\n",
            "could\n",
            "12\n",
            "speed\n",
            "throughout\n",
            "rare\n",
            "\"\n",
            "included\n",
            "£\n",
            "without\n",
            "these\n",
            "| Generated 50/100 words\n",
            "due\n",
            "risk\n",
            "just\n",
            "another\n",
            "macleod\n",
            "defeated\n",
            "21st\n",
            "any\n",
            "usually\n",
            "us\n",
            "| Generated 60/100 words\n",
            "moved\n",
            "by\n",
            "her\n",
            "differences\n",
            "found\n",
            "building\n",
            ",\n",
            "hero\n",
            "guitar\n",
            "guitar\n",
            "| Generated 70/100 words\n",
            ",\n",
            "director\n",
            "who\n",
            "worked\n",
            "themes\n",
            "<eos>\n",
            "weather\n",
            "week\n",
            "did\n",
            "expected\n",
            "| Generated 80/100 words\n",
            "<unk>\n",
            "comic\n",
            "stages\n",
            "this\n",
            "level\n",
            "continued\n",
            "population\n",
            "located\n",
            "the\n",
            "altar\n",
            "| Generated 90/100 words\n",
            "<unk>\n",
            "@,@\n",
            "million\n",
            "emergency\n",
            "ocean\n",
            "open\n",
            "population\n",
            "which\n",
            "introduced\n"
          ],
          "name": "stdout"
        }
      ]
    },
    {
      "cell_type": "code",
      "metadata": {
        "id": "RzQ6XBeFUir3"
      },
      "source": [
        "!cp \"generated.txt\" \"gdrive/MyDrive/generated-128.txt\""
      ],
      "execution_count": 12,
      "outputs": []
    },
    {
      "cell_type": "code",
      "metadata": {
        "id": "SvlIAv1HGKQ3"
      },
      "source": [
        "drive.flush_and_unmount()"
      ],
      "execution_count": 13,
      "outputs": []
    }
  ]
}