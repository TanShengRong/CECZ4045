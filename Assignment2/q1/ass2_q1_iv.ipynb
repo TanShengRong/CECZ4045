{
  "nbformat": 4,
  "nbformat_minor": 0,
  "metadata": {
    "colab": {
      "name": "ass2_q1_iv.ipynb",
      "provenance": [],
      "collapsed_sections": []
    },
    "kernelspec": {
      "display_name": "Python 3",
      "name": "python3"
    },
    "accelerator": "GPU"
  },
  "cells": [
    {
      "cell_type": "code",
      "metadata": {
        "colab": {
          "base_uri": "https://localhost:8080/"
        },
        "id": "p6_Z6Mrst7xY",
        "outputId": "5523dc1a-0673-4a11-dd90-9b142ca83520"
      },
      "source": [
        "from google.colab import drive\n",
        "drive.mount('/content/gdrive')"
      ],
      "execution_count": null,
      "outputs": [
        {
          "output_type": "stream",
          "text": [
            "Mounted at /content/gdrive\n"
          ],
          "name": "stdout"
        }
      ]
    },
    {
      "cell_type": "code",
      "metadata": {
        "colab": {
          "base_uri": "https://localhost:8080/"
        },
        "id": "srWCp3saWnHs",
        "outputId": "2770bff8-58f2-4105-a15e-6703975ab002"
      },
      "source": [
        "!ls \"gdrive/MyDrive/Colab_Files/wikitext-2\" # check that it has successfully connected\n",
        "# files should be at ur GDrive inside folder wikitext-2\n",
        "!cp \"gdrive/MyDrive/Colab_Files/wikitext-2/wiki.test.tokens.txt\" \"test.txt\" # copy the files to colab runtime\n",
        "!cp \"gdrive/MyDrive/Colab_Files/wikitext-2/wiki.train.tokens.txt\" \"train.txt\"\n",
        "!cp \"gdrive/MyDrive/Colab_Files/wikitext-2/wiki.valid.tokens.txt\" \"valid.txt\""
      ],
      "execution_count": null,
      "outputs": [
        {
          "output_type": "stream",
          "text": [
            "wiki.test.tokens.txt  wiki.train.tokens.txt  wiki.valid.tokens.txt\n"
          ],
          "name": "stdout"
        }
      ]
    },
    {
      "cell_type": "markdown",
      "metadata": {
        "id": "yDH_IyLyasQC"
      },
      "source": [
        "# Preprocessing"
      ]
    },
    {
      "cell_type": "code",
      "metadata": {
        "id": "6JSW06aZavxI"
      },
      "source": [
        "import os\n",
        "from io import open\n",
        "import torch\n",
        "\n",
        "class Dictionary(object):\n",
        "    def __init__(self):\n",
        "        self.word2idx = {}\n",
        "        self.idx2word = []\n",
        "\n",
        "    def add_word(self, word):\n",
        "        if word not in self.word2idx:\n",
        "            self.idx2word.append(word)\n",
        "            self.word2idx[word] = len(self.idx2word) - 1\n",
        "        return self.word2idx[word]\n",
        "\n",
        "    def __len__(self):\n",
        "        return len(self.idx2word)\n",
        "\n",
        "\n",
        "class Corpus(object):\n",
        "    def __init__(self, path):\n",
        "        self.dictionary = Dictionary()\n",
        "        self.train = self.tokenize(os.path.join(path, 'train.txt'))\n",
        "        self.valid = self.tokenize(os.path.join(path, 'valid.txt'))\n",
        "        self.test = self.tokenize(os.path.join(path, 'test.txt'))\n",
        "\n",
        "    def tokenize(self, path):\n",
        "        \"\"\"Tokenizes a text file.\"\"\"\n",
        "        assert os.path.exists(path)\n",
        "        # Add words to the dictionary\n",
        "        with open(path, 'r', encoding=\"utf8\") as f:\n",
        "            for line in f:\n",
        "                # remove the headers e.g.  = = Description = = \n",
        "                if line.startswith('='): \n",
        "                    continue\n",
        "                words = line.split() + ['<eos>']\n",
        "                for word in words:\n",
        "                    self.dictionary.add_word(word.lower()) # make to lower\n",
        "\n",
        "        # Tokenize file content\n",
        "        with open(path, 'r', encoding=\"utf8\") as f:\n",
        "            idss = []\n",
        "            for line in f:\n",
        "                words = line.split() + ['<eos>']\n",
        "                ids = []\n",
        "                for word in words:\n",
        "                    ids.append(self.dictionary.word2idx[word.lower()]) # make to lower\n",
        "                idss.append(torch.tensor(ids).type(torch.int64))\n",
        "            ids = torch.cat(idss)\n",
        "\n",
        "        return ids\n",
        "    \n",
        "    @property\n",
        "    def vocab_size(self):\n",
        "        return len(self.dictionary.idx2word)"
      ],
      "execution_count": null,
      "outputs": []
    },
    {
      "cell_type": "markdown",
      "metadata": {
        "id": "5BY-5KRizwDS"
      },
      "source": [
        "# Params"
      ]
    },
    {
      "cell_type": "code",
      "metadata": {
        "id": "BujxiynKzz7V"
      },
      "source": [
        "#=== params\n",
        "corpus = Corpus('/content')\n",
        "n_class = corpus.vocab_size\n",
        "n_step = 7 # n-1 in paper\n",
        "n_hidden = 200 # h in paper\n",
        "embed_size = 200       # m in paper\n",
        "batch_size = 512\n",
        "order = n_step # order (int): the order of the language model, i.e. length of the history\n",
        "epochs = 100\n",
        "learning_rate = 0.001\n",
        "cuda = torch.cuda.is_available()\n",
        "seed = 42\n",
        "clip = 2.0\n",
        "#==="
      ],
      "execution_count": null,
      "outputs": []
    },
    {
      "cell_type": "markdown",
      "metadata": {
        "id": "xCn0n7sLb7uU"
      },
      "source": [
        "# Model"
      ]
    },
    {
      "cell_type": "code",
      "metadata": {
        "id": "jf6-SXVscAqs"
      },
      "source": [
        "#== MODEL ==#\n",
        "import math\n",
        "import torch\n",
        "import torch.nn as nn\n",
        "import torch.nn.functional as F\n",
        "\n",
        "'''\n",
        "    the neural model learns the distributed representation of each word \n",
        "    (embedding matrix C) and \n",
        "    the probability function of a word sequence as a function of their distributed representations. \n",
        "    It has a hidden layer with \n",
        "    tanh activation and the output layer is a \n",
        "    Softmax layer. \n",
        "    The output of the model for each \n",
        "    input of (n - 1) previous words are the \n",
        "    probabilities over the |V | words in the vocabulary for the next word.\n",
        "'''\n",
        "class FNNModel(nn.Module):\n",
        "    def __init__(self, vocab_size, embed_size, context_size, no_hidden, dropout=0.5, tie_weight=True):\n",
        "        super(FNNModel,self).__init__()\n",
        "        \"\"\"\n",
        "        Args:\n",
        "            n_class (int): no. of vocabulary\n",
        "            m (int): size of each embedding vector\n",
        "#n-gram models construct tables of conditional probabilities for the next word, \n",
        "#for each one of a large number of contexts, i.e. combinations of the last n − 1 words\n",
        "            n_step (int): n-1 in paper. #n_step + 1 = n-gram. if n_step = 1, bigram\n",
        "            n_hidden (int): no. of hidden units associated with each word\n",
        "        \"\"\"\n",
        "        self.embeddings = nn.Embedding(vocab_size, embed_size)\n",
        "        self.linear1 = nn.Linear(context_size * embed_size, no_hidden)\n",
        "        self.linear2 = nn.Linear(no_hidden, vocab_size)\n",
        "        self.context_size = context_size\n",
        "        self.embed_size = embed_size\n",
        "        self.dropout = nn.Dropout(p=dropout)\n",
        "        if tie_weight:\n",
        "            self.linear2.weight = self.embeddings.weight\n",
        "\n",
        "    def forward(self,inputs):\n",
        "        embeds = self.embeddings(inputs).view((-1, self.context_size * self.embed_size))\n",
        "        hidden_output = self.linear1(embeds)\n",
        "        # hidden_output = self.dropout(hidden_output)\n",
        "        out = hidden_output.tanh()\n",
        "        out = self.dropout(out)\n",
        "        out = self.linear2(out)\n",
        "        log_probs = F.log_softmax(out, dim=1) # [1000, 28912]: softmax on 28912's dim\n",
        "        return log_probs"
      ],
      "execution_count": null,
      "outputs": []
    },
    {
      "cell_type": "markdown",
      "metadata": {
        "id": "qZez81nOa5Iv"
      },
      "source": [
        "# Data Loading"
      ]
    },
    {
      "cell_type": "code",
      "metadata": {
        "id": "xXNNicaihZe5"
      },
      "source": [
        "def batchify(data, batch_size):\n",
        "    # Work out how cleanly we can divide the dataset into args.batch_size parts.\n",
        "    nbatch = data.size(0) // batch_size\n",
        "    # Trim off any extra elements that wouldn't cleanly fit (remainders).\n",
        "    data = data.narrow(0, 0, nbatch * batch_size)\n",
        "    # Evenly divide the data across the batch_size batches.\n",
        "    data = data.view(batch_size, -1).t().contiguous()\n",
        "    return data\n",
        "def get_batch(data, i, order):\n",
        "    x = torch.autograd.Variable(torch.t(data[i:i+order]))\n",
        "    y = torch.autograd.Variable(data[i+order].view(-1))\n",
        "    return x, y\n",
        "def evaluate(data, model, criterion):\n",
        "\tmodel.eval()\n",
        "\ttotal_loss = 0\n",
        "\tn_steps = data.size(0) - order - 1\n",
        "\tfor i in tqdm(range(n_steps)):\n",
        "\t\tx, y = get_batch(data, i, order)\n",
        "\t\tout = model(x)\n",
        "\t\tloss = criterion(out, y)\n",
        "\t\ttotal_loss += loss.data.data\n",
        "\treturn total_loss / n_steps"
      ],
      "execution_count": null,
      "outputs": []
    },
    {
      "cell_type": "code",
      "metadata": {
        "id": "zavgNg0tklRG"
      },
      "source": [
        "def clock_time(s):\n",
        "    h, s = divmod(s, 3600)\n",
        "    m, s = divmod(s, 60)\n",
        "    return int(h), int(m), int(s)"
      ],
      "execution_count": null,
      "outputs": []
    },
    {
      "cell_type": "code",
      "metadata": {
        "colab": {
          "base_uri": "https://localhost:8080/"
        },
        "id": "ztusWxUma4mg",
        "outputId": "1482341f-d766-4be1-b7f3-ee62ca798b1b"
      },
      "source": [
        "import numpy as np\n",
        "import torch.optim as optim\n",
        "from tqdm import tqdm\n",
        "import time\n",
        "\n",
        "\n",
        "train_data = batchify(corpus.train, batch_size)\n",
        "val_data = batchify(corpus.valid, batch_size)\n",
        "test_data = batchify(corpus.test, batch_size)\n",
        "if cuda:\n",
        "\ttrain_data, val_data, test_data = train_data.cuda(), val_data.cuda(), test_data.cuda()\n",
        "print('Using cuda: {}'.format(cuda))\n",
        "print('Size of training set: {:,} tokens'.format(np.prod(train_data.size())))\n",
        "print('Size of validation set: {:,} tokens'.format(np.prod(val_data.size())))\n",
        "print('Size of test set: {:,} tokens'.format(np.prod(test_data.size())))\n",
        "print('Vocabulary size: {:,}'.format(corpus.vocab_size))\n",
        "print('Example data:')\n",
        "for k in range(100, 107):\n",
        "    x = [corpus.dictionary.idx2word[i] for i in train_data[k:order+k, 0]]\n",
        "    y = [corpus.dictionary.idx2word[train_data[k+order, 0]]]\n",
        "    print(x, y)\n",
        "#=== initialise model\n",
        "model = FNNModel(\n",
        "    n_class, \n",
        "    embed_size, \n",
        "    n_step, \n",
        "    n_hidden,\n",
        "    tie_weight=False\n",
        "    )\n",
        "if cuda:\n",
        "  model.cuda()\n",
        "# Display the model's architecture\n",
        "print('Model: \\n', model)\n",
        "criterion = nn.NLLLoss()\n",
        "optimizer = optim.RMSprop(model.parameters(),lr=learning_rate)"
      ],
      "execution_count": null,
      "outputs": [
        {
          "output_type": "stream",
          "text": [
            "Using cuda: True\n",
            "Size of training set: 2,088,448 tokens\n",
            "Size of validation set: 217,600 tokens\n",
            "Size of test set: 245,248 tokens\n",
            "Vocabulary size: 28,912\n",
            "Example data:\n",
            "['\"', 'nameless', '\"', ',', 'a', 'penal', 'military'] ['unit']\n",
            "['nameless', '\"', ',', 'a', 'penal', 'military', 'unit'] ['serving']\n",
            "['\"', ',', 'a', 'penal', 'military', 'unit', 'serving'] ['the']\n",
            "[',', 'a', 'penal', 'military', 'unit', 'serving', 'the'] ['nation']\n",
            "['a', 'penal', 'military', 'unit', 'serving', 'the', 'nation'] ['of']\n",
            "['penal', 'military', 'unit', 'serving', 'the', 'nation', 'of'] ['gallia']\n",
            "['military', 'unit', 'serving', 'the', 'nation', 'of', 'gallia'] ['during']\n",
            "Model: \n",
            " FNNModel(\n",
            "  (embeddings): Embedding(28912, 200)\n",
            "  (linear1): Linear(in_features=1400, out_features=200, bias=True)\n",
            "  (linear2): Linear(in_features=200, out_features=28912, bias=True)\n",
            "  (dropout): Dropout(p=0.5, inplace=False)\n",
            ")\n"
          ],
          "name": "stdout"
        }
      ]
    },
    {
      "cell_type": "code",
      "metadata": {
        "colab": {
          "base_uri": "https://localhost:8080/"
        },
        "id": "y4bxaGvDZwK5",
        "outputId": "90a2f4af-c366-4ce7-c8be-d8e17d1c3e2b"
      },
      "source": [
        "!nvidia-smi"
      ],
      "execution_count": null,
      "outputs": [
        {
          "output_type": "stream",
          "text": [
            "Mon Nov 30 07:58:51 2020       \n",
            "+-----------------------------------------------------------------------------+\n",
            "| NVIDIA-SMI 455.38       Driver Version: 418.67       CUDA Version: 10.1     |\n",
            "|-------------------------------+----------------------+----------------------+\n",
            "| GPU  Name        Persistence-M| Bus-Id        Disp.A | Volatile Uncorr. ECC |\n",
            "| Fan  Temp  Perf  Pwr:Usage/Cap|         Memory-Usage | GPU-Util  Compute M. |\n",
            "|                               |                      |               MIG M. |\n",
            "|===============================+======================+======================|\n",
            "|   0  Tesla T4            Off  | 00000000:00:04.0 Off |                    0 |\n",
            "| N/A   51C    P0    28W /  70W |   1035MiB / 15079MiB |      3%      Default |\n",
            "|                               |                      |                 ERR! |\n",
            "+-------------------------------+----------------------+----------------------+\n",
            "                                                                               \n",
            "+-----------------------------------------------------------------------------+\n",
            "| Processes:                                                                  |\n",
            "|  GPU   GI   CI        PID   Type   Process name                  GPU Memory |\n",
            "|        ID   ID                                                   Usage      |\n",
            "|=============================================================================|\n",
            "|  No running processes found                                                 |\n",
            "+-----------------------------------------------------------------------------+\n"
          ],
          "name": "stdout"
        }
      ]
    },
    {
      "cell_type": "code",
      "metadata": {
        "id": "ArPR9kzyblhd",
        "colab": {
          "base_uri": "https://localhost:8080/"
        },
        "outputId": "8831e06f-2529-4ac5-fdf8-ddd414a10b61"
      },
      "source": [
        "# Set seed for reproducibility.\n",
        "torch.manual_seed(seed)\n",
        "np.random.seed(seed)\n",
        "parameters = [param for param in model.parameters() if param.requires_grad]\n",
        "# Training\n",
        "print('Training...')\n",
        "losses = dict(train=[], val=[])\n",
        "\n",
        "# initialize the early_stopping counter\n",
        "stop_counter = 0\n",
        "\n",
        "lr = learning_rate # so that can alter later if SGD not descending \n",
        "best_val_loss = None\n",
        "\n",
        "num_steps = train_data.size(0) - order - 1\n",
        "batch_order = np.arange(num_steps)\n",
        "\n",
        "t0 = time.time()\n",
        "try:\n",
        "    for epoch in range(1, epochs+1):\n",
        "        model.train()\n",
        "        epoch_start_time = time.time()\n",
        "        np.random.shuffle(batch_order)\n",
        "\n",
        "        for step in range(1, num_steps+1):\n",
        "            idx = batch_order[step-1]\n",
        "            x, y = get_batch(train_data, idx, order)\n",
        "\n",
        "            model.zero_grad()\n",
        "            # Forward pass\n",
        "            logits = model(x)\n",
        "            loss = criterion(logits, y)\n",
        "            debug = False\n",
        "            #   if debug:\n",
        "            #     # Debugging softmax approximation.\n",
        "            #     xe = nn.CrossEntropyLoss()\n",
        "            #     true_loss = xe(logits, y)\n",
        "            #     print('approx {:>3.2f}, true {:>3.2f}, diff {:>3.4f}'.format(\n",
        "            #       loss.data, true_loss.data, true_loss.data - loss.data))\n",
        "\n",
        "            # Update parameters\n",
        "            loss.backward()\n",
        "\n",
        "            torch.nn.utils.clip_grad_norm_(model.parameters(), clip) # reduce exploding grad\n",
        "            optimizer.step()\n",
        "\n",
        "            # Save loss.\n",
        "            losses['train'].append(loss.cpu().data)\n",
        "            print_every = 500\n",
        "            if step % print_every == 0:\n",
        "                avg_loss = sum(losses['train'][-print_every:]) / print_every\n",
        "                t1 = time.time()\n",
        "                steps_per_second = print_every / (t1 - t0)\n",
        "                print('| epoch {} | step {}/{} | loss {:.4f} | lr {:.5f} | '\n",
        "                    'ngrams/sec {:.1f} | eta {}h{}m{}s'.format(\n",
        "                    epoch, step, num_steps, avg_loss, lr,\n",
        "                    steps_per_second * batch_size,\n",
        "                    *clock_time((num_steps - step) / steps_per_second)))\n",
        "                t0 = time.time()\n",
        "            \n",
        "        print('Evaluating on validation set...')\n",
        "        val_loss = evaluate(val_data, model, criterion)\n",
        "        losses['val'].append(val_loss)\n",
        "        print('-' * 89)\n",
        "        print('| end of epoch {:3d} | time {:5.2f}s | valid loss {:5.2f} | valid ppl {:8.2f}'.format(\n",
        "            epoch, (time.time() - epoch_start_time), val_loss, torch.exp(val_loss)))\n",
        "        print('-' * 89)\n",
        "\n",
        "        if not best_val_loss or val_loss < best_val_loss:\n",
        "            stop_counter = 0 # reset counter\n",
        "            best_val_loss = val_loss\n",
        "            print('| saving current state of model ...')\n",
        "            torch.save(model.state_dict(), 'checkpoint.pth')\n",
        "            #=== download checkpoint file\n",
        "            # files.download('checkpoint.pth')\n",
        "except KeyboardInterrupt:\n",
        "    print('-' * 89)\n",
        "    print('Exiting from training early')\n",
        "    \n",
        "# write_losses(losses['train'], args.log_dir, name='train-losses')\n",
        "# write_losses(losses['val'], args.log_dir, name='val-losses')\n",
        "\n",
        "print('Evaluating on test set...')\n",
        "test_loss = evaluate(test_data, model, criterion)\n",
        "print('=' * 89)\n",
        "print('| End of training | test loss {:5.2f} | test ppl {:8.2f}'.format(\n",
        "    test_loss, torch.exp(test_loss)))\n",
        "print('=' * 89)"
      ],
      "execution_count": null,
      "outputs": [
        {
          "output_type": "stream",
          "text": [
            "Training...\n",
            "| epoch 1 | step 500/4071 | loss 6.9354 | lr 0.00100 | ngrams/sec 39885.9 | eta 0h0m45s\n",
            "| epoch 1 | step 1000/4071 | loss 6.6793 | lr 0.00100 | ngrams/sec 41547.3 | eta 0h0m37s\n",
            "| epoch 1 | step 1500/4071 | loss 6.5985 | lr 0.00100 | ngrams/sec 41345.5 | eta 0h0m31s\n",
            "| epoch 1 | step 2000/4071 | loss 6.5587 | lr 0.00100 | ngrams/sec 41172.8 | eta 0h0m25s\n",
            "| epoch 1 | step 2500/4071 | loss 6.5265 | lr 0.00100 | ngrams/sec 40907.0 | eta 0h0m19s\n",
            "| epoch 1 | step 3000/4071 | loss 6.4907 | lr 0.00100 | ngrams/sec 40646.2 | eta 0h0m13s\n",
            "| epoch 1 | step 3500/4071 | loss 6.4688 | lr 0.00100 | ngrams/sec 40481.1 | eta 0h0m7s\n",
            "| epoch 1 | step 4000/4071 | loss 6.4302 | lr 0.00100 | ngrams/sec 40246.3 | eta 0h0m0s\n"
          ],
          "name": "stdout"
        },
        {
          "output_type": "stream",
          "text": [
            " 29%|██▉       | 120/417 [00:00<00:00, 1189.97it/s]"
          ],
          "name": "stderr"
        },
        {
          "output_type": "stream",
          "text": [
            "Evaluating on validation set...\n"
          ],
          "name": "stdout"
        },
        {
          "output_type": "stream",
          "text": [
            "100%|██████████| 417/417 [00:01<00:00, 315.50it/s]\n"
          ],
          "name": "stderr"
        },
        {
          "output_type": "stream",
          "text": [
            "-----------------------------------------------------------------------------------------\n",
            "| end of epoch   1 | time 52.46s | valid loss  5.88 | valid ppl   358.63\n",
            "-----------------------------------------------------------------------------------------\n",
            "| saving current state of model ...\n",
            "| epoch 2 | step 500/4071 | loss 6.2749 | lr 0.00100 | ngrams/sec 28027.9 | eta 0h1m5s\n",
            "| epoch 2 | step 1000/4071 | loss 6.2735 | lr 0.00100 | ngrams/sec 39607.3 | eta 0h0m39s\n",
            "| epoch 2 | step 1500/4071 | loss 6.2881 | lr 0.00100 | ngrams/sec 38953.6 | eta 0h0m33s\n",
            "| epoch 2 | step 2000/4071 | loss 6.2472 | lr 0.00100 | ngrams/sec 38213.9 | eta 0h0m27s\n",
            "| epoch 2 | step 2500/4071 | loss 6.2363 | lr 0.00100 | ngrams/sec 37580.9 | eta 0h0m21s\n",
            "| epoch 2 | step 3000/4071 | loss 6.1945 | lr 0.00100 | ngrams/sec 37567.9 | eta 0h0m14s\n",
            "| epoch 2 | step 3500/4071 | loss 6.1717 | lr 0.00100 | ngrams/sec 37758.0 | eta 0h0m7s\n",
            "| epoch 2 | step 4000/4071 | loss 6.1582 | lr 0.00100 | ngrams/sec 37963.7 | eta 0h0m0s\n"
          ],
          "name": "stdout"
        },
        {
          "output_type": "stream",
          "text": [
            " 29%|██▊       | 119/417 [00:00<00:00, 1140.14it/s]"
          ],
          "name": "stderr"
        },
        {
          "output_type": "stream",
          "text": [
            "Evaluating on validation set...\n"
          ],
          "name": "stdout"
        },
        {
          "output_type": "stream",
          "text": [
            "100%|██████████| 417/417 [00:01<00:00, 289.94it/s]\n"
          ],
          "name": "stderr"
        },
        {
          "output_type": "stream",
          "text": [
            "-----------------------------------------------------------------------------------------\n",
            "| end of epoch   2 | time 55.70s | valid loss  5.70 | valid ppl   298.81\n",
            "-----------------------------------------------------------------------------------------\n",
            "| saving current state of model ...\n",
            "| epoch 3 | step 500/4071 | loss 6.0167 | lr 0.00100 | ngrams/sec 26846.6 | eta 0h1m8s\n",
            "| epoch 3 | step 1000/4071 | loss 6.0285 | lr 0.00100 | ngrams/sec 39001.9 | eta 0h0m40s\n",
            "| epoch 3 | step 1500/4071 | loss 6.0192 | lr 0.00100 | ngrams/sec 39181.9 | eta 0h0m33s\n",
            "| epoch 3 | step 2000/4071 | loss 5.9845 | lr 0.00100 | ngrams/sec 39102.8 | eta 0h0m27s\n",
            "| epoch 3 | step 2500/4071 | loss 5.9900 | lr 0.00100 | ngrams/sec 38876.0 | eta 0h0m20s\n",
            "| epoch 3 | step 3000/4071 | loss 5.9565 | lr 0.00100 | ngrams/sec 38532.1 | eta 0h0m14s\n",
            "| epoch 3 | step 3500/4071 | loss 5.9304 | lr 0.00100 | ngrams/sec 38304.3 | eta 0h0m7s\n",
            "| epoch 3 | step 4000/4071 | loss 5.9135 | lr 0.00100 | ngrams/sec 38189.7 | eta 0h0m0s\n"
          ],
          "name": "stdout"
        },
        {
          "output_type": "stream",
          "text": [
            " 28%|██▊       | 118/417 [00:00<00:00, 1148.69it/s]"
          ],
          "name": "stderr"
        },
        {
          "output_type": "stream",
          "text": [
            "Evaluating on validation set...\n"
          ],
          "name": "stdout"
        },
        {
          "output_type": "stream",
          "text": [
            "100%|██████████| 417/417 [00:01<00:00, 285.47it/s]\n"
          ],
          "name": "stderr"
        },
        {
          "output_type": "stream",
          "text": [
            "-----------------------------------------------------------------------------------------\n",
            "| end of epoch   3 | time 55.28s | valid loss  5.56 | valid ppl   259.59\n",
            "-----------------------------------------------------------------------------------------\n",
            "| saving current state of model ...\n",
            "| epoch 4 | step 500/4071 | loss 5.7691 | lr 0.00100 | ngrams/sec 26519.7 | eta 0h1m8s\n",
            "| epoch 4 | step 1000/4071 | loss 5.7767 | lr 0.00100 | ngrams/sec 37965.9 | eta 0h0m41s\n",
            "| epoch 4 | step 1500/4071 | loss 5.7925 | lr 0.00100 | ngrams/sec 38025.3 | eta 0h0m34s\n",
            "| epoch 4 | step 2000/4071 | loss 5.7820 | lr 0.00100 | ngrams/sec 38082.1 | eta 0h0m27s\n",
            "| epoch 4 | step 2500/4071 | loss 5.7947 | lr 0.00100 | ngrams/sec 38380.4 | eta 0h0m20s\n",
            "| epoch 4 | step 3000/4071 | loss 5.7733 | lr 0.00100 | ngrams/sec 38452.3 | eta 0h0m14s\n",
            "| epoch 4 | step 3500/4071 | loss 5.7806 | lr 0.00100 | ngrams/sec 38550.1 | eta 0h0m7s\n",
            "| epoch 4 | step 4000/4071 | loss 5.7699 | lr 0.00100 | ngrams/sec 38432.7 | eta 0h0m0s\n"
          ],
          "name": "stdout"
        },
        {
          "output_type": "stream",
          "text": [
            " 29%|██▊       | 119/417 [00:00<00:00, 1169.07it/s]"
          ],
          "name": "stderr"
        },
        {
          "output_type": "stream",
          "text": [
            "Evaluating on validation set...\n"
          ],
          "name": "stdout"
        },
        {
          "output_type": "stream",
          "text": [
            "100%|██████████| 417/417 [00:01<00:00, 290.84it/s]\n"
          ],
          "name": "stderr"
        },
        {
          "output_type": "stream",
          "text": [
            "-----------------------------------------------------------------------------------------\n",
            "| end of epoch   4 | time 55.92s | valid loss  5.50 | valid ppl   245.44\n",
            "-----------------------------------------------------------------------------------------\n",
            "| saving current state of model ...\n",
            "| epoch 5 | step 500/4071 | loss 5.6475 | lr 0.00100 | ngrams/sec 26804.5 | eta 0h1m8s\n",
            "| epoch 5 | step 1000/4071 | loss 5.6724 | lr 0.00100 | ngrams/sec 38355.8 | eta 0h0m40s\n",
            "| epoch 5 | step 1500/4071 | loss 5.6871 | lr 0.00100 | ngrams/sec 38262.7 | eta 0h0m34s\n",
            "| epoch 5 | step 2000/4071 | loss 5.6889 | lr 0.00100 | ngrams/sec 38200.7 | eta 0h0m27s\n",
            "| epoch 5 | step 2500/4071 | loss 5.6916 | lr 0.00100 | ngrams/sec 38204.4 | eta 0h0m21s\n",
            "| epoch 5 | step 3000/4071 | loss 5.6925 | lr 0.00100 | ngrams/sec 38163.9 | eta 0h0m14s\n",
            "| epoch 5 | step 3500/4071 | loss 5.7158 | lr 0.00100 | ngrams/sec 38175.1 | eta 0h0m7s\n",
            "| epoch 5 | step 4000/4071 | loss 5.7185 | lr 0.00100 | ngrams/sec 38211.6 | eta 0h0m0s\n"
          ],
          "name": "stdout"
        },
        {
          "output_type": "stream",
          "text": [
            " 28%|██▊       | 118/417 [00:00<00:00, 1169.74it/s]"
          ],
          "name": "stderr"
        },
        {
          "output_type": "stream",
          "text": [
            "Evaluating on validation set...\n"
          ],
          "name": "stdout"
        },
        {
          "output_type": "stream",
          "text": [
            "100%|██████████| 417/417 [00:01<00:00, 287.45it/s]\n"
          ],
          "name": "stderr"
        },
        {
          "output_type": "stream",
          "text": [
            "-----------------------------------------------------------------------------------------\n",
            "| end of epoch   5 | time 55.93s | valid loss  5.48 | valid ppl   238.85\n",
            "-----------------------------------------------------------------------------------------\n",
            "| saving current state of model ...\n",
            "| epoch 6 | step 500/4071 | loss 5.5847 | lr 0.00100 | ngrams/sec 26689.3 | eta 0h1m8s\n",
            "| epoch 6 | step 1000/4071 | loss 5.6038 | lr 0.00100 | ngrams/sec 38163.5 | eta 0h0m41s\n",
            "| epoch 6 | step 1500/4071 | loss 5.6321 | lr 0.00100 | ngrams/sec 38157.7 | eta 0h0m34s\n",
            "| epoch 6 | step 2000/4071 | loss 5.6460 | lr 0.00100 | ngrams/sec 38136.3 | eta 0h0m27s\n",
            "| epoch 6 | step 2500/4071 | loss 5.6512 | lr 0.00100 | ngrams/sec 38108.4 | eta 0h0m21s\n",
            "| epoch 6 | step 3000/4071 | loss 5.6665 | lr 0.00100 | ngrams/sec 38125.9 | eta 0h0m14s\n",
            "| epoch 6 | step 3500/4071 | loss 5.6770 | lr 0.00100 | ngrams/sec 38087.6 | eta 0h0m7s\n",
            "| epoch 6 | step 4000/4071 | loss 5.6713 | lr 0.00100 | ngrams/sec 38026.8 | eta 0h0m0s\n"
          ],
          "name": "stdout"
        },
        {
          "output_type": "stream",
          "text": [
            " 29%|██▊       | 119/417 [00:00<00:00, 1139.93it/s]"
          ],
          "name": "stderr"
        },
        {
          "output_type": "stream",
          "text": [
            "Evaluating on validation set...\n"
          ],
          "name": "stdout"
        },
        {
          "output_type": "stream",
          "text": [
            "100%|██████████| 417/417 [00:01<00:00, 286.97it/s]\n"
          ],
          "name": "stderr"
        },
        {
          "output_type": "stream",
          "text": [
            "-----------------------------------------------------------------------------------------\n",
            "| end of epoch   6 | time 56.09s | valid loss  5.46 | valid ppl   235.74\n",
            "-----------------------------------------------------------------------------------------\n",
            "| saving current state of model ...\n",
            "| epoch 7 | step 500/4071 | loss 5.5584 | lr 0.00100 | ngrams/sec 26730.1 | eta 0h1m8s\n",
            "| epoch 7 | step 1000/4071 | loss 5.5833 | lr 0.00100 | ngrams/sec 38169.5 | eta 0h0m41s\n",
            "| epoch 7 | step 1500/4071 | loss 5.6072 | lr 0.00100 | ngrams/sec 38188.5 | eta 0h0m34s\n",
            "| epoch 7 | step 2000/4071 | loss 5.6051 | lr 0.00100 | ngrams/sec 38142.5 | eta 0h0m27s\n",
            "| epoch 7 | step 2500/4071 | loss 5.6379 | lr 0.00100 | ngrams/sec 38174.0 | eta 0h0m21s\n",
            "| epoch 7 | step 3000/4071 | loss 5.6362 | lr 0.00100 | ngrams/sec 38197.4 | eta 0h0m14s\n",
            "| epoch 7 | step 3500/4071 | loss 5.6501 | lr 0.00100 | ngrams/sec 38124.3 | eta 0h0m7s\n",
            "| epoch 7 | step 4000/4071 | loss 5.6470 | lr 0.00100 | ngrams/sec 38145.5 | eta 0h0m0s\n"
          ],
          "name": "stdout"
        },
        {
          "output_type": "stream",
          "text": [
            " 29%|██▊       | 119/417 [00:00<00:00, 1137.81it/s]"
          ],
          "name": "stderr"
        },
        {
          "output_type": "stream",
          "text": [
            "Evaluating on validation set...\n"
          ],
          "name": "stdout"
        },
        {
          "output_type": "stream",
          "text": [
            "100%|██████████| 417/417 [00:01<00:00, 287.10it/s]\n"
          ],
          "name": "stderr"
        },
        {
          "output_type": "stream",
          "text": [
            "-----------------------------------------------------------------------------------------\n",
            "| end of epoch   7 | time 56.02s | valid loss  5.46 | valid ppl   234.23\n",
            "-----------------------------------------------------------------------------------------\n",
            "| saving current state of model ...\n",
            "| epoch 8 | step 500/4071 | loss 5.5321 | lr 0.00100 | ngrams/sec 26702.2 | eta 0h1m8s\n",
            "| epoch 8 | step 1000/4071 | loss 5.5492 | lr 0.00100 | ngrams/sec 38363.5 | eta 0h0m40s\n",
            "| epoch 8 | step 1500/4071 | loss 5.5829 | lr 0.00100 | ngrams/sec 38239.9 | eta 0h0m34s\n",
            "| epoch 8 | step 2000/4071 | loss 5.5976 | lr 0.00100 | ngrams/sec 38245.8 | eta 0h0m27s\n",
            "| epoch 8 | step 2500/4071 | loss 5.6081 | lr 0.00100 | ngrams/sec 38336.4 | eta 0h0m20s\n",
            "| epoch 8 | step 3000/4071 | loss 5.6190 | lr 0.00100 | ngrams/sec 38232.0 | eta 0h0m14s\n",
            "| epoch 8 | step 3500/4071 | loss 5.6225 | lr 0.00100 | ngrams/sec 38077.5 | eta 0h0m7s\n",
            "| epoch 8 | step 4000/4071 | loss 5.6275 | lr 0.00100 | ngrams/sec 38090.7 | eta 0h0m0s\n"
          ],
          "name": "stdout"
        },
        {
          "output_type": "stream",
          "text": [
            " 28%|██▊       | 118/417 [00:00<00:00, 1169.21it/s]"
          ],
          "name": "stderr"
        },
        {
          "output_type": "stream",
          "text": [
            "Evaluating on validation set...\n"
          ],
          "name": "stdout"
        },
        {
          "output_type": "stream",
          "text": [
            "100%|██████████| 417/417 [00:01<00:00, 286.82it/s]\n"
          ],
          "name": "stderr"
        },
        {
          "output_type": "stream",
          "text": [
            "-----------------------------------------------------------------------------------------\n",
            "| end of epoch   8 | time 55.93s | valid loss  5.45 | valid ppl   232.35\n",
            "-----------------------------------------------------------------------------------------\n",
            "| saving current state of model ...\n",
            "| epoch 9 | step 500/4071 | loss 5.4980 | lr 0.00100 | ngrams/sec 26738.3 | eta 0h1m8s\n",
            "| epoch 9 | step 1000/4071 | loss 5.5328 | lr 0.00100 | ngrams/sec 38326.4 | eta 0h0m41s\n",
            "| epoch 9 | step 1500/4071 | loss 5.5598 | lr 0.00100 | ngrams/sec 38218.6 | eta 0h0m34s\n",
            "| epoch 9 | step 2000/4071 | loss 5.5710 | lr 0.00100 | ngrams/sec 38169.9 | eta 0h0m27s\n",
            "| epoch 9 | step 2500/4071 | loss 5.5913 | lr 0.00100 | ngrams/sec 38147.2 | eta 0h0m21s\n",
            "| epoch 9 | step 3000/4071 | loss 5.5979 | lr 0.00100 | ngrams/sec 38262.1 | eta 0h0m14s\n",
            "| epoch 9 | step 3500/4071 | loss 5.6012 | lr 0.00100 | ngrams/sec 38220.9 | eta 0h0m7s\n",
            "| epoch 9 | step 4000/4071 | loss 5.6189 | lr 0.00100 | ngrams/sec 38346.3 | eta 0h0m0s\n"
          ],
          "name": "stdout"
        },
        {
          "output_type": "stream",
          "text": [
            " 29%|██▊       | 119/417 [00:00<00:00, 1143.70it/s]"
          ],
          "name": "stderr"
        },
        {
          "output_type": "stream",
          "text": [
            "Evaluating on validation set...\n"
          ],
          "name": "stdout"
        },
        {
          "output_type": "stream",
          "text": [
            "100%|██████████| 417/417 [00:01<00:00, 288.02it/s]\n"
          ],
          "name": "stderr"
        },
        {
          "output_type": "stream",
          "text": [
            "-----------------------------------------------------------------------------------------\n",
            "| end of epoch   9 | time 55.91s | valid loss  5.44 | valid ppl   231.56\n",
            "-----------------------------------------------------------------------------------------\n",
            "| saving current state of model ...\n",
            "| epoch 10 | step 500/4071 | loss 5.4837 | lr 0.00100 | ngrams/sec 26755.5 | eta 0h1m8s\n",
            "| epoch 10 | step 1000/4071 | loss 5.5118 | lr 0.00100 | ngrams/sec 38130.7 | eta 0h0m41s\n",
            "| epoch 10 | step 1500/4071 | loss 5.5345 | lr 0.00100 | ngrams/sec 38343.1 | eta 0h0m34s\n",
            "| epoch 10 | step 2000/4071 | loss 5.5510 | lr 0.00100 | ngrams/sec 38170.7 | eta 0h0m27s\n",
            "| epoch 10 | step 2500/4071 | loss 5.5713 | lr 0.00100 | ngrams/sec 38146.5 | eta 0h0m21s\n",
            "| epoch 10 | step 3000/4071 | loss 5.5867 | lr 0.00100 | ngrams/sec 38119.3 | eta 0h0m14s\n",
            "| epoch 10 | step 3500/4071 | loss 5.5830 | lr 0.00100 | ngrams/sec 38377.2 | eta 0h0m7s\n",
            "| epoch 10 | step 4000/4071 | loss 5.6089 | lr 0.00100 | ngrams/sec 38371.6 | eta 0h0m0s\n"
          ],
          "name": "stdout"
        },
        {
          "output_type": "stream",
          "text": [
            " 28%|██▊       | 118/417 [00:00<00:00, 1171.85it/s]"
          ],
          "name": "stderr"
        },
        {
          "output_type": "stream",
          "text": [
            "Evaluating on validation set...\n"
          ],
          "name": "stdout"
        },
        {
          "output_type": "stream",
          "text": [
            "100%|██████████| 417/417 [00:01<00:00, 288.33it/s]\n"
          ],
          "name": "stderr"
        },
        {
          "output_type": "stream",
          "text": [
            "-----------------------------------------------------------------------------------------\n",
            "| end of epoch  10 | time 55.91s | valid loss  5.44 | valid ppl   229.96\n",
            "-----------------------------------------------------------------------------------------\n",
            "| saving current state of model ...\n",
            "| epoch 11 | step 500/4071 | loss 5.4572 | lr 0.00100 | ngrams/sec 26788.1 | eta 0h1m8s\n",
            "| epoch 11 | step 1000/4071 | loss 5.4949 | lr 0.00100 | ngrams/sec 38320.8 | eta 0h0m41s\n",
            "| epoch 11 | step 1500/4071 | loss 5.5275 | lr 0.00100 | ngrams/sec 38400.0 | eta 0h0m34s\n",
            "| epoch 11 | step 2000/4071 | loss 5.5384 | lr 0.00100 | ngrams/sec 38259.9 | eta 0h0m27s\n",
            "| epoch 11 | step 2500/4071 | loss 5.5447 | lr 0.00100 | ngrams/sec 38305.7 | eta 0h0m20s\n",
            "| epoch 11 | step 3000/4071 | loss 5.5520 | lr 0.00100 | ngrams/sec 38297.1 | eta 0h0m14s\n",
            "| epoch 11 | step 3500/4071 | loss 5.5691 | lr 0.00100 | ngrams/sec 38441.0 | eta 0h0m7s\n",
            "| epoch 11 | step 4000/4071 | loss 5.5836 | lr 0.00100 | ngrams/sec 38267.7 | eta 0h0m0s\n"
          ],
          "name": "stdout"
        },
        {
          "output_type": "stream",
          "text": [
            " 29%|██▊       | 119/417 [00:00<00:00, 1149.96it/s]"
          ],
          "name": "stderr"
        },
        {
          "output_type": "stream",
          "text": [
            "Evaluating on validation set...\n"
          ],
          "name": "stdout"
        },
        {
          "output_type": "stream",
          "text": [
            "100%|██████████| 417/417 [00:01<00:00, 289.81it/s]\n"
          ],
          "name": "stderr"
        },
        {
          "output_type": "stream",
          "text": [
            "-----------------------------------------------------------------------------------------\n",
            "| end of epoch  11 | time 55.78s | valid loss  5.43 | valid ppl   229.15\n",
            "-----------------------------------------------------------------------------------------\n",
            "| saving current state of model ...\n",
            "| epoch 12 | step 500/4071 | loss 5.4398 | lr 0.00100 | ngrams/sec 26822.2 | eta 0h1m8s\n",
            "| epoch 12 | step 1000/4071 | loss 5.4886 | lr 0.00100 | ngrams/sec 38409.3 | eta 0h0m40s\n",
            "| epoch 12 | step 1500/4071 | loss 5.4947 | lr 0.00100 | ngrams/sec 38436.0 | eta 0h0m34s\n",
            "| epoch 12 | step 2000/4071 | loss 5.5112 | lr 0.00100 | ngrams/sec 38289.5 | eta 0h0m27s\n",
            "| epoch 12 | step 2500/4071 | loss 5.5279 | lr 0.00100 | ngrams/sec 38386.3 | eta 0h0m20s\n",
            "| epoch 12 | step 3000/4071 | loss 5.5514 | lr 0.00100 | ngrams/sec 38391.2 | eta 0h0m14s\n",
            "| epoch 12 | step 3500/4071 | loss 5.5588 | lr 0.00100 | ngrams/sec 38412.4 | eta 0h0m7s\n",
            "| epoch 12 | step 4000/4071 | loss 5.5661 | lr 0.00100 | ngrams/sec 38330.8 | eta 0h0m0s\n"
          ],
          "name": "stdout"
        },
        {
          "output_type": "stream",
          "text": [
            " 29%|██▊       | 119/417 [00:00<00:00, 1160.18it/s]"
          ],
          "name": "stderr"
        },
        {
          "output_type": "stream",
          "text": [
            "Evaluating on validation set...\n"
          ],
          "name": "stdout"
        },
        {
          "output_type": "stream",
          "text": [
            "100%|██████████| 417/417 [00:01<00:00, 288.88it/s]\n"
          ],
          "name": "stderr"
        },
        {
          "output_type": "stream",
          "text": [
            "-----------------------------------------------------------------------------------------\n",
            "| end of epoch  12 | time 55.72s | valid loss  5.43 | valid ppl   228.70\n",
            "-----------------------------------------------------------------------------------------\n",
            "| saving current state of model ...\n",
            "| epoch 13 | step 500/4071 | loss 5.4319 | lr 0.00100 | ngrams/sec 26790.9 | eta 0h1m8s\n",
            "| epoch 13 | step 1000/4071 | loss 5.4542 | lr 0.00100 | ngrams/sec 38268.8 | eta 0h0m41s\n",
            "| epoch 13 | step 1500/4071 | loss 5.4861 | lr 0.00100 | ngrams/sec 38416.2 | eta 0h0m34s\n",
            "| epoch 13 | step 2000/4071 | loss 5.5079 | lr 0.00100 | ngrams/sec 38234.4 | eta 0h0m27s\n",
            "| epoch 13 | step 2500/4071 | loss 5.5179 | lr 0.00100 | ngrams/sec 38425.4 | eta 0h0m20s\n",
            "| epoch 13 | step 3000/4071 | loss 5.5274 | lr 0.00100 | ngrams/sec 38229.2 | eta 0h0m14s\n",
            "| epoch 13 | step 3500/4071 | loss 5.5321 | lr 0.00100 | ngrams/sec 38451.3 | eta 0h0m7s\n",
            "| epoch 13 | step 4000/4071 | loss 5.5458 | lr 0.00100 | ngrams/sec 38444.8 | eta 0h0m0s\n"
          ],
          "name": "stdout"
        },
        {
          "output_type": "stream",
          "text": [
            " 29%|██▊       | 119/417 [00:00<00:00, 1144.41it/s]"
          ],
          "name": "stderr"
        },
        {
          "output_type": "stream",
          "text": [
            "Evaluating on validation set...\n"
          ],
          "name": "stdout"
        },
        {
          "output_type": "stream",
          "text": [
            "100%|██████████| 417/417 [00:01<00:00, 290.79it/s]\n"
          ],
          "name": "stderr"
        },
        {
          "output_type": "stream",
          "text": [
            "-----------------------------------------------------------------------------------------\n",
            "| end of epoch  13 | time 55.74s | valid loss  5.43 | valid ppl   227.91\n",
            "-----------------------------------------------------------------------------------------\n",
            "| saving current state of model ...\n",
            "| epoch 14 | step 500/4071 | loss 5.4096 | lr 0.00100 | ngrams/sec 26835.8 | eta 0h1m8s\n",
            "| epoch 14 | step 1000/4071 | loss 5.4465 | lr 0.00100 | ngrams/sec 38399.3 | eta 0h0m40s\n",
            "| epoch 14 | step 1500/4071 | loss 5.4757 | lr 0.00100 | ngrams/sec 38440.5 | eta 0h0m34s\n",
            "| epoch 14 | step 2000/4071 | loss 5.4825 | lr 0.00100 | ngrams/sec 38354.2 | eta 0h0m27s\n",
            "| epoch 14 | step 2500/4071 | loss 5.5029 | lr 0.00100 | ngrams/sec 38294.8 | eta 0h0m21s\n",
            "| epoch 14 | step 3000/4071 | loss 5.5129 | lr 0.00100 | ngrams/sec 38350.0 | eta 0h0m14s\n",
            "| epoch 14 | step 3500/4071 | loss 5.5066 | lr 0.00100 | ngrams/sec 38465.7 | eta 0h0m7s\n",
            "| epoch 14 | step 4000/4071 | loss 5.5396 | lr 0.00100 | ngrams/sec 38379.4 | eta 0h0m0s\n"
          ],
          "name": "stdout"
        },
        {
          "output_type": "stream",
          "text": [
            " 28%|██▊       | 118/417 [00:00<00:00, 1143.97it/s]"
          ],
          "name": "stderr"
        },
        {
          "output_type": "stream",
          "text": [
            "Evaluating on validation set...\n"
          ],
          "name": "stdout"
        },
        {
          "output_type": "stream",
          "text": [
            "100%|██████████| 417/417 [00:01<00:00, 288.64it/s]\n"
          ],
          "name": "stderr"
        },
        {
          "output_type": "stream",
          "text": [
            "-----------------------------------------------------------------------------------------\n",
            "| end of epoch  14 | time 55.71s | valid loss  5.43 | valid ppl   227.42\n",
            "-----------------------------------------------------------------------------------------\n",
            "| saving current state of model ...\n",
            "| epoch 15 | step 500/4071 | loss 5.3874 | lr 0.00100 | ngrams/sec 26866.5 | eta 0h1m8s\n",
            "| epoch 15 | step 1000/4071 | loss 5.4257 | lr 0.00100 | ngrams/sec 38313.5 | eta 0h0m41s\n",
            "| epoch 15 | step 1500/4071 | loss 5.4496 | lr 0.00100 | ngrams/sec 38427.2 | eta 0h0m34s\n",
            "| epoch 15 | step 2000/4071 | loss 5.4632 | lr 0.00100 | ngrams/sec 38473.7 | eta 0h0m27s\n",
            "| epoch 15 | step 2500/4071 | loss 5.4851 | lr 0.00100 | ngrams/sec 38560.3 | eta 0h0m20s\n",
            "| epoch 15 | step 3000/4071 | loss 5.5047 | lr 0.00100 | ngrams/sec 38445.6 | eta 0h0m14s\n",
            "| epoch 15 | step 3500/4071 | loss 5.5119 | lr 0.00100 | ngrams/sec 38480.8 | eta 0h0m7s\n",
            "| epoch 15 | step 4000/4071 | loss 5.5168 | lr 0.00100 | ngrams/sec 38494.8 | eta 0h0m0s\n"
          ],
          "name": "stdout"
        },
        {
          "output_type": "stream",
          "text": [
            " 29%|██▊       | 119/417 [00:00<00:00, 1139.32it/s]"
          ],
          "name": "stderr"
        },
        {
          "output_type": "stream",
          "text": [
            "Evaluating on validation set...\n"
          ],
          "name": "stdout"
        },
        {
          "output_type": "stream",
          "text": [
            "100%|██████████| 417/417 [00:01<00:00, 290.46it/s]\n"
          ],
          "name": "stderr"
        },
        {
          "output_type": "stream",
          "text": [
            "-----------------------------------------------------------------------------------------\n",
            "| end of epoch  15 | time 55.60s | valid loss  5.42 | valid ppl   226.02\n",
            "-----------------------------------------------------------------------------------------\n",
            "| saving current state of model ...\n",
            "| epoch 16 | step 500/4071 | loss 5.3701 | lr 0.00100 | ngrams/sec 26889.3 | eta 0h1m7s\n",
            "| epoch 16 | step 1000/4071 | loss 5.4128 | lr 0.00100 | ngrams/sec 38490.8 | eta 0h0m40s\n",
            "| epoch 16 | step 1500/4071 | loss 5.4514 | lr 0.00100 | ngrams/sec 38527.8 | eta 0h0m34s\n",
            "| epoch 16 | step 2000/4071 | loss 5.4502 | lr 0.00100 | ngrams/sec 38462.4 | eta 0h0m27s\n",
            "| epoch 16 | step 2500/4071 | loss 5.4704 | lr 0.00100 | ngrams/sec 38492.3 | eta 0h0m20s\n",
            "| epoch 16 | step 3000/4071 | loss 5.4816 | lr 0.00100 | ngrams/sec 38384.2 | eta 0h0m14s\n",
            "| epoch 16 | step 3500/4071 | loss 5.4965 | lr 0.00100 | ngrams/sec 38530.3 | eta 0h0m7s\n",
            "| epoch 16 | step 4000/4071 | loss 5.5014 | lr 0.00100 | ngrams/sec 38491.6 | eta 0h0m0s\n"
          ],
          "name": "stdout"
        },
        {
          "output_type": "stream",
          "text": [
            " 28%|██▊       | 118/417 [00:00<00:00, 1175.30it/s]"
          ],
          "name": "stderr"
        },
        {
          "output_type": "stream",
          "text": [
            "Evaluating on validation set...\n"
          ],
          "name": "stdout"
        },
        {
          "output_type": "stream",
          "text": [
            "100%|██████████| 417/417 [00:01<00:00, 289.24it/s]\n"
          ],
          "name": "stderr"
        },
        {
          "output_type": "stream",
          "text": [
            "-----------------------------------------------------------------------------------------\n",
            "| end of epoch  16 | time 55.58s | valid loss  5.42 | valid ppl   226.09\n",
            "-----------------------------------------------------------------------------------------\n",
            "| epoch 17 | step 500/4071 | loss 5.3609 | lr 0.00100 | ngrams/sec 27129.3 | eta 0h1m7s\n",
            "| epoch 17 | step 1000/4071 | loss 5.3948 | lr 0.00100 | ngrams/sec 38480.0 | eta 0h0m40s\n",
            "| epoch 17 | step 1500/4071 | loss 5.4252 | lr 0.00100 | ngrams/sec 38382.6 | eta 0h0m34s\n",
            "| epoch 17 | step 2000/4071 | loss 5.4478 | lr 0.00100 | ngrams/sec 38545.1 | eta 0h0m27s\n",
            "| epoch 17 | step 2500/4071 | loss 5.4565 | lr 0.00100 | ngrams/sec 38472.8 | eta 0h0m20s\n",
            "| epoch 17 | step 3000/4071 | loss 5.4837 | lr 0.00100 | ngrams/sec 38627.3 | eta 0h0m14s\n",
            "| epoch 17 | step 3500/4071 | loss 5.4682 | lr 0.00100 | ngrams/sec 38589.0 | eta 0h0m7s\n",
            "| epoch 17 | step 4000/4071 | loss 5.4814 | lr 0.00100 | ngrams/sec 38555.4 | eta 0h0m0s\n"
          ],
          "name": "stdout"
        },
        {
          "output_type": "stream",
          "text": [
            " 28%|██▊       | 118/417 [00:00<00:00, 1130.25it/s]"
          ],
          "name": "stderr"
        },
        {
          "output_type": "stream",
          "text": [
            "Evaluating on validation set...\n"
          ],
          "name": "stdout"
        },
        {
          "output_type": "stream",
          "text": [
            "100%|██████████| 417/417 [00:01<00:00, 289.35it/s]\n"
          ],
          "name": "stderr"
        },
        {
          "output_type": "stream",
          "text": [
            "-----------------------------------------------------------------------------------------\n",
            "| end of epoch  17 | time 55.54s | valid loss  5.42 | valid ppl   225.41\n",
            "-----------------------------------------------------------------------------------------\n",
            "| saving current state of model ...\n",
            "| epoch 18 | step 500/4071 | loss 5.3466 | lr 0.00100 | ngrams/sec 26964.8 | eta 0h1m7s\n",
            "| epoch 18 | step 1000/4071 | loss 5.3764 | lr 0.00100 | ngrams/sec 38479.2 | eta 0h0m40s\n",
            "| epoch 18 | step 1500/4071 | loss 5.4193 | lr 0.00100 | ngrams/sec 38422.1 | eta 0h0m34s\n",
            "| epoch 18 | step 2000/4071 | loss 5.4220 | lr 0.00100 | ngrams/sec 38504.8 | eta 0h0m27s\n",
            "| epoch 18 | step 2500/4071 | loss 5.4374 | lr 0.00100 | ngrams/sec 38647.4 | eta 0h0m20s\n",
            "| epoch 18 | step 3000/4071 | loss 5.4586 | lr 0.00100 | ngrams/sec 38472.5 | eta 0h0m14s\n",
            "| epoch 18 | step 3500/4071 | loss 5.4498 | lr 0.00100 | ngrams/sec 38642.3 | eta 0h0m7s\n",
            "| epoch 18 | step 4000/4071 | loss 5.4830 | lr 0.00100 | ngrams/sec 38650.8 | eta 0h0m0s\n"
          ],
          "name": "stdout"
        },
        {
          "output_type": "stream",
          "text": [
            " 29%|██▊       | 119/417 [00:00<00:00, 1156.33it/s]"
          ],
          "name": "stderr"
        },
        {
          "output_type": "stream",
          "text": [
            "Evaluating on validation set...\n"
          ],
          "name": "stdout"
        },
        {
          "output_type": "stream",
          "text": [
            "100%|██████████| 417/417 [00:01<00:00, 290.97it/s]\n"
          ],
          "name": "stderr"
        },
        {
          "output_type": "stream",
          "text": [
            "-----------------------------------------------------------------------------------------\n",
            "| end of epoch  18 | time 55.46s | valid loss  5.42 | valid ppl   225.76\n",
            "-----------------------------------------------------------------------------------------\n",
            "| epoch 19 | step 500/4071 | loss 5.3296 | lr 0.00100 | ngrams/sec 27199.7 | eta 0h1m7s\n",
            "| epoch 19 | step 1000/4071 | loss 5.3827 | lr 0.00100 | ngrams/sec 38500.7 | eta 0h0m40s\n",
            "| epoch 19 | step 1500/4071 | loss 5.4034 | lr 0.00100 | ngrams/sec 38696.9 | eta 0h0m34s\n",
            "| epoch 19 | step 2000/4071 | loss 5.4223 | lr 0.00100 | ngrams/sec 38449.2 | eta 0h0m27s\n",
            "| epoch 19 | step 2500/4071 | loss 5.4208 | lr 0.00100 | ngrams/sec 38646.8 | eta 0h0m20s\n",
            "| epoch 19 | step 3000/4071 | loss 5.4340 | lr 0.00100 | ngrams/sec 38568.7 | eta 0h0m14s\n",
            "| epoch 19 | step 3500/4071 | loss 5.4466 | lr 0.00100 | ngrams/sec 38690.3 | eta 0h0m7s\n",
            "| epoch 19 | step 4000/4071 | loss 5.4514 | lr 0.00100 | ngrams/sec 38597.3 | eta 0h0m0s\n"
          ],
          "name": "stdout"
        },
        {
          "output_type": "stream",
          "text": [
            " 29%|██▊       | 119/417 [00:00<00:00, 1136.76it/s]"
          ],
          "name": "stderr"
        },
        {
          "output_type": "stream",
          "text": [
            "Evaluating on validation set...\n"
          ],
          "name": "stdout"
        },
        {
          "output_type": "stream",
          "text": [
            "100%|██████████| 417/417 [00:01<00:00, 289.98it/s]\n"
          ],
          "name": "stderr"
        },
        {
          "output_type": "stream",
          "text": [
            "-----------------------------------------------------------------------------------------\n",
            "| end of epoch  19 | time 55.44s | valid loss  5.41 | valid ppl   224.12\n",
            "-----------------------------------------------------------------------------------------\n",
            "| saving current state of model ...\n",
            "| epoch 20 | step 500/4071 | loss 5.3144 | lr 0.00100 | ngrams/sec 26894.7 | eta 0h1m7s\n",
            "| epoch 20 | step 1000/4071 | loss 5.3533 | lr 0.00100 | ngrams/sec 38514.3 | eta 0h0m40s\n",
            "| epoch 20 | step 1500/4071 | loss 5.3756 | lr 0.00100 | ngrams/sec 38349.1 | eta 0h0m34s\n",
            "| epoch 20 | step 2000/4071 | loss 5.3899 | lr 0.00100 | ngrams/sec 38405.0 | eta 0h0m27s\n",
            "| epoch 20 | step 2500/4071 | loss 5.4240 | lr 0.00100 | ngrams/sec 38438.2 | eta 0h0m20s\n",
            "| epoch 20 | step 3000/4071 | loss 5.4423 | lr 0.00100 | ngrams/sec 38432.7 | eta 0h0m14s\n",
            "| epoch 20 | step 3500/4071 | loss 5.4380 | lr 0.00100 | ngrams/sec 38367.8 | eta 0h0m7s\n",
            "| epoch 20 | step 4000/4071 | loss 5.4461 | lr 0.00100 | ngrams/sec 38249.6 | eta 0h0m0s\n"
          ],
          "name": "stdout"
        },
        {
          "output_type": "stream",
          "text": [
            " 28%|██▊       | 118/417 [00:00<00:00, 1147.44it/s]"
          ],
          "name": "stderr"
        },
        {
          "output_type": "stream",
          "text": [
            "Evaluating on validation set...\n"
          ],
          "name": "stdout"
        },
        {
          "output_type": "stream",
          "text": [
            "100%|██████████| 417/417 [00:01<00:00, 288.43it/s]\n"
          ],
          "name": "stderr"
        },
        {
          "output_type": "stream",
          "text": [
            "-----------------------------------------------------------------------------------------\n",
            "| end of epoch  20 | time 55.68s | valid loss  5.42 | valid ppl   225.53\n",
            "-----------------------------------------------------------------------------------------\n",
            "| epoch 21 | step 500/4071 | loss 5.3077 | lr 0.00100 | ngrams/sec 27083.3 | eta 0h1m7s\n",
            "| epoch 21 | step 1000/4071 | loss 5.3516 | lr 0.00100 | ngrams/sec 38336.7 | eta 0h0m41s\n",
            "| epoch 21 | step 1500/4071 | loss 5.3692 | lr 0.00100 | ngrams/sec 38363.2 | eta 0h0m34s\n",
            "| epoch 21 | step 2000/4071 | loss 5.3761 | lr 0.00100 | ngrams/sec 38294.2 | eta 0h0m27s\n",
            "| epoch 21 | step 2500/4071 | loss 5.4014 | lr 0.00100 | ngrams/sec 38202.0 | eta 0h0m21s\n",
            "| epoch 21 | step 3000/4071 | loss 5.4200 | lr 0.00100 | ngrams/sec 38182.5 | eta 0h0m14s\n",
            "| epoch 21 | step 3500/4071 | loss 5.4087 | lr 0.00100 | ngrams/sec 38173.4 | eta 0h0m7s\n",
            "| epoch 21 | step 4000/4071 | loss 5.4256 | lr 0.00100 | ngrams/sec 38172.4 | eta 0h0m0s\n"
          ],
          "name": "stdout"
        },
        {
          "output_type": "stream",
          "text": [
            " 29%|██▊       | 119/417 [00:00<00:00, 1141.06it/s]"
          ],
          "name": "stderr"
        },
        {
          "output_type": "stream",
          "text": [
            "Evaluating on validation set...\n"
          ],
          "name": "stdout"
        },
        {
          "output_type": "stream",
          "text": [
            "100%|██████████| 417/417 [00:01<00:00, 287.73it/s]\n"
          ],
          "name": "stderr"
        },
        {
          "output_type": "stream",
          "text": [
            "-----------------------------------------------------------------------------------------\n",
            "| end of epoch  21 | time 55.90s | valid loss  5.41 | valid ppl   224.54\n",
            "-----------------------------------------------------------------------------------------\n",
            "| epoch 22 | step 500/4071 | loss 5.3040 | lr 0.00100 | ngrams/sec 26969.6 | eta 0h1m7s\n",
            "| epoch 22 | step 1000/4071 | loss 5.3205 | lr 0.00100 | ngrams/sec 38250.2 | eta 0h0m41s\n",
            "| epoch 22 | step 1500/4071 | loss 5.3562 | lr 0.00100 | ngrams/sec 38395.7 | eta 0h0m34s\n",
            "| epoch 22 | step 2000/4071 | loss 5.3617 | lr 0.00100 | ngrams/sec 38368.6 | eta 0h0m27s\n",
            "| epoch 22 | step 2500/4071 | loss 5.3866 | lr 0.00100 | ngrams/sec 38357.1 | eta 0h0m20s\n",
            "| epoch 22 | step 3000/4071 | loss 5.4178 | lr 0.00100 | ngrams/sec 38363.0 | eta 0h0m14s\n",
            "| epoch 22 | step 3500/4071 | loss 5.3940 | lr 0.00100 | ngrams/sec 38366.8 | eta 0h0m7s\n",
            "| epoch 22 | step 4000/4071 | loss 5.4277 | lr 0.00100 | ngrams/sec 38590.9 | eta 0h0m0s\n"
          ],
          "name": "stdout"
        },
        {
          "output_type": "stream",
          "text": [
            " 29%|██▊       | 119/417 [00:00<00:00, 1160.26it/s]"
          ],
          "name": "stderr"
        },
        {
          "output_type": "stream",
          "text": [
            "Evaluating on validation set...\n"
          ],
          "name": "stdout"
        },
        {
          "output_type": "stream",
          "text": [
            "100%|██████████| 417/417 [00:01<00:00, 290.20it/s]\n"
          ],
          "name": "stderr"
        },
        {
          "output_type": "stream",
          "text": [
            "-----------------------------------------------------------------------------------------\n",
            "| end of epoch  22 | time 55.74s | valid loss  5.41 | valid ppl   224.73\n",
            "-----------------------------------------------------------------------------------------\n",
            "| epoch 23 | step 500/4071 | loss 5.2913 | lr 0.00100 | ngrams/sec 27122.3 | eta 0h1m7s\n",
            "| epoch 23 | step 1000/4071 | loss 5.3130 | lr 0.00100 | ngrams/sec 38492.6 | eta 0h0m40s\n",
            "| epoch 23 | step 1500/4071 | loss 5.3522 | lr 0.00100 | ngrams/sec 38517.8 | eta 0h0m34s\n",
            "| epoch 23 | step 2000/4071 | loss 5.3522 | lr 0.00100 | ngrams/sec 38369.5 | eta 0h0m27s\n",
            "| epoch 23 | step 2500/4071 | loss 5.3531 | lr 0.00100 | ngrams/sec 38484.8 | eta 0h0m20s\n",
            "| epoch 23 | step 3000/4071 | loss 5.4041 | lr 0.00100 | ngrams/sec 38512.9 | eta 0h0m14s\n",
            "| epoch 23 | step 3500/4071 | loss 5.4108 | lr 0.00100 | ngrams/sec 38562.6 | eta 0h0m7s\n",
            "| epoch 23 | step 4000/4071 | loss 5.4036 | lr 0.00100 | ngrams/sec 38531.6 | eta 0h0m0s\n"
          ],
          "name": "stdout"
        },
        {
          "output_type": "stream",
          "text": [
            " 28%|██▊       | 118/417 [00:00<00:00, 1162.43it/s]"
          ],
          "name": "stderr"
        },
        {
          "output_type": "stream",
          "text": [
            "Evaluating on validation set...\n"
          ],
          "name": "stdout"
        },
        {
          "output_type": "stream",
          "text": [
            "100%|██████████| 417/417 [00:01<00:00, 290.24it/s]\n"
          ],
          "name": "stderr"
        },
        {
          "output_type": "stream",
          "text": [
            "-----------------------------------------------------------------------------------------\n",
            "| end of epoch  23 | time 55.57s | valid loss  5.41 | valid ppl   224.49\n",
            "-----------------------------------------------------------------------------------------\n",
            "| epoch 24 | step 500/4071 | loss 5.2883 | lr 0.00100 | ngrams/sec 27199.3 | eta 0h1m7s\n",
            "| epoch 24 | step 1000/4071 | loss 5.3048 | lr 0.00100 | ngrams/sec 38645.2 | eta 0h0m40s\n",
            "| epoch 24 | step 1500/4071 | loss 5.3278 | lr 0.00100 | ngrams/sec 38636.7 | eta 0h0m34s\n",
            "| epoch 24 | step 2000/4071 | loss 5.3418 | lr 0.00100 | ngrams/sec 38622.2 | eta 0h0m27s\n",
            "| epoch 24 | step 2500/4071 | loss 5.3624 | lr 0.00100 | ngrams/sec 38736.3 | eta 0h0m20s\n",
            "| epoch 24 | step 3000/4071 | loss 5.3694 | lr 0.00100 | ngrams/sec 38763.5 | eta 0h0m14s\n",
            "| epoch 24 | step 3500/4071 | loss 5.3891 | lr 0.00100 | ngrams/sec 38498.3 | eta 0h0m7s\n",
            "| epoch 24 | step 4000/4071 | loss 5.3972 | lr 0.00100 | ngrams/sec 38839.2 | eta 0h0m0s\n"
          ],
          "name": "stdout"
        },
        {
          "output_type": "stream",
          "text": [
            " 28%|██▊       | 118/417 [00:00<00:00, 1178.99it/s]"
          ],
          "name": "stderr"
        },
        {
          "output_type": "stream",
          "text": [
            "Evaluating on validation set...\n"
          ],
          "name": "stdout"
        },
        {
          "output_type": "stream",
          "text": [
            "100%|██████████| 417/417 [00:01<00:00, 291.08it/s]\n"
          ],
          "name": "stderr"
        },
        {
          "output_type": "stream",
          "text": [
            "-----------------------------------------------------------------------------------------\n",
            "| end of epoch  24 | time 55.33s | valid loss  5.41 | valid ppl   224.60\n",
            "-----------------------------------------------------------------------------------------\n",
            "| epoch 25 | step 500/4071 | loss 5.2530 | lr 0.00100 | ngrams/sec 27295.2 | eta 0h1m6s\n",
            "| epoch 25 | step 1000/4071 | loss 5.2964 | lr 0.00100 | ngrams/sec 38681.3 | eta 0h0m40s\n",
            "| epoch 25 | step 1500/4071 | loss 5.3247 | lr 0.00100 | ngrams/sec 38729.9 | eta 0h0m33s\n",
            "| epoch 25 | step 2000/4071 | loss 5.3375 | lr 0.00100 | ngrams/sec 38681.7 | eta 0h0m27s\n",
            "| epoch 25 | step 2500/4071 | loss 5.3469 | lr 0.00100 | ngrams/sec 38770.1 | eta 0h0m20s\n",
            "| epoch 25 | step 3000/4071 | loss 5.3592 | lr 0.00100 | ngrams/sec 38834.9 | eta 0h0m14s\n",
            "| epoch 25 | step 3500/4071 | loss 5.3695 | lr 0.00100 | ngrams/sec 38725.5 | eta 0h0m7s\n",
            "| epoch 25 | step 4000/4071 | loss 5.3883 | lr 0.00100 | ngrams/sec 38784.4 | eta 0h0m0s\n"
          ],
          "name": "stdout"
        },
        {
          "output_type": "stream",
          "text": [
            " 28%|██▊       | 118/417 [00:00<00:00, 1175.43it/s]"
          ],
          "name": "stderr"
        },
        {
          "output_type": "stream",
          "text": [
            "Evaluating on validation set...\n"
          ],
          "name": "stdout"
        },
        {
          "output_type": "stream",
          "text": [
            "100%|██████████| 417/417 [00:01<00:00, 292.19it/s]\n"
          ],
          "name": "stderr"
        },
        {
          "output_type": "stream",
          "text": [
            "-----------------------------------------------------------------------------------------\n",
            "| end of epoch  25 | time 55.22s | valid loss  5.41 | valid ppl   224.47\n",
            "-----------------------------------------------------------------------------------------\n",
            "| epoch 26 | step 500/4071 | loss 5.2421 | lr 0.00100 | ngrams/sec 27252.1 | eta 0h1m7s\n",
            "| epoch 26 | step 1000/4071 | loss 5.2902 | lr 0.00100 | ngrams/sec 38866.4 | eta 0h0m40s\n",
            "| epoch 26 | step 1500/4071 | loss 5.3056 | lr 0.00100 | ngrams/sec 38609.4 | eta 0h0m34s\n",
            "| epoch 26 | step 2000/4071 | loss 5.3352 | lr 0.00100 | ngrams/sec 38646.4 | eta 0h0m27s\n",
            "| epoch 26 | step 2500/4071 | loss 5.3373 | lr 0.00100 | ngrams/sec 38492.2 | eta 0h0m20s\n",
            "| epoch 26 | step 3000/4071 | loss 5.3452 | lr 0.00100 | ngrams/sec 38708.2 | eta 0h0m14s\n",
            "| epoch 26 | step 3500/4071 | loss 5.3556 | lr 0.00100 | ngrams/sec 38526.2 | eta 0h0m7s\n",
            "| epoch 26 | step 4000/4071 | loss 5.3627 | lr 0.00100 | ngrams/sec 38675.1 | eta 0h0m0s\n"
          ],
          "name": "stdout"
        },
        {
          "output_type": "stream",
          "text": [
            " 29%|██▊       | 119/417 [00:00<00:00, 1147.14it/s]"
          ],
          "name": "stderr"
        },
        {
          "output_type": "stream",
          "text": [
            "Evaluating on validation set...\n"
          ],
          "name": "stdout"
        },
        {
          "output_type": "stream",
          "text": [
            "100%|██████████| 417/417 [00:01<00:00, 291.28it/s]\n"
          ],
          "name": "stderr"
        },
        {
          "output_type": "stream",
          "text": [
            "-----------------------------------------------------------------------------------------\n",
            "| end of epoch  26 | time 55.36s | valid loss  5.41 | valid ppl   223.89\n",
            "-----------------------------------------------------------------------------------------\n",
            "| saving current state of model ...\n",
            "| epoch 27 | step 500/4071 | loss 5.2396 | lr 0.00100 | ngrams/sec 26967.1 | eta 0h1m7s\n",
            "| epoch 27 | step 1000/4071 | loss 5.2805 | lr 0.00100 | ngrams/sec 38502.3 | eta 0h0m40s\n",
            "| epoch 27 | step 1500/4071 | loss 5.2833 | lr 0.00100 | ngrams/sec 38540.8 | eta 0h0m34s\n",
            "| epoch 27 | step 2000/4071 | loss 5.3154 | lr 0.00100 | ngrams/sec 38614.6 | eta 0h0m27s\n",
            "| epoch 27 | step 2500/4071 | loss 5.3163 | lr 0.00100 | ngrams/sec 38572.0 | eta 0h0m20s\n",
            "| epoch 27 | step 3000/4071 | loss 5.3382 | lr 0.00100 | ngrams/sec 38559.0 | eta 0h0m14s\n",
            "| epoch 27 | step 3500/4071 | loss 5.3541 | lr 0.00100 | ngrams/sec 38499.6 | eta 0h0m7s\n",
            "| epoch 27 | step 4000/4071 | loss 5.3582 | lr 0.00100 | ngrams/sec 38502.4 | eta 0h0m0s\n"
          ],
          "name": "stdout"
        },
        {
          "output_type": "stream",
          "text": [
            " 29%|██▊       | 119/417 [00:00<00:00, 1142.03it/s]"
          ],
          "name": "stderr"
        },
        {
          "output_type": "stream",
          "text": [
            "Evaluating on validation set...\n"
          ],
          "name": "stdout"
        },
        {
          "output_type": "stream",
          "text": [
            "100%|██████████| 417/417 [00:01<00:00, 289.48it/s]\n"
          ],
          "name": "stderr"
        },
        {
          "output_type": "stream",
          "text": [
            "-----------------------------------------------------------------------------------------\n",
            "| end of epoch  27 | time 55.49s | valid loss  5.41 | valid ppl   223.31\n",
            "-----------------------------------------------------------------------------------------\n",
            "| saving current state of model ...\n",
            "| epoch 28 | step 500/4071 | loss 5.2288 | lr 0.00100 | ngrams/sec 26899.2 | eta 0h1m7s\n",
            "| epoch 28 | step 1000/4071 | loss 5.2601 | lr 0.00100 | ngrams/sec 38350.5 | eta 0h0m40s\n",
            "| epoch 28 | step 1500/4071 | loss 5.2676 | lr 0.00100 | ngrams/sec 38494.5 | eta 0h0m34s\n",
            "| epoch 28 | step 2000/4071 | loss 5.3189 | lr 0.00100 | ngrams/sec 38557.4 | eta 0h0m27s\n",
            "| epoch 28 | step 2500/4071 | loss 5.3130 | lr 0.00100 | ngrams/sec 38417.5 | eta 0h0m20s\n",
            "| epoch 28 | step 3000/4071 | loss 5.3342 | lr 0.00100 | ngrams/sec 38539.3 | eta 0h0m14s\n",
            "| epoch 28 | step 3500/4071 | loss 5.3390 | lr 0.00100 | ngrams/sec 38385.9 | eta 0h0m7s\n",
            "| epoch 28 | step 4000/4071 | loss 5.3399 | lr 0.00100 | ngrams/sec 38431.5 | eta 0h0m0s\n"
          ],
          "name": "stdout"
        },
        {
          "output_type": "stream",
          "text": [
            " 29%|██▊       | 119/417 [00:00<00:00, 1144.98it/s]"
          ],
          "name": "stderr"
        },
        {
          "output_type": "stream",
          "text": [
            "Evaluating on validation set...\n"
          ],
          "name": "stdout"
        },
        {
          "output_type": "stream",
          "text": [
            "100%|██████████| 417/417 [00:01<00:00, 290.40it/s]\n"
          ],
          "name": "stderr"
        },
        {
          "output_type": "stream",
          "text": [
            "-----------------------------------------------------------------------------------------\n",
            "| end of epoch  28 | time 55.60s | valid loss  5.41 | valid ppl   222.99\n",
            "-----------------------------------------------------------------------------------------\n",
            "| saving current state of model ...\n",
            "| epoch 29 | step 500/4071 | loss 5.2107 | lr 0.00100 | ngrams/sec 26846.4 | eta 0h1m8s\n",
            "| epoch 29 | step 1000/4071 | loss 5.2459 | lr 0.00100 | ngrams/sec 38350.2 | eta 0h0m40s\n",
            "| epoch 29 | step 1500/4071 | loss 5.2776 | lr 0.00100 | ngrams/sec 38391.2 | eta 0h0m34s\n",
            "| epoch 29 | step 2000/4071 | loss 5.2825 | lr 0.00100 | ngrams/sec 38391.5 | eta 0h0m27s\n",
            "| epoch 29 | step 2500/4071 | loss 5.3053 | lr 0.00100 | ngrams/sec 38335.9 | eta 0h0m20s\n",
            "| epoch 29 | step 3000/4071 | loss 5.3257 | lr 0.00100 | ngrams/sec 38372.5 | eta 0h0m14s\n",
            "| epoch 29 | step 3500/4071 | loss 5.3386 | lr 0.00100 | ngrams/sec 38405.3 | eta 0h0m7s\n",
            "| epoch 29 | step 4000/4071 | loss 5.3324 | lr 0.00100 | ngrams/sec 38495.9 | eta 0h0m0s\n"
          ],
          "name": "stdout"
        },
        {
          "output_type": "stream",
          "text": [
            " 29%|██▊       | 119/417 [00:00<00:00, 1165.55it/s]"
          ],
          "name": "stderr"
        },
        {
          "output_type": "stream",
          "text": [
            "Evaluating on validation set...\n"
          ],
          "name": "stdout"
        },
        {
          "output_type": "stream",
          "text": [
            "100%|██████████| 417/417 [00:01<00:00, 291.09it/s]\n"
          ],
          "name": "stderr"
        },
        {
          "output_type": "stream",
          "text": [
            "-----------------------------------------------------------------------------------------\n",
            "| end of epoch  29 | time 55.68s | valid loss  5.41 | valid ppl   222.72\n",
            "-----------------------------------------------------------------------------------------\n",
            "| saving current state of model ...\n",
            "| epoch 30 | step 500/4071 | loss 5.1936 | lr 0.00100 | ngrams/sec 26949.9 | eta 0h1m7s\n",
            "| epoch 30 | step 1000/4071 | loss 5.2219 | lr 0.00100 | ngrams/sec 38696.6 | eta 0h0m40s\n",
            "| epoch 30 | step 1500/4071 | loss 5.2747 | lr 0.00100 | ngrams/sec 38594.2 | eta 0h0m34s\n",
            "| epoch 30 | step 2000/4071 | loss 5.2827 | lr 0.00100 | ngrams/sec 38702.8 | eta 0h0m27s\n",
            "| epoch 30 | step 2500/4071 | loss 5.3061 | lr 0.00100 | ngrams/sec 38902.6 | eta 0h0m20s\n",
            "| epoch 30 | step 3000/4071 | loss 5.3043 | lr 0.00100 | ngrams/sec 38832.1 | eta 0h0m14s\n",
            "| epoch 30 | step 3500/4071 | loss 5.3183 | lr 0.00100 | ngrams/sec 38872.3 | eta 0h0m7s\n",
            "| epoch 30 | step 4000/4071 | loss 5.3279 | lr 0.00100 | ngrams/sec 38875.7 | eta 0h0m0s\n"
          ],
          "name": "stdout"
        },
        {
          "output_type": "stream",
          "text": [
            " 28%|██▊       | 118/417 [00:00<00:00, 1170.65it/s]"
          ],
          "name": "stderr"
        },
        {
          "output_type": "stream",
          "text": [
            "Evaluating on validation set...\n"
          ],
          "name": "stdout"
        },
        {
          "output_type": "stream",
          "text": [
            "100%|██████████| 417/417 [00:01<00:00, 292.51it/s]\n"
          ],
          "name": "stderr"
        },
        {
          "output_type": "stream",
          "text": [
            "-----------------------------------------------------------------------------------------\n",
            "| end of epoch  30 | time 55.17s | valid loss  5.41 | valid ppl   223.00\n",
            "-----------------------------------------------------------------------------------------\n",
            "| epoch 31 | step 500/4071 | loss 5.1800 | lr 0.00100 | ngrams/sec 27368.9 | eta 0h1m6s\n",
            "| epoch 31 | step 1000/4071 | loss 5.2276 | lr 0.00100 | ngrams/sec 38877.0 | eta 0h0m40s\n",
            "| epoch 31 | step 1500/4071 | loss 5.2492 | lr 0.00100 | ngrams/sec 38821.4 | eta 0h0m33s\n",
            "| epoch 31 | step 2000/4071 | loss 5.2822 | lr 0.00100 | ngrams/sec 38747.6 | eta 0h0m27s\n",
            "| epoch 31 | step 2500/4071 | loss 5.2703 | lr 0.00100 | ngrams/sec 38752.6 | eta 0h0m20s\n",
            "| epoch 31 | step 3000/4071 | loss 5.3089 | lr 0.00100 | ngrams/sec 38742.6 | eta 0h0m14s\n",
            "| epoch 31 | step 3500/4071 | loss 5.3086 | lr 0.00100 | ngrams/sec 38656.7 | eta 0h0m7s\n",
            "| epoch 31 | step 4000/4071 | loss 5.3050 | lr 0.00100 | ngrams/sec 38601.8 | eta 0h0m0s\n"
          ],
          "name": "stdout"
        },
        {
          "output_type": "stream",
          "text": [
            " 29%|██▊       | 119/417 [00:00<00:00, 1137.97it/s]"
          ],
          "name": "stderr"
        },
        {
          "output_type": "stream",
          "text": [
            "Evaluating on validation set...\n"
          ],
          "name": "stdout"
        },
        {
          "output_type": "stream",
          "text": [
            "100%|██████████| 417/417 [00:01<00:00, 291.47it/s]\n"
          ],
          "name": "stderr"
        },
        {
          "output_type": "stream",
          "text": [
            "-----------------------------------------------------------------------------------------\n",
            "| end of epoch  31 | time 55.21s | valid loss  5.41 | valid ppl   222.97\n",
            "-----------------------------------------------------------------------------------------\n",
            "| epoch 32 | step 500/4071 | loss 5.1652 | lr 0.00100 | ngrams/sec 27205.8 | eta 0h1m7s\n",
            "| epoch 32 | step 1000/4071 | loss 5.2120 | lr 0.00100 | ngrams/sec 38577.9 | eta 0h0m40s\n",
            "| epoch 32 | step 1500/4071 | loss 5.2377 | lr 0.00100 | ngrams/sec 38551.5 | eta 0h0m34s\n",
            "| epoch 32 | step 2000/4071 | loss 5.2666 | lr 0.00100 | ngrams/sec 38501.4 | eta 0h0m27s\n",
            "| epoch 32 | step 2500/4071 | loss 5.2751 | lr 0.00100 | ngrams/sec 38556.2 | eta 0h0m20s\n",
            "| epoch 32 | step 3000/4071 | loss 5.2952 | lr 0.00100 | ngrams/sec 38436.3 | eta 0h0m14s\n",
            "| epoch 32 | step 3500/4071 | loss 5.2893 | lr 0.00100 | ngrams/sec 38471.9 | eta 0h0m7s\n",
            "| epoch 32 | step 4000/4071 | loss 5.3146 | lr 0.00100 | ngrams/sec 38561.5 | eta 0h0m0s\n"
          ],
          "name": "stdout"
        },
        {
          "output_type": "stream",
          "text": [
            " 28%|██▊       | 118/417 [00:00<00:00, 1161.22it/s]"
          ],
          "name": "stderr"
        },
        {
          "output_type": "stream",
          "text": [
            "Evaluating on validation set...\n"
          ],
          "name": "stdout"
        },
        {
          "output_type": "stream",
          "text": [
            "100%|██████████| 417/417 [00:01<00:00, 289.35it/s]\n"
          ],
          "name": "stderr"
        },
        {
          "output_type": "stream",
          "text": [
            "-----------------------------------------------------------------------------------------\n",
            "| end of epoch  32 | time 55.52s | valid loss  5.41 | valid ppl   223.14\n",
            "-----------------------------------------------------------------------------------------\n",
            "| epoch 33 | step 500/4071 | loss 5.1731 | lr 0.00100 | ngrams/sec 27091.2 | eta 0h1m7s\n",
            "| epoch 33 | step 1000/4071 | loss 5.2041 | lr 0.00100 | ngrams/sec 38422.4 | eta 0h0m40s\n",
            "| epoch 33 | step 1500/4071 | loss 5.2207 | lr 0.00100 | ngrams/sec 38366.3 | eta 0h0m34s\n",
            "| epoch 33 | step 2000/4071 | loss 5.2589 | lr 0.00100 | ngrams/sec 38405.5 | eta 0h0m27s\n",
            "| epoch 33 | step 2500/4071 | loss 5.2571 | lr 0.00100 | ngrams/sec 38500.5 | eta 0h0m20s\n",
            "| epoch 33 | step 3000/4071 | loss 5.3008 | lr 0.00100 | ngrams/sec 38497.7 | eta 0h0m14s\n",
            "| epoch 33 | step 3500/4071 | loss 5.2843 | lr 0.00100 | ngrams/sec 38494.9 | eta 0h0m7s\n",
            "| epoch 33 | step 4000/4071 | loss 5.2875 | lr 0.00100 | ngrams/sec 38581.2 | eta 0h0m0s\n"
          ],
          "name": "stdout"
        },
        {
          "output_type": "stream",
          "text": [
            " 29%|██▊       | 119/417 [00:00<00:00, 1151.46it/s]"
          ],
          "name": "stderr"
        },
        {
          "output_type": "stream",
          "text": [
            "Evaluating on validation set...\n"
          ],
          "name": "stdout"
        },
        {
          "output_type": "stream",
          "text": [
            "100%|██████████| 417/417 [00:01<00:00, 291.56it/s]\n"
          ],
          "name": "stderr"
        },
        {
          "output_type": "stream",
          "text": [
            "-----------------------------------------------------------------------------------------\n",
            "| end of epoch  33 | time 55.61s | valid loss  5.41 | valid ppl   223.11\n",
            "-----------------------------------------------------------------------------------------\n",
            "| epoch 34 | step 500/4071 | loss 5.1639 | lr 0.00100 | ngrams/sec 27202.7 | eta 0h1m7s\n",
            "| epoch 34 | step 1000/4071 | loss 5.1887 | lr 0.00100 | ngrams/sec 38615.1 | eta 0h0m40s\n",
            "| epoch 34 | step 1500/4071 | loss 5.2177 | lr 0.00100 | ngrams/sec 38657.5 | eta 0h0m34s\n",
            "| epoch 34 | step 2000/4071 | loss 5.2388 | lr 0.00100 | ngrams/sec 38772.9 | eta 0h0m27s\n",
            "| epoch 34 | step 2500/4071 | loss 5.2517 | lr 0.00100 | ngrams/sec 38700.8 | eta 0h0m20s\n",
            "| epoch 34 | step 3000/4071 | loss 5.2806 | lr 0.00100 | ngrams/sec 38843.3 | eta 0h0m14s\n",
            "| epoch 34 | step 3500/4071 | loss 5.2795 | lr 0.00100 | ngrams/sec 38773.9 | eta 0h0m7s\n",
            "| epoch 34 | step 4000/4071 | loss 5.2740 | lr 0.00100 | ngrams/sec 38820.0 | eta 0h0m0s\n"
          ],
          "name": "stdout"
        },
        {
          "output_type": "stream",
          "text": [
            " 29%|██▉       | 120/417 [00:00<00:00, 1149.69it/s]"
          ],
          "name": "stderr"
        },
        {
          "output_type": "stream",
          "text": [
            "Evaluating on validation set...\n"
          ],
          "name": "stdout"
        },
        {
          "output_type": "stream",
          "text": [
            "100%|██████████| 417/417 [00:01<00:00, 293.34it/s]\n"
          ],
          "name": "stderr"
        },
        {
          "output_type": "stream",
          "text": [
            "-----------------------------------------------------------------------------------------\n",
            "| end of epoch  34 | time 55.25s | valid loss  5.41 | valid ppl   223.22\n",
            "-----------------------------------------------------------------------------------------\n",
            "| epoch 35 | step 500/4071 | loss 5.1459 | lr 0.00100 | ngrams/sec 27348.5 | eta 0h1m6s\n",
            "| epoch 35 | step 1000/4071 | loss 5.1910 | lr 0.00100 | ngrams/sec 38782.0 | eta 0h0m40s\n",
            "| epoch 35 | step 1500/4071 | loss 5.2123 | lr 0.00100 | ngrams/sec 38938.4 | eta 0h0m33s\n",
            "| epoch 35 | step 2000/4071 | loss 5.2375 | lr 0.00100 | ngrams/sec 38915.4 | eta 0h0m27s\n",
            "| epoch 35 | step 2500/4071 | loss 5.2486 | lr 0.00100 | ngrams/sec 38897.3 | eta 0h0m20s\n",
            "| epoch 35 | step 3000/4071 | loss 5.2604 | lr 0.00100 | ngrams/sec 38915.2 | eta 0h0m14s\n",
            "| epoch 35 | step 3500/4071 | loss 5.2693 | lr 0.00100 | ngrams/sec 38886.7 | eta 0h0m7s\n",
            "| epoch 35 | step 4000/4071 | loss 5.2677 | lr 0.00100 | ngrams/sec 38908.6 | eta 0h0m0s\n"
          ],
          "name": "stdout"
        },
        {
          "output_type": "stream",
          "text": [
            " 29%|██▊       | 119/417 [00:00<00:00, 1159.77it/s]"
          ],
          "name": "stderr"
        },
        {
          "output_type": "stream",
          "text": [
            "Evaluating on validation set...\n"
          ],
          "name": "stdout"
        },
        {
          "output_type": "stream",
          "text": [
            "100%|██████████| 417/417 [00:01<00:00, 292.69it/s]\n"
          ],
          "name": "stderr"
        },
        {
          "output_type": "stream",
          "text": [
            "-----------------------------------------------------------------------------------------\n",
            "| end of epoch  35 | time 55.03s | valid loss  5.41 | valid ppl   223.46\n",
            "-----------------------------------------------------------------------------------------\n",
            "| epoch 36 | step 500/4071 | loss 5.1313 | lr 0.00100 | ngrams/sec 27320.0 | eta 0h1m6s\n",
            "| epoch 36 | step 1000/4071 | loss 5.1707 | lr 0.00100 | ngrams/sec 39022.6 | eta 0h0m40s\n",
            "| epoch 36 | step 1500/4071 | loss 5.2004 | lr 0.00100 | ngrams/sec 38827.3 | eta 0h0m33s\n",
            "| epoch 36 | step 2000/4071 | loss 5.2325 | lr 0.00100 | ngrams/sec 38926.2 | eta 0h0m27s\n",
            "| epoch 36 | step 2500/4071 | loss 5.2350 | lr 0.00100 | ngrams/sec 38928.4 | eta 0h0m20s\n",
            "| epoch 36 | step 3000/4071 | loss 5.2528 | lr 0.00100 | ngrams/sec 38876.8 | eta 0h0m14s\n",
            "| epoch 36 | step 3500/4071 | loss 5.2669 | lr 0.00100 | ngrams/sec 38940.1 | eta 0h0m7s\n",
            "| epoch 36 | step 4000/4071 | loss 5.2678 | lr 0.00100 | ngrams/sec 38875.4 | eta 0h0m0s\n"
          ],
          "name": "stdout"
        },
        {
          "output_type": "stream",
          "text": [
            " 29%|██▊       | 119/417 [00:00<00:00, 1166.20it/s]"
          ],
          "name": "stderr"
        },
        {
          "output_type": "stream",
          "text": [
            "Evaluating on validation set...\n"
          ],
          "name": "stdout"
        },
        {
          "output_type": "stream",
          "text": [
            "100%|██████████| 417/417 [00:01<00:00, 294.91it/s]\n"
          ],
          "name": "stderr"
        },
        {
          "output_type": "stream",
          "text": [
            "-----------------------------------------------------------------------------------------\n",
            "| end of epoch  36 | time 55.00s | valid loss  5.41 | valid ppl   224.06\n",
            "-----------------------------------------------------------------------------------------\n",
            "| epoch 37 | step 500/4071 | loss 5.1260 | lr 0.00100 | ngrams/sec 27450.4 | eta 0h1m6s\n",
            "| epoch 37 | step 1000/4071 | loss 5.1626 | lr 0.00100 | ngrams/sec 38885.6 | eta 0h0m40s\n",
            "| epoch 37 | step 1500/4071 | loss 5.2025 | lr 0.00100 | ngrams/sec 38964.7 | eta 0h0m33s\n",
            "| epoch 37 | step 2000/4071 | loss 5.2177 | lr 0.00100 | ngrams/sec 38883.5 | eta 0h0m27s\n",
            "| epoch 37 | step 2500/4071 | loss 5.2220 | lr 0.00100 | ngrams/sec 38934.9 | eta 0h0m20s\n",
            "| epoch 37 | step 3000/4071 | loss 5.2355 | lr 0.00100 | ngrams/sec 38885.5 | eta 0h0m14s\n",
            "| epoch 37 | step 3500/4071 | loss 5.2613 | lr 0.00100 | ngrams/sec 38914.8 | eta 0h0m7s\n",
            "| epoch 37 | step 4000/4071 | loss 5.2544 | lr 0.00100 | ngrams/sec 38889.2 | eta 0h0m0s\n"
          ],
          "name": "stdout"
        },
        {
          "output_type": "stream",
          "text": [
            " 29%|██▊       | 119/417 [00:00<00:00, 1172.80it/s]"
          ],
          "name": "stderr"
        },
        {
          "output_type": "stream",
          "text": [
            "Evaluating on validation set...\n"
          ],
          "name": "stdout"
        },
        {
          "output_type": "stream",
          "text": [
            "100%|██████████| 417/417 [00:01<00:00, 294.51it/s]\n"
          ],
          "name": "stderr"
        },
        {
          "output_type": "stream",
          "text": [
            "-----------------------------------------------------------------------------------------\n",
            "| end of epoch  37 | time 54.98s | valid loss  5.41 | valid ppl   223.36\n",
            "-----------------------------------------------------------------------------------------\n",
            "| epoch 38 | step 500/4071 | loss 5.1170 | lr 0.00100 | ngrams/sec 27386.4 | eta 0h1m6s\n",
            "| epoch 38 | step 1000/4071 | loss 5.1542 | lr 0.00100 | ngrams/sec 38902.1 | eta 0h0m40s\n",
            "| epoch 38 | step 1500/4071 | loss 5.1864 | lr 0.00100 | ngrams/sec 38881.6 | eta 0h0m33s\n",
            "| epoch 38 | step 2000/4071 | loss 5.1999 | lr 0.00100 | ngrams/sec 38687.1 | eta 0h0m27s\n",
            "| epoch 38 | step 2500/4071 | loss 5.2147 | lr 0.00100 | ngrams/sec 38869.7 | eta 0h0m20s\n",
            "| epoch 38 | step 3000/4071 | loss 5.2363 | lr 0.00100 | ngrams/sec 38899.1 | eta 0h0m14s\n",
            "| epoch 38 | step 3500/4071 | loss 5.2478 | lr 0.00100 | ngrams/sec 38813.7 | eta 0h0m7s\n",
            "| epoch 38 | step 4000/4071 | loss 5.2402 | lr 0.00100 | ngrams/sec 38862.1 | eta 0h0m0s\n"
          ],
          "name": "stdout"
        },
        {
          "output_type": "stream",
          "text": [
            " 29%|██▊       | 119/417 [00:00<00:00, 1160.95it/s]"
          ],
          "name": "stderr"
        },
        {
          "output_type": "stream",
          "text": [
            "Evaluating on validation set...\n"
          ],
          "name": "stdout"
        },
        {
          "output_type": "stream",
          "text": [
            "100%|██████████| 417/417 [00:01<00:00, 294.56it/s]\n"
          ],
          "name": "stderr"
        },
        {
          "output_type": "stream",
          "text": [
            "-----------------------------------------------------------------------------------------\n",
            "| end of epoch  38 | time 55.07s | valid loss  5.41 | valid ppl   223.26\n",
            "-----------------------------------------------------------------------------------------\n",
            "| epoch 39 | step 500/4071 | loss 5.1112 | lr 0.00100 | ngrams/sec 27379.8 | eta 0h1m6s\n",
            "| epoch 39 | step 1000/4071 | loss 5.1423 | lr 0.00100 | ngrams/sec 38862.0 | eta 0h0m40s\n",
            "| epoch 39 | step 1500/4071 | loss 5.1714 | lr 0.00100 | ngrams/sec 38796.1 | eta 0h0m33s\n",
            "| epoch 39 | step 2000/4071 | loss 5.1971 | lr 0.00100 | ngrams/sec 38666.6 | eta 0h0m27s\n",
            "| epoch 39 | step 2500/4071 | loss 5.2021 | lr 0.00100 | ngrams/sec 38874.2 | eta 0h0m20s\n",
            "| epoch 39 | step 3000/4071 | loss 5.2261 | lr 0.00100 | ngrams/sec 38815.1 | eta 0h0m14s\n",
            "| epoch 39 | step 3500/4071 | loss 5.2400 | lr 0.00100 | ngrams/sec 38814.3 | eta 0h0m7s\n",
            "| epoch 39 | step 4000/4071 | loss 5.2561 | lr 0.00100 | ngrams/sec 38821.4 | eta 0h0m0s\n"
          ],
          "name": "stdout"
        },
        {
          "output_type": "stream",
          "text": [
            " 29%|██▊       | 119/417 [00:00<00:00, 1171.53it/s]"
          ],
          "name": "stderr"
        },
        {
          "output_type": "stream",
          "text": [
            "Evaluating on validation set...\n"
          ],
          "name": "stdout"
        },
        {
          "output_type": "stream",
          "text": [
            "100%|██████████| 417/417 [00:01<00:00, 294.26it/s]\n"
          ],
          "name": "stderr"
        },
        {
          "output_type": "stream",
          "text": [
            "-----------------------------------------------------------------------------------------\n",
            "| end of epoch  39 | time 55.12s | valid loss  5.41 | valid ppl   224.63\n",
            "-----------------------------------------------------------------------------------------\n",
            "| epoch 40 | step 500/4071 | loss 5.1060 | lr 0.00100 | ngrams/sec 27357.1 | eta 0h1m6s\n",
            "| epoch 40 | step 1000/4071 | loss 5.1229 | lr 0.00100 | ngrams/sec 38918.3 | eta 0h0m40s\n",
            "| epoch 40 | step 1500/4071 | loss 5.1728 | lr 0.00100 | ngrams/sec 38783.8 | eta 0h0m33s\n",
            "| epoch 40 | step 2000/4071 | loss 5.1860 | lr 0.00100 | ngrams/sec 38857.5 | eta 0h0m27s\n",
            "| epoch 40 | step 2500/4071 | loss 5.1969 | lr 0.00100 | ngrams/sec 38950.9 | eta 0h0m20s\n",
            "| epoch 40 | step 3000/4071 | loss 5.2177 | lr 0.00100 | ngrams/sec 39070.0 | eta 0h0m14s\n",
            "| epoch 40 | step 3500/4071 | loss 5.2146 | lr 0.00100 | ngrams/sec 38900.3 | eta 0h0m7s\n",
            "| epoch 40 | step 4000/4071 | loss 5.2536 | lr 0.00100 | ngrams/sec 38904.4 | eta 0h0m0s\n"
          ],
          "name": "stdout"
        },
        {
          "output_type": "stream",
          "text": [
            " 29%|██▊       | 119/417 [00:00<00:00, 1170.04it/s]"
          ],
          "name": "stderr"
        },
        {
          "output_type": "stream",
          "text": [
            "Evaluating on validation set...\n"
          ],
          "name": "stdout"
        },
        {
          "output_type": "stream",
          "text": [
            "100%|██████████| 417/417 [00:01<00:00, 294.81it/s]\n"
          ],
          "name": "stderr"
        },
        {
          "output_type": "stream",
          "text": [
            "-----------------------------------------------------------------------------------------\n",
            "| end of epoch  40 | time 55.01s | valid loss  5.41 | valid ppl   223.84\n",
            "-----------------------------------------------------------------------------------------\n",
            "| epoch 41 | step 500/4071 | loss 5.1026 | lr 0.00100 | ngrams/sec 27410.3 | eta 0h1m6s\n",
            "| epoch 41 | step 1000/4071 | loss 5.1199 | lr 0.00100 | ngrams/sec 38934.4 | eta 0h0m40s\n",
            "| epoch 41 | step 1500/4071 | loss 5.1565 | lr 0.00100 | ngrams/sec 38955.4 | eta 0h0m33s\n",
            "| epoch 41 | step 2000/4071 | loss 5.1734 | lr 0.00100 | ngrams/sec 39058.9 | eta 0h0m27s\n",
            "| epoch 41 | step 2500/4071 | loss 5.1974 | lr 0.00100 | ngrams/sec 38974.0 | eta 0h0m20s\n",
            "| epoch 41 | step 3000/4071 | loss 5.2077 | lr 0.00100 | ngrams/sec 38903.1 | eta 0h0m14s\n",
            "| epoch 41 | step 3500/4071 | loss 5.2273 | lr 0.00100 | ngrams/sec 38947.1 | eta 0h0m7s\n",
            "| epoch 41 | step 4000/4071 | loss 5.2312 | lr 0.00100 | ngrams/sec 39007.6 | eta 0h0m0s\n"
          ],
          "name": "stdout"
        },
        {
          "output_type": "stream",
          "text": [
            " 28%|██▊       | 118/417 [00:00<00:00, 1174.82it/s]"
          ],
          "name": "stderr"
        },
        {
          "output_type": "stream",
          "text": [
            "Evaluating on validation set...\n"
          ],
          "name": "stdout"
        },
        {
          "output_type": "stream",
          "text": [
            "100%|██████████| 417/417 [00:01<00:00, 294.55it/s]\n"
          ],
          "name": "stderr"
        },
        {
          "output_type": "stream",
          "text": [
            "-----------------------------------------------------------------------------------------\n",
            "| end of epoch  41 | time 54.91s | valid loss  5.41 | valid ppl   223.55\n",
            "-----------------------------------------------------------------------------------------\n",
            "| epoch 42 | step 500/4071 | loss 5.0952 | lr 0.00100 | ngrams/sec 27434.1 | eta 0h1m6s\n",
            "| epoch 42 | step 1000/4071 | loss 5.1160 | lr 0.00100 | ngrams/sec 39012.6 | eta 0h0m40s\n",
            "| epoch 42 | step 1500/4071 | loss 5.1625 | lr 0.00100 | ngrams/sec 38990.2 | eta 0h0m33s\n",
            "| epoch 42 | step 2000/4071 | loss 5.1706 | lr 0.00100 | ngrams/sec 38880.2 | eta 0h0m27s\n",
            "| epoch 42 | step 2500/4071 | loss 5.1811 | lr 0.00100 | ngrams/sec 38716.2 | eta 0h0m20s\n",
            "| epoch 42 | step 3000/4071 | loss 5.1999 | lr 0.00100 | ngrams/sec 38821.1 | eta 0h0m14s\n",
            "| epoch 42 | step 3500/4071 | loss 5.2160 | lr 0.00100 | ngrams/sec 38691.0 | eta 0h0m7s\n",
            "| epoch 42 | step 4000/4071 | loss 5.2154 | lr 0.00100 | ngrams/sec 38643.2 | eta 0h0m0s\n"
          ],
          "name": "stdout"
        },
        {
          "output_type": "stream",
          "text": [
            " 29%|██▊       | 119/417 [00:00<00:00, 1172.12it/s]"
          ],
          "name": "stderr"
        },
        {
          "output_type": "stream",
          "text": [
            "Evaluating on validation set...\n"
          ],
          "name": "stdout"
        },
        {
          "output_type": "stream",
          "text": [
            "100%|██████████| 417/417 [00:01<00:00, 293.80it/s]\n"
          ],
          "name": "stderr"
        },
        {
          "output_type": "stream",
          "text": [
            "-----------------------------------------------------------------------------------------\n",
            "| end of epoch  42 | time 55.09s | valid loss  5.41 | valid ppl   223.96\n",
            "-----------------------------------------------------------------------------------------\n",
            "| epoch 43 | step 500/4071 | loss 5.0656 | lr 0.00100 | ngrams/sec 27267.9 | eta 0h1m7s\n",
            "| epoch 43 | step 1000/4071 | loss 5.1132 | lr 0.00100 | ngrams/sec 38673.0 | eta 0h0m40s\n",
            "| epoch 43 | step 1500/4071 | loss 5.1440 | lr 0.00100 | ngrams/sec 38666.0 | eta 0h0m34s\n",
            "| epoch 43 | step 2000/4071 | loss 5.1711 | lr 0.00100 | ngrams/sec 38602.7 | eta 0h0m27s\n",
            "| epoch 43 | step 2500/4071 | loss 5.1769 | lr 0.00100 | ngrams/sec 38617.4 | eta 0h0m20s\n",
            "| epoch 43 | step 3000/4071 | loss 5.1968 | lr 0.00100 | ngrams/sec 38608.3 | eta 0h0m14s\n",
            "| epoch 43 | step 3500/4071 | loss 5.2177 | lr 0.00100 | ngrams/sec 38480.9 | eta 0h0m7s\n",
            "| epoch 43 | step 4000/4071 | loss 5.2088 | lr 0.00100 | ngrams/sec 38685.4 | eta 0h0m0s\n"
          ],
          "name": "stdout"
        },
        {
          "output_type": "stream",
          "text": [
            " 28%|██▊       | 118/417 [00:00<00:00, 1162.00it/s]"
          ],
          "name": "stderr"
        },
        {
          "output_type": "stream",
          "text": [
            "Evaluating on validation set...\n"
          ],
          "name": "stdout"
        },
        {
          "output_type": "stream",
          "text": [
            "100%|██████████| 417/417 [00:01<00:00, 290.51it/s]\n"
          ],
          "name": "stderr"
        },
        {
          "output_type": "stream",
          "text": [
            "-----------------------------------------------------------------------------------------\n",
            "| end of epoch  43 | time 55.40s | valid loss  5.41 | valid ppl   224.52\n",
            "-----------------------------------------------------------------------------------------\n",
            "| epoch 44 | step 500/4071 | loss 5.0707 | lr 0.00100 | ngrams/sec 27216.3 | eta 0h1m7s\n",
            "| epoch 44 | step 1000/4071 | loss 5.0993 | lr 0.00100 | ngrams/sec 38406.4 | eta 0h0m40s\n",
            "| epoch 44 | step 1500/4071 | loss 5.1397 | lr 0.00100 | ngrams/sec 38514.4 | eta 0h0m34s\n",
            "| epoch 44 | step 2000/4071 | loss 5.1545 | lr 0.00100 | ngrams/sec 38512.4 | eta 0h0m27s\n",
            "| epoch 44 | step 2500/4071 | loss 5.1727 | lr 0.00100 | ngrams/sec 38478.2 | eta 0h0m20s\n",
            "| epoch 44 | step 3000/4071 | loss 5.1775 | lr 0.00100 | ngrams/sec 38453.0 | eta 0h0m14s\n",
            "| epoch 44 | step 3500/4071 | loss 5.1995 | lr 0.00100 | ngrams/sec 38474.3 | eta 0h0m7s\n",
            "| epoch 44 | step 4000/4071 | loss 5.2109 | lr 0.00100 | ngrams/sec 38485.0 | eta 0h0m0s\n"
          ],
          "name": "stdout"
        },
        {
          "output_type": "stream",
          "text": [
            " 28%|██▊       | 118/417 [00:00<00:00, 1148.67it/s]"
          ],
          "name": "stderr"
        },
        {
          "output_type": "stream",
          "text": [
            "Evaluating on validation set...\n"
          ],
          "name": "stdout"
        },
        {
          "output_type": "stream",
          "text": [
            "100%|██████████| 417/417 [00:01<00:00, 290.37it/s]\n"
          ],
          "name": "stderr"
        },
        {
          "output_type": "stream",
          "text": [
            "-----------------------------------------------------------------------------------------\n",
            "| end of epoch  44 | time 55.58s | valid loss  5.41 | valid ppl   223.45\n",
            "-----------------------------------------------------------------------------------------\n",
            "| epoch 45 | step 500/4071 | loss 5.0677 | lr 0.00100 | ngrams/sec 27102.5 | eta 0h1m7s\n",
            "| epoch 45 | step 1000/4071 | loss 5.1076 | lr 0.00100 | ngrams/sec 38611.2 | eta 0h0m40s\n",
            "| epoch 45 | step 1500/4071 | loss 5.1307 | lr 0.00100 | ngrams/sec 38589.7 | eta 0h0m34s\n",
            "| epoch 45 | step 2000/4071 | loss 5.1320 | lr 0.00100 | ngrams/sec 38603.9 | eta 0h0m27s\n",
            "| epoch 45 | step 2500/4071 | loss 5.1552 | lr 0.00100 | ngrams/sec 38641.5 | eta 0h0m20s\n",
            "| epoch 45 | step 3000/4071 | loss 5.1832 | lr 0.00100 | ngrams/sec 38721.6 | eta 0h0m14s\n",
            "| epoch 45 | step 3500/4071 | loss 5.1867 | lr 0.00100 | ngrams/sec 38680.3 | eta 0h0m7s\n",
            "| epoch 45 | step 4000/4071 | loss 5.1985 | lr 0.00100 | ngrams/sec 38834.2 | eta 0h0m0s\n"
          ],
          "name": "stdout"
        },
        {
          "output_type": "stream",
          "text": [
            " 29%|██▊       | 119/417 [00:00<00:00, 1144.12it/s]"
          ],
          "name": "stderr"
        },
        {
          "output_type": "stream",
          "text": [
            "Evaluating on validation set...\n"
          ],
          "name": "stdout"
        },
        {
          "output_type": "stream",
          "text": [
            "100%|██████████| 417/417 [00:01<00:00, 293.98it/s]\n"
          ],
          "name": "stderr"
        },
        {
          "output_type": "stream",
          "text": [
            "-----------------------------------------------------------------------------------------\n",
            "| end of epoch  45 | time 55.36s | valid loss  5.41 | valid ppl   224.21\n",
            "-----------------------------------------------------------------------------------------\n",
            "| epoch 46 | step 500/4071 | loss 5.0720 | lr 0.00100 | ngrams/sec 27352.4 | eta 0h1m6s\n",
            "| epoch 46 | step 1000/4071 | loss 5.0833 | lr 0.00100 | ngrams/sec 38827.5 | eta 0h0m40s\n",
            "| epoch 46 | step 1500/4071 | loss 5.1105 | lr 0.00100 | ngrams/sec 38840.6 | eta 0h0m33s\n",
            "| epoch 46 | step 2000/4071 | loss 5.1362 | lr 0.00100 | ngrams/sec 38944.1 | eta 0h0m27s\n",
            "| epoch 46 | step 2500/4071 | loss 5.1575 | lr 0.00100 | ngrams/sec 38846.4 | eta 0h0m20s\n",
            "| epoch 46 | step 3000/4071 | loss 5.1691 | lr 0.00100 | ngrams/sec 38858.2 | eta 0h0m14s\n",
            "| epoch 46 | step 3500/4071 | loss 5.1843 | lr 0.00100 | ngrams/sec 38963.2 | eta 0h0m7s\n",
            "| epoch 46 | step 4000/4071 | loss 5.1953 | lr 0.00100 | ngrams/sec 38448.1 | eta 0h0m0s\n"
          ],
          "name": "stdout"
        },
        {
          "output_type": "stream",
          "text": [
            " 28%|██▊       | 117/417 [00:00<00:00, 1120.52it/s]"
          ],
          "name": "stderr"
        },
        {
          "output_type": "stream",
          "text": [
            "Evaluating on validation set...\n"
          ],
          "name": "stdout"
        },
        {
          "output_type": "stream",
          "text": [
            "100%|██████████| 417/417 [00:01<00:00, 293.02it/s]\n"
          ],
          "name": "stderr"
        },
        {
          "output_type": "stream",
          "text": [
            "-----------------------------------------------------------------------------------------\n",
            "| end of epoch  46 | time 55.10s | valid loss  5.41 | valid ppl   224.43\n",
            "-----------------------------------------------------------------------------------------\n",
            "| epoch 47 | step 500/4071 | loss 5.0696 | lr 0.00100 | ngrams/sec 27415.8 | eta 0h1m6s\n",
            "| epoch 47 | step 1000/4071 | loss 5.0734 | lr 0.00100 | ngrams/sec 39007.9 | eta 0h0m40s\n",
            "| epoch 47 | step 1500/4071 | loss 5.0997 | lr 0.00100 | ngrams/sec 39013.2 | eta 0h0m33s\n",
            "| epoch 47 | step 2000/4071 | loss 5.1353 | lr 0.00100 | ngrams/sec 39061.1 | eta 0h0m27s\n",
            "| epoch 47 | step 2500/4071 | loss 5.1419 | lr 0.00100 | ngrams/sec 39056.2 | eta 0h0m20s\n",
            "| epoch 47 | step 3000/4071 | loss 5.1752 | lr 0.00100 | ngrams/sec 38998.1 | eta 0h0m14s\n",
            "| epoch 47 | step 3500/4071 | loss 5.1887 | lr 0.00100 | ngrams/sec 39092.8 | eta 0h0m7s\n",
            "| epoch 47 | step 4000/4071 | loss 5.1874 | lr 0.00100 | ngrams/sec 39113.3 | eta 0h0m0s\n"
          ],
          "name": "stdout"
        },
        {
          "output_type": "stream",
          "text": [
            " 29%|██▊       | 119/417 [00:00<00:00, 1162.80it/s]"
          ],
          "name": "stderr"
        },
        {
          "output_type": "stream",
          "text": [
            "Evaluating on validation set...\n"
          ],
          "name": "stdout"
        },
        {
          "output_type": "stream",
          "text": [
            "100%|██████████| 417/417 [00:01<00:00, 295.06it/s]\n"
          ],
          "name": "stderr"
        },
        {
          "output_type": "stream",
          "text": [
            "-----------------------------------------------------------------------------------------\n",
            "| end of epoch  47 | time 54.83s | valid loss  5.41 | valid ppl   224.61\n",
            "-----------------------------------------------------------------------------------------\n",
            "| epoch 48 | step 500/4071 | loss 5.0379 | lr 0.00100 | ngrams/sec 27441.0 | eta 0h1m6s\n",
            "| epoch 48 | step 1000/4071 | loss 5.0751 | lr 0.00100 | ngrams/sec 38888.7 | eta 0h0m40s\n",
            "| epoch 48 | step 1500/4071 | loss 5.1089 | lr 0.00100 | ngrams/sec 38967.2 | eta 0h0m33s\n",
            "| epoch 48 | step 2000/4071 | loss 5.1319 | lr 0.00100 | ngrams/sec 38757.9 | eta 0h0m27s\n",
            "| epoch 48 | step 2500/4071 | loss 5.1424 | lr 0.00100 | ngrams/sec 38914.4 | eta 0h0m20s\n",
            "| epoch 48 | step 3000/4071 | loss 5.1594 | lr 0.00100 | ngrams/sec 38792.5 | eta 0h0m14s\n",
            "| epoch 48 | step 3500/4071 | loss 5.1618 | lr 0.00100 | ngrams/sec 38777.4 | eta 0h0m7s\n",
            "| epoch 48 | step 4000/4071 | loss 5.1839 | lr 0.00100 | ngrams/sec 38772.3 | eta 0h0m0s\n"
          ],
          "name": "stdout"
        },
        {
          "output_type": "stream",
          "text": [
            " 29%|██▊       | 119/417 [00:00<00:00, 1149.78it/s]"
          ],
          "name": "stderr"
        },
        {
          "output_type": "stream",
          "text": [
            "Evaluating on validation set...\n"
          ],
          "name": "stdout"
        },
        {
          "output_type": "stream",
          "text": [
            "100%|██████████| 417/417 [00:01<00:00, 294.04it/s]\n"
          ],
          "name": "stderr"
        },
        {
          "output_type": "stream",
          "text": [
            "-----------------------------------------------------------------------------------------\n",
            "| end of epoch  48 | time 55.08s | valid loss  5.41 | valid ppl   224.65\n",
            "-----------------------------------------------------------------------------------------\n",
            "| epoch 49 | step 500/4071 | loss 5.0225 | lr 0.00100 | ngrams/sec 27304.6 | eta 0h1m6s\n",
            "| epoch 49 | step 1000/4071 | loss 5.0688 | lr 0.00100 | ngrams/sec 38761.0 | eta 0h0m40s\n",
            "| epoch 49 | step 1500/4071 | loss 5.1017 | lr 0.00100 | ngrams/sec 38676.7 | eta 0h0m34s\n",
            "| epoch 49 | step 2000/4071 | loss 5.1173 | lr 0.00100 | ngrams/sec 38587.0 | eta 0h0m27s\n",
            "| epoch 49 | step 2500/4071 | loss 5.1556 | lr 0.00100 | ngrams/sec 38679.1 | eta 0h0m20s\n",
            "| epoch 49 | step 3000/4071 | loss 5.1560 | lr 0.00100 | ngrams/sec 38674.3 | eta 0h0m14s\n",
            "| epoch 49 | step 3500/4071 | loss 5.1566 | lr 0.00100 | ngrams/sec 38494.9 | eta 0h0m7s\n",
            "| epoch 49 | step 4000/4071 | loss 5.1746 | lr 0.00100 | ngrams/sec 38466.0 | eta 0h0m0s\n"
          ],
          "name": "stdout"
        },
        {
          "output_type": "stream",
          "text": [
            " 29%|██▊       | 119/417 [00:00<00:00, 1158.45it/s]"
          ],
          "name": "stderr"
        },
        {
          "output_type": "stream",
          "text": [
            "Evaluating on validation set...\n"
          ],
          "name": "stdout"
        },
        {
          "output_type": "stream",
          "text": [
            "100%|██████████| 417/417 [00:01<00:00, 292.63it/s]\n"
          ],
          "name": "stderr"
        },
        {
          "output_type": "stream",
          "text": [
            "-----------------------------------------------------------------------------------------\n",
            "| end of epoch  49 | time 55.38s | valid loss  5.41 | valid ppl   224.61\n",
            "-----------------------------------------------------------------------------------------\n",
            "| epoch 50 | step 500/4071 | loss 5.0537 | lr 0.00100 | ngrams/sec 27227.0 | eta 0h1m7s\n",
            "| epoch 50 | step 1000/4071 | loss 5.0477 | lr 0.00100 | ngrams/sec 38547.7 | eta 0h0m40s\n",
            "| epoch 50 | step 1500/4071 | loss 5.1017 | lr 0.00100 | ngrams/sec 38551.6 | eta 0h0m34s\n",
            "| epoch 50 | step 2000/4071 | loss 5.1051 | lr 0.00100 | ngrams/sec 38541.7 | eta 0h0m27s\n",
            "| epoch 50 | step 2500/4071 | loss 5.1258 | lr 0.00100 | ngrams/sec 38493.3 | eta 0h0m20s\n",
            "| epoch 50 | step 3000/4071 | loss 5.1393 | lr 0.00100 | ngrams/sec 38542.0 | eta 0h0m14s\n",
            "| epoch 50 | step 3500/4071 | loss 5.1525 | lr 0.00100 | ngrams/sec 38551.1 | eta 0h0m7s\n",
            "| epoch 50 | step 4000/4071 | loss 5.1600 | lr 0.00100 | ngrams/sec 38529.4 | eta 0h0m0s\n"
          ],
          "name": "stdout"
        },
        {
          "output_type": "stream",
          "text": [
            " 29%|██▊       | 119/417 [00:00<00:00, 1165.44it/s]"
          ],
          "name": "stderr"
        },
        {
          "output_type": "stream",
          "text": [
            "Evaluating on validation set...\n"
          ],
          "name": "stdout"
        },
        {
          "output_type": "stream",
          "text": [
            "100%|██████████| 417/417 [00:01<00:00, 292.71it/s]\n"
          ],
          "name": "stderr"
        },
        {
          "output_type": "stream",
          "text": [
            "-----------------------------------------------------------------------------------------\n",
            "| end of epoch  50 | time 55.49s | valid loss  5.42 | valid ppl   224.77\n",
            "-----------------------------------------------------------------------------------------\n",
            "| epoch 51 | step 500/4071 | loss 5.0257 | lr 0.00100 | ngrams/sec 27182.4 | eta 0h1m7s\n",
            "| epoch 51 | step 1000/4071 | loss 5.0566 | lr 0.00100 | ngrams/sec 38500.4 | eta 0h0m40s\n",
            "| epoch 51 | step 1500/4071 | loss 5.0833 | lr 0.00100 | ngrams/sec 38503.1 | eta 0h0m34s\n",
            "| epoch 51 | step 2000/4071 | loss 5.1132 | lr 0.00100 | ngrams/sec 38614.0 | eta 0h0m27s\n",
            "| epoch 51 | step 2500/4071 | loss 5.1342 | lr 0.00100 | ngrams/sec 38558.8 | eta 0h0m20s\n",
            "| epoch 51 | step 3000/4071 | loss 5.1310 | lr 0.00100 | ngrams/sec 38751.2 | eta 0h0m14s\n",
            "| epoch 51 | step 3500/4071 | loss 5.1411 | lr 0.00100 | ngrams/sec 38776.4 | eta 0h0m7s\n",
            "| epoch 51 | step 4000/4071 | loss 5.1550 | lr 0.00100 | ngrams/sec 38822.6 | eta 0h0m0s\n"
          ],
          "name": "stdout"
        },
        {
          "output_type": "stream",
          "text": [
            " 29%|██▊       | 119/417 [00:00<00:00, 1163.08it/s]"
          ],
          "name": "stderr"
        },
        {
          "output_type": "stream",
          "text": [
            "Evaluating on validation set...\n"
          ],
          "name": "stdout"
        },
        {
          "output_type": "stream",
          "text": [
            "100%|██████████| 417/417 [00:01<00:00, 294.67it/s]\n"
          ],
          "name": "stderr"
        },
        {
          "output_type": "stream",
          "text": [
            "-----------------------------------------------------------------------------------------\n",
            "| end of epoch  51 | time 55.36s | valid loss  5.42 | valid ppl   225.02\n",
            "-----------------------------------------------------------------------------------------\n",
            "| epoch 52 | step 500/4071 | loss 5.0171 | lr 0.00100 | ngrams/sec 27387.0 | eta 0h1m6s\n",
            "| epoch 52 | step 1000/4071 | loss 5.0574 | lr 0.00100 | ngrams/sec 38904.7 | eta 0h0m40s\n",
            "| epoch 52 | step 1500/4071 | loss 5.0785 | lr 0.00100 | ngrams/sec 38921.7 | eta 0h0m33s\n",
            "| epoch 52 | step 2000/4071 | loss 5.1023 | lr 0.00100 | ngrams/sec 39082.0 | eta 0h0m27s\n",
            "| epoch 52 | step 2500/4071 | loss 5.1146 | lr 0.00100 | ngrams/sec 38954.4 | eta 0h0m20s\n",
            "| epoch 52 | step 3000/4071 | loss 5.1197 | lr 0.00100 | ngrams/sec 38909.4 | eta 0h0m14s\n",
            "| epoch 52 | step 3500/4071 | loss 5.1562 | lr 0.00100 | ngrams/sec 39035.5 | eta 0h0m7s\n",
            "| epoch 52 | step 4000/4071 | loss 5.1470 | lr 0.00100 | ngrams/sec 38949.1 | eta 0h0m0s\n"
          ],
          "name": "stdout"
        },
        {
          "output_type": "stream",
          "text": [
            " 29%|██▊       | 119/417 [00:00<00:00, 1174.39it/s]"
          ],
          "name": "stderr"
        },
        {
          "output_type": "stream",
          "text": [
            "Evaluating on validation set...\n"
          ],
          "name": "stdout"
        },
        {
          "output_type": "stream",
          "text": [
            "100%|██████████| 417/417 [00:01<00:00, 295.99it/s]\n"
          ],
          "name": "stderr"
        },
        {
          "output_type": "stream",
          "text": [
            "-----------------------------------------------------------------------------------------\n",
            "| end of epoch  52 | time 54.92s | valid loss  5.41 | valid ppl   224.72\n",
            "-----------------------------------------------------------------------------------------\n",
            "| epoch 53 | step 500/4071 | loss 5.0154 | lr 0.00100 | ngrams/sec 27487.9 | eta 0h1m6s\n",
            "| epoch 53 | step 1000/4071 | loss 5.0344 | lr 0.00100 | ngrams/sec 38954.3 | eta 0h0m40s\n",
            "| epoch 53 | step 1500/4071 | loss 5.0732 | lr 0.00100 | ngrams/sec 38939.0 | eta 0h0m33s\n",
            "| epoch 53 | step 2000/4071 | loss 5.0948 | lr 0.00100 | ngrams/sec 39060.2 | eta 0h0m27s\n",
            "| epoch 53 | step 2500/4071 | loss 5.1225 | lr 0.00100 | ngrams/sec 38940.3 | eta 0h0m20s\n",
            "| epoch 53 | step 3000/4071 | loss 5.1309 | lr 0.00100 | ngrams/sec 38824.3 | eta 0h0m14s\n",
            "| epoch 53 | step 3500/4071 | loss 5.1317 | lr 0.00100 | ngrams/sec 38879.9 | eta 0h0m7s\n",
            "| epoch 53 | step 4000/4071 | loss 5.1417 | lr 0.00100 | ngrams/sec 38795.5 | eta 0h0m0s\n"
          ],
          "name": "stdout"
        },
        {
          "output_type": "stream",
          "text": [
            " 29%|██▊       | 119/417 [00:00<00:00, 1183.14it/s]"
          ],
          "name": "stderr"
        },
        {
          "output_type": "stream",
          "text": [
            "Evaluating on validation set...\n"
          ],
          "name": "stdout"
        },
        {
          "output_type": "stream",
          "text": [
            "100%|██████████| 417/417 [00:01<00:00, 294.98it/s]\n"
          ],
          "name": "stderr"
        },
        {
          "output_type": "stream",
          "text": [
            "-----------------------------------------------------------------------------------------\n",
            "| end of epoch  53 | time 54.97s | valid loss  5.42 | valid ppl   225.41\n",
            "-----------------------------------------------------------------------------------------\n",
            "| epoch 54 | step 500/4071 | loss 5.0037 | lr 0.00100 | ngrams/sec 27392.4 | eta 0h1m6s\n",
            "| epoch 54 | step 1000/4071 | loss 5.0325 | lr 0.00100 | ngrams/sec 38739.1 | eta 0h0m40s\n",
            "| epoch 54 | step 1500/4071 | loss 5.0718 | lr 0.00100 | ngrams/sec 38652.6 | eta 0h0m34s\n",
            "| epoch 54 | step 2000/4071 | loss 5.0910 | lr 0.00100 | ngrams/sec 38671.8 | eta 0h0m27s\n",
            "| epoch 54 | step 2500/4071 | loss 5.1159 | lr 0.00100 | ngrams/sec 38662.3 | eta 0h0m20s\n",
            "| epoch 54 | step 3000/4071 | loss 5.1160 | lr 0.00100 | ngrams/sec 38752.8 | eta 0h0m14s\n",
            "| epoch 54 | step 3500/4071 | loss 5.1227 | lr 0.00100 | ngrams/sec 38733.9 | eta 0h0m7s\n",
            "| epoch 54 | step 4000/4071 | loss 5.1347 | lr 0.00100 | ngrams/sec 38710.6 | eta 0h0m0s\n"
          ],
          "name": "stdout"
        },
        {
          "output_type": "stream",
          "text": [
            " 29%|██▊       | 119/417 [00:00<00:00, 1173.44it/s]"
          ],
          "name": "stderr"
        },
        {
          "output_type": "stream",
          "text": [
            "Evaluating on validation set...\n"
          ],
          "name": "stdout"
        },
        {
          "output_type": "stream",
          "text": [
            "100%|██████████| 417/417 [00:01<00:00, 292.85it/s]\n"
          ],
          "name": "stderr"
        },
        {
          "output_type": "stream",
          "text": [
            "-----------------------------------------------------------------------------------------\n",
            "| end of epoch  54 | time 55.27s | valid loss  5.42 | valid ppl   225.28\n",
            "-----------------------------------------------------------------------------------------\n",
            "| epoch 55 | step 500/4071 | loss 5.0002 | lr 0.00100 | ngrams/sec 27210.7 | eta 0h1m7s\n",
            "| epoch 55 | step 1000/4071 | loss 5.0361 | lr 0.00100 | ngrams/sec 38728.0 | eta 0h0m40s\n",
            "| epoch 55 | step 1500/4071 | loss 5.0539 | lr 0.00100 | ngrams/sec 38620.0 | eta 0h0m34s\n",
            "| epoch 55 | step 2000/4071 | loss 5.0675 | lr 0.00100 | ngrams/sec 38605.6 | eta 0h0m27s\n",
            "| epoch 55 | step 2500/4071 | loss 5.1022 | lr 0.00100 | ngrams/sec 38730.0 | eta 0h0m20s\n",
            "| epoch 55 | step 3000/4071 | loss 5.1218 | lr 0.00100 | ngrams/sec 38576.5 | eta 0h0m14s\n",
            "| epoch 55 | step 3500/4071 | loss 5.1330 | lr 0.00100 | ngrams/sec 38541.5 | eta 0h0m7s\n",
            "| epoch 55 | step 4000/4071 | loss 5.1307 | lr 0.00100 | ngrams/sec 38496.8 | eta 0h0m0s\n"
          ],
          "name": "stdout"
        },
        {
          "output_type": "stream",
          "text": [
            " 28%|██▊       | 118/417 [00:00<00:00, 1173.92it/s]"
          ],
          "name": "stderr"
        },
        {
          "output_type": "stream",
          "text": [
            "Evaluating on validation set...\n"
          ],
          "name": "stdout"
        },
        {
          "output_type": "stream",
          "text": [
            "100%|██████████| 417/417 [00:01<00:00, 292.19it/s]\n"
          ],
          "name": "stderr"
        },
        {
          "output_type": "stream",
          "text": [
            "-----------------------------------------------------------------------------------------\n",
            "| end of epoch  55 | time 55.40s | valid loss  5.42 | valid ppl   225.39\n",
            "-----------------------------------------------------------------------------------------\n",
            "| epoch 56 | step 500/4071 | loss 4.9797 | lr 0.00100 | ngrams/sec 27196.1 | eta 0h1m7s\n",
            "| epoch 56 | step 1000/4071 | loss 5.0220 | lr 0.00100 | ngrams/sec 38557.4 | eta 0h0m40s\n",
            "| epoch 56 | step 1500/4071 | loss 5.0603 | lr 0.00100 | ngrams/sec 38477.0 | eta 0h0m34s\n",
            "| epoch 56 | step 2000/4071 | loss 5.0809 | lr 0.00100 | ngrams/sec 38515.1 | eta 0h0m27s\n",
            "| epoch 56 | step 2500/4071 | loss 5.0958 | lr 0.00100 | ngrams/sec 38496.5 | eta 0h0m20s\n",
            "| epoch 56 | step 3000/4071 | loss 5.0979 | lr 0.00100 | ngrams/sec 38584.2 | eta 0h0m14s\n",
            "| epoch 56 | step 3500/4071 | loss 5.1201 | lr 0.00100 | ngrams/sec 38494.3 | eta 0h0m7s\n",
            "| epoch 56 | step 4000/4071 | loss 5.1404 | lr 0.00100 | ngrams/sec 38579.6 | eta 0h0m0s\n"
          ],
          "name": "stdout"
        },
        {
          "output_type": "stream",
          "text": [
            " 29%|██▊       | 119/417 [00:00<00:00, 1145.35it/s]"
          ],
          "name": "stderr"
        },
        {
          "output_type": "stream",
          "text": [
            "Evaluating on validation set...\n"
          ],
          "name": "stdout"
        },
        {
          "output_type": "stream",
          "text": [
            "100%|██████████| 417/417 [00:01<00:00, 292.44it/s]\n"
          ],
          "name": "stderr"
        },
        {
          "output_type": "stream",
          "text": [
            "-----------------------------------------------------------------------------------------\n",
            "| end of epoch  56 | time 55.51s | valid loss  5.42 | valid ppl   224.87\n",
            "-----------------------------------------------------------------------------------------\n",
            "| epoch 57 | step 500/4071 | loss 4.9777 | lr 0.00100 | ngrams/sec 27172.0 | eta 0h1m7s\n",
            "| epoch 57 | step 1000/4071 | loss 5.0283 | lr 0.00100 | ngrams/sec 38645.5 | eta 0h0m40s\n",
            "| epoch 57 | step 1500/4071 | loss 5.0370 | lr 0.00100 | ngrams/sec 38724.7 | eta 0h0m33s\n",
            "| epoch 57 | step 2000/4071 | loss 5.0769 | lr 0.00100 | ngrams/sec 38751.6 | eta 0h0m27s\n",
            "| epoch 57 | step 2500/4071 | loss 5.0917 | lr 0.00100 | ngrams/sec 38664.7 | eta 0h0m20s\n",
            "| epoch 57 | step 3000/4071 | loss 5.0939 | lr 0.00100 | ngrams/sec 38555.6 | eta 0h0m14s\n",
            "| epoch 57 | step 3500/4071 | loss 5.1166 | lr 0.00100 | ngrams/sec 38782.1 | eta 0h0m7s\n",
            "| epoch 57 | step 4000/4071 | loss 5.1182 | lr 0.00100 | ngrams/sec 38809.2 | eta 0h0m0s\n"
          ],
          "name": "stdout"
        },
        {
          "output_type": "stream",
          "text": [
            " 29%|██▊       | 119/417 [00:00<00:00, 1149.25it/s]"
          ],
          "name": "stderr"
        },
        {
          "output_type": "stream",
          "text": [
            "Evaluating on validation set...\n"
          ],
          "name": "stdout"
        },
        {
          "output_type": "stream",
          "text": [
            "100%|██████████| 417/417 [00:01<00:00, 294.02it/s]\n"
          ],
          "name": "stderr"
        },
        {
          "output_type": "stream",
          "text": [
            "-----------------------------------------------------------------------------------------\n",
            "| end of epoch  57 | time 55.29s | valid loss  5.42 | valid ppl   225.33\n",
            "-----------------------------------------------------------------------------------------\n",
            "| epoch 58 | step 500/4071 | loss 4.9990 | lr 0.00100 | ngrams/sec 27297.0 | eta 0h1m6s\n",
            "| epoch 58 | step 1000/4071 | loss 5.0318 | lr 0.00100 | ngrams/sec 38853.4 | eta 0h0m40s\n",
            "| epoch 58 | step 1500/4071 | loss 5.0550 | lr 0.00100 | ngrams/sec 38916.4 | eta 0h0m33s\n",
            "| epoch 58 | step 2000/4071 | loss 5.0606 | lr 0.00100 | ngrams/sec 38898.8 | eta 0h0m27s\n",
            "| epoch 58 | step 2500/4071 | loss 5.0843 | lr 0.00100 | ngrams/sec 38753.4 | eta 0h0m20s\n",
            "| epoch 58 | step 3000/4071 | loss 5.0786 | lr 0.00100 | ngrams/sec 38871.8 | eta 0h0m14s\n",
            "| epoch 58 | step 3500/4071 | loss 5.1028 | lr 0.00100 | ngrams/sec 38932.0 | eta 0h0m7s\n",
            "| epoch 58 | step 4000/4071 | loss 5.1036 | lr 0.00100 | ngrams/sec 38864.8 | eta 0h0m0s\n"
          ],
          "name": "stdout"
        },
        {
          "output_type": "stream",
          "text": [
            " 29%|██▊       | 119/417 [00:00<00:00, 1142.96it/s]"
          ],
          "name": "stderr"
        },
        {
          "output_type": "stream",
          "text": [
            "Evaluating on validation set...\n"
          ],
          "name": "stdout"
        },
        {
          "output_type": "stream",
          "text": [
            "100%|██████████| 417/417 [00:01<00:00, 294.59it/s]\n"
          ],
          "name": "stderr"
        },
        {
          "output_type": "stream",
          "text": [
            "-----------------------------------------------------------------------------------------\n",
            "| end of epoch  58 | time 55.07s | valid loss  5.42 | valid ppl   225.74\n",
            "-----------------------------------------------------------------------------------------\n",
            "| epoch 59 | step 500/4071 | loss 4.9803 | lr 0.00100 | ngrams/sec 27406.1 | eta 0h1m6s\n",
            "| epoch 59 | step 1000/4071 | loss 5.0167 | lr 0.00100 | ngrams/sec 38890.0 | eta 0h0m40s\n",
            "| epoch 59 | step 1500/4071 | loss 5.0406 | lr 0.00100 | ngrams/sec 38906.9 | eta 0h0m33s\n",
            "| epoch 59 | step 2000/4071 | loss 5.0608 | lr 0.00100 | ngrams/sec 38821.6 | eta 0h0m27s\n",
            "| epoch 59 | step 2500/4071 | loss 5.0722 | lr 0.00100 | ngrams/sec 38930.5 | eta 0h0m20s\n",
            "| epoch 59 | step 3000/4071 | loss 5.0876 | lr 0.00100 | ngrams/sec 38940.7 | eta 0h0m14s\n",
            "| epoch 59 | step 3500/4071 | loss 5.0974 | lr 0.00100 | ngrams/sec 38800.4 | eta 0h0m7s\n",
            "| epoch 59 | step 4000/4071 | loss 5.1226 | lr 0.00100 | ngrams/sec 38983.0 | eta 0h0m0s\n"
          ],
          "name": "stdout"
        },
        {
          "output_type": "stream",
          "text": [
            " 29%|██▊       | 119/417 [00:00<00:00, 1183.76it/s]"
          ],
          "name": "stderr"
        },
        {
          "output_type": "stream",
          "text": [
            "Evaluating on validation set...\n"
          ],
          "name": "stdout"
        },
        {
          "output_type": "stream",
          "text": [
            "100%|██████████| 417/417 [00:01<00:00, 295.79it/s]\n"
          ],
          "name": "stderr"
        },
        {
          "output_type": "stream",
          "text": [
            "-----------------------------------------------------------------------------------------\n",
            "| end of epoch  59 | time 55.00s | valid loss  5.42 | valid ppl   225.45\n",
            "-----------------------------------------------------------------------------------------\n",
            "| epoch 60 | step 500/4071 | loss 4.9736 | lr 0.00100 | ngrams/sec 27415.9 | eta 0h1m6s\n",
            "| epoch 60 | step 1000/4071 | loss 5.0052 | lr 0.00100 | ngrams/sec 38899.3 | eta 0h0m40s\n",
            "| epoch 60 | step 1500/4071 | loss 5.0403 | lr 0.00100 | ngrams/sec 38931.0 | eta 0h0m33s\n",
            "| epoch 60 | step 2000/4071 | loss 5.0599 | lr 0.00100 | ngrams/sec 38916.8 | eta 0h0m27s\n",
            "| epoch 60 | step 2500/4071 | loss 5.0700 | lr 0.00100 | ngrams/sec 39046.8 | eta 0h0m20s\n",
            "| epoch 60 | step 3000/4071 | loss 5.0858 | lr 0.00100 | ngrams/sec 38998.6 | eta 0h0m14s\n",
            "| epoch 60 | step 3500/4071 | loss 5.1002 | lr 0.00100 | ngrams/sec 39005.4 | eta 0h0m7s\n",
            "| epoch 60 | step 4000/4071 | loss 5.0982 | lr 0.00100 | ngrams/sec 38971.4 | eta 0h0m0s\n"
          ],
          "name": "stdout"
        },
        {
          "output_type": "stream",
          "text": [
            " 29%|██▊       | 119/417 [00:00<00:00, 1169.64it/s]"
          ],
          "name": "stderr"
        },
        {
          "output_type": "stream",
          "text": [
            "Evaluating on validation set...\n"
          ],
          "name": "stdout"
        },
        {
          "output_type": "stream",
          "text": [
            "100%|██████████| 417/417 [00:01<00:00, 295.76it/s]\n"
          ],
          "name": "stderr"
        },
        {
          "output_type": "stream",
          "text": [
            "-----------------------------------------------------------------------------------------\n",
            "| end of epoch  60 | time 54.92s | valid loss  5.42 | valid ppl   225.90\n",
            "-----------------------------------------------------------------------------------------\n",
            "| epoch 61 | step 500/4071 | loss 4.9569 | lr 0.00100 | ngrams/sec 27416.0 | eta 0h1m6s\n",
            "| epoch 61 | step 1000/4071 | loss 5.0063 | lr 0.00100 | ngrams/sec 38917.1 | eta 0h0m40s\n",
            "| epoch 61 | step 1500/4071 | loss 5.0239 | lr 0.00100 | ngrams/sec 39030.8 | eta 0h0m33s\n",
            "| epoch 61 | step 2000/4071 | loss 5.0489 | lr 0.00100 | ngrams/sec 39052.1 | eta 0h0m27s\n",
            "| epoch 61 | step 2500/4071 | loss 5.0679 | lr 0.00100 | ngrams/sec 38987.5 | eta 0h0m20s\n",
            "| epoch 61 | step 3000/4071 | loss 5.0908 | lr 0.00100 | ngrams/sec 38911.1 | eta 0h0m14s\n",
            "| epoch 61 | step 3500/4071 | loss 5.0953 | lr 0.00100 | ngrams/sec 39040.6 | eta 0h0m7s\n",
            "| epoch 61 | step 4000/4071 | loss 5.1015 | lr 0.00100 | ngrams/sec 39070.2 | eta 0h0m0s\n"
          ],
          "name": "stdout"
        },
        {
          "output_type": "stream",
          "text": [
            " 29%|██▊       | 119/417 [00:00<00:00, 1162.83it/s]"
          ],
          "name": "stderr"
        },
        {
          "output_type": "stream",
          "text": [
            "Evaluating on validation set...\n"
          ],
          "name": "stdout"
        },
        {
          "output_type": "stream",
          "text": [
            "100%|██████████| 417/417 [00:01<00:00, 296.46it/s]\n"
          ],
          "name": "stderr"
        },
        {
          "output_type": "stream",
          "text": [
            "-----------------------------------------------------------------------------------------\n",
            "| end of epoch  61 | time 54.87s | valid loss  5.42 | valid ppl   225.71\n",
            "-----------------------------------------------------------------------------------------\n",
            "| epoch 62 | step 500/4071 | loss 4.9464 | lr 0.00100 | ngrams/sec 27432.2 | eta 0h1m6s\n",
            "| epoch 62 | step 1000/4071 | loss 4.9982 | lr 0.00100 | ngrams/sec 39034.5 | eta 0h0m40s\n",
            "| epoch 62 | step 1500/4071 | loss 5.0334 | lr 0.00100 | ngrams/sec 39008.7 | eta 0h0m33s\n",
            "| epoch 62 | step 2000/4071 | loss 5.0394 | lr 0.00100 | ngrams/sec 39011.5 | eta 0h0m27s\n",
            "| epoch 62 | step 2500/4071 | loss 5.0740 | lr 0.00100 | ngrams/sec 39035.0 | eta 0h0m20s\n",
            "| epoch 62 | step 3000/4071 | loss 5.0734 | lr 0.00100 | ngrams/sec 39008.6 | eta 0h0m14s\n",
            "| epoch 62 | step 3500/4071 | loss 5.0924 | lr 0.00100 | ngrams/sec 39057.4 | eta 0h0m7s\n",
            "| epoch 62 | step 4000/4071 | loss 5.0909 | lr 0.00100 | ngrams/sec 39096.5 | eta 0h0m0s\n"
          ],
          "name": "stdout"
        },
        {
          "output_type": "stream",
          "text": [
            " 29%|██▊       | 119/417 [00:00<00:00, 1177.90it/s]"
          ],
          "name": "stderr"
        },
        {
          "output_type": "stream",
          "text": [
            "Evaluating on validation set...\n"
          ],
          "name": "stdout"
        },
        {
          "output_type": "stream",
          "text": [
            "100%|██████████| 417/417 [00:01<00:00, 296.59it/s]\n"
          ],
          "name": "stderr"
        },
        {
          "output_type": "stream",
          "text": [
            "-----------------------------------------------------------------------------------------\n",
            "| end of epoch  62 | time 54.83s | valid loss  5.42 | valid ppl   225.73\n",
            "-----------------------------------------------------------------------------------------\n",
            "| epoch 63 | step 500/4071 | loss 4.9547 | lr 0.00100 | ngrams/sec 27498.0 | eta 0h1m6s\n",
            "| epoch 63 | step 1000/4071 | loss 4.9956 | lr 0.00100 | ngrams/sec 38917.8 | eta 0h0m40s\n",
            "| epoch 63 | step 1500/4071 | loss 5.0069 | lr 0.00100 | ngrams/sec 38795.3 | eta 0h0m33s\n",
            "| epoch 63 | step 2000/4071 | loss 5.0444 | lr 0.00100 | ngrams/sec 38871.4 | eta 0h0m27s\n",
            "| epoch 63 | step 2500/4071 | loss 5.0588 | lr 0.00100 | ngrams/sec 38795.8 | eta 0h0m20s\n",
            "| epoch 63 | step 3000/4071 | loss 5.0704 | lr 0.00100 | ngrams/sec 38738.0 | eta 0h0m14s\n",
            "| epoch 63 | step 3500/4071 | loss 5.0914 | lr 0.00100 | ngrams/sec 38775.9 | eta 0h0m7s\n",
            "| epoch 63 | step 4000/4071 | loss 5.0813 | lr 0.00100 | ngrams/sec 38687.7 | eta 0h0m0s\n"
          ],
          "name": "stdout"
        },
        {
          "output_type": "stream",
          "text": [
            " 29%|██▊       | 119/417 [00:00<00:00, 1156.74it/s]"
          ],
          "name": "stderr"
        },
        {
          "output_type": "stream",
          "text": [
            "Evaluating on validation set...\n"
          ],
          "name": "stdout"
        },
        {
          "output_type": "stream",
          "text": [
            "100%|██████████| 417/417 [00:01<00:00, 294.30it/s]\n"
          ],
          "name": "stderr"
        },
        {
          "output_type": "stream",
          "text": [
            "-----------------------------------------------------------------------------------------\n",
            "| end of epoch  63 | time 55.11s | valid loss  5.42 | valid ppl   225.88\n",
            "-----------------------------------------------------------------------------------------\n",
            "| epoch 64 | step 500/4071 | loss 4.9489 | lr 0.00100 | ngrams/sec 27267.9 | eta 0h1m7s\n",
            "| epoch 64 | step 1000/4071 | loss 4.9789 | lr 0.00100 | ngrams/sec 38644.9 | eta 0h0m40s\n",
            "| epoch 64 | step 1500/4071 | loss 5.0146 | lr 0.00100 | ngrams/sec 38560.3 | eta 0h0m34s\n",
            "| epoch 64 | step 2000/4071 | loss 5.0284 | lr 0.00100 | ngrams/sec 38519.9 | eta 0h0m27s\n",
            "| epoch 64 | step 2500/4071 | loss 5.0516 | lr 0.00100 | ngrams/sec 38640.7 | eta 0h0m20s\n",
            "| epoch 64 | step 3000/4071 | loss 5.0636 | lr 0.00100 | ngrams/sec 38557.6 | eta 0h0m14s\n",
            "| epoch 64 | step 3500/4071 | loss 5.0786 | lr 0.00100 | ngrams/sec 38697.7 | eta 0h0m7s\n",
            "| epoch 64 | step 4000/4071 | loss 5.0977 | lr 0.00100 | ngrams/sec 38475.9 | eta 0h0m0s\n"
          ],
          "name": "stdout"
        },
        {
          "output_type": "stream",
          "text": [
            " 29%|██▊       | 119/417 [00:00<00:00, 1164.91it/s]"
          ],
          "name": "stderr"
        },
        {
          "output_type": "stream",
          "text": [
            "Evaluating on validation set...\n"
          ],
          "name": "stdout"
        },
        {
          "output_type": "stream",
          "text": [
            "100%|██████████| 417/417 [00:01<00:00, 293.49it/s]\n"
          ],
          "name": "stderr"
        },
        {
          "output_type": "stream",
          "text": [
            "-----------------------------------------------------------------------------------------\n",
            "| end of epoch  64 | time 55.43s | valid loss  5.42 | valid ppl   226.66\n",
            "-----------------------------------------------------------------------------------------\n",
            "| epoch 65 | step 500/4071 | loss 4.9552 | lr 0.00100 | ngrams/sec 27287.8 | eta 0h1m7s\n",
            "| epoch 65 | step 1000/4071 | loss 4.9925 | lr 0.00100 | ngrams/sec 38806.9 | eta 0h0m40s\n",
            "| epoch 65 | step 1500/4071 | loss 5.0102 | lr 0.00100 | ngrams/sec 38775.3 | eta 0h0m33s\n",
            "| epoch 65 | step 2000/4071 | loss 5.0418 | lr 0.00100 | ngrams/sec 38677.6 | eta 0h0m27s\n",
            "| epoch 65 | step 2500/4071 | loss 5.0306 | lr 0.00100 | ngrams/sec 38827.8 | eta 0h0m20s\n",
            "| epoch 65 | step 3000/4071 | loss 5.0585 | lr 0.00100 | ngrams/sec 38888.7 | eta 0h0m14s\n",
            "| epoch 65 | step 3500/4071 | loss 5.0577 | lr 0.00100 | ngrams/sec 38901.4 | eta 0h0m7s\n",
            "| epoch 65 | step 4000/4071 | loss 5.0892 | lr 0.00100 | ngrams/sec 38989.6 | eta 0h0m0s\n"
          ],
          "name": "stdout"
        },
        {
          "output_type": "stream",
          "text": [
            " 29%|██▊       | 119/417 [00:00<00:00, 1182.89it/s]"
          ],
          "name": "stderr"
        },
        {
          "output_type": "stream",
          "text": [
            "Evaluating on validation set...\n"
          ],
          "name": "stdout"
        },
        {
          "output_type": "stream",
          "text": [
            "100%|██████████| 417/417 [00:01<00:00, 295.90it/s]\n"
          ],
          "name": "stderr"
        },
        {
          "output_type": "stream",
          "text": [
            "-----------------------------------------------------------------------------------------\n",
            "| end of epoch  65 | time 55.09s | valid loss  5.42 | valid ppl   226.67\n",
            "-----------------------------------------------------------------------------------------\n",
            "| epoch 66 | step 500/4071 | loss 4.9389 | lr 0.00100 | ngrams/sec 27422.0 | eta 0h1m6s\n",
            "| epoch 66 | step 1000/4071 | loss 4.9730 | lr 0.00100 | ngrams/sec 38927.6 | eta 0h0m40s\n",
            "| epoch 66 | step 1500/4071 | loss 4.9959 | lr 0.00100 | ngrams/sec 38993.1 | eta 0h0m33s\n",
            "| epoch 66 | step 2000/4071 | loss 5.0319 | lr 0.00100 | ngrams/sec 39001.2 | eta 0h0m27s\n",
            "| epoch 66 | step 2500/4071 | loss 5.0416 | lr 0.00100 | ngrams/sec 38972.9 | eta 0h0m20s\n",
            "| epoch 66 | step 3000/4071 | loss 5.0509 | lr 0.00100 | ngrams/sec 38986.3 | eta 0h0m14s\n",
            "| epoch 66 | step 3500/4071 | loss 5.0680 | lr 0.00100 | ngrams/sec 39017.2 | eta 0h0m7s\n",
            "| epoch 66 | step 4000/4071 | loss 5.0816 | lr 0.00100 | ngrams/sec 38985.3 | eta 0h0m0s\n"
          ],
          "name": "stdout"
        },
        {
          "output_type": "stream",
          "text": [
            " 28%|██▊       | 118/417 [00:00<00:00, 1173.40it/s]"
          ],
          "name": "stderr"
        },
        {
          "output_type": "stream",
          "text": [
            "Evaluating on validation set...\n"
          ],
          "name": "stdout"
        },
        {
          "output_type": "stream",
          "text": [
            "100%|██████████| 417/417 [00:01<00:00, 294.97it/s]\n"
          ],
          "name": "stderr"
        },
        {
          "output_type": "stream",
          "text": [
            "-----------------------------------------------------------------------------------------\n",
            "| end of epoch  66 | time 54.90s | valid loss  5.42 | valid ppl   226.89\n",
            "-----------------------------------------------------------------------------------------\n",
            "| epoch 67 | step 500/4071 | loss 4.9472 | lr 0.00100 | ngrams/sec 27469.4 | eta 0h1m6s\n",
            "| epoch 67 | step 1000/4071 | loss 4.9584 | lr 0.00100 | ngrams/sec 39054.5 | eta 0h0m40s\n",
            "| epoch 67 | step 1500/4071 | loss 4.9878 | lr 0.00100 | ngrams/sec 38951.2 | eta 0h0m33s\n",
            "| epoch 67 | step 2000/4071 | loss 5.0156 | lr 0.00100 | ngrams/sec 38950.1 | eta 0h0m27s\n",
            "| epoch 67 | step 2500/4071 | loss 5.0461 | lr 0.00100 | ngrams/sec 39019.3 | eta 0h0m20s\n",
            "| epoch 67 | step 3000/4071 | loss 5.0652 | lr 0.00100 | ngrams/sec 39028.7 | eta 0h0m14s\n",
            "| epoch 67 | step 3500/4071 | loss 5.0737 | lr 0.00100 | ngrams/sec 39019.5 | eta 0h0m7s\n",
            "| epoch 67 | step 4000/4071 | loss 5.0692 | lr 0.00100 | ngrams/sec 38920.1 | eta 0h0m0s\n"
          ],
          "name": "stdout"
        },
        {
          "output_type": "stream",
          "text": [
            " 29%|██▊       | 119/417 [00:00<00:00, 1168.07it/s]"
          ],
          "name": "stderr"
        },
        {
          "output_type": "stream",
          "text": [
            "Evaluating on validation set...\n"
          ],
          "name": "stdout"
        },
        {
          "output_type": "stream",
          "text": [
            "100%|██████████| 417/417 [00:01<00:00, 296.81it/s]\n"
          ],
          "name": "stderr"
        },
        {
          "output_type": "stream",
          "text": [
            "-----------------------------------------------------------------------------------------\n",
            "| end of epoch  67 | time 54.86s | valid loss  5.43 | valid ppl   227.68\n",
            "-----------------------------------------------------------------------------------------\n",
            "| epoch 68 | step 500/4071 | loss 4.9329 | lr 0.00100 | ngrams/sec 27465.1 | eta 0h1m6s\n",
            "| epoch 68 | step 1000/4071 | loss 4.9613 | lr 0.00100 | ngrams/sec 38900.0 | eta 0h0m40s\n",
            "| epoch 68 | step 1500/4071 | loss 4.9965 | lr 0.00100 | ngrams/sec 38953.6 | eta 0h0m33s\n",
            "| epoch 68 | step 2000/4071 | loss 5.0286 | lr 0.00100 | ngrams/sec 38911.6 | eta 0h0m27s\n",
            "| epoch 68 | step 2500/4071 | loss 5.0323 | lr 0.00100 | ngrams/sec 38825.8 | eta 0h0m20s\n",
            "| epoch 68 | step 3000/4071 | loss 5.0436 | lr 0.00100 | ngrams/sec 38950.8 | eta 0h0m14s\n",
            "| epoch 68 | step 3500/4071 | loss 5.0620 | lr 0.00100 | ngrams/sec 38952.0 | eta 0h0m7s\n",
            "| epoch 68 | step 4000/4071 | loss 5.0730 | lr 0.00100 | ngrams/sec 38915.7 | eta 0h0m0s\n"
          ],
          "name": "stdout"
        },
        {
          "output_type": "stream",
          "text": [
            " 29%|██▊       | 119/417 [00:00<00:00, 1183.74it/s]"
          ],
          "name": "stderr"
        },
        {
          "output_type": "stream",
          "text": [
            "Evaluating on validation set...\n"
          ],
          "name": "stdout"
        },
        {
          "output_type": "stream",
          "text": [
            "100%|██████████| 417/417 [00:01<00:00, 295.47it/s]\n"
          ],
          "name": "stderr"
        },
        {
          "output_type": "stream",
          "text": [
            "-----------------------------------------------------------------------------------------\n",
            "| end of epoch  68 | time 54.97s | valid loss  5.42 | valid ppl   226.62\n",
            "-----------------------------------------------------------------------------------------\n",
            "| epoch 69 | step 500/4071 | loss 4.9211 | lr 0.00100 | ngrams/sec 27428.6 | eta 0h1m6s\n",
            "| epoch 69 | step 1000/4071 | loss 4.9570 | lr 0.00100 | ngrams/sec 38299.2 | eta 0h0m41s\n",
            "| epoch 69 | step 1500/4071 | loss 5.0019 | lr 0.00100 | ngrams/sec 38959.6 | eta 0h0m33s\n",
            "| epoch 69 | step 2000/4071 | loss 5.0160 | lr 0.00100 | ngrams/sec 38889.5 | eta 0h0m27s\n",
            "| epoch 69 | step 2500/4071 | loss 5.0261 | lr 0.00100 | ngrams/sec 38993.4 | eta 0h0m20s\n",
            "| epoch 69 | step 3000/4071 | loss 5.0463 | lr 0.00100 | ngrams/sec 38937.1 | eta 0h0m14s\n",
            "| epoch 69 | step 3500/4071 | loss 5.0677 | lr 0.00100 | ngrams/sec 38994.7 | eta 0h0m7s\n",
            "| epoch 69 | step 4000/4071 | loss 5.0617 | lr 0.00100 | ngrams/sec 38937.3 | eta 0h0m0s\n"
          ],
          "name": "stdout"
        },
        {
          "output_type": "stream",
          "text": [
            " 29%|██▊       | 119/417 [00:00<00:00, 1163.95it/s]"
          ],
          "name": "stderr"
        },
        {
          "output_type": "stream",
          "text": [
            "Evaluating on validation set...\n"
          ],
          "name": "stdout"
        },
        {
          "output_type": "stream",
          "text": [
            "100%|██████████| 417/417 [00:01<00:00, 294.82it/s]\n"
          ],
          "name": "stderr"
        },
        {
          "output_type": "stream",
          "text": [
            "-----------------------------------------------------------------------------------------\n",
            "| end of epoch  69 | time 55.05s | valid loss  5.43 | valid ppl   227.74\n",
            "-----------------------------------------------------------------------------------------\n",
            "| epoch 70 | step 500/4071 | loss 4.9179 | lr 0.00100 | ngrams/sec 27408.8 | eta 0h1m6s\n",
            "| epoch 70 | step 1000/4071 | loss 4.9666 | lr 0.00100 | ngrams/sec 38891.5 | eta 0h0m40s\n",
            "| epoch 70 | step 1500/4071 | loss 4.9971 | lr 0.00100 | ngrams/sec 38881.3 | eta 0h0m33s\n",
            "| epoch 70 | step 2000/4071 | loss 5.0143 | lr 0.00100 | ngrams/sec 38778.3 | eta 0h0m27s\n",
            "| epoch 70 | step 2500/4071 | loss 5.0228 | lr 0.00100 | ngrams/sec 38988.2 | eta 0h0m20s\n",
            "| epoch 70 | step 3000/4071 | loss 5.0404 | lr 0.00100 | ngrams/sec 38995.6 | eta 0h0m14s\n",
            "| epoch 70 | step 3500/4071 | loss 5.0377 | lr 0.00100 | ngrams/sec 38987.5 | eta 0h0m7s\n",
            "| epoch 70 | step 4000/4071 | loss 5.0553 | lr 0.00100 | ngrams/sec 39001.5 | eta 0h0m0s\n"
          ],
          "name": "stdout"
        },
        {
          "output_type": "stream",
          "text": [
            " 29%|██▊       | 119/417 [00:00<00:00, 1140.72it/s]"
          ],
          "name": "stderr"
        },
        {
          "output_type": "stream",
          "text": [
            "Evaluating on validation set...\n"
          ],
          "name": "stdout"
        },
        {
          "output_type": "stream",
          "text": [
            "100%|██████████| 417/417 [00:01<00:00, 295.85it/s]\n"
          ],
          "name": "stderr"
        },
        {
          "output_type": "stream",
          "text": [
            "-----------------------------------------------------------------------------------------\n",
            "| end of epoch  70 | time 54.96s | valid loss  5.42 | valid ppl   226.57\n",
            "-----------------------------------------------------------------------------------------\n",
            "| epoch 71 | step 500/4071 | loss 4.9151 | lr 0.00100 | ngrams/sec 27492.8 | eta 0h1m6s\n",
            "| epoch 71 | step 1000/4071 | loss 4.9528 | lr 0.00100 | ngrams/sec 38951.3 | eta 0h0m40s\n",
            "| epoch 71 | step 1500/4071 | loss 4.9897 | lr 0.00100 | ngrams/sec 38979.7 | eta 0h0m33s\n",
            "| epoch 71 | step 2000/4071 | loss 5.0111 | lr 0.00100 | ngrams/sec 38967.2 | eta 0h0m27s\n",
            "| epoch 71 | step 2500/4071 | loss 5.0132 | lr 0.00100 | ngrams/sec 38979.9 | eta 0h0m20s\n",
            "| epoch 71 | step 3000/4071 | loss 5.0416 | lr 0.00100 | ngrams/sec 38945.0 | eta 0h0m14s\n",
            "| epoch 71 | step 3500/4071 | loss 5.0377 | lr 0.00100 | ngrams/sec 38971.5 | eta 0h0m7s\n",
            "| epoch 71 | step 4000/4071 | loss 5.0557 | lr 0.00100 | ngrams/sec 39000.3 | eta 0h0m0s\n"
          ],
          "name": "stdout"
        },
        {
          "output_type": "stream",
          "text": [
            " 29%|██▊       | 119/417 [00:00<00:00, 1189.56it/s]"
          ],
          "name": "stderr"
        },
        {
          "output_type": "stream",
          "text": [
            "Evaluating on validation set...\n"
          ],
          "name": "stdout"
        },
        {
          "output_type": "stream",
          "text": [
            "100%|██████████| 417/417 [00:01<00:00, 297.38it/s]\n"
          ],
          "name": "stderr"
        },
        {
          "output_type": "stream",
          "text": [
            "-----------------------------------------------------------------------------------------\n",
            "| end of epoch  71 | time 54.89s | valid loss  5.43 | valid ppl   227.86\n",
            "-----------------------------------------------------------------------------------------\n",
            "| epoch 72 | step 500/4071 | loss 4.9225 | lr 0.00100 | ngrams/sec 27465.6 | eta 0h1m6s\n",
            "| epoch 72 | step 1000/4071 | loss 4.9479 | lr 0.00100 | ngrams/sec 39116.0 | eta 0h0m40s\n",
            "| epoch 72 | step 1500/4071 | loss 4.9656 | lr 0.00100 | ngrams/sec 39071.2 | eta 0h0m33s\n",
            "| epoch 72 | step 2000/4071 | loss 4.9817 | lr 0.00100 | ngrams/sec 39042.9 | eta 0h0m27s\n",
            "| epoch 72 | step 2500/4071 | loss 5.0013 | lr 0.00100 | ngrams/sec 39070.1 | eta 0h0m20s\n",
            "| epoch 72 | step 3000/4071 | loss 5.0540 | lr 0.00100 | ngrams/sec 39073.5 | eta 0h0m14s\n",
            "| epoch 72 | step 3500/4071 | loss 5.0496 | lr 0.00100 | ngrams/sec 39117.7 | eta 0h0m7s\n",
            "| epoch 72 | step 4000/4071 | loss 5.0601 | lr 0.00100 | ngrams/sec 39009.1 | eta 0h0m0s\n"
          ],
          "name": "stdout"
        },
        {
          "output_type": "stream",
          "text": [
            " 29%|██▊       | 119/417 [00:00<00:00, 1187.91it/s]"
          ],
          "name": "stderr"
        },
        {
          "output_type": "stream",
          "text": [
            "Evaluating on validation set...\n"
          ],
          "name": "stdout"
        },
        {
          "output_type": "stream",
          "text": [
            "100%|██████████| 417/417 [00:01<00:00, 296.89it/s]\n"
          ],
          "name": "stderr"
        },
        {
          "output_type": "stream",
          "text": [
            "-----------------------------------------------------------------------------------------\n",
            "| end of epoch  72 | time 54.78s | valid loss  5.43 | valid ppl   227.40\n",
            "-----------------------------------------------------------------------------------------\n",
            "| epoch 73 | step 500/4071 | loss 4.9053 | lr 0.00100 | ngrams/sec 27461.4 | eta 0h1m6s\n",
            "| epoch 73 | step 1000/4071 | loss 4.9556 | lr 0.00100 | ngrams/sec 39073.7 | eta 0h0m40s\n",
            "| epoch 73 | step 1500/4071 | loss 4.9699 | lr 0.00100 | ngrams/sec 39023.2 | eta 0h0m33s\n",
            "| epoch 73 | step 2000/4071 | loss 5.0050 | lr 0.00100 | ngrams/sec 38983.2 | eta 0h0m27s\n",
            "| epoch 73 | step 2500/4071 | loss 5.0097 | lr 0.00100 | ngrams/sec 38939.9 | eta 0h0m20s\n",
            "| epoch 73 | step 3000/4071 | loss 5.0275 | lr 0.00100 | ngrams/sec 38899.1 | eta 0h0m14s\n",
            "| epoch 73 | step 3500/4071 | loss 5.0486 | lr 0.00100 | ngrams/sec 38984.4 | eta 0h0m7s\n",
            "| epoch 73 | step 4000/4071 | loss 5.0346 | lr 0.00100 | ngrams/sec 38922.0 | eta 0h0m0s\n"
          ],
          "name": "stdout"
        },
        {
          "output_type": "stream",
          "text": [
            " 29%|██▊       | 119/417 [00:00<00:00, 1178.68it/s]"
          ],
          "name": "stderr"
        },
        {
          "output_type": "stream",
          "text": [
            "Evaluating on validation set...\n"
          ],
          "name": "stdout"
        },
        {
          "output_type": "stream",
          "text": [
            "100%|██████████| 417/417 [00:01<00:00, 295.08it/s]\n"
          ],
          "name": "stderr"
        },
        {
          "output_type": "stream",
          "text": [
            "-----------------------------------------------------------------------------------------\n",
            "| end of epoch  73 | time 54.90s | valid loss  5.43 | valid ppl   227.81\n",
            "-----------------------------------------------------------------------------------------\n",
            "| epoch 74 | step 500/4071 | loss 4.8979 | lr 0.00100 | ngrams/sec 27417.2 | eta 0h1m6s\n",
            "| epoch 74 | step 1000/4071 | loss 4.9486 | lr 0.00100 | ngrams/sec 38876.9 | eta 0h0m40s\n",
            "| epoch 74 | step 1500/4071 | loss 4.9645 | lr 0.00100 | ngrams/sec 38962.2 | eta 0h0m33s\n",
            "| epoch 74 | step 2000/4071 | loss 4.9945 | lr 0.00100 | ngrams/sec 38946.1 | eta 0h0m27s\n",
            "| epoch 74 | step 2500/4071 | loss 5.0148 | lr 0.00100 | ngrams/sec 38895.2 | eta 0h0m20s\n",
            "| epoch 74 | step 3000/4071 | loss 5.0336 | lr 0.00100 | ngrams/sec 38905.5 | eta 0h0m14s\n",
            "| epoch 74 | step 3500/4071 | loss 5.0275 | lr 0.00100 | ngrams/sec 38906.7 | eta 0h0m7s\n",
            "| epoch 74 | step 4000/4071 | loss 5.0476 | lr 0.00100 | ngrams/sec 38915.1 | eta 0h0m0s\n"
          ],
          "name": "stdout"
        },
        {
          "output_type": "stream",
          "text": [
            " 29%|██▉       | 120/417 [00:00<00:00, 1151.27it/s]"
          ],
          "name": "stderr"
        },
        {
          "output_type": "stream",
          "text": [
            "Evaluating on validation set...\n"
          ],
          "name": "stdout"
        },
        {
          "output_type": "stream",
          "text": [
            "100%|██████████| 417/417 [00:01<00:00, 296.12it/s]\n"
          ],
          "name": "stderr"
        },
        {
          "output_type": "stream",
          "text": [
            "-----------------------------------------------------------------------------------------\n",
            "| end of epoch  74 | time 54.98s | valid loss  5.43 | valid ppl   227.60\n",
            "-----------------------------------------------------------------------------------------\n",
            "| epoch 75 | step 500/4071 | loss 4.8898 | lr 0.00100 | ngrams/sec 27357.1 | eta 0h1m6s\n",
            "| epoch 75 | step 1000/4071 | loss 4.9449 | lr 0.00100 | ngrams/sec 38872.9 | eta 0h0m40s\n",
            "| epoch 75 | step 1500/4071 | loss 4.9615 | lr 0.00100 | ngrams/sec 38813.1 | eta 0h0m33s\n",
            "| epoch 75 | step 2000/4071 | loss 4.9872 | lr 0.00100 | ngrams/sec 38794.8 | eta 0h0m27s\n",
            "| epoch 75 | step 2500/4071 | loss 5.0045 | lr 0.00100 | ngrams/sec 38776.8 | eta 0h0m20s\n",
            "| epoch 75 | step 3000/4071 | loss 5.0175 | lr 0.00100 | ngrams/sec 38924.2 | eta 0h0m14s\n",
            "| epoch 75 | step 3500/4071 | loss 5.0390 | lr 0.00100 | ngrams/sec 38870.0 | eta 0h0m7s\n",
            "| epoch 75 | step 4000/4071 | loss 5.0452 | lr 0.00100 | ngrams/sec 38913.6 | eta 0h0m0s\n"
          ],
          "name": "stdout"
        },
        {
          "output_type": "stream",
          "text": [
            " 29%|██▊       | 119/417 [00:00<00:00, 1167.85it/s]"
          ],
          "name": "stderr"
        },
        {
          "output_type": "stream",
          "text": [
            "Evaluating on validation set...\n"
          ],
          "name": "stdout"
        },
        {
          "output_type": "stream",
          "text": [
            "100%|██████████| 417/417 [00:01<00:00, 295.18it/s]\n"
          ],
          "name": "stderr"
        },
        {
          "output_type": "stream",
          "text": [
            "-----------------------------------------------------------------------------------------\n",
            "| end of epoch  75 | time 55.08s | valid loss  5.43 | valid ppl   227.74\n",
            "-----------------------------------------------------------------------------------------\n",
            "| epoch 76 | step 500/4071 | loss 4.8816 | lr 0.00100 | ngrams/sec 27235.0 | eta 0h1m7s\n",
            "| epoch 76 | step 1000/4071 | loss 4.9394 | lr 0.00100 | ngrams/sec 38877.7 | eta 0h0m40s\n",
            "| epoch 76 | step 1500/4071 | loss 4.9660 | lr 0.00100 | ngrams/sec 38904.1 | eta 0h0m33s\n",
            "| epoch 76 | step 2000/4071 | loss 4.9838 | lr 0.00100 | ngrams/sec 38844.3 | eta 0h0m27s\n",
            "| epoch 76 | step 2500/4071 | loss 5.0015 | lr 0.00100 | ngrams/sec 38837.8 | eta 0h0m20s\n",
            "| epoch 76 | step 3000/4071 | loss 5.0187 | lr 0.00100 | ngrams/sec 38900.2 | eta 0h0m14s\n",
            "| epoch 76 | step 3500/4071 | loss 5.0278 | lr 0.00100 | ngrams/sec 38837.4 | eta 0h0m7s\n",
            "| epoch 76 | step 4000/4071 | loss 5.0439 | lr 0.00100 | ngrams/sec 38696.7 | eta 0h0m0s\n"
          ],
          "name": "stdout"
        },
        {
          "output_type": "stream",
          "text": [
            " 29%|██▊       | 119/417 [00:00<00:00, 1147.61it/s]"
          ],
          "name": "stderr"
        },
        {
          "output_type": "stream",
          "text": [
            "Evaluating on validation set...\n"
          ],
          "name": "stdout"
        },
        {
          "output_type": "stream",
          "text": [
            "100%|██████████| 417/417 [00:01<00:00, 295.69it/s]\n"
          ],
          "name": "stderr"
        },
        {
          "output_type": "stream",
          "text": [
            "-----------------------------------------------------------------------------------------\n",
            "| end of epoch  76 | time 55.13s | valid loss  5.43 | valid ppl   227.89\n",
            "-----------------------------------------------------------------------------------------\n",
            "| epoch 77 | step 500/4071 | loss 4.8944 | lr 0.00100 | ngrams/sec 27316.2 | eta 0h1m6s\n",
            "| epoch 77 | step 1000/4071 | loss 4.9356 | lr 0.00100 | ngrams/sec 38797.8 | eta 0h0m40s\n",
            "| epoch 77 | step 1500/4071 | loss 4.9724 | lr 0.00100 | ngrams/sec 38829.7 | eta 0h0m33s\n",
            "| epoch 77 | step 2000/4071 | loss 4.9811 | lr 0.00100 | ngrams/sec 38821.2 | eta 0h0m27s\n",
            "| epoch 77 | step 2500/4071 | loss 4.9973 | lr 0.00100 | ngrams/sec 38873.9 | eta 0h0m20s\n",
            "| epoch 77 | step 3000/4071 | loss 5.0189 | lr 0.00100 | ngrams/sec 38927.6 | eta 0h0m14s\n",
            "| epoch 77 | step 3500/4071 | loss 5.0234 | lr 0.00100 | ngrams/sec 38795.3 | eta 0h0m7s\n",
            "| epoch 77 | step 4000/4071 | loss 5.0175 | lr 0.00100 | ngrams/sec 38871.7 | eta 0h0m0s\n"
          ],
          "name": "stdout"
        },
        {
          "output_type": "stream",
          "text": [
            " 29%|██▊       | 119/417 [00:00<00:00, 1168.42it/s]"
          ],
          "name": "stderr"
        },
        {
          "output_type": "stream",
          "text": [
            "Evaluating on validation set...\n"
          ],
          "name": "stdout"
        },
        {
          "output_type": "stream",
          "text": [
            "100%|██████████| 417/417 [00:01<00:00, 295.59it/s]\n"
          ],
          "name": "stderr"
        },
        {
          "output_type": "stream",
          "text": [
            "-----------------------------------------------------------------------------------------\n",
            "| end of epoch  77 | time 55.08s | valid loss  5.43 | valid ppl   227.68\n",
            "-----------------------------------------------------------------------------------------\n",
            "| epoch 78 | step 500/4071 | loss 4.9063 | lr 0.00100 | ngrams/sec 27343.2 | eta 0h1m6s\n",
            "| epoch 78 | step 1000/4071 | loss 4.9178 | lr 0.00100 | ngrams/sec 38996.3 | eta 0h0m40s\n",
            "| epoch 78 | step 1500/4071 | loss 4.9549 | lr 0.00100 | ngrams/sec 38932.8 | eta 0h0m33s\n",
            "| epoch 78 | step 2000/4071 | loss 4.9755 | lr 0.00100 | ngrams/sec 38880.3 | eta 0h0m27s\n",
            "| epoch 78 | step 2500/4071 | loss 5.0020 | lr 0.00100 | ngrams/sec 38886.0 | eta 0h0m20s\n",
            "| epoch 78 | step 3000/4071 | loss 5.0116 | lr 0.00100 | ngrams/sec 38852.5 | eta 0h0m14s\n",
            "| epoch 78 | step 3500/4071 | loss 5.0205 | lr 0.00100 | ngrams/sec 38820.4 | eta 0h0m7s\n",
            "| epoch 78 | step 4000/4071 | loss 5.0274 | lr 0.00100 | ngrams/sec 38756.9 | eta 0h0m0s\n"
          ],
          "name": "stdout"
        },
        {
          "output_type": "stream",
          "text": [
            " 28%|██▊       | 118/417 [00:00<00:00, 1168.70it/s]"
          ],
          "name": "stderr"
        },
        {
          "output_type": "stream",
          "text": [
            "Evaluating on validation set...\n"
          ],
          "name": "stdout"
        },
        {
          "output_type": "stream",
          "text": [
            "100%|██████████| 417/417 [00:01<00:00, 295.25it/s]\n"
          ],
          "name": "stderr"
        },
        {
          "output_type": "stream",
          "text": [
            "-----------------------------------------------------------------------------------------\n",
            "| end of epoch  78 | time 55.06s | valid loss  5.43 | valid ppl   228.58\n",
            "-----------------------------------------------------------------------------------------\n",
            "| epoch 79 | step 500/4071 | loss 4.8798 | lr 0.00100 | ngrams/sec 27371.1 | eta 0h1m6s\n",
            "| epoch 79 | step 1000/4071 | loss 4.9285 | lr 0.00100 | ngrams/sec 38964.2 | eta 0h0m40s\n",
            "| epoch 79 | step 1500/4071 | loss 4.9530 | lr 0.00100 | ngrams/sec 38893.3 | eta 0h0m33s\n",
            "| epoch 79 | step 2000/4071 | loss 4.9653 | lr 0.00100 | ngrams/sec 38921.3 | eta 0h0m27s\n",
            "| epoch 79 | step 2500/4071 | loss 4.9955 | lr 0.00100 | ngrams/sec 38810.6 | eta 0h0m20s\n",
            "| epoch 79 | step 3000/4071 | loss 5.0145 | lr 0.00100 | ngrams/sec 38800.6 | eta 0h0m14s\n",
            "| epoch 79 | step 3500/4071 | loss 5.0121 | lr 0.00100 | ngrams/sec 38785.0 | eta 0h0m7s\n",
            "| epoch 79 | step 4000/4071 | loss 5.0421 | lr 0.00100 | ngrams/sec 38691.2 | eta 0h0m0s\n"
          ],
          "name": "stdout"
        },
        {
          "output_type": "stream",
          "text": [
            " 29%|██▊       | 119/417 [00:00<00:00, 1177.17it/s]"
          ],
          "name": "stderr"
        },
        {
          "output_type": "stream",
          "text": [
            "Evaluating on validation set...\n"
          ],
          "name": "stdout"
        },
        {
          "output_type": "stream",
          "text": [
            "100%|██████████| 417/417 [00:01<00:00, 295.26it/s]\n"
          ],
          "name": "stderr"
        },
        {
          "output_type": "stream",
          "text": [
            "-----------------------------------------------------------------------------------------\n",
            "| end of epoch  79 | time 55.09s | valid loss  5.43 | valid ppl   228.43\n",
            "-----------------------------------------------------------------------------------------\n",
            "| epoch 80 | step 500/4071 | loss 4.8926 | lr 0.00100 | ngrams/sec 27362.2 | eta 0h1m6s\n",
            "| epoch 80 | step 1000/4071 | loss 4.9076 | lr 0.00100 | ngrams/sec 38903.4 | eta 0h0m40s\n",
            "| epoch 80 | step 1500/4071 | loss 4.9581 | lr 0.00100 | ngrams/sec 38821.9 | eta 0h0m33s\n",
            "| epoch 80 | step 2000/4071 | loss 4.9621 | lr 0.00100 | ngrams/sec 38783.3 | eta 0h0m27s\n",
            "| epoch 80 | step 2500/4071 | loss 4.9994 | lr 0.00100 | ngrams/sec 38879.9 | eta 0h0m20s\n",
            "| epoch 80 | step 3000/4071 | loss 4.9860 | lr 0.00100 | ngrams/sec 38804.4 | eta 0h0m14s\n",
            "| epoch 80 | step 3500/4071 | loss 5.0216 | lr 0.00100 | ngrams/sec 38801.2 | eta 0h0m7s\n",
            "| epoch 80 | step 4000/4071 | loss 5.0198 | lr 0.00100 | ngrams/sec 38915.0 | eta 0h0m0s\n"
          ],
          "name": "stdout"
        },
        {
          "output_type": "stream",
          "text": [
            " 28%|██▊       | 118/417 [00:00<00:00, 1176.99it/s]"
          ],
          "name": "stderr"
        },
        {
          "output_type": "stream",
          "text": [
            "Evaluating on validation set...\n"
          ],
          "name": "stdout"
        },
        {
          "output_type": "stream",
          "text": [
            "100%|██████████| 417/417 [00:01<00:00, 294.69it/s]\n"
          ],
          "name": "stderr"
        },
        {
          "output_type": "stream",
          "text": [
            "-----------------------------------------------------------------------------------------\n",
            "| end of epoch  80 | time 55.08s | valid loss  5.43 | valid ppl   228.27\n",
            "-----------------------------------------------------------------------------------------\n",
            "| epoch 81 | step 500/4071 | loss 4.8905 | lr 0.00100 | ngrams/sec 27357.6 | eta 0h1m6s\n",
            "| epoch 81 | step 1000/4071 | loss 4.9201 | lr 0.00100 | ngrams/sec 38913.8 | eta 0h0m40s\n",
            "| epoch 81 | step 1500/4071 | loss 4.9584 | lr 0.00100 | ngrams/sec 38834.1 | eta 0h0m33s\n",
            "| epoch 81 | step 2000/4071 | loss 4.9605 | lr 0.00100 | ngrams/sec 38826.6 | eta 0h0m27s\n",
            "| epoch 81 | step 2500/4071 | loss 4.9842 | lr 0.00100 | ngrams/sec 38762.9 | eta 0h0m20s\n",
            "| epoch 81 | step 3000/4071 | loss 5.0037 | lr 0.00100 | ngrams/sec 38854.6 | eta 0h0m14s\n",
            "| epoch 81 | step 3500/4071 | loss 5.0073 | lr 0.00100 | ngrams/sec 38791.7 | eta 0h0m7s\n",
            "| epoch 81 | step 4000/4071 | loss 4.9981 | lr 0.00100 | ngrams/sec 38808.6 | eta 0h0m0s\n"
          ],
          "name": "stdout"
        },
        {
          "output_type": "stream",
          "text": [
            " 29%|██▊       | 119/417 [00:00<00:00, 1182.92it/s]"
          ],
          "name": "stderr"
        },
        {
          "output_type": "stream",
          "text": [
            "Evaluating on validation set...\n"
          ],
          "name": "stdout"
        },
        {
          "output_type": "stream",
          "text": [
            "100%|██████████| 417/417 [00:01<00:00, 295.39it/s]\n"
          ],
          "name": "stderr"
        },
        {
          "output_type": "stream",
          "text": [
            "-----------------------------------------------------------------------------------------\n",
            "| end of epoch  81 | time 55.11s | valid loss  5.43 | valid ppl   228.60\n",
            "-----------------------------------------------------------------------------------------\n",
            "| epoch 82 | step 500/4071 | loss 4.8776 | lr 0.00100 | ngrams/sec 27342.5 | eta 0h1m6s\n",
            "| epoch 82 | step 1000/4071 | loss 4.9217 | lr 0.00100 | ngrams/sec 38896.2 | eta 0h0m40s\n",
            "| epoch 82 | step 1500/4071 | loss 4.9552 | lr 0.00100 | ngrams/sec 38790.7 | eta 0h0m33s\n",
            "| epoch 82 | step 2000/4071 | loss 4.9771 | lr 0.00100 | ngrams/sec 38747.6 | eta 0h0m27s\n",
            "| epoch 82 | step 2500/4071 | loss 4.9815 | lr 0.00100 | ngrams/sec 38845.5 | eta 0h0m20s\n",
            "| epoch 82 | step 3000/4071 | loss 4.9823 | lr 0.00100 | ngrams/sec 38791.4 | eta 0h0m14s\n",
            "| epoch 82 | step 3500/4071 | loss 5.0080 | lr 0.00100 | ngrams/sec 38750.7 | eta 0h0m7s\n",
            "| epoch 82 | step 4000/4071 | loss 5.0024 | lr 0.00100 | ngrams/sec 38834.9 | eta 0h0m0s\n"
          ],
          "name": "stdout"
        },
        {
          "output_type": "stream",
          "text": [
            " 29%|██▊       | 119/417 [00:00<00:00, 1170.28it/s]"
          ],
          "name": "stderr"
        },
        {
          "output_type": "stream",
          "text": [
            "Evaluating on validation set...\n"
          ],
          "name": "stdout"
        },
        {
          "output_type": "stream",
          "text": [
            "100%|██████████| 417/417 [00:01<00:00, 295.27it/s]\n"
          ],
          "name": "stderr"
        },
        {
          "output_type": "stream",
          "text": [
            "-----------------------------------------------------------------------------------------\n",
            "| end of epoch  82 | time 55.13s | valid loss  5.43 | valid ppl   228.58\n",
            "-----------------------------------------------------------------------------------------\n",
            "| epoch 83 | step 500/4071 | loss 4.8863 | lr 0.00100 | ngrams/sec 27357.9 | eta 0h1m6s\n",
            "| epoch 83 | step 1000/4071 | loss 4.9081 | lr 0.00100 | ngrams/sec 38819.9 | eta 0h0m40s\n",
            "| epoch 83 | step 1500/4071 | loss 4.9452 | lr 0.00100 | ngrams/sec 38813.6 | eta 0h0m33s\n",
            "| epoch 83 | step 2000/4071 | loss 4.9580 | lr 0.00100 | ngrams/sec 38759.3 | eta 0h0m27s\n",
            "| epoch 83 | step 2500/4071 | loss 4.9686 | lr 0.00100 | ngrams/sec 38841.3 | eta 0h0m20s\n",
            "| epoch 83 | step 3000/4071 | loss 4.9857 | lr 0.00100 | ngrams/sec 38809.2 | eta 0h0m14s\n",
            "| epoch 83 | step 3500/4071 | loss 5.0142 | lr 0.00100 | ngrams/sec 38808.6 | eta 0h0m7s\n",
            "| epoch 83 | step 4000/4071 | loss 5.0084 | lr 0.00100 | ngrams/sec 38777.4 | eta 0h0m0s\n"
          ],
          "name": "stdout"
        },
        {
          "output_type": "stream",
          "text": [
            " 29%|██▊       | 119/417 [00:00<00:00, 1183.92it/s]"
          ],
          "name": "stderr"
        },
        {
          "output_type": "stream",
          "text": [
            "Evaluating on validation set...\n"
          ],
          "name": "stdout"
        },
        {
          "output_type": "stream",
          "text": [
            "100%|██████████| 417/417 [00:01<00:00, 296.00it/s]\n"
          ],
          "name": "stderr"
        },
        {
          "output_type": "stream",
          "text": [
            "-----------------------------------------------------------------------------------------\n",
            "| end of epoch  83 | time 55.13s | valid loss  5.43 | valid ppl   228.70\n",
            "-----------------------------------------------------------------------------------------\n",
            "| epoch 84 | step 500/4071 | loss 4.8812 | lr 0.00100 | ngrams/sec 27374.7 | eta 0h1m6s\n",
            "| epoch 84 | step 1000/4071 | loss 4.8945 | lr 0.00100 | ngrams/sec 38816.3 | eta 0h0m40s\n",
            "| epoch 84 | step 1500/4071 | loss 4.9576 | lr 0.00100 | ngrams/sec 38773.0 | eta 0h0m33s\n",
            "| epoch 84 | step 2000/4071 | loss 4.9685 | lr 0.00100 | ngrams/sec 38837.6 | eta 0h0m27s\n",
            "| epoch 84 | step 2500/4071 | loss 4.9633 | lr 0.00100 | ngrams/sec 38873.7 | eta 0h0m20s\n",
            "| epoch 84 | step 3000/4071 | loss 4.9719 | lr 0.00100 | ngrams/sec 38781.5 | eta 0h0m14s\n",
            "| epoch 84 | step 3500/4071 | loss 5.0091 | lr 0.00100 | ngrams/sec 38711.4 | eta 0h0m7s\n",
            "| epoch 84 | step 4000/4071 | loss 5.0040 | lr 0.00100 | ngrams/sec 38899.6 | eta 0h0m0s\n"
          ],
          "name": "stdout"
        },
        {
          "output_type": "stream",
          "text": [
            " 29%|██▊       | 119/417 [00:00<00:00, 1154.89it/s]"
          ],
          "name": "stderr"
        },
        {
          "output_type": "stream",
          "text": [
            "Evaluating on validation set...\n"
          ],
          "name": "stdout"
        },
        {
          "output_type": "stream",
          "text": [
            "100%|██████████| 417/417 [00:01<00:00, 295.59it/s]\n"
          ],
          "name": "stderr"
        },
        {
          "output_type": "stream",
          "text": [
            "-----------------------------------------------------------------------------------------\n",
            "| end of epoch  84 | time 55.11s | valid loss  5.43 | valid ppl   229.05\n",
            "-----------------------------------------------------------------------------------------\n",
            "| epoch 85 | step 500/4071 | loss 4.8741 | lr 0.00100 | ngrams/sec 27385.3 | eta 0h1m6s\n",
            "| epoch 85 | step 1000/4071 | loss 4.9030 | lr 0.00100 | ngrams/sec 38752.0 | eta 0h0m40s\n",
            "| epoch 85 | step 1500/4071 | loss 4.9358 | lr 0.00100 | ngrams/sec 38912.8 | eta 0h0m33s\n",
            "| epoch 85 | step 2000/4071 | loss 4.9569 | lr 0.00100 | ngrams/sec 38822.9 | eta 0h0m27s\n",
            "| epoch 85 | step 2500/4071 | loss 4.9718 | lr 0.00100 | ngrams/sec 38796.2 | eta 0h0m20s\n",
            "| epoch 85 | step 3000/4071 | loss 4.9761 | lr 0.00100 | ngrams/sec 38841.1 | eta 0h0m14s\n",
            "| epoch 85 | step 3500/4071 | loss 5.0016 | lr 0.00100 | ngrams/sec 38846.7 | eta 0h0m7s\n",
            "| epoch 85 | step 4000/4071 | loss 5.0074 | lr 0.00100 | ngrams/sec 38956.3 | eta 0h0m0s\n"
          ],
          "name": "stdout"
        },
        {
          "output_type": "stream",
          "text": [
            " 29%|██▊       | 119/417 [00:00<00:00, 1156.49it/s]"
          ],
          "name": "stderr"
        },
        {
          "output_type": "stream",
          "text": [
            "Evaluating on validation set...\n"
          ],
          "name": "stdout"
        },
        {
          "output_type": "stream",
          "text": [
            "100%|██████████| 417/417 [00:01<00:00, 295.68it/s]\n"
          ],
          "name": "stderr"
        },
        {
          "output_type": "stream",
          "text": [
            "-----------------------------------------------------------------------------------------\n",
            "| end of epoch  85 | time 55.07s | valid loss  5.44 | valid ppl   229.70\n",
            "-----------------------------------------------------------------------------------------\n",
            "| epoch 86 | step 500/4071 | loss 4.8483 | lr 0.00100 | ngrams/sec 27447.8 | eta 0h1m6s\n",
            "| epoch 86 | step 1000/4071 | loss 4.9054 | lr 0.00100 | ngrams/sec 38834.8 | eta 0h0m40s\n",
            "| epoch 86 | step 1500/4071 | loss 4.9343 | lr 0.00100 | ngrams/sec 38901.8 | eta 0h0m33s\n",
            "| epoch 86 | step 2000/4071 | loss 4.9566 | lr 0.00100 | ngrams/sec 38909.9 | eta 0h0m27s\n",
            "| epoch 86 | step 2500/4071 | loss 4.9712 | lr 0.00100 | ngrams/sec 38867.3 | eta 0h0m20s\n",
            "| epoch 86 | step 3000/4071 | loss 4.9809 | lr 0.00100 | ngrams/sec 38939.5 | eta 0h0m14s\n",
            "| epoch 86 | step 3500/4071 | loss 5.0012 | lr 0.00100 | ngrams/sec 38917.6 | eta 0h0m7s\n",
            "| epoch 86 | step 4000/4071 | loss 5.0119 | lr 0.00100 | ngrams/sec 38883.3 | eta 0h0m0s\n"
          ],
          "name": "stdout"
        },
        {
          "output_type": "stream",
          "text": [
            " 29%|██▊       | 119/417 [00:00<00:00, 1140.27it/s]"
          ],
          "name": "stderr"
        },
        {
          "output_type": "stream",
          "text": [
            "Evaluating on validation set...\n"
          ],
          "name": "stdout"
        },
        {
          "output_type": "stream",
          "text": [
            "100%|██████████| 417/417 [00:01<00:00, 295.14it/s]\n"
          ],
          "name": "stderr"
        },
        {
          "output_type": "stream",
          "text": [
            "-----------------------------------------------------------------------------------------\n",
            "| end of epoch  86 | time 55.01s | valid loss  5.43 | valid ppl   229.26\n",
            "-----------------------------------------------------------------------------------------\n",
            "| epoch 87 | step 500/4071 | loss 4.8792 | lr 0.00100 | ngrams/sec 27422.4 | eta 0h1m6s\n",
            "| epoch 87 | step 1000/4071 | loss 4.8980 | lr 0.00100 | ngrams/sec 38962.7 | eta 0h0m40s\n",
            "| epoch 87 | step 1500/4071 | loss 4.9259 | lr 0.00100 | ngrams/sec 38948.5 | eta 0h0m33s\n",
            "| epoch 87 | step 2000/4071 | loss 4.9627 | lr 0.00100 | ngrams/sec 38854.0 | eta 0h0m27s\n",
            "| epoch 87 | step 2500/4071 | loss 4.9455 | lr 0.00100 | ngrams/sec 38942.9 | eta 0h0m20s\n",
            "| epoch 87 | step 3000/4071 | loss 4.9684 | lr 0.00100 | ngrams/sec 38888.7 | eta 0h0m14s\n",
            "| epoch 87 | step 3500/4071 | loss 4.9957 | lr 0.00100 | ngrams/sec 38905.2 | eta 0h0m7s\n",
            "| epoch 87 | step 4000/4071 | loss 4.9984 | lr 0.00100 | ngrams/sec 38843.7 | eta 0h0m0s\n"
          ],
          "name": "stdout"
        },
        {
          "output_type": "stream",
          "text": [
            " 29%|██▊       | 119/417 [00:00<00:00, 1166.99it/s]"
          ],
          "name": "stderr"
        },
        {
          "output_type": "stream",
          "text": [
            "Evaluating on validation set...\n"
          ],
          "name": "stdout"
        },
        {
          "output_type": "stream",
          "text": [
            "100%|██████████| 417/417 [00:01<00:00, 295.61it/s]\n"
          ],
          "name": "stderr"
        },
        {
          "output_type": "stream",
          "text": [
            "-----------------------------------------------------------------------------------------\n",
            "| end of epoch  87 | time 54.98s | valid loss  5.44 | valid ppl   229.62\n",
            "-----------------------------------------------------------------------------------------\n",
            "| epoch 88 | step 500/4071 | loss 4.8565 | lr 0.00100 | ngrams/sec 27378.0 | eta 0h1m6s\n",
            "| epoch 88 | step 1000/4071 | loss 4.8936 | lr 0.00100 | ngrams/sec 38924.0 | eta 0h0m40s\n",
            "| epoch 88 | step 1500/4071 | loss 4.9195 | lr 0.00100 | ngrams/sec 38674.8 | eta 0h0m34s\n",
            "| epoch 88 | step 2000/4071 | loss 4.9608 | lr 0.00100 | ngrams/sec 38832.8 | eta 0h0m27s\n",
            "| epoch 88 | step 2500/4071 | loss 4.9674 | lr 0.00100 | ngrams/sec 38854.9 | eta 0h0m20s\n",
            "| epoch 88 | step 3000/4071 | loss 4.9769 | lr 0.00100 | ngrams/sec 38837.9 | eta 0h0m14s\n",
            "| epoch 88 | step 3500/4071 | loss 4.9826 | lr 0.00100 | ngrams/sec 38861.7 | eta 0h0m7s\n",
            "| epoch 88 | step 4000/4071 | loss 5.0038 | lr 0.00100 | ngrams/sec 38786.6 | eta 0h0m0s\n"
          ],
          "name": "stdout"
        },
        {
          "output_type": "stream",
          "text": [
            " 29%|██▊       | 119/417 [00:00<00:00, 1166.63it/s]"
          ],
          "name": "stderr"
        },
        {
          "output_type": "stream",
          "text": [
            "Evaluating on validation set...\n"
          ],
          "name": "stdout"
        },
        {
          "output_type": "stream",
          "text": [
            "100%|██████████| 417/417 [00:01<00:00, 295.44it/s]\n"
          ],
          "name": "stderr"
        },
        {
          "output_type": "stream",
          "text": [
            "-----------------------------------------------------------------------------------------\n",
            "| end of epoch  88 | time 55.11s | valid loss  5.44 | valid ppl   229.72\n",
            "-----------------------------------------------------------------------------------------\n",
            "| epoch 89 | step 500/4071 | loss 4.8556 | lr 0.00100 | ngrams/sec 27370.8 | eta 0h1m6s\n",
            "| epoch 89 | step 1000/4071 | loss 4.8909 | lr 0.00100 | ngrams/sec 38822.2 | eta 0h0m40s\n",
            "| epoch 89 | step 1500/4071 | loss 4.9346 | lr 0.00100 | ngrams/sec 38895.2 | eta 0h0m33s\n",
            "| epoch 89 | step 2000/4071 | loss 4.9325 | lr 0.00100 | ngrams/sec 38864.9 | eta 0h0m27s\n",
            "| epoch 89 | step 2500/4071 | loss 4.9560 | lr 0.00100 | ngrams/sec 38892.7 | eta 0h0m20s\n",
            "| epoch 89 | step 3000/4071 | loss 4.9732 | lr 0.00100 | ngrams/sec 38884.4 | eta 0h0m14s\n",
            "| epoch 89 | step 3500/4071 | loss 4.9851 | lr 0.00100 | ngrams/sec 38921.3 | eta 0h0m7s\n",
            "| epoch 89 | step 4000/4071 | loss 5.0102 | lr 0.00100 | ngrams/sec 38860.0 | eta 0h0m0s\n"
          ],
          "name": "stdout"
        },
        {
          "output_type": "stream",
          "text": [
            " 29%|██▊       | 119/417 [00:00<00:00, 1150.86it/s]"
          ],
          "name": "stderr"
        },
        {
          "output_type": "stream",
          "text": [
            "Evaluating on validation set...\n"
          ],
          "name": "stdout"
        },
        {
          "output_type": "stream",
          "text": [
            "100%|██████████| 417/417 [00:01<00:00, 294.46it/s]\n"
          ],
          "name": "stderr"
        },
        {
          "output_type": "stream",
          "text": [
            "-----------------------------------------------------------------------------------------\n",
            "| end of epoch  89 | time 55.04s | valid loss  5.44 | valid ppl   229.32\n",
            "-----------------------------------------------------------------------------------------\n",
            "| epoch 90 | step 500/4071 | loss 4.8572 | lr 0.00100 | ngrams/sec 27414.1 | eta 0h1m6s\n",
            "| epoch 90 | step 1000/4071 | loss 4.8919 | lr 0.00100 | ngrams/sec 38832.7 | eta 0h0m40s\n",
            "| epoch 90 | step 1500/4071 | loss 4.9159 | lr 0.00100 | ngrams/sec 38866.0 | eta 0h0m33s\n",
            "| epoch 90 | step 2000/4071 | loss 4.9405 | lr 0.00100 | ngrams/sec 38771.3 | eta 0h0m27s\n",
            "| epoch 90 | step 2500/4071 | loss 4.9571 | lr 0.00100 | ngrams/sec 38798.0 | eta 0h0m20s\n",
            "| epoch 90 | step 3000/4071 | loss 4.9745 | lr 0.00100 | ngrams/sec 38823.4 | eta 0h0m14s\n",
            "| epoch 90 | step 3500/4071 | loss 4.9774 | lr 0.00100 | ngrams/sec 38859.9 | eta 0h0m7s\n",
            "| epoch 90 | step 4000/4071 | loss 4.9892 | lr 0.00100 | ngrams/sec 38869.9 | eta 0h0m0s\n"
          ],
          "name": "stdout"
        },
        {
          "output_type": "stream",
          "text": [
            " 29%|██▊       | 119/417 [00:00<00:00, 1166.72it/s]"
          ],
          "name": "stderr"
        },
        {
          "output_type": "stream",
          "text": [
            "Evaluating on validation set...\n"
          ],
          "name": "stdout"
        },
        {
          "output_type": "stream",
          "text": [
            "100%|██████████| 417/417 [00:01<00:00, 295.64it/s]\n"
          ],
          "name": "stderr"
        },
        {
          "output_type": "stream",
          "text": [
            "-----------------------------------------------------------------------------------------\n",
            "| end of epoch  90 | time 55.07s | valid loss  5.44 | valid ppl   229.36\n",
            "-----------------------------------------------------------------------------------------\n",
            "| epoch 91 | step 500/4071 | loss 4.8533 | lr 0.00100 | ngrams/sec 27406.7 | eta 0h1m6s\n",
            "| epoch 91 | step 1000/4071 | loss 4.8711 | lr 0.00100 | ngrams/sec 38885.6 | eta 0h0m40s\n",
            "| epoch 91 | step 1500/4071 | loss 4.9367 | lr 0.00100 | ngrams/sec 38871.3 | eta 0h0m33s\n",
            "| epoch 91 | step 2000/4071 | loss 4.9318 | lr 0.00100 | ngrams/sec 38807.0 | eta 0h0m27s\n",
            "| epoch 91 | step 2500/4071 | loss 4.9436 | lr 0.00100 | ngrams/sec 38843.5 | eta 0h0m20s\n",
            "| epoch 91 | step 3000/4071 | loss 4.9659 | lr 0.00100 | ngrams/sec 38783.7 | eta 0h0m14s\n",
            "| epoch 91 | step 3500/4071 | loss 4.9855 | lr 0.00100 | ngrams/sec 38800.1 | eta 0h0m7s\n",
            "| epoch 91 | step 4000/4071 | loss 4.9940 | lr 0.00100 | ngrams/sec 38769.1 | eta 0h0m0s\n"
          ],
          "name": "stdout"
        },
        {
          "output_type": "stream",
          "text": [
            " 28%|██▊       | 118/417 [00:00<00:00, 1172.15it/s]"
          ],
          "name": "stderr"
        },
        {
          "output_type": "stream",
          "text": [
            "Evaluating on validation set...\n"
          ],
          "name": "stdout"
        },
        {
          "output_type": "stream",
          "text": [
            "100%|██████████| 417/417 [00:01<00:00, 295.67it/s]\n"
          ],
          "name": "stderr"
        },
        {
          "output_type": "stream",
          "text": [
            "-----------------------------------------------------------------------------------------\n",
            "| end of epoch  91 | time 55.10s | valid loss  5.44 | valid ppl   229.54\n",
            "-----------------------------------------------------------------------------------------\n",
            "| epoch 92 | step 500/4071 | loss 4.8474 | lr 0.00100 | ngrams/sec 27368.0 | eta 0h1m6s\n",
            "| epoch 92 | step 1000/4071 | loss 4.8961 | lr 0.00100 | ngrams/sec 38820.8 | eta 0h0m40s\n",
            "| epoch 92 | step 1500/4071 | loss 4.9232 | lr 0.00100 | ngrams/sec 38788.9 | eta 0h0m33s\n",
            "| epoch 92 | step 2000/4071 | loss 4.9294 | lr 0.00100 | ngrams/sec 38904.1 | eta 0h0m27s\n",
            "| epoch 92 | step 2500/4071 | loss 4.9580 | lr 0.00100 | ngrams/sec 38855.3 | eta 0h0m20s\n",
            "| epoch 92 | step 3000/4071 | loss 4.9542 | lr 0.00100 | ngrams/sec 38891.5 | eta 0h0m14s\n",
            "| epoch 92 | step 3500/4071 | loss 4.9738 | lr 0.00100 | ngrams/sec 38911.3 | eta 0h0m7s\n",
            "| epoch 92 | step 4000/4071 | loss 4.9823 | lr 0.00100 | ngrams/sec 38891.3 | eta 0h0m0s\n"
          ],
          "name": "stdout"
        },
        {
          "output_type": "stream",
          "text": [
            " 29%|██▊       | 119/417 [00:00<00:00, 1166.17it/s]"
          ],
          "name": "stderr"
        },
        {
          "output_type": "stream",
          "text": [
            "Evaluating on validation set...\n"
          ],
          "name": "stdout"
        },
        {
          "output_type": "stream",
          "text": [
            "100%|██████████| 417/417 [00:01<00:00, 296.52it/s]\n"
          ],
          "name": "stderr"
        },
        {
          "output_type": "stream",
          "text": [
            "-----------------------------------------------------------------------------------------\n",
            "| end of epoch  92 | time 55.06s | valid loss  5.44 | valid ppl   229.36\n",
            "-----------------------------------------------------------------------------------------\n",
            "| epoch 93 | step 500/4071 | loss 4.8433 | lr 0.00100 | ngrams/sec 27385.7 | eta 0h1m6s\n",
            "| epoch 93 | step 1000/4071 | loss 4.8687 | lr 0.00100 | ngrams/sec 38822.4 | eta 0h0m40s\n",
            "| epoch 93 | step 1500/4071 | loss 4.9142 | lr 0.00100 | ngrams/sec 38886.0 | eta 0h0m33s\n",
            "| epoch 93 | step 2000/4071 | loss 4.9274 | lr 0.00100 | ngrams/sec 38865.0 | eta 0h0m27s\n",
            "| epoch 93 | step 2500/4071 | loss 4.9547 | lr 0.00100 | ngrams/sec 38859.3 | eta 0h0m20s\n",
            "| epoch 93 | step 3000/4071 | loss 4.9541 | lr 0.00100 | ngrams/sec 38818.2 | eta 0h0m14s\n",
            "| epoch 93 | step 3500/4071 | loss 4.9853 | lr 0.00100 | ngrams/sec 38889.0 | eta 0h0m7s\n",
            "| epoch 93 | step 4000/4071 | loss 4.9974 | lr 0.00100 | ngrams/sec 38774.9 | eta 0h0m0s\n"
          ],
          "name": "stdout"
        },
        {
          "output_type": "stream",
          "text": [
            " 28%|██▊       | 118/417 [00:00<00:00, 1169.24it/s]"
          ],
          "name": "stderr"
        },
        {
          "output_type": "stream",
          "text": [
            "Evaluating on validation set...\n"
          ],
          "name": "stdout"
        },
        {
          "output_type": "stream",
          "text": [
            "100%|██████████| 417/417 [00:01<00:00, 294.53it/s]\n"
          ],
          "name": "stderr"
        },
        {
          "output_type": "stream",
          "text": [
            "-----------------------------------------------------------------------------------------\n",
            "| end of epoch  93 | time 55.08s | valid loss  5.44 | valid ppl   229.43\n",
            "-----------------------------------------------------------------------------------------\n",
            "| epoch 94 | step 500/4071 | loss 4.8380 | lr 0.00100 | ngrams/sec 27396.2 | eta 0h1m6s\n",
            "| epoch 94 | step 1000/4071 | loss 4.8844 | lr 0.00100 | ngrams/sec 38804.1 | eta 0h0m40s\n",
            "| epoch 94 | step 1500/4071 | loss 4.9122 | lr 0.00100 | ngrams/sec 38899.2 | eta 0h0m33s\n",
            "| epoch 94 | step 2000/4071 | loss 4.9252 | lr 0.00100 | ngrams/sec 38919.0 | eta 0h0m27s\n",
            "| epoch 94 | step 2500/4071 | loss 4.9327 | lr 0.00100 | ngrams/sec 38851.7 | eta 0h0m20s\n",
            "| epoch 94 | step 3000/4071 | loss 4.9598 | lr 0.00100 | ngrams/sec 38837.9 | eta 0h0m14s\n",
            "| epoch 94 | step 3500/4071 | loss 4.9663 | lr 0.00100 | ngrams/sec 38943.7 | eta 0h0m7s\n",
            "| epoch 94 | step 4000/4071 | loss 4.9992 | lr 0.00100 | ngrams/sec 38815.9 | eta 0h0m0s\n"
          ],
          "name": "stdout"
        },
        {
          "output_type": "stream",
          "text": [
            " 29%|██▉       | 120/417 [00:00<00:00, 1178.61it/s]"
          ],
          "name": "stderr"
        },
        {
          "output_type": "stream",
          "text": [
            "Evaluating on validation set...\n"
          ],
          "name": "stdout"
        },
        {
          "output_type": "stream",
          "text": [
            "100%|██████████| 417/417 [00:01<00:00, 296.44it/s]\n"
          ],
          "name": "stderr"
        },
        {
          "output_type": "stream",
          "text": [
            "-----------------------------------------------------------------------------------------\n",
            "| end of epoch  94 | time 55.03s | valid loss  5.44 | valid ppl   229.63\n",
            "-----------------------------------------------------------------------------------------\n",
            "| epoch 95 | step 500/4071 | loss 4.8346 | lr 0.00100 | ngrams/sec 27412.5 | eta 0h1m6s\n",
            "| epoch 95 | step 1000/4071 | loss 4.8703 | lr 0.00100 | ngrams/sec 38804.8 | eta 0h0m40s\n",
            "| epoch 95 | step 1500/4071 | loss 4.9098 | lr 0.00100 | ngrams/sec 38084.4 | eta 0h0m34s\n",
            "| epoch 95 | step 2000/4071 | loss 4.9311 | lr 0.00100 | ngrams/sec 38858.2 | eta 0h0m27s\n",
            "| epoch 95 | step 2500/4071 | loss 4.9465 | lr 0.00100 | ngrams/sec 38888.2 | eta 0h0m20s\n",
            "| epoch 95 | step 3000/4071 | loss 4.9449 | lr 0.00100 | ngrams/sec 38869.6 | eta 0h0m14s\n",
            "| epoch 95 | step 3500/4071 | loss 4.9729 | lr 0.00100 | ngrams/sec 38863.1 | eta 0h0m7s\n",
            "| epoch 95 | step 4000/4071 | loss 4.9967 | lr 0.00100 | ngrams/sec 38808.9 | eta 0h0m0s\n"
          ],
          "name": "stdout"
        },
        {
          "output_type": "stream",
          "text": [
            " 29%|██▊       | 119/417 [00:00<00:00, 1178.39it/s]"
          ],
          "name": "stderr"
        },
        {
          "output_type": "stream",
          "text": [
            "Evaluating on validation set...\n"
          ],
          "name": "stdout"
        },
        {
          "output_type": "stream",
          "text": [
            "100%|██████████| 417/417 [00:01<00:00, 296.22it/s]\n"
          ],
          "name": "stderr"
        },
        {
          "output_type": "stream",
          "text": [
            "-----------------------------------------------------------------------------------------\n",
            "| end of epoch  95 | time 55.20s | valid loss  5.44 | valid ppl   229.72\n",
            "-----------------------------------------------------------------------------------------\n",
            "| epoch 96 | step 500/4071 | loss 4.8293 | lr 0.00100 | ngrams/sec 27393.7 | eta 0h1m6s\n",
            "| epoch 96 | step 1000/4071 | loss 4.8619 | lr 0.00100 | ngrams/sec 38911.6 | eta 0h0m40s\n",
            "| epoch 96 | step 1500/4071 | loss 4.9252 | lr 0.00100 | ngrams/sec 38859.5 | eta 0h0m33s\n",
            "| epoch 96 | step 2000/4071 | loss 4.9262 | lr 0.00100 | ngrams/sec 38821.2 | eta 0h0m27s\n",
            "| epoch 96 | step 2500/4071 | loss 4.9348 | lr 0.00100 | ngrams/sec 38822.4 | eta 0h0m20s\n",
            "| epoch 96 | step 3000/4071 | loss 4.9598 | lr 0.00100 | ngrams/sec 38838.5 | eta 0h0m14s\n",
            "| epoch 96 | step 3500/4071 | loss 4.9723 | lr 0.00100 | ngrams/sec 38883.3 | eta 0h0m7s\n",
            "| epoch 96 | step 4000/4071 | loss 4.9743 | lr 0.00100 | ngrams/sec 38868.3 | eta 0h0m0s\n"
          ],
          "name": "stdout"
        },
        {
          "output_type": "stream",
          "text": [
            " 29%|██▊       | 119/417 [00:00<00:00, 1158.17it/s]"
          ],
          "name": "stderr"
        },
        {
          "output_type": "stream",
          "text": [
            "Evaluating on validation set...\n"
          ],
          "name": "stdout"
        },
        {
          "output_type": "stream",
          "text": [
            "100%|██████████| 417/417 [00:01<00:00, 295.98it/s]\n"
          ],
          "name": "stderr"
        },
        {
          "output_type": "stream",
          "text": [
            "-----------------------------------------------------------------------------------------\n",
            "| end of epoch  96 | time 55.05s | valid loss  5.44 | valid ppl   229.81\n",
            "-----------------------------------------------------------------------------------------\n",
            "| epoch 97 | step 500/4071 | loss 4.8291 | lr 0.00100 | ngrams/sec 27409.1 | eta 0h1m6s\n",
            "| epoch 97 | step 1000/4071 | loss 4.8706 | lr 0.00100 | ngrams/sec 38864.4 | eta 0h0m40s\n",
            "| epoch 97 | step 1500/4071 | loss 4.8966 | lr 0.00100 | ngrams/sec 38841.6 | eta 0h0m33s\n",
            "| epoch 97 | step 2000/4071 | loss 4.9326 | lr 0.00100 | ngrams/sec 38817.8 | eta 0h0m27s\n",
            "| epoch 97 | step 2500/4071 | loss 4.9367 | lr 0.00100 | ngrams/sec 38935.7 | eta 0h0m20s\n",
            "| epoch 97 | step 3000/4071 | loss 4.9534 | lr 0.00100 | ngrams/sec 38855.3 | eta 0h0m14s\n",
            "| epoch 97 | step 3500/4071 | loss 4.9600 | lr 0.00100 | ngrams/sec 38877.5 | eta 0h0m7s\n",
            "| epoch 97 | step 4000/4071 | loss 4.9720 | lr 0.00100 | ngrams/sec 38899.7 | eta 0h0m0s\n"
          ],
          "name": "stdout"
        },
        {
          "output_type": "stream",
          "text": [
            " 29%|██▉       | 120/417 [00:00<00:00, 1153.26it/s]"
          ],
          "name": "stderr"
        },
        {
          "output_type": "stream",
          "text": [
            "Evaluating on validation set...\n"
          ],
          "name": "stdout"
        },
        {
          "output_type": "stream",
          "text": [
            "100%|██████████| 417/417 [00:01<00:00, 297.41it/s]\n"
          ],
          "name": "stderr"
        },
        {
          "output_type": "stream",
          "text": [
            "-----------------------------------------------------------------------------------------\n",
            "| end of epoch  97 | time 55.04s | valid loss  5.44 | valid ppl   229.34\n",
            "-----------------------------------------------------------------------------------------\n",
            "| epoch 98 | step 500/4071 | loss 4.8170 | lr 0.00100 | ngrams/sec 27403.7 | eta 0h1m6s\n",
            "| epoch 98 | step 1000/4071 | loss 4.8678 | lr 0.00100 | ngrams/sec 38818.3 | eta 0h0m40s\n",
            "| epoch 98 | step 1500/4071 | loss 4.9040 | lr 0.00100 | ngrams/sec 38814.8 | eta 0h0m33s\n",
            "| epoch 98 | step 2000/4071 | loss 4.9174 | lr 0.00100 | ngrams/sec 38931.1 | eta 0h0m27s\n",
            "| epoch 98 | step 2500/4071 | loss 4.9405 | lr 0.00100 | ngrams/sec 38825.6 | eta 0h0m20s\n",
            "| epoch 98 | step 3000/4071 | loss 4.9509 | lr 0.00100 | ngrams/sec 38899.8 | eta 0h0m14s\n",
            "| epoch 98 | step 3500/4071 | loss 4.9454 | lr 0.00100 | ngrams/sec 38848.0 | eta 0h0m7s\n",
            "| epoch 98 | step 4000/4071 | loss 4.9908 | lr 0.00100 | ngrams/sec 38897.2 | eta 0h0m0s\n"
          ],
          "name": "stdout"
        },
        {
          "output_type": "stream",
          "text": [
            " 29%|██▊       | 119/417 [00:00<00:00, 1174.78it/s]"
          ],
          "name": "stderr"
        },
        {
          "output_type": "stream",
          "text": [
            "Evaluating on validation set...\n"
          ],
          "name": "stdout"
        },
        {
          "output_type": "stream",
          "text": [
            "100%|██████████| 417/417 [00:01<00:00, 296.34it/s]\n"
          ],
          "name": "stderr"
        },
        {
          "output_type": "stream",
          "text": [
            "-----------------------------------------------------------------------------------------\n",
            "| end of epoch  98 | time 55.05s | valid loss  5.44 | valid ppl   229.62\n",
            "-----------------------------------------------------------------------------------------\n",
            "| epoch 99 | step 500/4071 | loss 4.8336 | lr 0.00100 | ngrams/sec 27390.1 | eta 0h1m6s\n",
            "| epoch 99 | step 1000/4071 | loss 4.8717 | lr 0.00100 | ngrams/sec 38802.4 | eta 0h0m40s\n",
            "| epoch 99 | step 1500/4071 | loss 4.8921 | lr 0.00100 | ngrams/sec 38748.0 | eta 0h0m33s\n",
            "| epoch 99 | step 2000/4071 | loss 4.9145 | lr 0.00100 | ngrams/sec 38837.5 | eta 0h0m27s\n",
            "| epoch 99 | step 2500/4071 | loss 4.9339 | lr 0.00100 | ngrams/sec 38846.8 | eta 0h0m20s\n",
            "| epoch 99 | step 3000/4071 | loss 4.9394 | lr 0.00100 | ngrams/sec 38782.2 | eta 0h0m14s\n",
            "| epoch 99 | step 3500/4071 | loss 4.9559 | lr 0.00100 | ngrams/sec 38786.5 | eta 0h0m7s\n",
            "| epoch 99 | step 4000/4071 | loss 4.9736 | lr 0.00100 | ngrams/sec 38844.1 | eta 0h0m0s\n"
          ],
          "name": "stdout"
        },
        {
          "output_type": "stream",
          "text": [
            " 29%|██▊       | 119/417 [00:00<00:00, 1178.15it/s]"
          ],
          "name": "stderr"
        },
        {
          "output_type": "stream",
          "text": [
            "Evaluating on validation set...\n"
          ],
          "name": "stdout"
        },
        {
          "output_type": "stream",
          "text": [
            "100%|██████████| 417/417 [00:01<00:00, 296.49it/s]\n"
          ],
          "name": "stderr"
        },
        {
          "output_type": "stream",
          "text": [
            "-----------------------------------------------------------------------------------------\n",
            "| end of epoch  99 | time 55.12s | valid loss  5.44 | valid ppl   229.60\n",
            "-----------------------------------------------------------------------------------------\n",
            "| epoch 100 | step 500/4071 | loss 4.8461 | lr 0.00100 | ngrams/sec 27351.7 | eta 0h1m6s\n",
            "| epoch 100 | step 1000/4071 | loss 4.8739 | lr 0.00100 | ngrams/sec 38864.8 | eta 0h0m40s\n",
            "| epoch 100 | step 1500/4071 | loss 4.8834 | lr 0.00100 | ngrams/sec 38806.9 | eta 0h0m33s\n",
            "| epoch 100 | step 2000/4071 | loss 4.9016 | lr 0.00100 | ngrams/sec 38922.9 | eta 0h0m27s\n",
            "| epoch 100 | step 2500/4071 | loss 4.9242 | lr 0.00100 | ngrams/sec 38918.1 | eta 0h0m20s\n",
            "| epoch 100 | step 3000/4071 | loss 4.9624 | lr 0.00100 | ngrams/sec 38827.8 | eta 0h0m14s\n",
            "| epoch 100 | step 3500/4071 | loss 4.9493 | lr 0.00100 | ngrams/sec 38833.6 | eta 0h0m7s\n",
            "| epoch 100 | step 4000/4071 | loss 4.9571 | lr 0.00100 | ngrams/sec 38910.4 | eta 0h0m0s\n"
          ],
          "name": "stdout"
        },
        {
          "output_type": "stream",
          "text": [
            " 29%|██▊       | 119/417 [00:00<00:00, 1187.27it/s]"
          ],
          "name": "stderr"
        },
        {
          "output_type": "stream",
          "text": [
            "Evaluating on validation set...\n"
          ],
          "name": "stdout"
        },
        {
          "output_type": "stream",
          "text": [
            "100%|██████████| 417/417 [00:01<00:00, 296.55it/s]\n"
          ],
          "name": "stderr"
        },
        {
          "output_type": "stream",
          "text": [
            "-----------------------------------------------------------------------------------------\n"
          ],
          "name": "stdout"
        },
        {
          "output_type": "stream",
          "text": [
            " 25%|██▍       | 117/471 [00:00<00:00, 1163.05it/s]"
          ],
          "name": "stderr"
        },
        {
          "output_type": "stream",
          "text": [
            "| end of epoch 100 | time 55.06s | valid loss  5.44 | valid ppl   230.34\n",
            "-----------------------------------------------------------------------------------------\n",
            "Evaluating on test set...\n"
          ],
          "name": "stdout"
        },
        {
          "output_type": "stream",
          "text": [
            "100%|██████████| 471/471 [00:01<00:00, 287.31it/s]\n"
          ],
          "name": "stderr"
        },
        {
          "output_type": "stream",
          "text": [
            "=========================================================================================\n",
            "| End of training | test loss  5.37 | test ppl   214.96\n",
            "=========================================================================================\n"
          ],
          "name": "stdout"
        }
      ]
    },
    {
      "cell_type": "code",
      "metadata": {
        "colab": {
          "base_uri": "https://localhost:8080/",
          "height": 17
        },
        "id": "jUqz8keSi6Mi",
        "outputId": "c3dc0b8f-85d8-4798-c200-40422c31244f"
      },
      "source": [
        "from google.colab import files\n",
        "files.download('checkpoint.pth')\n",
        "!cp \"checkpoint.pth\" \"gdrive/MyDrive/Colab_Files/checkpoint-true.pth\""
      ],
      "execution_count": null,
      "outputs": [
        {
          "output_type": "display_data",
          "data": {
            "application/javascript": [
              "\n",
              "    async function download(id, filename, size) {\n",
              "      if (!google.colab.kernel.accessAllowed) {\n",
              "        return;\n",
              "      }\n",
              "      const div = document.createElement('div');\n",
              "      const label = document.createElement('label');\n",
              "      label.textContent = `Downloading \"${filename}\": `;\n",
              "      div.appendChild(label);\n",
              "      const progress = document.createElement('progress');\n",
              "      progress.max = size;\n",
              "      div.appendChild(progress);\n",
              "      document.body.appendChild(div);\n",
              "\n",
              "      const buffers = [];\n",
              "      let downloaded = 0;\n",
              "\n",
              "      const channel = await google.colab.kernel.comms.open(id);\n",
              "      // Send a message to notify the kernel that we're ready.\n",
              "      channel.send({})\n",
              "\n",
              "      for await (const message of channel.messages) {\n",
              "        // Send a message to notify the kernel that we're ready.\n",
              "        channel.send({})\n",
              "        if (message.buffers) {\n",
              "          for (const buffer of message.buffers) {\n",
              "            buffers.push(buffer);\n",
              "            downloaded += buffer.byteLength;\n",
              "            progress.value = downloaded;\n",
              "          }\n",
              "        }\n",
              "      }\n",
              "      const blob = new Blob(buffers, {type: 'application/binary'});\n",
              "      const a = document.createElement('a');\n",
              "      a.href = window.URL.createObjectURL(blob);\n",
              "      a.download = filename;\n",
              "      div.appendChild(a);\n",
              "      a.click();\n",
              "      div.remove();\n",
              "    }\n",
              "  "
            ],
            "text/plain": [
              "<IPython.core.display.Javascript object>"
            ]
          },
          "metadata": {
            "tags": []
          }
        },
        {
          "output_type": "display_data",
          "data": {
            "application/javascript": [
              "download(\"download_7a13ae69-3279-4213-be87-586b4b097d1f\", \"checkpoint.pth\", 47497730)"
            ],
            "text/plain": [
              "<IPython.core.display.Javascript object>"
            ]
          },
          "metadata": {
            "tags": []
          }
        }
      ]
    },
    {
      "cell_type": "markdown",
      "metadata": {
        "id": "v3ttFGoKoBR4"
      },
      "source": [
        "# Generate"
      ]
    },
    {
      "cell_type": "code",
      "metadata": {
        "id": "bVk-BCi3oCqJ"
      },
      "source": [
        "!cp \"gdrive/MyDrive/Colab_Files/checkpoint-true.pth\" \"checkpoint.pth\" "
      ],
      "execution_count": null,
      "outputs": []
    },
    {
      "cell_type": "code",
      "metadata": {
        "colab": {
          "base_uri": "https://localhost:8080/"
        },
        "id": "5dbTkANgv5AN",
        "outputId": "2db3ab93-b2cd-400d-b5bf-4c5e27ce98f7"
      },
      "source": [
        "import torch \n",
        "# Model parameters.\n",
        "class Args:\n",
        "    data = 'gdrive/MyDrive/wikitext-2'\n",
        "    checkpoint = 'checkpoint.pth'\n",
        "    outf = 'generated.txt'\n",
        "    #words = 1000\n",
        "    seed = 42\n",
        "    cuda = True\n",
        "    temperature = 1.0 # temperature - higher will increase diversity\n",
        "    log_interval = 10 # reporting interval\n",
        "    words = 100\n",
        "args = Args()\n",
        "\n",
        "# Set the random seed manually for reproducibility.\n",
        "torch.manual_seed(args.seed)\n",
        "if torch.cuda.is_available():\n",
        "    if not args.cuda:\n",
        "        print(\"WARNING: You have a CUDA device, so you should probably run with --cuda\")\n",
        "\n",
        "device = torch.device(\"cuda\" if args.cuda else \"cpu\")\n",
        "\n",
        "if args.temperature < 1e-3:\n",
        "    parser.error(\"--temperature has to be greater or equal 1e-3\")\n",
        "\n",
        "model.load_state_dict(torch.load(args.checkpoint))\n",
        "print(model)\n",
        "model.eval()\n",
        "\n",
        "ntokens = n_class\n",
        "input_idx = 104#torch.randint(ntokens, (1, 1), dtype=torch.long).to(device)\n",
        "# input_idx = torch.autograd.Variable(torch.t(torch.randint(ntokens, (1, 7), dtype=torch.long))).to(device)\n",
        "input_words = [corpus.dictionary.idx2word[i] for i in train_data[input_idx:order+input_idx, 0]]\n",
        "input = torch.tensor([i for i in train_data[input_idx:order+input_idx, 0]], dtype=torch.long).to(device)\n",
        "print(input)\n",
        "print(input_words)"
      ],
      "execution_count": null,
      "outputs": [
        {
          "output_type": "stream",
          "text": [
            "FNNModel(\n",
            "  (embeddings): Embedding(28912, 200)\n",
            "  (linear1): Linear(in_features=1400, out_features=200, bias=True)\n",
            "  (linear2): Linear(in_features=200, out_features=28912, bias=True)\n",
            "  (dropout): Dropout(p=0.5, inplace=False)\n",
            ")\n",
            "tensor([27, 63, 64, 65, 66, 17, 67], device='cuda:0')\n",
            "['a', 'penal', 'military', 'unit', 'serving', 'the', 'nation']\n"
          ],
          "name": "stdout"
        }
      ]
    },
    {
      "cell_type": "code",
      "metadata": {
        "colab": {
          "base_uri": "https://localhost:8080/"
        },
        "id": "Dbo0u8vePGHv",
        "outputId": "58128d80-74d1-43bb-8cd3-46718f8689d9"
      },
      "source": [
        "glue = ' '\n",
        "start = None\n",
        "with open(args.outf, 'w') as outf:\n",
        "    for i in range(args.words):\n",
        "        output = model(input)\n",
        "        word_weights = output.squeeze().div(args.temperature).exp().cpu()\n",
        "        # if args.no_unk:\n",
        "        #     word_weights[corpus.dictionary.w2i[unk]] = 0\n",
        "        word_idx = torch.multinomial(word_weights, 1)[0]\n",
        "        # word_idx = word_idx.data[0]\n",
        "        word = corpus.dictionary.idx2word[word_idx]\n",
        "        print(word)\n",
        "\n",
        "        # ids.append(word_idx)\n",
        "        # input = Variable(torch.LongTensor(ids[-model.order:]).unsqueeze(0))\n",
        "        word_tensor = torch.tensor([word_idx]).to(device)\n",
        "        input = torch.cat((input[1:], word_tensor), 0)\n",
        "        # input.fill_(word_idx)\n",
        "        input = input.cuda() if cuda else input\n",
        "        # print(input)\n",
        "        if word is \"<sos>\": # ignore start of sentence predictns\n",
        "            continue\n",
        "        elif word is \"<eos>\":\n",
        "            outf.write('\\n')\n",
        "        else:\n",
        "            outf.write(word + glue)\n",
        "\n",
        "        if i % args.log_interval == 0:\n",
        "            print('| Generated {}/{} words'.format(i, args.words))"
      ],
      "execution_count": null,
      "outputs": [
        {
          "output_type": "stream",
          "text": [
            "of\n",
            "| Generated 0/100 words\n",
            "the\n",
            "archaeological\n",
            "survey\n",
            "(\n",
            "designated\n",
            "<unk>\n",
            ")\n",
            "was\n",
            "released\n",
            "representation\n",
            "| Generated 10/100 words\n",
            "of\n",
            "almost\n",
            "180\n",
            "in\n",
            "the\n",
            "kickoff\n",
            ",\n",
            "and\n",
            "extremely\n",
            "historical\n",
            "| Generated 20/100 words\n",
            "l.\n",
            "<unk>\n",
            "is\n",
            "a\n",
            "very\n",
            "well\n",
            ".\n",
            "better\n",
            "@-@\n",
            "barnes\n",
            "| Generated 30/100 words\n",
            "cheese\n",
            "believed\n",
            "that\n",
            "same\n",
            "a\n",
            "<unk>\n",
            "japanese\n",
            "fashion\n",
            "<unk>\n",
            ".\n",
            "| Generated 40/100 words\n",
            "fey\n",
            "<unk>\n",
            "continued\n",
            "in\n",
            "rare\n",
            "drama\n",
            "book\n",
            "atop\n",
            "without\n",
            "these\n",
            "| Generated 50/100 words\n",
            "specimens\n",
            ",\n",
            "just\n",
            "along\n",
            "the\n",
            "end\n",
            "of\n",
            "any\n",
            "usually\n",
            "the\n",
            "| Generated 60/100 words\n",
            "right\n",
            "had\n",
            "died\n",
            "differences\n",
            "dining\n",
            "julio\n",
            ",\n",
            "the\n",
            "date\n",
            "of\n",
            "| Generated 70/100 words\n",
            "phase\n",
            ")\n",
            ".\n",
            "the\n",
            "medical\n",
            "sciences\n",
            "'s\n",
            "system\n",
            "became\n",
            "expected\n",
            "| Generated 80/100 words\n",
            ".\n",
            "<eos>\n",
            "the\n",
            "this\n",
            "episode\n",
            "continued\n",
            "population\n",
            "produced\n",
            "by\n",
            "16\n",
            "| Generated 90/100 words\n",
            "<unk>\n",
            ".\n",
            "the\n",
            "company\n",
            "began\n",
            "the\n",
            "population\n",
            "was\n",
            "named\n"
          ],
          "name": "stdout"
        }
      ]
    },
    {
      "cell_type": "code",
      "metadata": {
        "id": "RzQ6XBeFUir3"
      },
      "source": [
        "!cp \"generated.txt\" \"gdrive/MyDrive/Colab_Files/generated-true.txt\""
      ],
      "execution_count": null,
      "outputs": []
    },
    {
      "cell_type": "code",
      "metadata": {
        "colab": {
          "base_uri": "https://localhost:8080/"
        },
        "id": "X3xOwF_KevIW",
        "outputId": "82e71574-e156-4b0d-b1be-d4d0d82d0e5d"
      },
      "source": [
        "print('Evaluating on test set...')\n",
        "test_loss = evaluate(test_data, model, criterion)\n",
        "print('=' * 89)\n",
        "print('| End of training | test loss {:5.2f} | test ppl {:8.2f}'.format(\n",
        "    test_loss, torch.exp(test_loss)))\n",
        "print('=' * 89)"
      ],
      "execution_count": null,
      "outputs": [
        {
          "output_type": "stream",
          "text": [
            " 25%|██▍       | 117/471 [00:00<00:00, 1127.22it/s]"
          ],
          "name": "stderr"
        },
        {
          "output_type": "stream",
          "text": [
            "Evaluating on test set...\n"
          ],
          "name": "stdout"
        },
        {
          "output_type": "stream",
          "text": [
            "100%|██████████| 471/471 [00:01<00:00, 297.79it/s]\n"
          ],
          "name": "stderr"
        },
        {
          "output_type": "stream",
          "text": [
            "=========================================================================================\n",
            "| End of training | test loss  5.34 | test ppl   208.81\n",
            "=========================================================================================\n"
          ],
          "name": "stdout"
        }
      ]
    },
    {
      "cell_type": "code",
      "metadata": {
        "id": "KfvYQY1VGGKW"
      },
      "source": [
        "drive.flush_and_unmount()"
      ],
      "execution_count": null,
      "outputs": []
    }
  ]
}